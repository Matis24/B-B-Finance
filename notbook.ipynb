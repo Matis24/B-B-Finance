{
 "cells": [
  {
   "cell_type": "markdown",
   "metadata": {},
   "source": [
    "## Partie 1\n"
   ]
  },
  {
   "cell_type": "markdown",
   "metadata": {},
   "source": [
    "## Marché en temps réels"
   ]
  },
  {
   "cell_type": "code",
   "execution_count": null,
   "metadata": {},
   "outputs": [],
   "source": [
    "# Importation des bibliothèques nécessaires\n",
    "import streamlit as st\n",
    "import pandas as pd\n",
    "import time\n",
    "import random  # Pour générer des données aléatoires\n",
    "!pip install yfinance streamlit pandas\n",
    "import yfinance as yf\n",
    "import pandas as pd\n",
    "import time\n"
   ]
  },
  {
   "cell_type": "code",
   "execution_count": 14,
   "metadata": {},
   "outputs": [
    {
     "name": "stderr",
     "output_type": "stream",
     "text": [
      "/var/folders/wk/bl83_6q12zxbwn9trgkm74gw0000gn/T/ipykernel_72833/4152157359.py:12: FutureWarning: Series.__getitem__ treating keys as positions is deprecated. In a future version, integer keys will always be treated as labels (consistent with DataFrame behavior). To access a value by position, use `ser.iloc[pos]`\n",
      "  prix = historique[\"Close\"][-1]  # Dernier prix de clôture\n",
      "/var/folders/wk/bl83_6q12zxbwn9trgkm74gw0000gn/T/ipykernel_72833/4152157359.py:13: FutureWarning: Series.__getitem__ treating keys as positions is deprecated. In a future version, integer keys will always be treated as labels (consistent with DataFrame behavior). To access a value by position, use `ser.iloc[pos]`\n",
      "  prix_precedent = historique[\"Close\"][-2]  # Prix de clôture précédent\n",
      "/var/folders/wk/bl83_6q12zxbwn9trgkm74gw0000gn/T/ipykernel_72833/4152157359.py:12: FutureWarning: Series.__getitem__ treating keys as positions is deprecated. In a future version, integer keys will always be treated as labels (consistent with DataFrame behavior). To access a value by position, use `ser.iloc[pos]`\n",
      "  prix = historique[\"Close\"][-1]  # Dernier prix de clôture\n",
      "/var/folders/wk/bl83_6q12zxbwn9trgkm74gw0000gn/T/ipykernel_72833/4152157359.py:13: FutureWarning: Series.__getitem__ treating keys as positions is deprecated. In a future version, integer keys will always be treated as labels (consistent with DataFrame behavior). To access a value by position, use `ser.iloc[pos]`\n",
      "  prix_precedent = historique[\"Close\"][-2]  # Prix de clôture précédent\n",
      "/var/folders/wk/bl83_6q12zxbwn9trgkm74gw0000gn/T/ipykernel_72833/4152157359.py:12: FutureWarning: Series.__getitem__ treating keys as positions is deprecated. In a future version, integer keys will always be treated as labels (consistent with DataFrame behavior). To access a value by position, use `ser.iloc[pos]`\n",
      "  prix = historique[\"Close\"][-1]  # Dernier prix de clôture\n",
      "/var/folders/wk/bl83_6q12zxbwn9trgkm74gw0000gn/T/ipykernel_72833/4152157359.py:13: FutureWarning: Series.__getitem__ treating keys as positions is deprecated. In a future version, integer keys will always be treated as labels (consistent with DataFrame behavior). To access a value by position, use `ser.iloc[pos]`\n",
      "  prix_precedent = historique[\"Close\"][-2]  # Prix de clôture précédent\n",
      "/var/folders/wk/bl83_6q12zxbwn9trgkm74gw0000gn/T/ipykernel_72833/4152157359.py:12: FutureWarning: Series.__getitem__ treating keys as positions is deprecated. In a future version, integer keys will always be treated as labels (consistent with DataFrame behavior). To access a value by position, use `ser.iloc[pos]`\n",
      "  prix = historique[\"Close\"][-1]  # Dernier prix de clôture\n",
      "/var/folders/wk/bl83_6q12zxbwn9trgkm74gw0000gn/T/ipykernel_72833/4152157359.py:13: FutureWarning: Series.__getitem__ treating keys as positions is deprecated. In a future version, integer keys will always be treated as labels (consistent with DataFrame behavior). To access a value by position, use `ser.iloc[pos]`\n",
      "  prix_precedent = historique[\"Close\"][-2]  # Prix de clôture précédent\n",
      "/var/folders/wk/bl83_6q12zxbwn9trgkm74gw0000gn/T/ipykernel_72833/4152157359.py:12: FutureWarning: Series.__getitem__ treating keys as positions is deprecated. In a future version, integer keys will always be treated as labels (consistent with DataFrame behavior). To access a value by position, use `ser.iloc[pos]`\n",
      "  prix = historique[\"Close\"][-1]  # Dernier prix de clôture\n",
      "/var/folders/wk/bl83_6q12zxbwn9trgkm74gw0000gn/T/ipykernel_72833/4152157359.py:13: FutureWarning: Series.__getitem__ treating keys as positions is deprecated. In a future version, integer keys will always be treated as labels (consistent with DataFrame behavior). To access a value by position, use `ser.iloc[pos]`\n",
      "  prix_precedent = historique[\"Close\"][-2]  # Prix de clôture précédent\n"
     ]
    },
    {
     "data": {
      "text/html": [
       "<div>\n",
       "<style scoped>\n",
       "    .dataframe tbody tr th:only-of-type {\n",
       "        vertical-align: middle;\n",
       "    }\n",
       "\n",
       "    .dataframe tbody tr th {\n",
       "        vertical-align: top;\n",
       "    }\n",
       "\n",
       "    .dataframe thead th {\n",
       "        text-align: right;\n",
       "    }\n",
       "</style>\n",
       "<table border=\"1\" class=\"dataframe\">\n",
       "  <thead>\n",
       "    <tr style=\"text-align: right;\">\n",
       "      <th></th>\n",
       "      <th>Indice</th>\n",
       "      <th>Prix Actuel</th>\n",
       "      <th>Variation (%)</th>\n",
       "    </tr>\n",
       "  </thead>\n",
       "  <tbody>\n",
       "    <tr>\n",
       "      <th>0</th>\n",
       "      <td>Dow Jones</td>\n",
       "      <td>44918.15</td>\n",
       "      <td>0.44%</td>\n",
       "    </tr>\n",
       "    <tr>\n",
       "      <th>1</th>\n",
       "      <td>S&amp;P 500</td>\n",
       "      <td>6029.42</td>\n",
       "      <td>0.51%</td>\n",
       "    </tr>\n",
       "    <tr>\n",
       "      <th>2</th>\n",
       "      <td>NASDAQ</td>\n",
       "      <td>19187.41</td>\n",
       "      <td>0.67%</td>\n",
       "    </tr>\n",
       "    <tr>\n",
       "      <th>3</th>\n",
       "      <td>CAC 40</td>\n",
       "      <td>7198.71</td>\n",
       "      <td>0.27%</td>\n",
       "    </tr>\n",
       "    <tr>\n",
       "      <th>4</th>\n",
       "      <td>DAX</td>\n",
       "      <td>19548.42</td>\n",
       "      <td>0.63%</td>\n",
       "    </tr>\n",
       "  </tbody>\n",
       "</table>\n",
       "</div>"
      ],
      "text/plain": [
       "      Indice  Prix Actuel Variation (%)\n",
       "0  Dow Jones     44918.15         0.44%\n",
       "1    S&P 500      6029.42         0.51%\n",
       "2     NASDAQ     19187.41         0.67%\n",
       "3     CAC 40      7198.71         0.27%\n",
       "4        DAX     19548.42         0.63%"
      ]
     },
     "execution_count": 14,
     "metadata": {},
     "output_type": "execute_result"
    }
   ],
   "source": [
    "def fetch_market_data_fixed(indices):\n",
    "    data = []\n",
    "    for nom, symbole in indices.items():\n",
    "        try:\n",
    "            # Récupération de l'historique sur 5 jours\n",
    "            ticker = yf.Ticker(symbole)\n",
    "            historique = ticker.history(period=\"5d\")\n",
    "\n",
    "            # Vérification que nous avons au moins 2 jours de données\n",
    "            if len(historique) >= 2:\n",
    "                # Calcul du prix actuel et de la variation\n",
    "                prix = historique[\"Close\"][-1]  # Dernier prix de clôture\n",
    "                prix_precedent = historique[\"Close\"][-2]  # Prix de clôture précédent\n",
    "                variation = ((prix - prix_precedent) / prix_precedent) * 100\n",
    "                variation_str = f\"{variation:.2f}%\"\n",
    "            else:\n",
    "                prix = \"N/A\"\n",
    "                variation_str = \"N/A\"\n",
    "\n",
    "            # Ajout des données pour cet indice\n",
    "            data.append([nom, round(prix, 2) if isinstance(prix, (float, int)) else prix, variation_str])\n",
    "        except Exception as e:\n",
    "            print(f\"Erreur pour {nom} ({symbole}) : {str(e)}\")\n",
    "            data.append([nom, \"N/A\", \"N/A\"])\n",
    "    \n",
    "    # Création d'un DataFrame\n",
    "    return pd.DataFrame(data, columns=[\"Indice\", \"Prix Actuel\", \"Variation (%)\"])\n",
    "\n",
    "# Liste des indices\n",
    "indices = {\n",
    "    \"Dow Jones\": \"^DJI\",\n",
    "    \"S&P 500\": \"^GSPC\",\n",
    "    \"NASDAQ\": \"^IXIC\",\n",
    "    \"CAC 40\": \"^FCHI\",\n",
    "    \"DAX\": \"^GDAXI\"\n",
    "}\n",
    "\n",
    "# Récupération des données\n",
    "df = fetch_market_data_fixed(indices)\n",
    "df"
   ]
  },
  {
   "cell_type": "code",
   "execution_count": 15,
   "metadata": {},
   "outputs": [
    {
     "name": "stdout",
     "output_type": "stream",
     "text": [
      "Données rafraîchies à : 16:59:21\n",
      "Données rafraîchies à : 16:59:23\n",
      "Données rafraîchies à : 16:59:25\n"
     ]
    }
   ],
   "source": [
    "import time\n",
    "\n",
    "# Fonction pour rafraîchir les données\n",
    "def simulate_refresh():\n",
    "    print(\"Données rafraîchies à :\", time.strftime('%H:%M:%S'))\n",
    "    time.sleep(2)  # Pause simulant un intervalle\n",
    "\n",
    "# Simuler un rafraîchissement\n",
    "for i in range(3):  # Rafraîchit 3 fois\n",
    "    simulate_refresh()"
   ]
  },
  {
   "cell_type": "code",
   "execution_count": 22,
   "metadata": {},
   "outputs": [
    {
     "data": {
      "text/html": [
       "<div>\n",
       "<style scoped>\n",
       "    .dataframe tbody tr th:only-of-type {\n",
       "        vertical-align: middle;\n",
       "    }\n",
       "\n",
       "    .dataframe tbody tr th {\n",
       "        vertical-align: top;\n",
       "    }\n",
       "\n",
       "    .dataframe thead th {\n",
       "        text-align: right;\n",
       "    }\n",
       "</style>\n",
       "<table border=\"1\" class=\"dataframe\">\n",
       "  <thead>\n",
       "    <tr style=\"text-align: right;\">\n",
       "      <th></th>\n",
       "      <th>Indice</th>\n",
       "      <th>Prix Actuel</th>\n",
       "      <th>Variation (%)</th>\n",
       "      <th>Variation Stylisée</th>\n",
       "    </tr>\n",
       "  </thead>\n",
       "  <tbody>\n",
       "    <tr>\n",
       "      <th>0</th>\n",
       "      <td>Dow Jones</td>\n",
       "      <td>44918.15</td>\n",
       "      <td>0.44%</td>\n",
       "      <td>🔼 0.44% (green)</td>\n",
       "    </tr>\n",
       "    <tr>\n",
       "      <th>1</th>\n",
       "      <td>S&amp;P 500</td>\n",
       "      <td>6029.42</td>\n",
       "      <td>0.51%</td>\n",
       "      <td>🔼 0.51% (green)</td>\n",
       "    </tr>\n",
       "    <tr>\n",
       "      <th>2</th>\n",
       "      <td>NASDAQ</td>\n",
       "      <td>19187.41</td>\n",
       "      <td>0.67%</td>\n",
       "      <td>🔼 0.67% (green)</td>\n",
       "    </tr>\n",
       "    <tr>\n",
       "      <th>3</th>\n",
       "      <td>CAC 40</td>\n",
       "      <td>7198.71</td>\n",
       "      <td>0.27%</td>\n",
       "      <td>🔼 0.27% (green)</td>\n",
       "    </tr>\n",
       "    <tr>\n",
       "      <th>4</th>\n",
       "      <td>DAX</td>\n",
       "      <td>19548.42</td>\n",
       "      <td>0.63%</td>\n",
       "      <td>🔼 0.63% (green)</td>\n",
       "    </tr>\n",
       "  </tbody>\n",
       "</table>\n",
       "</div>"
      ],
      "text/plain": [
       "      Indice  Prix Actuel Variation (%) Variation Stylisée\n",
       "0  Dow Jones     44918.15         0.44%    🔼 0.44% (green)\n",
       "1    S&P 500      6029.42         0.51%    🔼 0.51% (green)\n",
       "2     NASDAQ     19187.41         0.67%    🔼 0.67% (green)\n",
       "3     CAC 40      7198.71         0.27%    🔼 0.27% (green)\n",
       "4        DAX     19548.42         0.63%    🔼 0.63% (green)"
      ]
     },
     "execution_count": 22,
     "metadata": {},
     "output_type": "execute_result"
    }
   ],
   "source": [
    "# Fonction pour styliser les variations\n",
    "def highlight_variation(val):\n",
    "    try:\n",
    "        val_float = float(val.strip('%'))\n",
    "        if val_float > 0:\n",
    "            color = 'green'\n",
    "            icon = '🔼'\n",
    "        elif val_float < 0:\n",
    "            color = 'red'\n",
    "            icon = '🔽'\n",
    "        else:\n",
    "            color = 'grey'\n",
    "            icon = ''\n",
    "        return f\"{icon} {val} ({color})\"\n",
    "    except:\n",
    "        return val\n",
    "\n",
    "# Appliquer la stylisation\n",
    "df[\"Variation Stylisée\"] = df[\"Variation (%)\"].apply(highlight_variation)\n",
    "df"
   ]
  },
  {
   "cell_type": "code",
   "execution_count": 23,
   "metadata": {},
   "outputs": [
    {
     "name": "stdout",
     "output_type": "stream",
     "text": [
      "Statistiques sur les variations récupérées :\n",
      "count    5.000000\n",
      "mean     0.504000\n",
      "std      0.159937\n",
      "min      0.270000\n",
      "25%      0.440000\n",
      "50%      0.510000\n",
      "75%      0.630000\n",
      "max      0.670000\n",
      "Name: Variation Numérique, dtype: float64\n"
     ]
    }
   ],
   "source": [
    "# Statistiques sur les variations récupérées\n",
    "stats = df[df[\"Variation (%)\"] != \"N/A\"].copy()\n",
    "stats[\"Variation Numérique\"] = stats[\"Variation (%)\"].apply(lambda x: float(x.strip('%')))\n",
    "summary = stats[\"Variation Numérique\"].describe()\n",
    "\n",
    "# Affichage\n",
    "print(\"Statistiques sur les variations récupérées :\")\n",
    "print(summary)"
   ]
  },
  {
   "cell_type": "markdown",
   "metadata": {},
   "source": [
    "## Recherche actions/Comparaisons d'action "
   ]
  },
  {
   "cell_type": "code",
   "execution_count": 26,
   "metadata": {},
   "outputs": [
    {
     "data": {
      "text/plain": [
       "'\\nComment récupérer les données financières pour une action spécifique via Yahoo Finance (yfinance),\\nles analyser et les visualiser avec Plotly.\\n'"
      ]
     },
     "execution_count": 26,
     "metadata": {},
     "output_type": "execute_result"
    }
   ],
   "source": [
    "# Importation des bibliothèques nécessaires\n",
    "import yfinance as yf\n",
    "import pandas as pd\n",
    "import plotly.graph_objs as go\n",
    "\n",
    "# Description de l'objectif\n",
    "\"\"\"\n",
    "Comment récupérer les données financières pour une action spécifique via Yahoo Finance (yfinance),\n",
    "les analyser et les visualiser avec Plotly.\n",
    "\"\"\""
   ]
  },
  {
   "cell_type": "code",
   "execution_count": 27,
   "metadata": {},
   "outputs": [
    {
     "data": {
      "text/html": [
       "<div>\n",
       "<style scoped>\n",
       "    .dataframe tbody tr th:only-of-type {\n",
       "        vertical-align: middle;\n",
       "    }\n",
       "\n",
       "    .dataframe tbody tr th {\n",
       "        vertical-align: top;\n",
       "    }\n",
       "\n",
       "    .dataframe thead th {\n",
       "        text-align: right;\n",
       "    }\n",
       "</style>\n",
       "<table border=\"1\" class=\"dataframe\">\n",
       "  <thead>\n",
       "    <tr style=\"text-align: right;\">\n",
       "      <th></th>\n",
       "      <th>Open</th>\n",
       "      <th>High</th>\n",
       "      <th>Low</th>\n",
       "      <th>Close</th>\n",
       "      <th>Volume</th>\n",
       "      <th>Dividends</th>\n",
       "      <th>Stock Splits</th>\n",
       "    </tr>\n",
       "    <tr>\n",
       "      <th>Date</th>\n",
       "      <th></th>\n",
       "      <th></th>\n",
       "      <th></th>\n",
       "      <th></th>\n",
       "      <th></th>\n",
       "      <th></th>\n",
       "      <th></th>\n",
       "    </tr>\n",
       "  </thead>\n",
       "  <tbody>\n",
       "    <tr>\n",
       "      <th>2023-11-29 00:00:00-05:00</th>\n",
       "      <td>189.969332</td>\n",
       "      <td>191.153533</td>\n",
       "      <td>188.048749</td>\n",
       "      <td>188.446793</td>\n",
       "      <td>43014200</td>\n",
       "      <td>0.0</td>\n",
       "      <td>0.0</td>\n",
       "    </tr>\n",
       "    <tr>\n",
       "      <th>2023-11-30 00:00:00-05:00</th>\n",
       "      <td>188.914492</td>\n",
       "      <td>189.392163</td>\n",
       "      <td>187.272542</td>\n",
       "      <td>189.023956</td>\n",
       "      <td>48794400</td>\n",
       "      <td>0.0</td>\n",
       "      <td>0.0</td>\n",
       "    </tr>\n",
       "    <tr>\n",
       "      <th>2023-12-01 00:00:00-05:00</th>\n",
       "      <td>189.402111</td>\n",
       "      <td>190.626110</td>\n",
       "      <td>188.307468</td>\n",
       "      <td>190.307678</td>\n",
       "      <td>45679300</td>\n",
       "      <td>0.0</td>\n",
       "      <td>0.0</td>\n",
       "    </tr>\n",
       "    <tr>\n",
       "      <th>2023-12-04 00:00:00-05:00</th>\n",
       "      <td>189.053822</td>\n",
       "      <td>189.123488</td>\n",
       "      <td>186.536157</td>\n",
       "      <td>188.506500</td>\n",
       "      <td>43389500</td>\n",
       "      <td>0.0</td>\n",
       "      <td>0.0</td>\n",
       "    </tr>\n",
       "    <tr>\n",
       "      <th>2023-12-05 00:00:00-05:00</th>\n",
       "      <td>189.282693</td>\n",
       "      <td>193.452254</td>\n",
       "      <td>189.252826</td>\n",
       "      <td>192.477036</td>\n",
       "      <td>66628400</td>\n",
       "      <td>0.0</td>\n",
       "      <td>0.0</td>\n",
       "    </tr>\n",
       "  </tbody>\n",
       "</table>\n",
       "</div>"
      ],
      "text/plain": [
       "                                 Open        High         Low       Close  \\\n",
       "Date                                                                        \n",
       "2023-11-29 00:00:00-05:00  189.969332  191.153533  188.048749  188.446793   \n",
       "2023-11-30 00:00:00-05:00  188.914492  189.392163  187.272542  189.023956   \n",
       "2023-12-01 00:00:00-05:00  189.402111  190.626110  188.307468  190.307678   \n",
       "2023-12-04 00:00:00-05:00  189.053822  189.123488  186.536157  188.506500   \n",
       "2023-12-05 00:00:00-05:00  189.282693  193.452254  189.252826  192.477036   \n",
       "\n",
       "                             Volume  Dividends  Stock Splits  \n",
       "Date                                                          \n",
       "2023-11-29 00:00:00-05:00  43014200        0.0           0.0  \n",
       "2023-11-30 00:00:00-05:00  48794400        0.0           0.0  \n",
       "2023-12-01 00:00:00-05:00  45679300        0.0           0.0  \n",
       "2023-12-04 00:00:00-05:00  43389500        0.0           0.0  \n",
       "2023-12-05 00:00:00-05:00  66628400        0.0           0.0  "
      ]
     },
     "execution_count": 27,
     "metadata": {},
     "output_type": "execute_result"
    }
   ],
   "source": [
    "# Paramètres utilisateur simulés\n",
    "symbole = \"AAPL\"  # Exemple : symbole pour Apple\n",
    "periode = \"1y\"  # Période d'historique (par exemple, 1 an)\n",
    "\n",
    "# Fonction pour récupérer l'historique des prix d'une action\n",
    "def fetch_stock_data(symbole, periode):\n",
    "    try:\n",
    "        # Récupérer les données historiques\n",
    "        ticker = yf.Ticker(symbole)\n",
    "        historique = ticker.history(period=periode)\n",
    "        \n",
    "        # Vérifier si les données sont disponibles\n",
    "        if historique.empty:\n",
    "            print(f\"Aucune donnée trouvée pour le symbole {symbole}.\")\n",
    "            return None, None\n",
    "        \n",
    "        # Récupérer les informations générales\n",
    "        info = ticker.info\n",
    "        return historique, info\n",
    "    except Exception as e:\n",
    "        print(f\"Erreur lors de la récupération des données : {str(e)}\")\n",
    "        return None, None\n",
    "\n",
    "# Appel de la fonction\n",
    "historique, info = fetch_stock_data(symbole, periode)\n",
    "historique.head()  # Aperçu des données"
   ]
  },
  {
   "cell_type": "code",
   "execution_count": 28,
   "metadata": {},
   "outputs": [
    {
     "name": "stdout",
     "output_type": "stream",
     "text": [
      "Nom complet : Apple Inc.\n",
      "Secteur : Technology\n",
      "Industrie : Consumer Electronics\n",
      "Site Web : https://www.apple.com\n"
     ]
    }
   ],
   "source": [
    "if info:\n",
    "    print(f\"Nom complet : {info.get('longName', 'N/A')}\")\n",
    "    print(f\"Secteur : {info.get('sector', 'N/A')}\")\n",
    "    print(f\"Industrie : {info.get('industry', 'N/A')}\")\n",
    "    print(f\"Site Web : {info.get('website', 'N/A')}\")"
   ]
  },
  {
   "cell_type": "code",
   "execution_count": 29,
   "metadata": {},
   "outputs": [
    {
     "name": "stdout",
     "output_type": "stream",
     "text": [
      "Prix actuel : $236.131\n",
      "Variation sur 1 an : 22.85%\n",
      "Capitalisation boursière : $3,569,308,925,952\n",
      "PER (TTM) : 38.837334\n",
      "Bénéfice par action (EPS) : $6.08\n",
      "Dividende : 0.43%\n"
     ]
    }
   ],
   "source": [
    "if info:\n",
    "    print(f\"Prix actuel : ${info.get('currentPrice', 'N/A')}\")\n",
    "    print(f\"Variation sur 1 an : {info.get('52WeekChange', 0):.2%}\")\n",
    "    print(f\"Capitalisation boursière : ${info.get('marketCap', 'N/A'):,}\")\n",
    "    print(f\"PER (TTM) : {info.get('trailingPE', 'N/A')}\")\n",
    "    print(f\"Bénéfice par action (EPS) : ${info.get('trailingEps', 'N/A')}\")\n",
    "    print(f\"Dividende : {info.get('dividendYield', 0):.2%}\")"
   ]
  },
  {
   "cell_type": "code",
   "execution_count": 30,
   "metadata": {},
   "outputs": [
    {
     "data": {
      "application/vnd.plotly.v1+json": {
       "config": {
        "plotlyServerURL": "https://plot.ly"
       },
       "data": [
        {
         "mode": "lines",
         "name": "Prix de clôture",
         "type": "scatter",
         "x": [
          "2023-11-29T00:00:00-05:00",
          "2023-11-30T00:00:00-05:00",
          "2023-12-01T00:00:00-05:00",
          "2023-12-04T00:00:00-05:00",
          "2023-12-05T00:00:00-05:00",
          "2023-12-06T00:00:00-05:00",
          "2023-12-07T00:00:00-05:00",
          "2023-12-08T00:00:00-05:00",
          "2023-12-11T00:00:00-05:00",
          "2023-12-12T00:00:00-05:00",
          "2023-12-13T00:00:00-05:00",
          "2023-12-14T00:00:00-05:00",
          "2023-12-15T00:00:00-05:00",
          "2023-12-18T00:00:00-05:00",
          "2023-12-19T00:00:00-05:00",
          "2023-12-20T00:00:00-05:00",
          "2023-12-21T00:00:00-05:00",
          "2023-12-22T00:00:00-05:00",
          "2023-12-26T00:00:00-05:00",
          "2023-12-27T00:00:00-05:00",
          "2023-12-28T00:00:00-05:00",
          "2023-12-29T00:00:00-05:00",
          "2024-01-02T00:00:00-05:00",
          "2024-01-03T00:00:00-05:00",
          "2024-01-04T00:00:00-05:00",
          "2024-01-05T00:00:00-05:00",
          "2024-01-08T00:00:00-05:00",
          "2024-01-09T00:00:00-05:00",
          "2024-01-10T00:00:00-05:00",
          "2024-01-11T00:00:00-05:00",
          "2024-01-12T00:00:00-05:00",
          "2024-01-16T00:00:00-05:00",
          "2024-01-17T00:00:00-05:00",
          "2024-01-18T00:00:00-05:00",
          "2024-01-19T00:00:00-05:00",
          "2024-01-22T00:00:00-05:00",
          "2024-01-23T00:00:00-05:00",
          "2024-01-24T00:00:00-05:00",
          "2024-01-25T00:00:00-05:00",
          "2024-01-26T00:00:00-05:00",
          "2024-01-29T00:00:00-05:00",
          "2024-01-30T00:00:00-05:00",
          "2024-01-31T00:00:00-05:00",
          "2024-02-01T00:00:00-05:00",
          "2024-02-02T00:00:00-05:00",
          "2024-02-05T00:00:00-05:00",
          "2024-02-06T00:00:00-05:00",
          "2024-02-07T00:00:00-05:00",
          "2024-02-08T00:00:00-05:00",
          "2024-02-09T00:00:00-05:00",
          "2024-02-12T00:00:00-05:00",
          "2024-02-13T00:00:00-05:00",
          "2024-02-14T00:00:00-05:00",
          "2024-02-15T00:00:00-05:00",
          "2024-02-16T00:00:00-05:00",
          "2024-02-20T00:00:00-05:00",
          "2024-02-21T00:00:00-05:00",
          "2024-02-22T00:00:00-05:00",
          "2024-02-23T00:00:00-05:00",
          "2024-02-26T00:00:00-05:00",
          "2024-02-27T00:00:00-05:00",
          "2024-02-28T00:00:00-05:00",
          "2024-02-29T00:00:00-05:00",
          "2024-03-01T00:00:00-05:00",
          "2024-03-04T00:00:00-05:00",
          "2024-03-05T00:00:00-05:00",
          "2024-03-06T00:00:00-05:00",
          "2024-03-07T00:00:00-05:00",
          "2024-03-08T00:00:00-05:00",
          "2024-03-11T00:00:00-04:00",
          "2024-03-12T00:00:00-04:00",
          "2024-03-13T00:00:00-04:00",
          "2024-03-14T00:00:00-04:00",
          "2024-03-15T00:00:00-04:00",
          "2024-03-18T00:00:00-04:00",
          "2024-03-19T00:00:00-04:00",
          "2024-03-20T00:00:00-04:00",
          "2024-03-21T00:00:00-04:00",
          "2024-03-22T00:00:00-04:00",
          "2024-03-25T00:00:00-04:00",
          "2024-03-26T00:00:00-04:00",
          "2024-03-27T00:00:00-04:00",
          "2024-03-28T00:00:00-04:00",
          "2024-04-01T00:00:00-04:00",
          "2024-04-02T00:00:00-04:00",
          "2024-04-03T00:00:00-04:00",
          "2024-04-04T00:00:00-04:00",
          "2024-04-05T00:00:00-04:00",
          "2024-04-08T00:00:00-04:00",
          "2024-04-09T00:00:00-04:00",
          "2024-04-10T00:00:00-04:00",
          "2024-04-11T00:00:00-04:00",
          "2024-04-12T00:00:00-04:00",
          "2024-04-15T00:00:00-04:00",
          "2024-04-16T00:00:00-04:00",
          "2024-04-17T00:00:00-04:00",
          "2024-04-18T00:00:00-04:00",
          "2024-04-19T00:00:00-04:00",
          "2024-04-22T00:00:00-04:00",
          "2024-04-23T00:00:00-04:00",
          "2024-04-24T00:00:00-04:00",
          "2024-04-25T00:00:00-04:00",
          "2024-04-26T00:00:00-04:00",
          "2024-04-29T00:00:00-04:00",
          "2024-04-30T00:00:00-04:00",
          "2024-05-01T00:00:00-04:00",
          "2024-05-02T00:00:00-04:00",
          "2024-05-03T00:00:00-04:00",
          "2024-05-06T00:00:00-04:00",
          "2024-05-07T00:00:00-04:00",
          "2024-05-08T00:00:00-04:00",
          "2024-05-09T00:00:00-04:00",
          "2024-05-10T00:00:00-04:00",
          "2024-05-13T00:00:00-04:00",
          "2024-05-14T00:00:00-04:00",
          "2024-05-15T00:00:00-04:00",
          "2024-05-16T00:00:00-04:00",
          "2024-05-17T00:00:00-04:00",
          "2024-05-20T00:00:00-04:00",
          "2024-05-21T00:00:00-04:00",
          "2024-05-22T00:00:00-04:00",
          "2024-05-23T00:00:00-04:00",
          "2024-05-24T00:00:00-04:00",
          "2024-05-28T00:00:00-04:00",
          "2024-05-29T00:00:00-04:00",
          "2024-05-30T00:00:00-04:00",
          "2024-05-31T00:00:00-04:00",
          "2024-06-03T00:00:00-04:00",
          "2024-06-04T00:00:00-04:00",
          "2024-06-05T00:00:00-04:00",
          "2024-06-06T00:00:00-04:00",
          "2024-06-07T00:00:00-04:00",
          "2024-06-10T00:00:00-04:00",
          "2024-06-11T00:00:00-04:00",
          "2024-06-12T00:00:00-04:00",
          "2024-06-13T00:00:00-04:00",
          "2024-06-14T00:00:00-04:00",
          "2024-06-17T00:00:00-04:00",
          "2024-06-18T00:00:00-04:00",
          "2024-06-20T00:00:00-04:00",
          "2024-06-21T00:00:00-04:00",
          "2024-06-24T00:00:00-04:00",
          "2024-06-25T00:00:00-04:00",
          "2024-06-26T00:00:00-04:00",
          "2024-06-27T00:00:00-04:00",
          "2024-06-28T00:00:00-04:00",
          "2024-07-01T00:00:00-04:00",
          "2024-07-02T00:00:00-04:00",
          "2024-07-03T00:00:00-04:00",
          "2024-07-05T00:00:00-04:00",
          "2024-07-08T00:00:00-04:00",
          "2024-07-09T00:00:00-04:00",
          "2024-07-10T00:00:00-04:00",
          "2024-07-11T00:00:00-04:00",
          "2024-07-12T00:00:00-04:00",
          "2024-07-15T00:00:00-04:00",
          "2024-07-16T00:00:00-04:00",
          "2024-07-17T00:00:00-04:00",
          "2024-07-18T00:00:00-04:00",
          "2024-07-19T00:00:00-04:00",
          "2024-07-22T00:00:00-04:00",
          "2024-07-23T00:00:00-04:00",
          "2024-07-24T00:00:00-04:00",
          "2024-07-25T00:00:00-04:00",
          "2024-07-26T00:00:00-04:00",
          "2024-07-29T00:00:00-04:00",
          "2024-07-30T00:00:00-04:00",
          "2024-07-31T00:00:00-04:00",
          "2024-08-01T00:00:00-04:00",
          "2024-08-02T00:00:00-04:00",
          "2024-08-05T00:00:00-04:00",
          "2024-08-06T00:00:00-04:00",
          "2024-08-07T00:00:00-04:00",
          "2024-08-08T00:00:00-04:00",
          "2024-08-09T00:00:00-04:00",
          "2024-08-12T00:00:00-04:00",
          "2024-08-13T00:00:00-04:00",
          "2024-08-14T00:00:00-04:00",
          "2024-08-15T00:00:00-04:00",
          "2024-08-16T00:00:00-04:00",
          "2024-08-19T00:00:00-04:00",
          "2024-08-20T00:00:00-04:00",
          "2024-08-21T00:00:00-04:00",
          "2024-08-22T00:00:00-04:00",
          "2024-08-23T00:00:00-04:00",
          "2024-08-26T00:00:00-04:00",
          "2024-08-27T00:00:00-04:00",
          "2024-08-28T00:00:00-04:00",
          "2024-08-29T00:00:00-04:00",
          "2024-08-30T00:00:00-04:00",
          "2024-09-03T00:00:00-04:00",
          "2024-09-04T00:00:00-04:00",
          "2024-09-05T00:00:00-04:00",
          "2024-09-06T00:00:00-04:00",
          "2024-09-09T00:00:00-04:00",
          "2024-09-10T00:00:00-04:00",
          "2024-09-11T00:00:00-04:00",
          "2024-09-12T00:00:00-04:00",
          "2024-09-13T00:00:00-04:00",
          "2024-09-16T00:00:00-04:00",
          "2024-09-17T00:00:00-04:00",
          "2024-09-18T00:00:00-04:00",
          "2024-09-19T00:00:00-04:00",
          "2024-09-20T00:00:00-04:00",
          "2024-09-23T00:00:00-04:00",
          "2024-09-24T00:00:00-04:00",
          "2024-09-25T00:00:00-04:00",
          "2024-09-26T00:00:00-04:00",
          "2024-09-27T00:00:00-04:00",
          "2024-09-30T00:00:00-04:00",
          "2024-10-01T00:00:00-04:00",
          "2024-10-02T00:00:00-04:00",
          "2024-10-03T00:00:00-04:00",
          "2024-10-04T00:00:00-04:00",
          "2024-10-07T00:00:00-04:00",
          "2024-10-08T00:00:00-04:00",
          "2024-10-09T00:00:00-04:00",
          "2024-10-10T00:00:00-04:00",
          "2024-10-11T00:00:00-04:00",
          "2024-10-14T00:00:00-04:00",
          "2024-10-15T00:00:00-04:00",
          "2024-10-16T00:00:00-04:00",
          "2024-10-17T00:00:00-04:00",
          "2024-10-18T00:00:00-04:00",
          "2024-10-21T00:00:00-04:00",
          "2024-10-22T00:00:00-04:00",
          "2024-10-23T00:00:00-04:00",
          "2024-10-24T00:00:00-04:00",
          "2024-10-25T00:00:00-04:00",
          "2024-10-28T00:00:00-04:00",
          "2024-10-29T00:00:00-04:00",
          "2024-10-30T00:00:00-04:00",
          "2024-10-31T00:00:00-04:00",
          "2024-11-01T00:00:00-04:00",
          "2024-11-04T00:00:00-05:00",
          "2024-11-05T00:00:00-05:00",
          "2024-11-06T00:00:00-05:00",
          "2024-11-07T00:00:00-05:00",
          "2024-11-08T00:00:00-05:00",
          "2024-11-11T00:00:00-05:00",
          "2024-11-12T00:00:00-05:00",
          "2024-11-13T00:00:00-05:00",
          "2024-11-14T00:00:00-05:00",
          "2024-11-15T00:00:00-05:00",
          "2024-11-18T00:00:00-05:00",
          "2024-11-19T00:00:00-05:00",
          "2024-11-20T00:00:00-05:00",
          "2024-11-21T00:00:00-05:00",
          "2024-11-22T00:00:00-05:00",
          "2024-11-25T00:00:00-05:00",
          "2024-11-26T00:00:00-05:00",
          "2024-11-27T00:00:00-05:00",
          "2024-11-29T00:00:00-05:00"
         ],
         "y": [
          188.44679260253906,
          189.02395629882812,
          190.30767822265625,
          188.50650024414062,
          192.47703552246094,
          191.38241577148438,
          193.32290649414062,
          194.75587463378906,
          192.2382049560547,
          193.76077270507812,
          196.9949188232422,
          197.14418029785156,
          196.60682678222656,
          194.93499755859375,
          195.9799041748047,
          193.88018798828125,
          193.7308807373047,
          192.6561737060547,
          192.10885620117188,
          192.2083740234375,
          192.6362762451172,
          191.59136962890625,
          184.7349853515625,
          183.35174560546875,
          181.02316284179688,
          180.2967071533203,
          184.65536499023438,
          184.23741149902344,
          185.2823028564453,
          184.68521118164062,
          185.0135955810547,
          182.73477172851562,
          181.78939819335938,
          187.7104034423828,
          190.62611389160156,
          192.9447479248047,
          194.22845458984375,
          193.55177307128906,
          193.22340393066406,
          191.48193359375,
          190.7952880859375,
          187.12326049804688,
          183.5010223388672,
          185.94903564453125,
          184.94395446777344,
          186.76502990722656,
          188.37713623046875,
          188.48660278320312,
          187.40191650390625,
          188.16912841796875,
          186.4752655029297,
          184.37286376953125,
          183.48606872558594,
          183.19712829589844,
          181.65269470214844,
          180.90541076660156,
          181.66268920898438,
          183.70529174804688,
          181.86195373535156,
          180.50685119628906,
          181.9715576171875,
          180.76593017578125,
          180.0983428955078,
          179.01226806640625,
          174.46871948242188,
          169.50665283203125,
          168.51025390625,
          168.39068603515625,
          170.1144561767578,
          172.12718200683594,
          172.60543823242188,
          170.51303100585938,
          172.37628173828125,
          171.9976348876953,
          173.09368896484375,
          175.44517517089844,
          178.0258331298828,
          170.75213623046875,
          171.65887451171875,
          170.23403930664062,
          169.09814453125,
          172.68516540527344,
          170.86175537109375,
          169.41697692871094,
          168.2312774658203,
          169.03834533691406,
          168.2113494873047,
          168.96861267089844,
          167.84268188476562,
          169.05828857421875,
          167.17510986328125,
          174.40892028808594,
          175.91348266601562,
          172.0673828125,
          168.76934814453125,
          167.39430236816406,
          166.437744140625,
          164.40512084960938,
          165.24209594726562,
          166.2982635498047,
          168.41064453125,
          169.27749633789062,
          168.6896209716797,
          172.8744659423828,
          169.71591186523438,
          168.6896209716797,
          172.4061737060547,
          182.71884155273438,
          181.0548858642578,
          181.7423858642578,
          182.08116149902344,
          183.9045867919922,
          182.63743591308594,
          185.86013793945312,
          187.00755310058594,
          189.2924041748047,
          189.41212463378906,
          189.44204711914062,
          190.6094207763672,
          191.91647338867188,
          190.4697265625,
          186.45880126953125,
          189.5518035888672,
          189.56178283691406,
          189.86111450195312,
          190.85885620117188,
          191.81668090820312,
          193.59268188476562,
          193.91195678710938,
          195.42852783203125,
          194.0416717529297,
          196.44622802734375,
          192.68472290039062,
          206.68310546875,
          212.58978271484375,
          213.75714111328125,
          212.01107788085938,
          216.18165588378906,
          213.8070068359375,
          209.2073974609375,
          207.02235412597656,
          207.67088317871094,
          208.59878540039062,
          212.7693634033203,
          213.61746215820312,
          210.14527893066406,
          216.261474609375,
          219.77354431152344,
          221.0506591796875,
          225.82984924316406,
          227.30653381347656,
          228.16458129882812,
          232.45489501953125,
          227.05709838867188,
          230.0203857421875,
          233.87168884277344,
          234.29074096679688,
          228.3641357421875,
          223.6747283935547,
          223.80442810058594,
          223.45523071289062,
          224.5028533935547,
          218.0474395751953,
          216.99981689453125,
          217.46875,
          217.7481231689453,
          218.30685424804688,
          221.5794677734375,
          217.8678436279297,
          219.36447143554688,
          208.79833984375,
          206.762939453125,
          209.34710693359375,
          212.8292236328125,
          215.7526397705078,
          217.2909393310547,
          221.02682495117188,
          221.47633361816406,
          224.47303771972656,
          225.80157470703125,
          225.64175415039062,
          226.2610626220703,
          226.15118408203125,
          224.2832489013672,
          226.5906982421875,
          226.93032836914062,
          227.77938842773438,
          226.2410888671875,
          229.53746032714844,
          228.7483367919922,
          222.52517700195312,
          220.6072998046875,
          222.13560485839844,
          220.57733154296875,
          220.66722106933594,
          219.86810302734375,
          222.41529846191406,
          222.52517700195312,
          222.25547790527344,
          216.082275390625,
          216.55174255371094,
          220.4474639892578,
          228.61846923828125,
          227.94920349121094,
          226.2211151123047,
          227.1201171875,
          226.1212158203125,
          227.26995849609375,
          227.53965759277344,
          232.7439422607422,
          225.96141052246094,
          226.53077697753906,
          225.42198181152344,
          226.55075073242188,
          221.4463653564453,
          225.52188110351562,
          229.28773498535156,
          228.7882843017578,
          227.2999267578125,
          231.04580688476562,
          233.59300231933594,
          231.5252685546875,
          231.89486694335938,
          234.74172973632812,
          236.22010803222656,
          235.60079956054688,
          230.5063934326172,
          230.31661987304688,
          231.1556854248047,
          233.14349365234375,
          233.41319274902344,
          229.8471221923828,
          225.66172790527344,
          222.66502380371094,
          221.76600646972656,
          223.2044219970703,
          222.47523498535156,
          227.22999572753906,
          226.9600067138672,
          224.22999572753906,
          224.22999572753906,
          225.1199951171875,
          228.22000122070312,
          225,
          228.02000427246094,
          228.27999877929688,
          229,
          228.52000427246094,
          229.8699951171875,
          232.8699951171875,
          235.05999755859375,
          234.92999267578125,
          236.13099670410156
         ]
        }
       ],
       "layout": {
        "template": {
         "data": {
          "bar": [
           {
            "error_x": {
             "color": "#f2f5fa"
            },
            "error_y": {
             "color": "#f2f5fa"
            },
            "marker": {
             "line": {
              "color": "rgb(17,17,17)",
              "width": 0.5
             },
             "pattern": {
              "fillmode": "overlay",
              "size": 10,
              "solidity": 0.2
             }
            },
            "type": "bar"
           }
          ],
          "barpolar": [
           {
            "marker": {
             "line": {
              "color": "rgb(17,17,17)",
              "width": 0.5
             },
             "pattern": {
              "fillmode": "overlay",
              "size": 10,
              "solidity": 0.2
             }
            },
            "type": "barpolar"
           }
          ],
          "carpet": [
           {
            "aaxis": {
             "endlinecolor": "#A2B1C6",
             "gridcolor": "#506784",
             "linecolor": "#506784",
             "minorgridcolor": "#506784",
             "startlinecolor": "#A2B1C6"
            },
            "baxis": {
             "endlinecolor": "#A2B1C6",
             "gridcolor": "#506784",
             "linecolor": "#506784",
             "minorgridcolor": "#506784",
             "startlinecolor": "#A2B1C6"
            },
            "type": "carpet"
           }
          ],
          "choropleth": [
           {
            "colorbar": {
             "outlinewidth": 0,
             "ticks": ""
            },
            "type": "choropleth"
           }
          ],
          "contour": [
           {
            "colorbar": {
             "outlinewidth": 0,
             "ticks": ""
            },
            "colorscale": [
             [
              0,
              "#0d0887"
             ],
             [
              0.1111111111111111,
              "#46039f"
             ],
             [
              0.2222222222222222,
              "#7201a8"
             ],
             [
              0.3333333333333333,
              "#9c179e"
             ],
             [
              0.4444444444444444,
              "#bd3786"
             ],
             [
              0.5555555555555556,
              "#d8576b"
             ],
             [
              0.6666666666666666,
              "#ed7953"
             ],
             [
              0.7777777777777778,
              "#fb9f3a"
             ],
             [
              0.8888888888888888,
              "#fdca26"
             ],
             [
              1,
              "#f0f921"
             ]
            ],
            "type": "contour"
           }
          ],
          "contourcarpet": [
           {
            "colorbar": {
             "outlinewidth": 0,
             "ticks": ""
            },
            "type": "contourcarpet"
           }
          ],
          "heatmap": [
           {
            "colorbar": {
             "outlinewidth": 0,
             "ticks": ""
            },
            "colorscale": [
             [
              0,
              "#0d0887"
             ],
             [
              0.1111111111111111,
              "#46039f"
             ],
             [
              0.2222222222222222,
              "#7201a8"
             ],
             [
              0.3333333333333333,
              "#9c179e"
             ],
             [
              0.4444444444444444,
              "#bd3786"
             ],
             [
              0.5555555555555556,
              "#d8576b"
             ],
             [
              0.6666666666666666,
              "#ed7953"
             ],
             [
              0.7777777777777778,
              "#fb9f3a"
             ],
             [
              0.8888888888888888,
              "#fdca26"
             ],
             [
              1,
              "#f0f921"
             ]
            ],
            "type": "heatmap"
           }
          ],
          "heatmapgl": [
           {
            "colorbar": {
             "outlinewidth": 0,
             "ticks": ""
            },
            "colorscale": [
             [
              0,
              "#0d0887"
             ],
             [
              0.1111111111111111,
              "#46039f"
             ],
             [
              0.2222222222222222,
              "#7201a8"
             ],
             [
              0.3333333333333333,
              "#9c179e"
             ],
             [
              0.4444444444444444,
              "#bd3786"
             ],
             [
              0.5555555555555556,
              "#d8576b"
             ],
             [
              0.6666666666666666,
              "#ed7953"
             ],
             [
              0.7777777777777778,
              "#fb9f3a"
             ],
             [
              0.8888888888888888,
              "#fdca26"
             ],
             [
              1,
              "#f0f921"
             ]
            ],
            "type": "heatmapgl"
           }
          ],
          "histogram": [
           {
            "marker": {
             "pattern": {
              "fillmode": "overlay",
              "size": 10,
              "solidity": 0.2
             }
            },
            "type": "histogram"
           }
          ],
          "histogram2d": [
           {
            "colorbar": {
             "outlinewidth": 0,
             "ticks": ""
            },
            "colorscale": [
             [
              0,
              "#0d0887"
             ],
             [
              0.1111111111111111,
              "#46039f"
             ],
             [
              0.2222222222222222,
              "#7201a8"
             ],
             [
              0.3333333333333333,
              "#9c179e"
             ],
             [
              0.4444444444444444,
              "#bd3786"
             ],
             [
              0.5555555555555556,
              "#d8576b"
             ],
             [
              0.6666666666666666,
              "#ed7953"
             ],
             [
              0.7777777777777778,
              "#fb9f3a"
             ],
             [
              0.8888888888888888,
              "#fdca26"
             ],
             [
              1,
              "#f0f921"
             ]
            ],
            "type": "histogram2d"
           }
          ],
          "histogram2dcontour": [
           {
            "colorbar": {
             "outlinewidth": 0,
             "ticks": ""
            },
            "colorscale": [
             [
              0,
              "#0d0887"
             ],
             [
              0.1111111111111111,
              "#46039f"
             ],
             [
              0.2222222222222222,
              "#7201a8"
             ],
             [
              0.3333333333333333,
              "#9c179e"
             ],
             [
              0.4444444444444444,
              "#bd3786"
             ],
             [
              0.5555555555555556,
              "#d8576b"
             ],
             [
              0.6666666666666666,
              "#ed7953"
             ],
             [
              0.7777777777777778,
              "#fb9f3a"
             ],
             [
              0.8888888888888888,
              "#fdca26"
             ],
             [
              1,
              "#f0f921"
             ]
            ],
            "type": "histogram2dcontour"
           }
          ],
          "mesh3d": [
           {
            "colorbar": {
             "outlinewidth": 0,
             "ticks": ""
            },
            "type": "mesh3d"
           }
          ],
          "parcoords": [
           {
            "line": {
             "colorbar": {
              "outlinewidth": 0,
              "ticks": ""
             }
            },
            "type": "parcoords"
           }
          ],
          "pie": [
           {
            "automargin": true,
            "type": "pie"
           }
          ],
          "scatter": [
           {
            "marker": {
             "line": {
              "color": "#283442"
             }
            },
            "type": "scatter"
           }
          ],
          "scatter3d": [
           {
            "line": {
             "colorbar": {
              "outlinewidth": 0,
              "ticks": ""
             }
            },
            "marker": {
             "colorbar": {
              "outlinewidth": 0,
              "ticks": ""
             }
            },
            "type": "scatter3d"
           }
          ],
          "scattercarpet": [
           {
            "marker": {
             "colorbar": {
              "outlinewidth": 0,
              "ticks": ""
             }
            },
            "type": "scattercarpet"
           }
          ],
          "scattergeo": [
           {
            "marker": {
             "colorbar": {
              "outlinewidth": 0,
              "ticks": ""
             }
            },
            "type": "scattergeo"
           }
          ],
          "scattergl": [
           {
            "marker": {
             "line": {
              "color": "#283442"
             }
            },
            "type": "scattergl"
           }
          ],
          "scattermapbox": [
           {
            "marker": {
             "colorbar": {
              "outlinewidth": 0,
              "ticks": ""
             }
            },
            "type": "scattermapbox"
           }
          ],
          "scatterpolar": [
           {
            "marker": {
             "colorbar": {
              "outlinewidth": 0,
              "ticks": ""
             }
            },
            "type": "scatterpolar"
           }
          ],
          "scatterpolargl": [
           {
            "marker": {
             "colorbar": {
              "outlinewidth": 0,
              "ticks": ""
             }
            },
            "type": "scatterpolargl"
           }
          ],
          "scatterternary": [
           {
            "marker": {
             "colorbar": {
              "outlinewidth": 0,
              "ticks": ""
             }
            },
            "type": "scatterternary"
           }
          ],
          "surface": [
           {
            "colorbar": {
             "outlinewidth": 0,
             "ticks": ""
            },
            "colorscale": [
             [
              0,
              "#0d0887"
             ],
             [
              0.1111111111111111,
              "#46039f"
             ],
             [
              0.2222222222222222,
              "#7201a8"
             ],
             [
              0.3333333333333333,
              "#9c179e"
             ],
             [
              0.4444444444444444,
              "#bd3786"
             ],
             [
              0.5555555555555556,
              "#d8576b"
             ],
             [
              0.6666666666666666,
              "#ed7953"
             ],
             [
              0.7777777777777778,
              "#fb9f3a"
             ],
             [
              0.8888888888888888,
              "#fdca26"
             ],
             [
              1,
              "#f0f921"
             ]
            ],
            "type": "surface"
           }
          ],
          "table": [
           {
            "cells": {
             "fill": {
              "color": "#506784"
             },
             "line": {
              "color": "rgb(17,17,17)"
             }
            },
            "header": {
             "fill": {
              "color": "#2a3f5f"
             },
             "line": {
              "color": "rgb(17,17,17)"
             }
            },
            "type": "table"
           }
          ]
         },
         "layout": {
          "annotationdefaults": {
           "arrowcolor": "#f2f5fa",
           "arrowhead": 0,
           "arrowwidth": 1
          },
          "autotypenumbers": "strict",
          "coloraxis": {
           "colorbar": {
            "outlinewidth": 0,
            "ticks": ""
           }
          },
          "colorscale": {
           "diverging": [
            [
             0,
             "#8e0152"
            ],
            [
             0.1,
             "#c51b7d"
            ],
            [
             0.2,
             "#de77ae"
            ],
            [
             0.3,
             "#f1b6da"
            ],
            [
             0.4,
             "#fde0ef"
            ],
            [
             0.5,
             "#f7f7f7"
            ],
            [
             0.6,
             "#e6f5d0"
            ],
            [
             0.7,
             "#b8e186"
            ],
            [
             0.8,
             "#7fbc41"
            ],
            [
             0.9,
             "#4d9221"
            ],
            [
             1,
             "#276419"
            ]
           ],
           "sequential": [
            [
             0,
             "#0d0887"
            ],
            [
             0.1111111111111111,
             "#46039f"
            ],
            [
             0.2222222222222222,
             "#7201a8"
            ],
            [
             0.3333333333333333,
             "#9c179e"
            ],
            [
             0.4444444444444444,
             "#bd3786"
            ],
            [
             0.5555555555555556,
             "#d8576b"
            ],
            [
             0.6666666666666666,
             "#ed7953"
            ],
            [
             0.7777777777777778,
             "#fb9f3a"
            ],
            [
             0.8888888888888888,
             "#fdca26"
            ],
            [
             1,
             "#f0f921"
            ]
           ],
           "sequentialminus": [
            [
             0,
             "#0d0887"
            ],
            [
             0.1111111111111111,
             "#46039f"
            ],
            [
             0.2222222222222222,
             "#7201a8"
            ],
            [
             0.3333333333333333,
             "#9c179e"
            ],
            [
             0.4444444444444444,
             "#bd3786"
            ],
            [
             0.5555555555555556,
             "#d8576b"
            ],
            [
             0.6666666666666666,
             "#ed7953"
            ],
            [
             0.7777777777777778,
             "#fb9f3a"
            ],
            [
             0.8888888888888888,
             "#fdca26"
            ],
            [
             1,
             "#f0f921"
            ]
           ]
          },
          "colorway": [
           "#636efa",
           "#EF553B",
           "#00cc96",
           "#ab63fa",
           "#FFA15A",
           "#19d3f3",
           "#FF6692",
           "#B6E880",
           "#FF97FF",
           "#FECB52"
          ],
          "font": {
           "color": "#f2f5fa"
          },
          "geo": {
           "bgcolor": "rgb(17,17,17)",
           "lakecolor": "rgb(17,17,17)",
           "landcolor": "rgb(17,17,17)",
           "showlakes": true,
           "showland": true,
           "subunitcolor": "#506784"
          },
          "hoverlabel": {
           "align": "left"
          },
          "hovermode": "closest",
          "mapbox": {
           "style": "dark"
          },
          "paper_bgcolor": "rgb(17,17,17)",
          "plot_bgcolor": "rgb(17,17,17)",
          "polar": {
           "angularaxis": {
            "gridcolor": "#506784",
            "linecolor": "#506784",
            "ticks": ""
           },
           "bgcolor": "rgb(17,17,17)",
           "radialaxis": {
            "gridcolor": "#506784",
            "linecolor": "#506784",
            "ticks": ""
           }
          },
          "scene": {
           "xaxis": {
            "backgroundcolor": "rgb(17,17,17)",
            "gridcolor": "#506784",
            "gridwidth": 2,
            "linecolor": "#506784",
            "showbackground": true,
            "ticks": "",
            "zerolinecolor": "#C8D4E3"
           },
           "yaxis": {
            "backgroundcolor": "rgb(17,17,17)",
            "gridcolor": "#506784",
            "gridwidth": 2,
            "linecolor": "#506784",
            "showbackground": true,
            "ticks": "",
            "zerolinecolor": "#C8D4E3"
           },
           "zaxis": {
            "backgroundcolor": "rgb(17,17,17)",
            "gridcolor": "#506784",
            "gridwidth": 2,
            "linecolor": "#506784",
            "showbackground": true,
            "ticks": "",
            "zerolinecolor": "#C8D4E3"
           }
          },
          "shapedefaults": {
           "line": {
            "color": "#f2f5fa"
           }
          },
          "sliderdefaults": {
           "bgcolor": "#C8D4E3",
           "bordercolor": "rgb(17,17,17)",
           "borderwidth": 1,
           "tickwidth": 0
          },
          "ternary": {
           "aaxis": {
            "gridcolor": "#506784",
            "linecolor": "#506784",
            "ticks": ""
           },
           "baxis": {
            "gridcolor": "#506784",
            "linecolor": "#506784",
            "ticks": ""
           },
           "bgcolor": "rgb(17,17,17)",
           "caxis": {
            "gridcolor": "#506784",
            "linecolor": "#506784",
            "ticks": ""
           }
          },
          "title": {
           "x": 0.05
          },
          "updatemenudefaults": {
           "bgcolor": "#506784",
           "borderwidth": 0
          },
          "xaxis": {
           "automargin": true,
           "gridcolor": "#283442",
           "linecolor": "#506784",
           "ticks": "",
           "title": {
            "standoff": 15
           },
           "zerolinecolor": "#283442",
           "zerolinewidth": 2
          },
          "yaxis": {
           "automargin": true,
           "gridcolor": "#283442",
           "linecolor": "#506784",
           "ticks": "",
           "title": {
            "standoff": 15
           },
           "zerolinecolor": "#283442",
           "zerolinewidth": 2
          }
         }
        },
        "title": {
         "text": "Historique du prix de l'action AAPL"
        },
        "xaxis": {
         "title": {
          "text": "Date"
         }
        },
        "yaxis": {
         "title": {
          "text": "Prix de clôture"
         }
        }
       }
      }
     },
     "metadata": {},
     "output_type": "display_data"
    }
   ],
   "source": [
    "if historique is not None:\n",
    "    fig = go.Figure()\n",
    "    fig.add_trace(go.Scatter(\n",
    "        x=historique.index,\n",
    "        y=historique[\"Close\"],\n",
    "        mode='lines',\n",
    "        name='Prix de clôture'\n",
    "    ))\n",
    "    fig.update_layout(\n",
    "        title=f\"Historique du prix de l'action {symbole.upper()}\",\n",
    "        xaxis_title=\"Date\",\n",
    "        yaxis_title=\"Prix de clôture\",\n",
    "        template=\"plotly_dark\"\n",
    "    )\n",
    "    fig.show()"
   ]
  },
  {
   "cell_type": "code",
   "execution_count": 35,
   "metadata": {},
   "outputs": [
    {
     "data": {
      "text/html": [
       "<div>\n",
       "<style scoped>\n",
       "    .dataframe tbody tr th:only-of-type {\n",
       "        vertical-align: middle;\n",
       "    }\n",
       "\n",
       "    .dataframe tbody tr th {\n",
       "        vertical-align: top;\n",
       "    }\n",
       "\n",
       "    .dataframe thead th {\n",
       "        text-align: right;\n",
       "    }\n",
       "</style>\n",
       "<table border=\"1\" class=\"dataframe\">\n",
       "  <thead>\n",
       "    <tr style=\"text-align: right;\">\n",
       "      <th></th>\n",
       "      <th>AAPL</th>\n",
       "      <th>MSFT</th>\n",
       "      <th>TSLA</th>\n",
       "      <th>GOOGL</th>\n",
       "      <th>AMZN</th>\n",
       "      <th>NFLX</th>\n",
       "      <th>META</th>\n",
       "    </tr>\n",
       "    <tr>\n",
       "      <th>Date</th>\n",
       "      <th></th>\n",
       "      <th></th>\n",
       "      <th></th>\n",
       "      <th></th>\n",
       "      <th></th>\n",
       "      <th></th>\n",
       "      <th></th>\n",
       "    </tr>\n",
       "  </thead>\n",
       "  <tbody>\n",
       "    <tr>\n",
       "      <th>2023-11-29 00:00:00-05:00</th>\n",
       "      <td>188.446808</td>\n",
       "      <td>376.038025</td>\n",
       "      <td>244.139999</td>\n",
       "      <td>134.656570</td>\n",
       "      <td>146.320007</td>\n",
       "      <td>477.190002</td>\n",
       "      <td>331.202820</td>\n",
       "    </tr>\n",
       "    <tr>\n",
       "      <th>2023-11-30 00:00:00-05:00</th>\n",
       "      <td>189.023972</td>\n",
       "      <td>376.097595</td>\n",
       "      <td>240.080002</td>\n",
       "      <td>132.202637</td>\n",
       "      <td>146.089996</td>\n",
       "      <td>473.970001</td>\n",
       "      <td>326.167938</td>\n",
       "    </tr>\n",
       "    <tr>\n",
       "      <th>2023-12-01 00:00:00-05:00</th>\n",
       "      <td>190.307678</td>\n",
       "      <td>371.730225</td>\n",
       "      <td>238.830002</td>\n",
       "      <td>131.534302</td>\n",
       "      <td>147.029999</td>\n",
       "      <td>465.739990</td>\n",
       "      <td>323.844971</td>\n",
       "    </tr>\n",
       "    <tr>\n",
       "      <th>2023-12-04 00:00:00-05:00</th>\n",
       "      <td>188.506485</td>\n",
       "      <td>366.400146</td>\n",
       "      <td>235.580002</td>\n",
       "      <td>128.950699</td>\n",
       "      <td>144.839996</td>\n",
       "      <td>453.899994</td>\n",
       "      <td>319.059357</td>\n",
       "    </tr>\n",
       "    <tr>\n",
       "      <th>2023-12-05 00:00:00-05:00</th>\n",
       "      <td>192.477051</td>\n",
       "      <td>369.755005</td>\n",
       "      <td>238.720001</td>\n",
       "      <td>130.666458</td>\n",
       "      <td>146.880005</td>\n",
       "      <td>455.149994</td>\n",
       "      <td>317.334564</td>\n",
       "    </tr>\n",
       "  </tbody>\n",
       "</table>\n",
       "</div>"
      ],
      "text/plain": [
       "                                 AAPL        MSFT        TSLA       GOOGL  \\\n",
       "Date                                                                        \n",
       "2023-11-29 00:00:00-05:00  188.446808  376.038025  244.139999  134.656570   \n",
       "2023-11-30 00:00:00-05:00  189.023972  376.097595  240.080002  132.202637   \n",
       "2023-12-01 00:00:00-05:00  190.307678  371.730225  238.830002  131.534302   \n",
       "2023-12-04 00:00:00-05:00  188.506485  366.400146  235.580002  128.950699   \n",
       "2023-12-05 00:00:00-05:00  192.477051  369.755005  238.720001  130.666458   \n",
       "\n",
       "                                 AMZN        NFLX        META  \n",
       "Date                                                           \n",
       "2023-11-29 00:00:00-05:00  146.320007  477.190002  331.202820  \n",
       "2023-11-30 00:00:00-05:00  146.089996  473.970001  326.167938  \n",
       "2023-12-01 00:00:00-05:00  147.029999  465.739990  323.844971  \n",
       "2023-12-04 00:00:00-05:00  144.839996  453.899994  319.059357  \n",
       "2023-12-05 00:00:00-05:00  146.880005  455.149994  317.334564  "
      ]
     },
     "execution_count": 35,
     "metadata": {},
     "output_type": "execute_result"
    }
   ],
   "source": [
    "# Liste des actions à comparer\n",
    "actions = [\"AAPL\", \"MSFT\", \"TSLA\", \"GOOGL\", \"AMZN\", \"NFLX\", \"META\"]  # Liste prédéfinie\n",
    "periode = \"1y\"  # Période d'historique\n",
    "intervalle = \"1d\"  # Intervalle des données (1 jour)\n",
    "\n",
    "# Fonction pour récupérer les données pour plusieurs actions\n",
    "def fetch_multiple_stocks(actions, periode, intervalle):\n",
    "    donnees = {}\n",
    "    for symbole in actions:\n",
    "        try:\n",
    "            ticker = yf.Ticker(symbole)\n",
    "            historique = ticker.history(period=periode, interval=intervalle)\n",
    "            if not historique.empty:\n",
    "                donnees[symbole] = historique[\"Close\"]\n",
    "            else:\n",
    "                print(f\"Aucune donnée trouvée pour {symbole}.\")\n",
    "        except Exception as e:\n",
    "            print(f\"Erreur pour {symbole} : {str(e)}\")\n",
    "    return pd.DataFrame(donnees)\n",
    "\n",
    "# Récupération des données pour toutes les actions\n",
    "df_comparaison = fetch_multiple_stocks(actions, periode, intervalle)\n",
    "df_comparaison.head()  # Aperçu des données récupérées"
   ]
  },
  {
   "cell_type": "code",
   "execution_count": 36,
   "metadata": {},
   "outputs": [
    {
     "data": {
      "text/html": [
       "<div>\n",
       "<style scoped>\n",
       "    .dataframe tbody tr th:only-of-type {\n",
       "        vertical-align: middle;\n",
       "    }\n",
       "\n",
       "    .dataframe tbody tr th {\n",
       "        vertical-align: top;\n",
       "    }\n",
       "\n",
       "    .dataframe thead th {\n",
       "        text-align: right;\n",
       "    }\n",
       "</style>\n",
       "<table border=\"1\" class=\"dataframe\">\n",
       "  <thead>\n",
       "    <tr style=\"text-align: right;\">\n",
       "      <th></th>\n",
       "      <th>AAPL</th>\n",
       "      <th>MSFT</th>\n",
       "      <th>TSLA</th>\n",
       "      <th>GOOGL</th>\n",
       "      <th>AMZN</th>\n",
       "      <th>NFLX</th>\n",
       "      <th>META</th>\n",
       "    </tr>\n",
       "    <tr>\n",
       "      <th>Date</th>\n",
       "      <th></th>\n",
       "      <th></th>\n",
       "      <th></th>\n",
       "      <th></th>\n",
       "      <th></th>\n",
       "      <th></th>\n",
       "      <th></th>\n",
       "    </tr>\n",
       "  </thead>\n",
       "  <tbody>\n",
       "    <tr>\n",
       "      <th>2023-11-29 00:00:00-05:00</th>\n",
       "      <td>100.000000</td>\n",
       "      <td>100.000000</td>\n",
       "      <td>100.000000</td>\n",
       "      <td>100.000000</td>\n",
       "      <td>100.000000</td>\n",
       "      <td>100.000000</td>\n",
       "      <td>100.000000</td>\n",
       "    </tr>\n",
       "    <tr>\n",
       "      <th>2023-11-30 00:00:00-05:00</th>\n",
       "      <td>100.306274</td>\n",
       "      <td>100.015842</td>\n",
       "      <td>98.337021</td>\n",
       "      <td>98.177635</td>\n",
       "      <td>99.842803</td>\n",
       "      <td>99.325216</td>\n",
       "      <td>98.479819</td>\n",
       "    </tr>\n",
       "    <tr>\n",
       "      <th>2023-12-01 00:00:00-05:00</th>\n",
       "      <td>100.987478</td>\n",
       "      <td>98.854424</td>\n",
       "      <td>97.825019</td>\n",
       "      <td>97.681310</td>\n",
       "      <td>100.485232</td>\n",
       "      <td>97.600534</td>\n",
       "      <td>97.778446</td>\n",
       "    </tr>\n",
       "    <tr>\n",
       "      <th>2023-12-04 00:00:00-05:00</th>\n",
       "      <td>100.031668</td>\n",
       "      <td>97.436994</td>\n",
       "      <td>96.493816</td>\n",
       "      <td>95.762649</td>\n",
       "      <td>98.988511</td>\n",
       "      <td>95.119343</td>\n",
       "      <td>96.333527</td>\n",
       "    </tr>\n",
       "    <tr>\n",
       "      <th>2023-12-05 00:00:00-05:00</th>\n",
       "      <td>102.138663</td>\n",
       "      <td>98.329153</td>\n",
       "      <td>97.779963</td>\n",
       "      <td>97.036823</td>\n",
       "      <td>100.382721</td>\n",
       "      <td>95.381293</td>\n",
       "      <td>95.812760</td>\n",
       "    </tr>\n",
       "  </tbody>\n",
       "</table>\n",
       "</div>"
      ],
      "text/plain": [
       "                                 AAPL        MSFT        TSLA       GOOGL  \\\n",
       "Date                                                                        \n",
       "2023-11-29 00:00:00-05:00  100.000000  100.000000  100.000000  100.000000   \n",
       "2023-11-30 00:00:00-05:00  100.306274  100.015842   98.337021   98.177635   \n",
       "2023-12-01 00:00:00-05:00  100.987478   98.854424   97.825019   97.681310   \n",
       "2023-12-04 00:00:00-05:00  100.031668   97.436994   96.493816   95.762649   \n",
       "2023-12-05 00:00:00-05:00  102.138663   98.329153   97.779963   97.036823   \n",
       "\n",
       "                                 AMZN        NFLX        META  \n",
       "Date                                                           \n",
       "2023-11-29 00:00:00-05:00  100.000000  100.000000  100.000000  \n",
       "2023-11-30 00:00:00-05:00   99.842803   99.325216   98.479819  \n",
       "2023-12-01 00:00:00-05:00  100.485232   97.600534   97.778446  \n",
       "2023-12-04 00:00:00-05:00   98.988511   95.119343   96.333527  \n",
       "2023-12-05 00:00:00-05:00  100.382721   95.381293   95.812760  "
      ]
     },
     "execution_count": 36,
     "metadata": {},
     "output_type": "execute_result"
    }
   ],
   "source": [
    "# Normaliser les données (base 100)\n",
    "df_normalise = df_comparaison / df_comparaison.iloc[0] * 100\n",
    "df_normalise.head()"
   ]
  },
  {
   "cell_type": "code",
   "execution_count": 37,
   "metadata": {},
   "outputs": [
    {
     "name": "stdout",
     "output_type": "stream",
     "text": [
      "Variations en pourcentage sur la période :\n",
      "AAPL     25.425314\n",
      "MSFT     12.541813\n",
      "TSLA     38.752356\n",
      "GOOGL    25.424627\n",
      "AMZN     40.932200\n",
      "NFLX     86.961162\n",
      "META     74.590905\n",
      "dtype: float64\n"
     ]
    }
   ],
   "source": [
    "# Calcul des variations en pourcentage\n",
    "variations = df_comparaison.apply(\n",
    "    lambda x: ((x.iloc[-1] - x.iloc[0]) / x.iloc[0]) * 100 if len(x) > 1 else None\n",
    ")\n",
    "\n",
    "# Afficher les variations\n",
    "print(\"Variations en pourcentage sur la période :\")\n",
    "print(variations)"
   ]
  },
  {
   "cell_type": "code",
   "execution_count": 38,
   "metadata": {},
   "outputs": [
    {
     "name": "stdout",
     "output_type": "stream",
     "text": [
      "Prix maximums sur la période :\n",
      "AAPL     236.360001\n",
      "MSFT     465.786438\n",
      "TSLA     352.559998\n",
      "GOOGL    190.926636\n",
      "AMZN     214.100006\n",
      "NFLX     897.789978\n",
      "META     595.940002\n",
      "dtype: float64\n",
      "Prix minimums sur la période :\n",
      "AAPL     164.405121\n",
      "MSFT     363.213928\n",
      "TSLA     142.050003\n",
      "GOOGL    128.950699\n",
      "AMZN     144.520004\n",
      "NFLX     446.730011\n",
      "META     316.497070\n",
      "dtype: float64\n"
     ]
    }
   ],
   "source": [
    "# Statistiques de prix et volume\n",
    "prix_max = df_comparaison.max()\n",
    "prix_min = df_comparaison.min()\n",
    "\n",
    "# Affichage des statistiques\n",
    "print(\"Prix maximums sur la période :\")\n",
    "print(prix_max)\n",
    "print(\"Prix minimums sur la période :\")\n",
    "print(prix_min)"
   ]
  },
  {
   "cell_type": "code",
   "execution_count": 39,
   "metadata": {},
   "outputs": [
    {
     "data": {
      "application/vnd.plotly.v1+json": {
       "config": {
        "plotlyServerURL": "https://plot.ly"
       },
       "data": [
        {
         "mode": "lines",
         "name": "AAPL",
         "type": "scatter",
         "x": [
          "2023-11-29T00:00:00-05:00",
          "2023-11-30T00:00:00-05:00",
          "2023-12-01T00:00:00-05:00",
          "2023-12-04T00:00:00-05:00",
          "2023-12-05T00:00:00-05:00",
          "2023-12-06T00:00:00-05:00",
          "2023-12-07T00:00:00-05:00",
          "2023-12-08T00:00:00-05:00",
          "2023-12-11T00:00:00-05:00",
          "2023-12-12T00:00:00-05:00",
          "2023-12-13T00:00:00-05:00",
          "2023-12-14T00:00:00-05:00",
          "2023-12-15T00:00:00-05:00",
          "2023-12-18T00:00:00-05:00",
          "2023-12-19T00:00:00-05:00",
          "2023-12-20T00:00:00-05:00",
          "2023-12-21T00:00:00-05:00",
          "2023-12-22T00:00:00-05:00",
          "2023-12-26T00:00:00-05:00",
          "2023-12-27T00:00:00-05:00",
          "2023-12-28T00:00:00-05:00",
          "2023-12-29T00:00:00-05:00",
          "2024-01-02T00:00:00-05:00",
          "2024-01-03T00:00:00-05:00",
          "2024-01-04T00:00:00-05:00",
          "2024-01-05T00:00:00-05:00",
          "2024-01-08T00:00:00-05:00",
          "2024-01-09T00:00:00-05:00",
          "2024-01-10T00:00:00-05:00",
          "2024-01-11T00:00:00-05:00",
          "2024-01-12T00:00:00-05:00",
          "2024-01-16T00:00:00-05:00",
          "2024-01-17T00:00:00-05:00",
          "2024-01-18T00:00:00-05:00",
          "2024-01-19T00:00:00-05:00",
          "2024-01-22T00:00:00-05:00",
          "2024-01-23T00:00:00-05:00",
          "2024-01-24T00:00:00-05:00",
          "2024-01-25T00:00:00-05:00",
          "2024-01-26T00:00:00-05:00",
          "2024-01-29T00:00:00-05:00",
          "2024-01-30T00:00:00-05:00",
          "2024-01-31T00:00:00-05:00",
          "2024-02-01T00:00:00-05:00",
          "2024-02-02T00:00:00-05:00",
          "2024-02-05T00:00:00-05:00",
          "2024-02-06T00:00:00-05:00",
          "2024-02-07T00:00:00-05:00",
          "2024-02-08T00:00:00-05:00",
          "2024-02-09T00:00:00-05:00",
          "2024-02-12T00:00:00-05:00",
          "2024-02-13T00:00:00-05:00",
          "2024-02-14T00:00:00-05:00",
          "2024-02-15T00:00:00-05:00",
          "2024-02-16T00:00:00-05:00",
          "2024-02-20T00:00:00-05:00",
          "2024-02-21T00:00:00-05:00",
          "2024-02-22T00:00:00-05:00",
          "2024-02-23T00:00:00-05:00",
          "2024-02-26T00:00:00-05:00",
          "2024-02-27T00:00:00-05:00",
          "2024-02-28T00:00:00-05:00",
          "2024-02-29T00:00:00-05:00",
          "2024-03-01T00:00:00-05:00",
          "2024-03-04T00:00:00-05:00",
          "2024-03-05T00:00:00-05:00",
          "2024-03-06T00:00:00-05:00",
          "2024-03-07T00:00:00-05:00",
          "2024-03-08T00:00:00-05:00",
          "2024-03-11T00:00:00-04:00",
          "2024-03-12T00:00:00-04:00",
          "2024-03-13T00:00:00-04:00",
          "2024-03-14T00:00:00-04:00",
          "2024-03-15T00:00:00-04:00",
          "2024-03-18T00:00:00-04:00",
          "2024-03-19T00:00:00-04:00",
          "2024-03-20T00:00:00-04:00",
          "2024-03-21T00:00:00-04:00",
          "2024-03-22T00:00:00-04:00",
          "2024-03-25T00:00:00-04:00",
          "2024-03-26T00:00:00-04:00",
          "2024-03-27T00:00:00-04:00",
          "2024-03-28T00:00:00-04:00",
          "2024-04-01T00:00:00-04:00",
          "2024-04-02T00:00:00-04:00",
          "2024-04-03T00:00:00-04:00",
          "2024-04-04T00:00:00-04:00",
          "2024-04-05T00:00:00-04:00",
          "2024-04-08T00:00:00-04:00",
          "2024-04-09T00:00:00-04:00",
          "2024-04-10T00:00:00-04:00",
          "2024-04-11T00:00:00-04:00",
          "2024-04-12T00:00:00-04:00",
          "2024-04-15T00:00:00-04:00",
          "2024-04-16T00:00:00-04:00",
          "2024-04-17T00:00:00-04:00",
          "2024-04-18T00:00:00-04:00",
          "2024-04-19T00:00:00-04:00",
          "2024-04-22T00:00:00-04:00",
          "2024-04-23T00:00:00-04:00",
          "2024-04-24T00:00:00-04:00",
          "2024-04-25T00:00:00-04:00",
          "2024-04-26T00:00:00-04:00",
          "2024-04-29T00:00:00-04:00",
          "2024-04-30T00:00:00-04:00",
          "2024-05-01T00:00:00-04:00",
          "2024-05-02T00:00:00-04:00",
          "2024-05-03T00:00:00-04:00",
          "2024-05-06T00:00:00-04:00",
          "2024-05-07T00:00:00-04:00",
          "2024-05-08T00:00:00-04:00",
          "2024-05-09T00:00:00-04:00",
          "2024-05-10T00:00:00-04:00",
          "2024-05-13T00:00:00-04:00",
          "2024-05-14T00:00:00-04:00",
          "2024-05-15T00:00:00-04:00",
          "2024-05-16T00:00:00-04:00",
          "2024-05-17T00:00:00-04:00",
          "2024-05-20T00:00:00-04:00",
          "2024-05-21T00:00:00-04:00",
          "2024-05-22T00:00:00-04:00",
          "2024-05-23T00:00:00-04:00",
          "2024-05-24T00:00:00-04:00",
          "2024-05-28T00:00:00-04:00",
          "2024-05-29T00:00:00-04:00",
          "2024-05-30T00:00:00-04:00",
          "2024-05-31T00:00:00-04:00",
          "2024-06-03T00:00:00-04:00",
          "2024-06-04T00:00:00-04:00",
          "2024-06-05T00:00:00-04:00",
          "2024-06-06T00:00:00-04:00",
          "2024-06-07T00:00:00-04:00",
          "2024-06-10T00:00:00-04:00",
          "2024-06-11T00:00:00-04:00",
          "2024-06-12T00:00:00-04:00",
          "2024-06-13T00:00:00-04:00",
          "2024-06-14T00:00:00-04:00",
          "2024-06-17T00:00:00-04:00",
          "2024-06-18T00:00:00-04:00",
          "2024-06-20T00:00:00-04:00",
          "2024-06-21T00:00:00-04:00",
          "2024-06-24T00:00:00-04:00",
          "2024-06-25T00:00:00-04:00",
          "2024-06-26T00:00:00-04:00",
          "2024-06-27T00:00:00-04:00",
          "2024-06-28T00:00:00-04:00",
          "2024-07-01T00:00:00-04:00",
          "2024-07-02T00:00:00-04:00",
          "2024-07-03T00:00:00-04:00",
          "2024-07-05T00:00:00-04:00",
          "2024-07-08T00:00:00-04:00",
          "2024-07-09T00:00:00-04:00",
          "2024-07-10T00:00:00-04:00",
          "2024-07-11T00:00:00-04:00",
          "2024-07-12T00:00:00-04:00",
          "2024-07-15T00:00:00-04:00",
          "2024-07-16T00:00:00-04:00",
          "2024-07-17T00:00:00-04:00",
          "2024-07-18T00:00:00-04:00",
          "2024-07-19T00:00:00-04:00",
          "2024-07-22T00:00:00-04:00",
          "2024-07-23T00:00:00-04:00",
          "2024-07-24T00:00:00-04:00",
          "2024-07-25T00:00:00-04:00",
          "2024-07-26T00:00:00-04:00",
          "2024-07-29T00:00:00-04:00",
          "2024-07-30T00:00:00-04:00",
          "2024-07-31T00:00:00-04:00",
          "2024-08-01T00:00:00-04:00",
          "2024-08-02T00:00:00-04:00",
          "2024-08-05T00:00:00-04:00",
          "2024-08-06T00:00:00-04:00",
          "2024-08-07T00:00:00-04:00",
          "2024-08-08T00:00:00-04:00",
          "2024-08-09T00:00:00-04:00",
          "2024-08-12T00:00:00-04:00",
          "2024-08-13T00:00:00-04:00",
          "2024-08-14T00:00:00-04:00",
          "2024-08-15T00:00:00-04:00",
          "2024-08-16T00:00:00-04:00",
          "2024-08-19T00:00:00-04:00",
          "2024-08-20T00:00:00-04:00",
          "2024-08-21T00:00:00-04:00",
          "2024-08-22T00:00:00-04:00",
          "2024-08-23T00:00:00-04:00",
          "2024-08-26T00:00:00-04:00",
          "2024-08-27T00:00:00-04:00",
          "2024-08-28T00:00:00-04:00",
          "2024-08-29T00:00:00-04:00",
          "2024-08-30T00:00:00-04:00",
          "2024-09-03T00:00:00-04:00",
          "2024-09-04T00:00:00-04:00",
          "2024-09-05T00:00:00-04:00",
          "2024-09-06T00:00:00-04:00",
          "2024-09-09T00:00:00-04:00",
          "2024-09-10T00:00:00-04:00",
          "2024-09-11T00:00:00-04:00",
          "2024-09-12T00:00:00-04:00",
          "2024-09-13T00:00:00-04:00",
          "2024-09-16T00:00:00-04:00",
          "2024-09-17T00:00:00-04:00",
          "2024-09-18T00:00:00-04:00",
          "2024-09-19T00:00:00-04:00",
          "2024-09-20T00:00:00-04:00",
          "2024-09-23T00:00:00-04:00",
          "2024-09-24T00:00:00-04:00",
          "2024-09-25T00:00:00-04:00",
          "2024-09-26T00:00:00-04:00",
          "2024-09-27T00:00:00-04:00",
          "2024-09-30T00:00:00-04:00",
          "2024-10-01T00:00:00-04:00",
          "2024-10-02T00:00:00-04:00",
          "2024-10-03T00:00:00-04:00",
          "2024-10-04T00:00:00-04:00",
          "2024-10-07T00:00:00-04:00",
          "2024-10-08T00:00:00-04:00",
          "2024-10-09T00:00:00-04:00",
          "2024-10-10T00:00:00-04:00",
          "2024-10-11T00:00:00-04:00",
          "2024-10-14T00:00:00-04:00",
          "2024-10-15T00:00:00-04:00",
          "2024-10-16T00:00:00-04:00",
          "2024-10-17T00:00:00-04:00",
          "2024-10-18T00:00:00-04:00",
          "2024-10-21T00:00:00-04:00",
          "2024-10-22T00:00:00-04:00",
          "2024-10-23T00:00:00-04:00",
          "2024-10-24T00:00:00-04:00",
          "2024-10-25T00:00:00-04:00",
          "2024-10-28T00:00:00-04:00",
          "2024-10-29T00:00:00-04:00",
          "2024-10-30T00:00:00-04:00",
          "2024-10-31T00:00:00-04:00",
          "2024-11-01T00:00:00-04:00",
          "2024-11-04T00:00:00-05:00",
          "2024-11-05T00:00:00-05:00",
          "2024-11-06T00:00:00-05:00",
          "2024-11-07T00:00:00-05:00",
          "2024-11-08T00:00:00-05:00",
          "2024-11-11T00:00:00-05:00",
          "2024-11-12T00:00:00-05:00",
          "2024-11-13T00:00:00-05:00",
          "2024-11-14T00:00:00-05:00",
          "2024-11-15T00:00:00-05:00",
          "2024-11-18T00:00:00-05:00",
          "2024-11-19T00:00:00-05:00",
          "2024-11-20T00:00:00-05:00",
          "2024-11-21T00:00:00-05:00",
          "2024-11-22T00:00:00-05:00",
          "2024-11-25T00:00:00-05:00",
          "2024-11-26T00:00:00-05:00",
          "2024-11-27T00:00:00-05:00",
          "2024-11-29T00:00:00-05:00"
         ],
         "y": [
          188.44680786132812,
          189.0239715576172,
          190.30767822265625,
          188.50648498535156,
          192.47705078125,
          191.3824005126953,
          193.32290649414062,
          194.75588989257812,
          192.23822021484375,
          193.7607879638672,
          196.99493408203125,
          197.14419555664062,
          196.60682678222656,
          194.9350128173828,
          195.97988891601562,
          193.88018798828125,
          193.73089599609375,
          192.6561737060547,
          192.10887145996094,
          192.20835876464844,
          192.63629150390625,
          191.5913848876953,
          184.73497009277344,
          183.35174560546875,
          181.02316284179688,
          180.2967071533203,
          184.65536499023438,
          184.23741149902344,
          185.28228759765625,
          184.68521118164062,
          185.01361083984375,
          182.7347869873047,
          181.78939819335938,
          187.71041870117188,
          190.62612915039062,
          192.94476318359375,
          194.22845458984375,
          193.55178833007812,
          193.22337341308594,
          191.48190307617188,
          190.79530334472656,
          187.12326049804688,
          183.5010223388672,
          185.94903564453125,
          184.94395446777344,
          186.76502990722656,
          188.3771514892578,
          188.48660278320312,
          187.40191650390625,
          188.1691436767578,
          186.47525024414062,
          184.37286376953125,
          183.48606872558594,
          183.19712829589844,
          181.6527099609375,
          180.90541076660156,
          181.66268920898438,
          183.70526123046875,
          181.86195373535156,
          180.50686645507812,
          181.97157287597656,
          180.76593017578125,
          180.0983428955078,
          179.01226806640625,
          174.4687042236328,
          169.5066680908203,
          168.51025390625,
          168.3907012939453,
          170.11447143554688,
          172.12718200683594,
          172.60543823242188,
          170.51303100585938,
          172.3762664794922,
          171.99765014648438,
          173.09368896484375,
          175.4451904296875,
          178.02581787109375,
          170.7521514892578,
          171.6588592529297,
          170.23403930664062,
          169.09814453125,
          172.68515014648438,
          170.86175537109375,
          169.4169921875,
          168.2312774658203,
          169.03834533691406,
          168.21136474609375,
          168.96859741210938,
          167.84268188476562,
          169.0582733154297,
          167.1750946044922,
          174.40892028808594,
          175.91348266601562,
          172.06739807128906,
          168.7693328857422,
          167.39430236816406,
          166.437744140625,
          164.40512084960938,
          165.24208068847656,
          166.2982635498047,
          168.41062927246094,
          169.27749633789062,
          168.6896209716797,
          172.8744659423828,
          169.7158966064453,
          168.6896209716797,
          172.4061737060547,
          182.71885681152344,
          181.0548858642578,
          181.7423858642578,
          182.0811767578125,
          183.90457153320312,
          182.63742065429688,
          185.8601531982422,
          187.00755310058594,
          189.2924041748047,
          189.41212463378906,
          189.4420623779297,
          190.6094207763672,
          191.91647338867188,
          190.46974182128906,
          186.45880126953125,
          189.5518035888672,
          189.56179809570312,
          189.86111450195312,
          190.85885620117188,
          191.8166961669922,
          193.59266662597656,
          193.91195678710938,
          195.42852783203125,
          194.04165649414062,
          196.4462432861328,
          192.68472290039062,
          206.68310546875,
          212.58978271484375,
          213.75714111328125,
          212.01107788085938,
          216.18165588378906,
          213.8070068359375,
          209.20741271972656,
          207.02235412597656,
          207.67086791992188,
          208.59878540039062,
          212.7693634033203,
          213.61746215820312,
          210.14527893066406,
          216.261474609375,
          219.77354431152344,
          221.0506591796875,
          225.82984924316406,
          227.30653381347656,
          228.16458129882812,
          232.4548797607422,
          227.05709838867188,
          230.0203857421875,
          233.87168884277344,
          234.29075622558594,
          228.3641357421875,
          223.67471313476562,
          223.80442810058594,
          223.45523071289062,
          224.5028533935547,
          218.04742431640625,
          216.99981689453125,
          217.46875,
          217.7481231689453,
          218.30685424804688,
          221.5794677734375,
          217.8678436279297,
          219.3644561767578,
          208.79833984375,
          206.76292419433594,
          209.34710693359375,
          212.8292236328125,
          215.7526397705078,
          217.2909393310547,
          221.02682495117188,
          221.47633361816406,
          224.47303771972656,
          225.80157470703125,
          225.64175415039062,
          226.2610626220703,
          226.15118408203125,
          224.2832489013672,
          226.5906982421875,
          226.93032836914062,
          227.77938842773438,
          226.2410888671875,
          229.53746032714844,
          228.7483367919922,
          222.52517700195312,
          220.6072998046875,
          222.13560485839844,
          220.57733154296875,
          220.66722106933594,
          219.86810302734375,
          222.41529846191406,
          222.52517700195312,
          222.25547790527344,
          216.082275390625,
          216.55174255371094,
          220.4474639892578,
          228.61846923828125,
          227.94920349121094,
          226.2211151123047,
          227.1201171875,
          226.1212158203125,
          227.26995849609375,
          227.53965759277344,
          232.7439422607422,
          225.96141052246094,
          226.53077697753906,
          225.42198181152344,
          226.55075073242188,
          221.4463653564453,
          225.52188110351562,
          229.28773498535156,
          228.7882843017578,
          227.2999267578125,
          231.04580688476562,
          233.59300231933594,
          231.5252685546875,
          231.89486694335938,
          234.74172973632812,
          236.22010803222656,
          235.60079956054688,
          230.5063934326172,
          230.31661987304688,
          231.1556854248047,
          233.14349365234375,
          233.41319274902344,
          229.8471221923828,
          225.66172790527344,
          222.66502380371094,
          221.76600646972656,
          223.2044219970703,
          222.47523498535156,
          227.22999572753906,
          226.9600067138672,
          224.22999572753906,
          224.22999572753906,
          225.1199951171875,
          228.22000122070312,
          225,
          228.02000427246094,
          228.27999877929688,
          229,
          228.52000427246094,
          229.8699951171875,
          232.8699951171875,
          235.05999755859375,
          234.92999267578125,
          236.36000061035156
         ]
        },
        {
         "mode": "lines",
         "name": "MSFT",
         "type": "scatter",
         "x": [
          "2023-11-29T00:00:00-05:00",
          "2023-11-30T00:00:00-05:00",
          "2023-12-01T00:00:00-05:00",
          "2023-12-04T00:00:00-05:00",
          "2023-12-05T00:00:00-05:00",
          "2023-12-06T00:00:00-05:00",
          "2023-12-07T00:00:00-05:00",
          "2023-12-08T00:00:00-05:00",
          "2023-12-11T00:00:00-05:00",
          "2023-12-12T00:00:00-05:00",
          "2023-12-13T00:00:00-05:00",
          "2023-12-14T00:00:00-05:00",
          "2023-12-15T00:00:00-05:00",
          "2023-12-18T00:00:00-05:00",
          "2023-12-19T00:00:00-05:00",
          "2023-12-20T00:00:00-05:00",
          "2023-12-21T00:00:00-05:00",
          "2023-12-22T00:00:00-05:00",
          "2023-12-26T00:00:00-05:00",
          "2023-12-27T00:00:00-05:00",
          "2023-12-28T00:00:00-05:00",
          "2023-12-29T00:00:00-05:00",
          "2024-01-02T00:00:00-05:00",
          "2024-01-03T00:00:00-05:00",
          "2024-01-04T00:00:00-05:00",
          "2024-01-05T00:00:00-05:00",
          "2024-01-08T00:00:00-05:00",
          "2024-01-09T00:00:00-05:00",
          "2024-01-10T00:00:00-05:00",
          "2024-01-11T00:00:00-05:00",
          "2024-01-12T00:00:00-05:00",
          "2024-01-16T00:00:00-05:00",
          "2024-01-17T00:00:00-05:00",
          "2024-01-18T00:00:00-05:00",
          "2024-01-19T00:00:00-05:00",
          "2024-01-22T00:00:00-05:00",
          "2024-01-23T00:00:00-05:00",
          "2024-01-24T00:00:00-05:00",
          "2024-01-25T00:00:00-05:00",
          "2024-01-26T00:00:00-05:00",
          "2024-01-29T00:00:00-05:00",
          "2024-01-30T00:00:00-05:00",
          "2024-01-31T00:00:00-05:00",
          "2024-02-01T00:00:00-05:00",
          "2024-02-02T00:00:00-05:00",
          "2024-02-05T00:00:00-05:00",
          "2024-02-06T00:00:00-05:00",
          "2024-02-07T00:00:00-05:00",
          "2024-02-08T00:00:00-05:00",
          "2024-02-09T00:00:00-05:00",
          "2024-02-12T00:00:00-05:00",
          "2024-02-13T00:00:00-05:00",
          "2024-02-14T00:00:00-05:00",
          "2024-02-15T00:00:00-05:00",
          "2024-02-16T00:00:00-05:00",
          "2024-02-20T00:00:00-05:00",
          "2024-02-21T00:00:00-05:00",
          "2024-02-22T00:00:00-05:00",
          "2024-02-23T00:00:00-05:00",
          "2024-02-26T00:00:00-05:00",
          "2024-02-27T00:00:00-05:00",
          "2024-02-28T00:00:00-05:00",
          "2024-02-29T00:00:00-05:00",
          "2024-03-01T00:00:00-05:00",
          "2024-03-04T00:00:00-05:00",
          "2024-03-05T00:00:00-05:00",
          "2024-03-06T00:00:00-05:00",
          "2024-03-07T00:00:00-05:00",
          "2024-03-08T00:00:00-05:00",
          "2024-03-11T00:00:00-04:00",
          "2024-03-12T00:00:00-04:00",
          "2024-03-13T00:00:00-04:00",
          "2024-03-14T00:00:00-04:00",
          "2024-03-15T00:00:00-04:00",
          "2024-03-18T00:00:00-04:00",
          "2024-03-19T00:00:00-04:00",
          "2024-03-20T00:00:00-04:00",
          "2024-03-21T00:00:00-04:00",
          "2024-03-22T00:00:00-04:00",
          "2024-03-25T00:00:00-04:00",
          "2024-03-26T00:00:00-04:00",
          "2024-03-27T00:00:00-04:00",
          "2024-03-28T00:00:00-04:00",
          "2024-04-01T00:00:00-04:00",
          "2024-04-02T00:00:00-04:00",
          "2024-04-03T00:00:00-04:00",
          "2024-04-04T00:00:00-04:00",
          "2024-04-05T00:00:00-04:00",
          "2024-04-08T00:00:00-04:00",
          "2024-04-09T00:00:00-04:00",
          "2024-04-10T00:00:00-04:00",
          "2024-04-11T00:00:00-04:00",
          "2024-04-12T00:00:00-04:00",
          "2024-04-15T00:00:00-04:00",
          "2024-04-16T00:00:00-04:00",
          "2024-04-17T00:00:00-04:00",
          "2024-04-18T00:00:00-04:00",
          "2024-04-19T00:00:00-04:00",
          "2024-04-22T00:00:00-04:00",
          "2024-04-23T00:00:00-04:00",
          "2024-04-24T00:00:00-04:00",
          "2024-04-25T00:00:00-04:00",
          "2024-04-26T00:00:00-04:00",
          "2024-04-29T00:00:00-04:00",
          "2024-04-30T00:00:00-04:00",
          "2024-05-01T00:00:00-04:00",
          "2024-05-02T00:00:00-04:00",
          "2024-05-03T00:00:00-04:00",
          "2024-05-06T00:00:00-04:00",
          "2024-05-07T00:00:00-04:00",
          "2024-05-08T00:00:00-04:00",
          "2024-05-09T00:00:00-04:00",
          "2024-05-10T00:00:00-04:00",
          "2024-05-13T00:00:00-04:00",
          "2024-05-14T00:00:00-04:00",
          "2024-05-15T00:00:00-04:00",
          "2024-05-16T00:00:00-04:00",
          "2024-05-17T00:00:00-04:00",
          "2024-05-20T00:00:00-04:00",
          "2024-05-21T00:00:00-04:00",
          "2024-05-22T00:00:00-04:00",
          "2024-05-23T00:00:00-04:00",
          "2024-05-24T00:00:00-04:00",
          "2024-05-28T00:00:00-04:00",
          "2024-05-29T00:00:00-04:00",
          "2024-05-30T00:00:00-04:00",
          "2024-05-31T00:00:00-04:00",
          "2024-06-03T00:00:00-04:00",
          "2024-06-04T00:00:00-04:00",
          "2024-06-05T00:00:00-04:00",
          "2024-06-06T00:00:00-04:00",
          "2024-06-07T00:00:00-04:00",
          "2024-06-10T00:00:00-04:00",
          "2024-06-11T00:00:00-04:00",
          "2024-06-12T00:00:00-04:00",
          "2024-06-13T00:00:00-04:00",
          "2024-06-14T00:00:00-04:00",
          "2024-06-17T00:00:00-04:00",
          "2024-06-18T00:00:00-04:00",
          "2024-06-20T00:00:00-04:00",
          "2024-06-21T00:00:00-04:00",
          "2024-06-24T00:00:00-04:00",
          "2024-06-25T00:00:00-04:00",
          "2024-06-26T00:00:00-04:00",
          "2024-06-27T00:00:00-04:00",
          "2024-06-28T00:00:00-04:00",
          "2024-07-01T00:00:00-04:00",
          "2024-07-02T00:00:00-04:00",
          "2024-07-03T00:00:00-04:00",
          "2024-07-05T00:00:00-04:00",
          "2024-07-08T00:00:00-04:00",
          "2024-07-09T00:00:00-04:00",
          "2024-07-10T00:00:00-04:00",
          "2024-07-11T00:00:00-04:00",
          "2024-07-12T00:00:00-04:00",
          "2024-07-15T00:00:00-04:00",
          "2024-07-16T00:00:00-04:00",
          "2024-07-17T00:00:00-04:00",
          "2024-07-18T00:00:00-04:00",
          "2024-07-19T00:00:00-04:00",
          "2024-07-22T00:00:00-04:00",
          "2024-07-23T00:00:00-04:00",
          "2024-07-24T00:00:00-04:00",
          "2024-07-25T00:00:00-04:00",
          "2024-07-26T00:00:00-04:00",
          "2024-07-29T00:00:00-04:00",
          "2024-07-30T00:00:00-04:00",
          "2024-07-31T00:00:00-04:00",
          "2024-08-01T00:00:00-04:00",
          "2024-08-02T00:00:00-04:00",
          "2024-08-05T00:00:00-04:00",
          "2024-08-06T00:00:00-04:00",
          "2024-08-07T00:00:00-04:00",
          "2024-08-08T00:00:00-04:00",
          "2024-08-09T00:00:00-04:00",
          "2024-08-12T00:00:00-04:00",
          "2024-08-13T00:00:00-04:00",
          "2024-08-14T00:00:00-04:00",
          "2024-08-15T00:00:00-04:00",
          "2024-08-16T00:00:00-04:00",
          "2024-08-19T00:00:00-04:00",
          "2024-08-20T00:00:00-04:00",
          "2024-08-21T00:00:00-04:00",
          "2024-08-22T00:00:00-04:00",
          "2024-08-23T00:00:00-04:00",
          "2024-08-26T00:00:00-04:00",
          "2024-08-27T00:00:00-04:00",
          "2024-08-28T00:00:00-04:00",
          "2024-08-29T00:00:00-04:00",
          "2024-08-30T00:00:00-04:00",
          "2024-09-03T00:00:00-04:00",
          "2024-09-04T00:00:00-04:00",
          "2024-09-05T00:00:00-04:00",
          "2024-09-06T00:00:00-04:00",
          "2024-09-09T00:00:00-04:00",
          "2024-09-10T00:00:00-04:00",
          "2024-09-11T00:00:00-04:00",
          "2024-09-12T00:00:00-04:00",
          "2024-09-13T00:00:00-04:00",
          "2024-09-16T00:00:00-04:00",
          "2024-09-17T00:00:00-04:00",
          "2024-09-18T00:00:00-04:00",
          "2024-09-19T00:00:00-04:00",
          "2024-09-20T00:00:00-04:00",
          "2024-09-23T00:00:00-04:00",
          "2024-09-24T00:00:00-04:00",
          "2024-09-25T00:00:00-04:00",
          "2024-09-26T00:00:00-04:00",
          "2024-09-27T00:00:00-04:00",
          "2024-09-30T00:00:00-04:00",
          "2024-10-01T00:00:00-04:00",
          "2024-10-02T00:00:00-04:00",
          "2024-10-03T00:00:00-04:00",
          "2024-10-04T00:00:00-04:00",
          "2024-10-07T00:00:00-04:00",
          "2024-10-08T00:00:00-04:00",
          "2024-10-09T00:00:00-04:00",
          "2024-10-10T00:00:00-04:00",
          "2024-10-11T00:00:00-04:00",
          "2024-10-14T00:00:00-04:00",
          "2024-10-15T00:00:00-04:00",
          "2024-10-16T00:00:00-04:00",
          "2024-10-17T00:00:00-04:00",
          "2024-10-18T00:00:00-04:00",
          "2024-10-21T00:00:00-04:00",
          "2024-10-22T00:00:00-04:00",
          "2024-10-23T00:00:00-04:00",
          "2024-10-24T00:00:00-04:00",
          "2024-10-25T00:00:00-04:00",
          "2024-10-28T00:00:00-04:00",
          "2024-10-29T00:00:00-04:00",
          "2024-10-30T00:00:00-04:00",
          "2024-10-31T00:00:00-04:00",
          "2024-11-01T00:00:00-04:00",
          "2024-11-04T00:00:00-05:00",
          "2024-11-05T00:00:00-05:00",
          "2024-11-06T00:00:00-05:00",
          "2024-11-07T00:00:00-05:00",
          "2024-11-08T00:00:00-05:00",
          "2024-11-11T00:00:00-05:00",
          "2024-11-12T00:00:00-05:00",
          "2024-11-13T00:00:00-05:00",
          "2024-11-14T00:00:00-05:00",
          "2024-11-15T00:00:00-05:00",
          "2024-11-18T00:00:00-05:00",
          "2024-11-19T00:00:00-05:00",
          "2024-11-20T00:00:00-05:00",
          "2024-11-21T00:00:00-05:00",
          "2024-11-22T00:00:00-05:00",
          "2024-11-25T00:00:00-05:00",
          "2024-11-26T00:00:00-05:00",
          "2024-11-27T00:00:00-05:00",
          "2024-11-29T00:00:00-05:00"
         ],
         "y": [
          376.03802490234375,
          376.09759521484375,
          371.730224609375,
          366.400146484375,
          369.7550048828125,
          366.0626220703125,
          368.1966552734375,
          371.45233154296875,
          368.5440368652344,
          371.6012268066406,
          371.59124755859375,
          363.21392822265625,
          367.9783020019531,
          369.8840026855469,
          370.48956298828125,
          367.8691101074219,
          370.7674560546875,
          371.7997131347656,
          371.8791198730469,
          371.29351806640625,
          372.4945068359375,
          373.2488708496094,
          368.11724853515625,
          367.8492736816406,
          365.208984375,
          365.0204162597656,
          371.9089050292969,
          373.0007629394531,
          379.92889404296875,
          381.7751159667969,
          385.58660888671875,
          387.37322998046875,
          386.57916259765625,
          390.946533203125,
          395.7109375,
          393.56695556640625,
          395.9391784667969,
          399.5720520019531,
          401.86492919921875,
          400.931884765625,
          406.67889404296875,
          405.5572509765625,
          394.6289978027344,
          400.78302001953125,
          408.16778564453125,
          402.6391296386719,
          402.4802551269531,
          410.97674560546875,
          411.0362854003906,
          417.4284973144531,
          412.17779541015625,
          403.30413818359375,
          407.2022399902344,
          404.2886047363281,
          401.8025817871094,
          400.5396728515625,
          399.93304443359375,
          409.35015869140625,
          408.0474853515625,
          405.2631530761719,
          405.2034606933594,
          405.4421081542969,
          411.3290710449219,
          413.17864990234375,
          412.6018981933594,
          400.4004211425781,
          399.8435363769531,
          406.8542175292969,
          403.95050048828125,
          402.2599792480469,
          412.9598693847656,
          412.7809143066406,
          422.8443603515625,
          414.0935363769531,
          414.9884948730469,
          419.0556335449219,
          422.85430908203125,
          426.9711608886719,
          426.34466552734375,
          420.4975280761719,
          419.29425048828125,
          419.07550048828125,
          418.3694763183594,
          422.197998046875,
          419.0854797363281,
          418.10101318359375,
          415.54534912109375,
          423.1426696777344,
          422.2178649902344,
          423.8984069824219,
          420.8952941894531,
          425.5392150878906,
          419.54290771484375,
          411.3290710449219,
          412.2637939453125,
          409.5390930175781,
          402.0113830566406,
          396.8901672363281,
          398.7198791503906,
          405.29296875,
          406.7746276855469,
          396.81060791015625,
          404.0499572753906,
          400.002685546875,
          387.15484619140625,
          392.7335205078125,
          395.6173095703125,
          404.3880310058594,
          411.2296142578125,
          407.0530700683594,
          408.2463684082031,
          410.01641845703125,
          412.4228820800781,
          411.4085998535156,
          414.23272705078125,
          421.4751281738281,
          419.3930969238281,
          418.61602783203125,
          423.7265930175781,
          427.4125671386719,
          428.8869323730469,
          425.3802795410156,
          428.5283203125,
          428.68768310546875,
          427.5420837402344,
          413.0970764160156,
          413.5553283691406,
          411.951416015625,
          414.49176025390625,
          422.4016418457031,
          422.90966796875,
          422.24224853515625,
          426.2469787597656,
          431.0387268066406,
          439.386962890625,
          439.9049987792969,
          440.8912353515625,
          446.6692199707031,
          444.6469421386719,
          444.0093688964844,
          448.0738830566406,
          445.971923828125,
          449.23944091796875,
          450.4448547363281,
          451.1322326660156,
          445.254638671875,
          454.9975280761719,
          457.537841796875,
          459.0221862792969,
          465.78643798828125,
          464.471435546875,
          457.796875,
          464.4814147949219,
          452.9752197265625,
          451.8295593261719,
          452.238037109375,
          447.81488037109375,
          441.8376159667969,
          438.6995849609375,
          435.4519348144531,
          441.25982666015625,
          443.16259765625,
          427.2730712890625,
          416.8128967285156,
          423.6568298339844,
          425.111328125,
          421.3157958984375,
          416.76312255859375,
          415.5278015136719,
          406.94049072265625,
          393.6510925292969,
          398.09417724609375,
          396.9186706542969,
          401.1625061035156,
          404.4798583984375,
          405.2668762207031,
          412.4395751953125,
          415.27874755859375,
          420.1889343261719,
          417.634033203125,
          420.68792724609375,
          423.9513854980469,
          423.292724609375,
          414.7198791503906,
          415.9573974609375,
          412.6639709472656,
          413.0132751464844,
          409.77978515625,
          412.29473876953125,
          416.30670166015625,
          408.6220703125,
          408.0831604003906,
          407.5741882324219,
          400.8975524902344,
          404.9095153808594,
          413.3725891113281,
          422.1949157714844,
          426.1470031738281,
          429.7298278808594,
          430.47833251953125,
          434.2807312011719,
          429.94940185546875,
          437.81365966796875,
          434.4004821777344,
          432.6440124511719,
          428.31268310546875,
          431.2467956542969,
          430.4483947753906,
          427.1649475097656,
          429.4403991699219,
          419.849609375,
          416.2967224121094,
          415.7079162597656,
          415.2288513183594,
          408.7218933105469,
          413.8815612792969,
          416.62603759765625,
          415.0093078613281,
          415.48834228515625,
          418.302734375,
          417.90350341796875,
          415.2887268066406,
          415.8875427246094,
          417.3246765136719,
          417.94342041015625,
          426.656005859375,
          423.7518005371094,
          423.8815612792969,
          427.2947082519531,
          425.7378234863281,
          431.0871276855469,
          431.66595458984375,
          405.53826904296875,
          409.55023193359375,
          407.64404296875,
          410.6380310058594,
          419.3406066894531,
          424.58013916015625,
          421.6959228515625,
          417.1749572753906,
          422.1849365234375,
          424.3506164550781,
          426.0372314453125,
          414.1709899902344,
          414.9294738769531,
          416.9554138183594,
          414.65997314453125,
          412.8699951171875,
          417,
          418.7900085449219,
          427.989990234375,
          422.989990234375,
          423.20001220703125
         ]
        },
        {
         "mode": "lines",
         "name": "TSLA",
         "type": "scatter",
         "x": [
          "2023-11-29T00:00:00-05:00",
          "2023-11-30T00:00:00-05:00",
          "2023-12-01T00:00:00-05:00",
          "2023-12-04T00:00:00-05:00",
          "2023-12-05T00:00:00-05:00",
          "2023-12-06T00:00:00-05:00",
          "2023-12-07T00:00:00-05:00",
          "2023-12-08T00:00:00-05:00",
          "2023-12-11T00:00:00-05:00",
          "2023-12-12T00:00:00-05:00",
          "2023-12-13T00:00:00-05:00",
          "2023-12-14T00:00:00-05:00",
          "2023-12-15T00:00:00-05:00",
          "2023-12-18T00:00:00-05:00",
          "2023-12-19T00:00:00-05:00",
          "2023-12-20T00:00:00-05:00",
          "2023-12-21T00:00:00-05:00",
          "2023-12-22T00:00:00-05:00",
          "2023-12-26T00:00:00-05:00",
          "2023-12-27T00:00:00-05:00",
          "2023-12-28T00:00:00-05:00",
          "2023-12-29T00:00:00-05:00",
          "2024-01-02T00:00:00-05:00",
          "2024-01-03T00:00:00-05:00",
          "2024-01-04T00:00:00-05:00",
          "2024-01-05T00:00:00-05:00",
          "2024-01-08T00:00:00-05:00",
          "2024-01-09T00:00:00-05:00",
          "2024-01-10T00:00:00-05:00",
          "2024-01-11T00:00:00-05:00",
          "2024-01-12T00:00:00-05:00",
          "2024-01-16T00:00:00-05:00",
          "2024-01-17T00:00:00-05:00",
          "2024-01-18T00:00:00-05:00",
          "2024-01-19T00:00:00-05:00",
          "2024-01-22T00:00:00-05:00",
          "2024-01-23T00:00:00-05:00",
          "2024-01-24T00:00:00-05:00",
          "2024-01-25T00:00:00-05:00",
          "2024-01-26T00:00:00-05:00",
          "2024-01-29T00:00:00-05:00",
          "2024-01-30T00:00:00-05:00",
          "2024-01-31T00:00:00-05:00",
          "2024-02-01T00:00:00-05:00",
          "2024-02-02T00:00:00-05:00",
          "2024-02-05T00:00:00-05:00",
          "2024-02-06T00:00:00-05:00",
          "2024-02-07T00:00:00-05:00",
          "2024-02-08T00:00:00-05:00",
          "2024-02-09T00:00:00-05:00",
          "2024-02-12T00:00:00-05:00",
          "2024-02-13T00:00:00-05:00",
          "2024-02-14T00:00:00-05:00",
          "2024-02-15T00:00:00-05:00",
          "2024-02-16T00:00:00-05:00",
          "2024-02-20T00:00:00-05:00",
          "2024-02-21T00:00:00-05:00",
          "2024-02-22T00:00:00-05:00",
          "2024-02-23T00:00:00-05:00",
          "2024-02-26T00:00:00-05:00",
          "2024-02-27T00:00:00-05:00",
          "2024-02-28T00:00:00-05:00",
          "2024-02-29T00:00:00-05:00",
          "2024-03-01T00:00:00-05:00",
          "2024-03-04T00:00:00-05:00",
          "2024-03-05T00:00:00-05:00",
          "2024-03-06T00:00:00-05:00",
          "2024-03-07T00:00:00-05:00",
          "2024-03-08T00:00:00-05:00",
          "2024-03-11T00:00:00-04:00",
          "2024-03-12T00:00:00-04:00",
          "2024-03-13T00:00:00-04:00",
          "2024-03-14T00:00:00-04:00",
          "2024-03-15T00:00:00-04:00",
          "2024-03-18T00:00:00-04:00",
          "2024-03-19T00:00:00-04:00",
          "2024-03-20T00:00:00-04:00",
          "2024-03-21T00:00:00-04:00",
          "2024-03-22T00:00:00-04:00",
          "2024-03-25T00:00:00-04:00",
          "2024-03-26T00:00:00-04:00",
          "2024-03-27T00:00:00-04:00",
          "2024-03-28T00:00:00-04:00",
          "2024-04-01T00:00:00-04:00",
          "2024-04-02T00:00:00-04:00",
          "2024-04-03T00:00:00-04:00",
          "2024-04-04T00:00:00-04:00",
          "2024-04-05T00:00:00-04:00",
          "2024-04-08T00:00:00-04:00",
          "2024-04-09T00:00:00-04:00",
          "2024-04-10T00:00:00-04:00",
          "2024-04-11T00:00:00-04:00",
          "2024-04-12T00:00:00-04:00",
          "2024-04-15T00:00:00-04:00",
          "2024-04-16T00:00:00-04:00",
          "2024-04-17T00:00:00-04:00",
          "2024-04-18T00:00:00-04:00",
          "2024-04-19T00:00:00-04:00",
          "2024-04-22T00:00:00-04:00",
          "2024-04-23T00:00:00-04:00",
          "2024-04-24T00:00:00-04:00",
          "2024-04-25T00:00:00-04:00",
          "2024-04-26T00:00:00-04:00",
          "2024-04-29T00:00:00-04:00",
          "2024-04-30T00:00:00-04:00",
          "2024-05-01T00:00:00-04:00",
          "2024-05-02T00:00:00-04:00",
          "2024-05-03T00:00:00-04:00",
          "2024-05-06T00:00:00-04:00",
          "2024-05-07T00:00:00-04:00",
          "2024-05-08T00:00:00-04:00",
          "2024-05-09T00:00:00-04:00",
          "2024-05-10T00:00:00-04:00",
          "2024-05-13T00:00:00-04:00",
          "2024-05-14T00:00:00-04:00",
          "2024-05-15T00:00:00-04:00",
          "2024-05-16T00:00:00-04:00",
          "2024-05-17T00:00:00-04:00",
          "2024-05-20T00:00:00-04:00",
          "2024-05-21T00:00:00-04:00",
          "2024-05-22T00:00:00-04:00",
          "2024-05-23T00:00:00-04:00",
          "2024-05-24T00:00:00-04:00",
          "2024-05-28T00:00:00-04:00",
          "2024-05-29T00:00:00-04:00",
          "2024-05-30T00:00:00-04:00",
          "2024-05-31T00:00:00-04:00",
          "2024-06-03T00:00:00-04:00",
          "2024-06-04T00:00:00-04:00",
          "2024-06-05T00:00:00-04:00",
          "2024-06-06T00:00:00-04:00",
          "2024-06-07T00:00:00-04:00",
          "2024-06-10T00:00:00-04:00",
          "2024-06-11T00:00:00-04:00",
          "2024-06-12T00:00:00-04:00",
          "2024-06-13T00:00:00-04:00",
          "2024-06-14T00:00:00-04:00",
          "2024-06-17T00:00:00-04:00",
          "2024-06-18T00:00:00-04:00",
          "2024-06-20T00:00:00-04:00",
          "2024-06-21T00:00:00-04:00",
          "2024-06-24T00:00:00-04:00",
          "2024-06-25T00:00:00-04:00",
          "2024-06-26T00:00:00-04:00",
          "2024-06-27T00:00:00-04:00",
          "2024-06-28T00:00:00-04:00",
          "2024-07-01T00:00:00-04:00",
          "2024-07-02T00:00:00-04:00",
          "2024-07-03T00:00:00-04:00",
          "2024-07-05T00:00:00-04:00",
          "2024-07-08T00:00:00-04:00",
          "2024-07-09T00:00:00-04:00",
          "2024-07-10T00:00:00-04:00",
          "2024-07-11T00:00:00-04:00",
          "2024-07-12T00:00:00-04:00",
          "2024-07-15T00:00:00-04:00",
          "2024-07-16T00:00:00-04:00",
          "2024-07-17T00:00:00-04:00",
          "2024-07-18T00:00:00-04:00",
          "2024-07-19T00:00:00-04:00",
          "2024-07-22T00:00:00-04:00",
          "2024-07-23T00:00:00-04:00",
          "2024-07-24T00:00:00-04:00",
          "2024-07-25T00:00:00-04:00",
          "2024-07-26T00:00:00-04:00",
          "2024-07-29T00:00:00-04:00",
          "2024-07-30T00:00:00-04:00",
          "2024-07-31T00:00:00-04:00",
          "2024-08-01T00:00:00-04:00",
          "2024-08-02T00:00:00-04:00",
          "2024-08-05T00:00:00-04:00",
          "2024-08-06T00:00:00-04:00",
          "2024-08-07T00:00:00-04:00",
          "2024-08-08T00:00:00-04:00",
          "2024-08-09T00:00:00-04:00",
          "2024-08-12T00:00:00-04:00",
          "2024-08-13T00:00:00-04:00",
          "2024-08-14T00:00:00-04:00",
          "2024-08-15T00:00:00-04:00",
          "2024-08-16T00:00:00-04:00",
          "2024-08-19T00:00:00-04:00",
          "2024-08-20T00:00:00-04:00",
          "2024-08-21T00:00:00-04:00",
          "2024-08-22T00:00:00-04:00",
          "2024-08-23T00:00:00-04:00",
          "2024-08-26T00:00:00-04:00",
          "2024-08-27T00:00:00-04:00",
          "2024-08-28T00:00:00-04:00",
          "2024-08-29T00:00:00-04:00",
          "2024-08-30T00:00:00-04:00",
          "2024-09-03T00:00:00-04:00",
          "2024-09-04T00:00:00-04:00",
          "2024-09-05T00:00:00-04:00",
          "2024-09-06T00:00:00-04:00",
          "2024-09-09T00:00:00-04:00",
          "2024-09-10T00:00:00-04:00",
          "2024-09-11T00:00:00-04:00",
          "2024-09-12T00:00:00-04:00",
          "2024-09-13T00:00:00-04:00",
          "2024-09-16T00:00:00-04:00",
          "2024-09-17T00:00:00-04:00",
          "2024-09-18T00:00:00-04:00",
          "2024-09-19T00:00:00-04:00",
          "2024-09-20T00:00:00-04:00",
          "2024-09-23T00:00:00-04:00",
          "2024-09-24T00:00:00-04:00",
          "2024-09-25T00:00:00-04:00",
          "2024-09-26T00:00:00-04:00",
          "2024-09-27T00:00:00-04:00",
          "2024-09-30T00:00:00-04:00",
          "2024-10-01T00:00:00-04:00",
          "2024-10-02T00:00:00-04:00",
          "2024-10-03T00:00:00-04:00",
          "2024-10-04T00:00:00-04:00",
          "2024-10-07T00:00:00-04:00",
          "2024-10-08T00:00:00-04:00",
          "2024-10-09T00:00:00-04:00",
          "2024-10-10T00:00:00-04:00",
          "2024-10-11T00:00:00-04:00",
          "2024-10-14T00:00:00-04:00",
          "2024-10-15T00:00:00-04:00",
          "2024-10-16T00:00:00-04:00",
          "2024-10-17T00:00:00-04:00",
          "2024-10-18T00:00:00-04:00",
          "2024-10-21T00:00:00-04:00",
          "2024-10-22T00:00:00-04:00",
          "2024-10-23T00:00:00-04:00",
          "2024-10-24T00:00:00-04:00",
          "2024-10-25T00:00:00-04:00",
          "2024-10-28T00:00:00-04:00",
          "2024-10-29T00:00:00-04:00",
          "2024-10-30T00:00:00-04:00",
          "2024-10-31T00:00:00-04:00",
          "2024-11-01T00:00:00-04:00",
          "2024-11-04T00:00:00-05:00",
          "2024-11-05T00:00:00-05:00",
          "2024-11-06T00:00:00-05:00",
          "2024-11-07T00:00:00-05:00",
          "2024-11-08T00:00:00-05:00",
          "2024-11-11T00:00:00-05:00",
          "2024-11-12T00:00:00-05:00",
          "2024-11-13T00:00:00-05:00",
          "2024-11-14T00:00:00-05:00",
          "2024-11-15T00:00:00-05:00",
          "2024-11-18T00:00:00-05:00",
          "2024-11-19T00:00:00-05:00",
          "2024-11-20T00:00:00-05:00",
          "2024-11-21T00:00:00-05:00",
          "2024-11-22T00:00:00-05:00",
          "2024-11-25T00:00:00-05:00",
          "2024-11-26T00:00:00-05:00",
          "2024-11-27T00:00:00-05:00",
          "2024-11-29T00:00:00-05:00"
         ],
         "y": [
          244.13999938964844,
          240.0800018310547,
          238.8300018310547,
          235.5800018310547,
          238.72000122070312,
          239.3699951171875,
          242.63999938964844,
          243.83999633789062,
          239.74000549316406,
          237.00999450683594,
          239.2899932861328,
          251.0500030517578,
          253.5,
          252.0800018310547,
          257.2200012207031,
          247.13999938964844,
          254.5,
          252.5399932861328,
          256.6099853515625,
          261.44000244140625,
          253.17999267578125,
          248.47999572753906,
          248.4199981689453,
          238.4499969482422,
          237.92999267578125,
          237.49000549316406,
          240.4499969482422,
          234.9600067138672,
          233.94000244140625,
          227.22000122070312,
          218.88999938964844,
          219.91000366210938,
          215.5500030517578,
          211.8800048828125,
          212.19000244140625,
          208.8000030517578,
          209.13999938964844,
          207.8300018310547,
          182.6300048828125,
          183.25,
          190.92999267578125,
          191.58999633789062,
          187.2899932861328,
          188.86000061035156,
          187.91000366210938,
          181.05999755859375,
          185.10000610351562,
          187.5800018310547,
          189.55999755859375,
          193.57000732421875,
          188.1300048828125,
          184.02000427246094,
          188.7100067138672,
          200.4499969482422,
          199.9499969482422,
          193.75999450683594,
          194.77000427246094,
          197.41000366210938,
          191.97000122070312,
          199.39999389648438,
          199.72999572753906,
          202.0399932861328,
          201.8800048828125,
          202.63999938964844,
          188.13999938964844,
          180.74000549316406,
          176.5399932861328,
          178.64999389648438,
          175.33999633789062,
          177.77000427246094,
          177.5399932861328,
          169.47999572753906,
          162.5,
          163.57000732421875,
          173.8000030517578,
          171.32000732421875,
          175.66000366210938,
          172.82000732421875,
          170.8300018310547,
          172.6300048828125,
          177.6699981689453,
          179.8300018310547,
          175.7899932861328,
          175.22000122070312,
          166.6300048828125,
          168.3800048828125,
          171.11000061035156,
          164.89999389648438,
          172.97999572753906,
          176.8800048828125,
          171.75999450683594,
          174.60000610351562,
          171.0500030517578,
          161.47999572753906,
          157.11000061035156,
          155.4499969482422,
          149.92999267578125,
          147.0500030517578,
          142.0500030517578,
          144.67999267578125,
          162.1300048828125,
          170.17999267578125,
          168.2899932861328,
          194.0500030517578,
          183.27999877929688,
          179.99000549316406,
          180.00999450683594,
          181.19000244140625,
          184.75999450683594,
          177.80999755859375,
          174.72000122070312,
          171.97000122070312,
          168.47000122070312,
          171.88999938964844,
          177.5500030517578,
          173.99000549316406,
          174.83999633789062,
          177.4600067138672,
          174.9499969482422,
          186.60000610351562,
          180.11000061035156,
          173.74000549316406,
          179.24000549316406,
          176.75,
          176.19000244140625,
          178.7899932861328,
          178.0800018310547,
          176.2899932861328,
          174.77000427246094,
          175,
          177.94000244140625,
          177.47999572753906,
          173.7899932861328,
          170.66000366210938,
          177.2899932861328,
          182.47000122070312,
          178.00999450683594,
          187.44000244140625,
          184.86000061035156,
          181.57000732421875,
          183.00999450683594,
          182.5800018310547,
          187.35000610351562,
          196.3699951171875,
          197.4199981689453,
          197.8800048828125,
          209.86000061035156,
          231.25999450683594,
          246.38999938964844,
          251.52000427246094,
          252.94000244140625,
          262.3299865722656,
          263.260009765625,
          241.02999877929688,
          248.22999572753906,
          252.63999938964844,
          256.55999755859375,
          248.5,
          249.22999572753906,
          239.1999969482422,
          251.50999450683594,
          246.3800048828125,
          215.99000549316406,
          220.25,
          219.8000030517578,
          232.10000610351562,
          222.6199951171875,
          232.07000732421875,
          216.86000061035156,
          207.6699981689453,
          198.8800048828125,
          200.63999938964844,
          191.75999450683594,
          198.83999633789062,
          200,
          197.49000549316406,
          207.8300018310547,
          201.3800048828125,
          214.13999938964844,
          216.1199951171875,
          222.72000122070312,
          221.10000610351562,
          223.27000427246094,
          210.66000366210938,
          220.32000732421875,
          213.2100067138672,
          209.2100067138672,
          205.75,
          206.27999877929688,
          214.11000061035156,
          210.60000610351562,
          219.41000366210938,
          230.1699981689453,
          210.72999572753906,
          216.27000427246094,
          226.1699981689453,
          228.1300048828125,
          229.80999755859375,
          230.2899932861328,
          226.77999877929688,
          227.8699951171875,
          227.1999969482422,
          243.9199981689453,
          238.25,
          250,
          254.27000427246094,
          257.0199890136719,
          254.22000122070312,
          260.4599914550781,
          261.6300048828125,
          258.0199890136719,
          249.02000427246094,
          240.66000366210938,
          250.0800018310547,
          240.8300018310547,
          244.5,
          241.0500030517578,
          238.77000427246094,
          217.8000030517578,
          219.16000366210938,
          219.57000732421875,
          221.3300018310547,
          220.88999938964844,
          220.6999969482422,
          218.85000610351562,
          217.97000122070312,
          213.64999389648438,
          260.4800109863281,
          269.19000244140625,
          262.510009765625,
          259.5199890136719,
          257.54998779296875,
          249.85000610351562,
          248.97999572753906,
          242.83999633789062,
          251.44000244140625,
          288.5299987792969,
          296.9100036621094,
          321.2200012207031,
          350,
          328.489990234375,
          330.239990234375,
          311.17999267578125,
          320.7200012207031,
          338.739990234375,
          346,
          342.0299987792969,
          339.6400146484375,
          352.55999755859375,
          338.5899963378906,
          338.2300109863281,
          332.8900146484375,
          338.75
         ]
        },
        {
         "mode": "lines",
         "name": "GOOGL",
         "type": "scatter",
         "x": [
          "2023-11-29T00:00:00-05:00",
          "2023-11-30T00:00:00-05:00",
          "2023-12-01T00:00:00-05:00",
          "2023-12-04T00:00:00-05:00",
          "2023-12-05T00:00:00-05:00",
          "2023-12-06T00:00:00-05:00",
          "2023-12-07T00:00:00-05:00",
          "2023-12-08T00:00:00-05:00",
          "2023-12-11T00:00:00-05:00",
          "2023-12-12T00:00:00-05:00",
          "2023-12-13T00:00:00-05:00",
          "2023-12-14T00:00:00-05:00",
          "2023-12-15T00:00:00-05:00",
          "2023-12-18T00:00:00-05:00",
          "2023-12-19T00:00:00-05:00",
          "2023-12-20T00:00:00-05:00",
          "2023-12-21T00:00:00-05:00",
          "2023-12-22T00:00:00-05:00",
          "2023-12-26T00:00:00-05:00",
          "2023-12-27T00:00:00-05:00",
          "2023-12-28T00:00:00-05:00",
          "2023-12-29T00:00:00-05:00",
          "2024-01-02T00:00:00-05:00",
          "2024-01-03T00:00:00-05:00",
          "2024-01-04T00:00:00-05:00",
          "2024-01-05T00:00:00-05:00",
          "2024-01-08T00:00:00-05:00",
          "2024-01-09T00:00:00-05:00",
          "2024-01-10T00:00:00-05:00",
          "2024-01-11T00:00:00-05:00",
          "2024-01-12T00:00:00-05:00",
          "2024-01-16T00:00:00-05:00",
          "2024-01-17T00:00:00-05:00",
          "2024-01-18T00:00:00-05:00",
          "2024-01-19T00:00:00-05:00",
          "2024-01-22T00:00:00-05:00",
          "2024-01-23T00:00:00-05:00",
          "2024-01-24T00:00:00-05:00",
          "2024-01-25T00:00:00-05:00",
          "2024-01-26T00:00:00-05:00",
          "2024-01-29T00:00:00-05:00",
          "2024-01-30T00:00:00-05:00",
          "2024-01-31T00:00:00-05:00",
          "2024-02-01T00:00:00-05:00",
          "2024-02-02T00:00:00-05:00",
          "2024-02-05T00:00:00-05:00",
          "2024-02-06T00:00:00-05:00",
          "2024-02-07T00:00:00-05:00",
          "2024-02-08T00:00:00-05:00",
          "2024-02-09T00:00:00-05:00",
          "2024-02-12T00:00:00-05:00",
          "2024-02-13T00:00:00-05:00",
          "2024-02-14T00:00:00-05:00",
          "2024-02-15T00:00:00-05:00",
          "2024-02-16T00:00:00-05:00",
          "2024-02-20T00:00:00-05:00",
          "2024-02-21T00:00:00-05:00",
          "2024-02-22T00:00:00-05:00",
          "2024-02-23T00:00:00-05:00",
          "2024-02-26T00:00:00-05:00",
          "2024-02-27T00:00:00-05:00",
          "2024-02-28T00:00:00-05:00",
          "2024-02-29T00:00:00-05:00",
          "2024-03-01T00:00:00-05:00",
          "2024-03-04T00:00:00-05:00",
          "2024-03-05T00:00:00-05:00",
          "2024-03-06T00:00:00-05:00",
          "2024-03-07T00:00:00-05:00",
          "2024-03-08T00:00:00-05:00",
          "2024-03-11T00:00:00-04:00",
          "2024-03-12T00:00:00-04:00",
          "2024-03-13T00:00:00-04:00",
          "2024-03-14T00:00:00-04:00",
          "2024-03-15T00:00:00-04:00",
          "2024-03-18T00:00:00-04:00",
          "2024-03-19T00:00:00-04:00",
          "2024-03-20T00:00:00-04:00",
          "2024-03-21T00:00:00-04:00",
          "2024-03-22T00:00:00-04:00",
          "2024-03-25T00:00:00-04:00",
          "2024-03-26T00:00:00-04:00",
          "2024-03-27T00:00:00-04:00",
          "2024-03-28T00:00:00-04:00",
          "2024-04-01T00:00:00-04:00",
          "2024-04-02T00:00:00-04:00",
          "2024-04-03T00:00:00-04:00",
          "2024-04-04T00:00:00-04:00",
          "2024-04-05T00:00:00-04:00",
          "2024-04-08T00:00:00-04:00",
          "2024-04-09T00:00:00-04:00",
          "2024-04-10T00:00:00-04:00",
          "2024-04-11T00:00:00-04:00",
          "2024-04-12T00:00:00-04:00",
          "2024-04-15T00:00:00-04:00",
          "2024-04-16T00:00:00-04:00",
          "2024-04-17T00:00:00-04:00",
          "2024-04-18T00:00:00-04:00",
          "2024-04-19T00:00:00-04:00",
          "2024-04-22T00:00:00-04:00",
          "2024-04-23T00:00:00-04:00",
          "2024-04-24T00:00:00-04:00",
          "2024-04-25T00:00:00-04:00",
          "2024-04-26T00:00:00-04:00",
          "2024-04-29T00:00:00-04:00",
          "2024-04-30T00:00:00-04:00",
          "2024-05-01T00:00:00-04:00",
          "2024-05-02T00:00:00-04:00",
          "2024-05-03T00:00:00-04:00",
          "2024-05-06T00:00:00-04:00",
          "2024-05-07T00:00:00-04:00",
          "2024-05-08T00:00:00-04:00",
          "2024-05-09T00:00:00-04:00",
          "2024-05-10T00:00:00-04:00",
          "2024-05-13T00:00:00-04:00",
          "2024-05-14T00:00:00-04:00",
          "2024-05-15T00:00:00-04:00",
          "2024-05-16T00:00:00-04:00",
          "2024-05-17T00:00:00-04:00",
          "2024-05-20T00:00:00-04:00",
          "2024-05-21T00:00:00-04:00",
          "2024-05-22T00:00:00-04:00",
          "2024-05-23T00:00:00-04:00",
          "2024-05-24T00:00:00-04:00",
          "2024-05-28T00:00:00-04:00",
          "2024-05-29T00:00:00-04:00",
          "2024-05-30T00:00:00-04:00",
          "2024-05-31T00:00:00-04:00",
          "2024-06-03T00:00:00-04:00",
          "2024-06-04T00:00:00-04:00",
          "2024-06-05T00:00:00-04:00",
          "2024-06-06T00:00:00-04:00",
          "2024-06-07T00:00:00-04:00",
          "2024-06-10T00:00:00-04:00",
          "2024-06-11T00:00:00-04:00",
          "2024-06-12T00:00:00-04:00",
          "2024-06-13T00:00:00-04:00",
          "2024-06-14T00:00:00-04:00",
          "2024-06-17T00:00:00-04:00",
          "2024-06-18T00:00:00-04:00",
          "2024-06-20T00:00:00-04:00",
          "2024-06-21T00:00:00-04:00",
          "2024-06-24T00:00:00-04:00",
          "2024-06-25T00:00:00-04:00",
          "2024-06-26T00:00:00-04:00",
          "2024-06-27T00:00:00-04:00",
          "2024-06-28T00:00:00-04:00",
          "2024-07-01T00:00:00-04:00",
          "2024-07-02T00:00:00-04:00",
          "2024-07-03T00:00:00-04:00",
          "2024-07-05T00:00:00-04:00",
          "2024-07-08T00:00:00-04:00",
          "2024-07-09T00:00:00-04:00",
          "2024-07-10T00:00:00-04:00",
          "2024-07-11T00:00:00-04:00",
          "2024-07-12T00:00:00-04:00",
          "2024-07-15T00:00:00-04:00",
          "2024-07-16T00:00:00-04:00",
          "2024-07-17T00:00:00-04:00",
          "2024-07-18T00:00:00-04:00",
          "2024-07-19T00:00:00-04:00",
          "2024-07-22T00:00:00-04:00",
          "2024-07-23T00:00:00-04:00",
          "2024-07-24T00:00:00-04:00",
          "2024-07-25T00:00:00-04:00",
          "2024-07-26T00:00:00-04:00",
          "2024-07-29T00:00:00-04:00",
          "2024-07-30T00:00:00-04:00",
          "2024-07-31T00:00:00-04:00",
          "2024-08-01T00:00:00-04:00",
          "2024-08-02T00:00:00-04:00",
          "2024-08-05T00:00:00-04:00",
          "2024-08-06T00:00:00-04:00",
          "2024-08-07T00:00:00-04:00",
          "2024-08-08T00:00:00-04:00",
          "2024-08-09T00:00:00-04:00",
          "2024-08-12T00:00:00-04:00",
          "2024-08-13T00:00:00-04:00",
          "2024-08-14T00:00:00-04:00",
          "2024-08-15T00:00:00-04:00",
          "2024-08-16T00:00:00-04:00",
          "2024-08-19T00:00:00-04:00",
          "2024-08-20T00:00:00-04:00",
          "2024-08-21T00:00:00-04:00",
          "2024-08-22T00:00:00-04:00",
          "2024-08-23T00:00:00-04:00",
          "2024-08-26T00:00:00-04:00",
          "2024-08-27T00:00:00-04:00",
          "2024-08-28T00:00:00-04:00",
          "2024-08-29T00:00:00-04:00",
          "2024-08-30T00:00:00-04:00",
          "2024-09-03T00:00:00-04:00",
          "2024-09-04T00:00:00-04:00",
          "2024-09-05T00:00:00-04:00",
          "2024-09-06T00:00:00-04:00",
          "2024-09-09T00:00:00-04:00",
          "2024-09-10T00:00:00-04:00",
          "2024-09-11T00:00:00-04:00",
          "2024-09-12T00:00:00-04:00",
          "2024-09-13T00:00:00-04:00",
          "2024-09-16T00:00:00-04:00",
          "2024-09-17T00:00:00-04:00",
          "2024-09-18T00:00:00-04:00",
          "2024-09-19T00:00:00-04:00",
          "2024-09-20T00:00:00-04:00",
          "2024-09-23T00:00:00-04:00",
          "2024-09-24T00:00:00-04:00",
          "2024-09-25T00:00:00-04:00",
          "2024-09-26T00:00:00-04:00",
          "2024-09-27T00:00:00-04:00",
          "2024-09-30T00:00:00-04:00",
          "2024-10-01T00:00:00-04:00",
          "2024-10-02T00:00:00-04:00",
          "2024-10-03T00:00:00-04:00",
          "2024-10-04T00:00:00-04:00",
          "2024-10-07T00:00:00-04:00",
          "2024-10-08T00:00:00-04:00",
          "2024-10-09T00:00:00-04:00",
          "2024-10-10T00:00:00-04:00",
          "2024-10-11T00:00:00-04:00",
          "2024-10-14T00:00:00-04:00",
          "2024-10-15T00:00:00-04:00",
          "2024-10-16T00:00:00-04:00",
          "2024-10-17T00:00:00-04:00",
          "2024-10-18T00:00:00-04:00",
          "2024-10-21T00:00:00-04:00",
          "2024-10-22T00:00:00-04:00",
          "2024-10-23T00:00:00-04:00",
          "2024-10-24T00:00:00-04:00",
          "2024-10-25T00:00:00-04:00",
          "2024-10-28T00:00:00-04:00",
          "2024-10-29T00:00:00-04:00",
          "2024-10-30T00:00:00-04:00",
          "2024-10-31T00:00:00-04:00",
          "2024-11-01T00:00:00-04:00",
          "2024-11-04T00:00:00-05:00",
          "2024-11-05T00:00:00-05:00",
          "2024-11-06T00:00:00-05:00",
          "2024-11-07T00:00:00-05:00",
          "2024-11-08T00:00:00-05:00",
          "2024-11-11T00:00:00-05:00",
          "2024-11-12T00:00:00-05:00",
          "2024-11-13T00:00:00-05:00",
          "2024-11-14T00:00:00-05:00",
          "2024-11-15T00:00:00-05:00",
          "2024-11-18T00:00:00-05:00",
          "2024-11-19T00:00:00-05:00",
          "2024-11-20T00:00:00-05:00",
          "2024-11-21T00:00:00-05:00",
          "2024-11-22T00:00:00-05:00",
          "2024-11-25T00:00:00-05:00",
          "2024-11-26T00:00:00-05:00",
          "2024-11-27T00:00:00-05:00",
          "2024-11-29T00:00:00-05:00"
         ],
         "y": [
          134.6565704345703,
          132.20263671875,
          131.5343017578125,
          128.95069885253906,
          130.6664581298828,
          129.6988525390625,
          136.59178161621094,
          134.6565704345703,
          132.96075439453125,
          132.1926727294922,
          132.2425537109375,
          131.6140899658203,
          132.27247619628906,
          135.46456909179688,
          136.31246948242188,
          137.998291015625,
          140.07315063476562,
          141.14051818847656,
          141.17044067382812,
          140.0232696533203,
          139.8836212158203,
          139.34495544433594,
          137.82870483398438,
          138.5768585205078,
          136.0531005859375,
          135.39474487304688,
          138.49705505371094,
          140.6018524169922,
          141.92855834960938,
          141.72906494140625,
          142.29763793945312,
          142.13804626464844,
          141.12057495117188,
          143.12559509277344,
          146.01844787597656,
          145.62940979003906,
          146.6768035888672,
          148.33270263671875,
          151.494873046875,
          151.8140869140625,
          153.1308135986328,
          151.0858917236328,
          139.7539520263672,
          140.81134033203125,
          142.0283203125,
          143.32508850097656,
          143.74407958984375,
          145.18051147460938,
          145.5496063232422,
          148.63197326660156,
          147.16558837890625,
          144.781494140625,
          145.57952880859375,
          142.4173583984375,
          140.17291259765625,
          140.77142333984375,
          142.19789123535156,
          143.7340850830078,
          143.6044158935547,
          137.23020935058594,
          138.53695678710938,
          136.0431365966797,
          138.11801147460938,
          136.80125427246094,
          133.0206298828125,
          132.34230041503906,
          131.07542419433594,
          134.04808044433594,
          135.07553100585938,
          137.32994079589844,
          138.15789794921875,
          139.4447021484375,
          142.7465362548828,
          140.83126831054688,
          147.31521606445312,
          146.6668243408203,
          148.3726043701172,
          147.2354278564453,
          150.39759826660156,
          149.69932556152344,
          150.29783630371094,
          150.49732971191406,
          150.55718994140625,
          155.10594177246094,
          154.17822265625,
          154.53733825683594,
          150.15818786621094,
          152.12332153320312,
          154.46751403808594,
          156.21319580078125,
          155.7543182373047,
          159.01625061035156,
          157.34039306640625,
          154.4774932861328,
          154.01861572265625,
          155.0859832763672,
          155.6246337890625,
          153.70938110351562,
          155.89398193359375,
          157.86907958984375,
          158.73695373535156,
          155.6146697998047,
          171.52528381347656,
          165.73959350585938,
          162.3779296875,
          163.4552459716797,
          166.20843505859375,
          166.826904296875,
          167.68479919433594,
          170.82699584960938,
          168.96163940429688,
          169.54019165039062,
          168.23342895507812,
          168.7222137451172,
          169.91925048828125,
          172.08389282226562,
          173.749755859375,
          175.6251220703125,
          176.48300170898438,
          177.41070556640625,
          175.9443359375,
          173.12132263183594,
          174.55776977539062,
          175.9642791748047,
          175.46551513671875,
          171.6848907470703,
          172.07391357421875,
          172.7422637939453,
          173.3607177734375,
          174.97674560546875,
          176.29345703125,
          174.02908325195312,
          174.778076171875,
          176.3859405517578,
          177.55438232421875,
          174.92788696289062,
          176.5557098388672,
          177.005126953125,
          174.85797119140625,
          176.06637573242188,
          179.3919677734375,
          178.9824981689453,
          183.78611755371094,
          183.63632202148438,
          185.164306640625,
          181.9086151123047,
          182.7475128173828,
          184.99452209472656,
          185.57376098632812,
          190.34742736816406,
          188.7794952392578,
          188.7295684814453,
          190.9266357421875,
          185.3240966796875,
          184.8247528076172,
          186.28280639648438,
          183.67626953125,
          180.78012084960938,
          177.45452880859375,
          177.42457580566406,
          181.4292449951172,
          181.54908752441406,
          172.40122985839844,
          167.05831909179688,
          166.7786865234375,
          169.3053436279297,
          170.0643310546875,
          171.3126678466797,
          170.53370666503906,
          166.43914794921875,
          159.03897094726562,
          158.08023071289062,
          158.7293701171875,
          161.81527709960938,
          163.45310974121094,
          162.07492065429688,
          163.9424591064453,
          160.157470703125,
          161.08624267578125,
          162.74404907226562,
          166.44912719726562,
          166.9584503173828,
          165.63021850585938,
          163.5829315185547,
          165.4005126953125,
          165.93980407714844,
          164.46176147460938,
          162.6342010498047,
          161.56561279296875,
          163.1634979248047,
          157.15147399902344,
          156.24267578125,
          157.03163146972656,
          150.72000122070312,
          148.7100067138672,
          148.66000366210938,
          151.16000366210938,
          154.69000244140625,
          157.4600067138672,
          158.05999755859375,
          159.32000732421875,
          159.80999755859375,
          162.13999938964844,
          163.58999633789062,
          161.85000610351562,
          162.2899932861328,
          161.49000549316406,
          162.72999572753906,
          163.9499969482422,
          165.85000610351562,
          166.99000549316406,
          165.86000061035156,
          165.86000061035156,
          167.05999755859375,
          162.97999572753906,
          164.3800048828125,
          161.86000061035156,
          162.0800018310547,
          163.24000549316406,
          164.9600067138672,
          165.4600067138672,
          165.16000366210938,
          162.92999267578125,
          163.4199981689453,
          164.07000732421875,
          165.13999938964844,
          162.77999877929688,
          162.72000122070312,
          165.27000427246094,
          166.72000122070312,
          169.67999267578125,
          174.4600067138672,
          171.11000061035156,
          171.2899932861328,
          169.24000549316406,
          169.74000549316406,
          176.50999450683594,
          180.75,
          178.35000610351562,
          180.35000610351562,
          181.6199951171875,
          178.8800048828125,
          175.5800018310547,
          172.49000549316406,
          175.3000030517578,
          178.1199951171875,
          175.97999572753906,
          167.6300048828125,
          164.75999450683594,
          167.64999389648438,
          169.1199951171875,
          169.22999572753906,
          168.8925018310547
         ]
        },
        {
         "mode": "lines",
         "name": "AMZN",
         "type": "scatter",
         "x": [
          "2023-11-29T00:00:00-05:00",
          "2023-11-30T00:00:00-05:00",
          "2023-12-01T00:00:00-05:00",
          "2023-12-04T00:00:00-05:00",
          "2023-12-05T00:00:00-05:00",
          "2023-12-06T00:00:00-05:00",
          "2023-12-07T00:00:00-05:00",
          "2023-12-08T00:00:00-05:00",
          "2023-12-11T00:00:00-05:00",
          "2023-12-12T00:00:00-05:00",
          "2023-12-13T00:00:00-05:00",
          "2023-12-14T00:00:00-05:00",
          "2023-12-15T00:00:00-05:00",
          "2023-12-18T00:00:00-05:00",
          "2023-12-19T00:00:00-05:00",
          "2023-12-20T00:00:00-05:00",
          "2023-12-21T00:00:00-05:00",
          "2023-12-22T00:00:00-05:00",
          "2023-12-26T00:00:00-05:00",
          "2023-12-27T00:00:00-05:00",
          "2023-12-28T00:00:00-05:00",
          "2023-12-29T00:00:00-05:00",
          "2024-01-02T00:00:00-05:00",
          "2024-01-03T00:00:00-05:00",
          "2024-01-04T00:00:00-05:00",
          "2024-01-05T00:00:00-05:00",
          "2024-01-08T00:00:00-05:00",
          "2024-01-09T00:00:00-05:00",
          "2024-01-10T00:00:00-05:00",
          "2024-01-11T00:00:00-05:00",
          "2024-01-12T00:00:00-05:00",
          "2024-01-16T00:00:00-05:00",
          "2024-01-17T00:00:00-05:00",
          "2024-01-18T00:00:00-05:00",
          "2024-01-19T00:00:00-05:00",
          "2024-01-22T00:00:00-05:00",
          "2024-01-23T00:00:00-05:00",
          "2024-01-24T00:00:00-05:00",
          "2024-01-25T00:00:00-05:00",
          "2024-01-26T00:00:00-05:00",
          "2024-01-29T00:00:00-05:00",
          "2024-01-30T00:00:00-05:00",
          "2024-01-31T00:00:00-05:00",
          "2024-02-01T00:00:00-05:00",
          "2024-02-02T00:00:00-05:00",
          "2024-02-05T00:00:00-05:00",
          "2024-02-06T00:00:00-05:00",
          "2024-02-07T00:00:00-05:00",
          "2024-02-08T00:00:00-05:00",
          "2024-02-09T00:00:00-05:00",
          "2024-02-12T00:00:00-05:00",
          "2024-02-13T00:00:00-05:00",
          "2024-02-14T00:00:00-05:00",
          "2024-02-15T00:00:00-05:00",
          "2024-02-16T00:00:00-05:00",
          "2024-02-20T00:00:00-05:00",
          "2024-02-21T00:00:00-05:00",
          "2024-02-22T00:00:00-05:00",
          "2024-02-23T00:00:00-05:00",
          "2024-02-26T00:00:00-05:00",
          "2024-02-27T00:00:00-05:00",
          "2024-02-28T00:00:00-05:00",
          "2024-02-29T00:00:00-05:00",
          "2024-03-01T00:00:00-05:00",
          "2024-03-04T00:00:00-05:00",
          "2024-03-05T00:00:00-05:00",
          "2024-03-06T00:00:00-05:00",
          "2024-03-07T00:00:00-05:00",
          "2024-03-08T00:00:00-05:00",
          "2024-03-11T00:00:00-04:00",
          "2024-03-12T00:00:00-04:00",
          "2024-03-13T00:00:00-04:00",
          "2024-03-14T00:00:00-04:00",
          "2024-03-15T00:00:00-04:00",
          "2024-03-18T00:00:00-04:00",
          "2024-03-19T00:00:00-04:00",
          "2024-03-20T00:00:00-04:00",
          "2024-03-21T00:00:00-04:00",
          "2024-03-22T00:00:00-04:00",
          "2024-03-25T00:00:00-04:00",
          "2024-03-26T00:00:00-04:00",
          "2024-03-27T00:00:00-04:00",
          "2024-03-28T00:00:00-04:00",
          "2024-04-01T00:00:00-04:00",
          "2024-04-02T00:00:00-04:00",
          "2024-04-03T00:00:00-04:00",
          "2024-04-04T00:00:00-04:00",
          "2024-04-05T00:00:00-04:00",
          "2024-04-08T00:00:00-04:00",
          "2024-04-09T00:00:00-04:00",
          "2024-04-10T00:00:00-04:00",
          "2024-04-11T00:00:00-04:00",
          "2024-04-12T00:00:00-04:00",
          "2024-04-15T00:00:00-04:00",
          "2024-04-16T00:00:00-04:00",
          "2024-04-17T00:00:00-04:00",
          "2024-04-18T00:00:00-04:00",
          "2024-04-19T00:00:00-04:00",
          "2024-04-22T00:00:00-04:00",
          "2024-04-23T00:00:00-04:00",
          "2024-04-24T00:00:00-04:00",
          "2024-04-25T00:00:00-04:00",
          "2024-04-26T00:00:00-04:00",
          "2024-04-29T00:00:00-04:00",
          "2024-04-30T00:00:00-04:00",
          "2024-05-01T00:00:00-04:00",
          "2024-05-02T00:00:00-04:00",
          "2024-05-03T00:00:00-04:00",
          "2024-05-06T00:00:00-04:00",
          "2024-05-07T00:00:00-04:00",
          "2024-05-08T00:00:00-04:00",
          "2024-05-09T00:00:00-04:00",
          "2024-05-10T00:00:00-04:00",
          "2024-05-13T00:00:00-04:00",
          "2024-05-14T00:00:00-04:00",
          "2024-05-15T00:00:00-04:00",
          "2024-05-16T00:00:00-04:00",
          "2024-05-17T00:00:00-04:00",
          "2024-05-20T00:00:00-04:00",
          "2024-05-21T00:00:00-04:00",
          "2024-05-22T00:00:00-04:00",
          "2024-05-23T00:00:00-04:00",
          "2024-05-24T00:00:00-04:00",
          "2024-05-28T00:00:00-04:00",
          "2024-05-29T00:00:00-04:00",
          "2024-05-30T00:00:00-04:00",
          "2024-05-31T00:00:00-04:00",
          "2024-06-03T00:00:00-04:00",
          "2024-06-04T00:00:00-04:00",
          "2024-06-05T00:00:00-04:00",
          "2024-06-06T00:00:00-04:00",
          "2024-06-07T00:00:00-04:00",
          "2024-06-10T00:00:00-04:00",
          "2024-06-11T00:00:00-04:00",
          "2024-06-12T00:00:00-04:00",
          "2024-06-13T00:00:00-04:00",
          "2024-06-14T00:00:00-04:00",
          "2024-06-17T00:00:00-04:00",
          "2024-06-18T00:00:00-04:00",
          "2024-06-20T00:00:00-04:00",
          "2024-06-21T00:00:00-04:00",
          "2024-06-24T00:00:00-04:00",
          "2024-06-25T00:00:00-04:00",
          "2024-06-26T00:00:00-04:00",
          "2024-06-27T00:00:00-04:00",
          "2024-06-28T00:00:00-04:00",
          "2024-07-01T00:00:00-04:00",
          "2024-07-02T00:00:00-04:00",
          "2024-07-03T00:00:00-04:00",
          "2024-07-05T00:00:00-04:00",
          "2024-07-08T00:00:00-04:00",
          "2024-07-09T00:00:00-04:00",
          "2024-07-10T00:00:00-04:00",
          "2024-07-11T00:00:00-04:00",
          "2024-07-12T00:00:00-04:00",
          "2024-07-15T00:00:00-04:00",
          "2024-07-16T00:00:00-04:00",
          "2024-07-17T00:00:00-04:00",
          "2024-07-18T00:00:00-04:00",
          "2024-07-19T00:00:00-04:00",
          "2024-07-22T00:00:00-04:00",
          "2024-07-23T00:00:00-04:00",
          "2024-07-24T00:00:00-04:00",
          "2024-07-25T00:00:00-04:00",
          "2024-07-26T00:00:00-04:00",
          "2024-07-29T00:00:00-04:00",
          "2024-07-30T00:00:00-04:00",
          "2024-07-31T00:00:00-04:00",
          "2024-08-01T00:00:00-04:00",
          "2024-08-02T00:00:00-04:00",
          "2024-08-05T00:00:00-04:00",
          "2024-08-06T00:00:00-04:00",
          "2024-08-07T00:00:00-04:00",
          "2024-08-08T00:00:00-04:00",
          "2024-08-09T00:00:00-04:00",
          "2024-08-12T00:00:00-04:00",
          "2024-08-13T00:00:00-04:00",
          "2024-08-14T00:00:00-04:00",
          "2024-08-15T00:00:00-04:00",
          "2024-08-16T00:00:00-04:00",
          "2024-08-19T00:00:00-04:00",
          "2024-08-20T00:00:00-04:00",
          "2024-08-21T00:00:00-04:00",
          "2024-08-22T00:00:00-04:00",
          "2024-08-23T00:00:00-04:00",
          "2024-08-26T00:00:00-04:00",
          "2024-08-27T00:00:00-04:00",
          "2024-08-28T00:00:00-04:00",
          "2024-08-29T00:00:00-04:00",
          "2024-08-30T00:00:00-04:00",
          "2024-09-03T00:00:00-04:00",
          "2024-09-04T00:00:00-04:00",
          "2024-09-05T00:00:00-04:00",
          "2024-09-06T00:00:00-04:00",
          "2024-09-09T00:00:00-04:00",
          "2024-09-10T00:00:00-04:00",
          "2024-09-11T00:00:00-04:00",
          "2024-09-12T00:00:00-04:00",
          "2024-09-13T00:00:00-04:00",
          "2024-09-16T00:00:00-04:00",
          "2024-09-17T00:00:00-04:00",
          "2024-09-18T00:00:00-04:00",
          "2024-09-19T00:00:00-04:00",
          "2024-09-20T00:00:00-04:00",
          "2024-09-23T00:00:00-04:00",
          "2024-09-24T00:00:00-04:00",
          "2024-09-25T00:00:00-04:00",
          "2024-09-26T00:00:00-04:00",
          "2024-09-27T00:00:00-04:00",
          "2024-09-30T00:00:00-04:00",
          "2024-10-01T00:00:00-04:00",
          "2024-10-02T00:00:00-04:00",
          "2024-10-03T00:00:00-04:00",
          "2024-10-04T00:00:00-04:00",
          "2024-10-07T00:00:00-04:00",
          "2024-10-08T00:00:00-04:00",
          "2024-10-09T00:00:00-04:00",
          "2024-10-10T00:00:00-04:00",
          "2024-10-11T00:00:00-04:00",
          "2024-10-14T00:00:00-04:00",
          "2024-10-15T00:00:00-04:00",
          "2024-10-16T00:00:00-04:00",
          "2024-10-17T00:00:00-04:00",
          "2024-10-18T00:00:00-04:00",
          "2024-10-21T00:00:00-04:00",
          "2024-10-22T00:00:00-04:00",
          "2024-10-23T00:00:00-04:00",
          "2024-10-24T00:00:00-04:00",
          "2024-10-25T00:00:00-04:00",
          "2024-10-28T00:00:00-04:00",
          "2024-10-29T00:00:00-04:00",
          "2024-10-30T00:00:00-04:00",
          "2024-10-31T00:00:00-04:00",
          "2024-11-01T00:00:00-04:00",
          "2024-11-04T00:00:00-05:00",
          "2024-11-05T00:00:00-05:00",
          "2024-11-06T00:00:00-05:00",
          "2024-11-07T00:00:00-05:00",
          "2024-11-08T00:00:00-05:00",
          "2024-11-11T00:00:00-05:00",
          "2024-11-12T00:00:00-05:00",
          "2024-11-13T00:00:00-05:00",
          "2024-11-14T00:00:00-05:00",
          "2024-11-15T00:00:00-05:00",
          "2024-11-18T00:00:00-05:00",
          "2024-11-19T00:00:00-05:00",
          "2024-11-20T00:00:00-05:00",
          "2024-11-21T00:00:00-05:00",
          "2024-11-22T00:00:00-05:00",
          "2024-11-25T00:00:00-05:00",
          "2024-11-26T00:00:00-05:00",
          "2024-11-27T00:00:00-05:00",
          "2024-11-29T00:00:00-05:00"
         ],
         "y": [
          146.32000732421875,
          146.08999633789062,
          147.02999877929688,
          144.83999633789062,
          146.8800048828125,
          144.52000427246094,
          146.8800048828125,
          147.4199981689453,
          145.88999938964844,
          147.47999572753906,
          148.83999633789062,
          147.4199981689453,
          149.97000122070312,
          154.07000732421875,
          153.7899932861328,
          152.1199951171875,
          153.83999633789062,
          153.4199981689453,
          153.41000366210938,
          153.33999633789062,
          153.3800048828125,
          151.94000244140625,
          149.92999267578125,
          148.47000122070312,
          144.57000732421875,
          145.24000549316406,
          149.10000610351562,
          151.3699951171875,
          153.72999572753906,
          155.17999267578125,
          154.6199951171875,
          153.16000366210938,
          151.7100067138672,
          153.5,
          155.33999633789062,
          154.77999877929688,
          156.02000427246094,
          156.8699951171875,
          157.75,
          159.1199951171875,
          161.25999450683594,
          159,
          155.1999969482422,
          159.27999877929688,
          171.80999755859375,
          170.30999755859375,
          169.14999389648438,
          170.52999877929688,
          169.83999633789062,
          174.4499969482422,
          172.33999633789062,
          168.63999938964844,
          170.97999572753906,
          169.8000030517578,
          169.50999450683594,
          167.0800018310547,
          168.58999633789062,
          174.5800018310547,
          174.99000549316406,
          174.72999572753906,
          173.5399932861328,
          173.16000366210938,
          176.75999450683594,
          178.22000122070312,
          177.5800018310547,
          174.1199951171875,
          173.50999450683594,
          176.82000732421875,
          175.35000610351562,
          171.9600067138672,
          175.38999938964844,
          176.55999755859375,
          178.75,
          174.4199981689453,
          174.47999572753906,
          175.89999389648438,
          178.14999389648438,
          178.14999389648438,
          178.8699951171875,
          179.7100067138672,
          178.3000030517578,
          179.8300018310547,
          180.3800048828125,
          180.97000122070312,
          180.69000244140625,
          182.41000366210938,
          180,
          185.07000732421875,
          185.19000244140625,
          185.6699981689453,
          185.9499969482422,
          189.0500030517578,
          186.1300048828125,
          183.6199951171875,
          183.32000732421875,
          181.27999877929688,
          179.22000122070312,
          174.6300048828125,
          177.22999572753906,
          179.5399932861328,
          176.58999633789062,
          173.6699981689453,
          179.6199951171875,
          180.9600067138672,
          175,
          179,
          184.72000122070312,
          186.2100067138672,
          188.6999969482422,
          188.75999450683594,
          188,
          189.5,
          187.47999572753906,
          186.57000732421875,
          187.07000732421875,
          185.99000549316406,
          183.6300048828125,
          184.6999969482422,
          183.5399932861328,
          183.14999389648438,
          183.1300048828125,
          181.0500030517578,
          180.75,
          182.14999389648438,
          182.02000427246094,
          179.32000732421875,
          176.44000244140625,
          178.33999633789062,
          179.33999633789062,
          181.27999877929688,
          185,
          184.3000030517578,
          187.05999755859375,
          187.22999572753906,
          186.88999938964844,
          183.8300018310547,
          183.66000366210938,
          184.05999755859375,
          182.80999755859375,
          186.10000610351562,
          189.0800018310547,
          185.57000732421875,
          186.33999633789062,
          193.61000061035156,
          197.85000610351562,
          193.25,
          197.1999969482422,
          200,
          197.58999633789062,
          200,
          199.2899932861328,
          199.33999633789062,
          199.7899932861328,
          195.0500030517578,
          194.49000549316406,
          192.72000122070312,
          193.02000427246094,
          187.92999267578125,
          183.75,
          183.1300048828125,
          182.5500030517578,
          186.41000366210938,
          180.8300018310547,
          179.85000610351562,
          182.5,
          183.1999969482422,
          181.7100067138672,
          186.97999572753906,
          184.07000732421875,
          167.89999389648438,
          161.02000427246094,
          161.92999267578125,
          162.77000427246094,
          165.8000030517578,
          166.94000244140625,
          166.8000030517578,
          170.22999572753906,
          170.10000610351562,
          177.58999633789062,
          177.05999755859375,
          178.22000122070312,
          178.8800048828125,
          180.11000061035156,
          176.1300048828125,
          177.0399932861328,
          175.5,
          173.1199951171875,
          170.8000030517578,
          172.1199951171875,
          178.5,
          176.25,
          173.3300018310547,
          177.88999938964844,
          171.38999938964844,
          175.39999389648438,
          179.5500030517578,
          184.52000427246094,
          187,
          186.49000549316406,
          184.88999938964844,
          186.8800048828125,
          186.42999267578125,
          189.8699951171875,
          191.60000610351562,
          193.8800048828125,
          193.9600067138672,
          192.52999877929688,
          191.16000366210938,
          187.97000122070312,
          186.3300018310547,
          185.1300048828125,
          184.75999450683594,
          181.9600067138672,
          186.50999450683594,
          180.8000030517578,
          182.72000122070312,
          185.1699981689453,
          186.64999389648438,
          188.82000732421875,
          187.5399932861328,
          187.69000244140625,
          186.88999938964844,
          187.52999877929688,
          188.99000549316406,
          189.07000732421875,
          189.6999969482422,
          184.7100067138672,
          186.3800048828125,
          187.8300018310547,
          188.38999938964844,
          190.8300018310547,
          192.72999572753906,
          186.39999389648438,
          197.92999267578125,
          195.77999877929688,
          199.5,
          207.08999633789062,
          210.0500030517578,
          208.17999267578125,
          206.83999633789062,
          208.91000366210938,
          214.10000610351562,
          211.47999572753906,
          202.61000061035156,
          201.6999969482422,
          204.61000061035156,
          202.8800048828125,
          198.3800048828125,
          197.1199951171875,
          201.4499969482422,
          207.86000061035156,
          205.74000549316406,
          206.21200561523438
         ]
        },
        {
         "mode": "lines",
         "name": "NFLX",
         "type": "scatter",
         "x": [
          "2023-11-29T00:00:00-05:00",
          "2023-11-30T00:00:00-05:00",
          "2023-12-01T00:00:00-05:00",
          "2023-12-04T00:00:00-05:00",
          "2023-12-05T00:00:00-05:00",
          "2023-12-06T00:00:00-05:00",
          "2023-12-07T00:00:00-05:00",
          "2023-12-08T00:00:00-05:00",
          "2023-12-11T00:00:00-05:00",
          "2023-12-12T00:00:00-05:00",
          "2023-12-13T00:00:00-05:00",
          "2023-12-14T00:00:00-05:00",
          "2023-12-15T00:00:00-05:00",
          "2023-12-18T00:00:00-05:00",
          "2023-12-19T00:00:00-05:00",
          "2023-12-20T00:00:00-05:00",
          "2023-12-21T00:00:00-05:00",
          "2023-12-22T00:00:00-05:00",
          "2023-12-26T00:00:00-05:00",
          "2023-12-27T00:00:00-05:00",
          "2023-12-28T00:00:00-05:00",
          "2023-12-29T00:00:00-05:00",
          "2024-01-02T00:00:00-05:00",
          "2024-01-03T00:00:00-05:00",
          "2024-01-04T00:00:00-05:00",
          "2024-01-05T00:00:00-05:00",
          "2024-01-08T00:00:00-05:00",
          "2024-01-09T00:00:00-05:00",
          "2024-01-10T00:00:00-05:00",
          "2024-01-11T00:00:00-05:00",
          "2024-01-12T00:00:00-05:00",
          "2024-01-16T00:00:00-05:00",
          "2024-01-17T00:00:00-05:00",
          "2024-01-18T00:00:00-05:00",
          "2024-01-19T00:00:00-05:00",
          "2024-01-22T00:00:00-05:00",
          "2024-01-23T00:00:00-05:00",
          "2024-01-24T00:00:00-05:00",
          "2024-01-25T00:00:00-05:00",
          "2024-01-26T00:00:00-05:00",
          "2024-01-29T00:00:00-05:00",
          "2024-01-30T00:00:00-05:00",
          "2024-01-31T00:00:00-05:00",
          "2024-02-01T00:00:00-05:00",
          "2024-02-02T00:00:00-05:00",
          "2024-02-05T00:00:00-05:00",
          "2024-02-06T00:00:00-05:00",
          "2024-02-07T00:00:00-05:00",
          "2024-02-08T00:00:00-05:00",
          "2024-02-09T00:00:00-05:00",
          "2024-02-12T00:00:00-05:00",
          "2024-02-13T00:00:00-05:00",
          "2024-02-14T00:00:00-05:00",
          "2024-02-15T00:00:00-05:00",
          "2024-02-16T00:00:00-05:00",
          "2024-02-20T00:00:00-05:00",
          "2024-02-21T00:00:00-05:00",
          "2024-02-22T00:00:00-05:00",
          "2024-02-23T00:00:00-05:00",
          "2024-02-26T00:00:00-05:00",
          "2024-02-27T00:00:00-05:00",
          "2024-02-28T00:00:00-05:00",
          "2024-02-29T00:00:00-05:00",
          "2024-03-01T00:00:00-05:00",
          "2024-03-04T00:00:00-05:00",
          "2024-03-05T00:00:00-05:00",
          "2024-03-06T00:00:00-05:00",
          "2024-03-07T00:00:00-05:00",
          "2024-03-08T00:00:00-05:00",
          "2024-03-11T00:00:00-04:00",
          "2024-03-12T00:00:00-04:00",
          "2024-03-13T00:00:00-04:00",
          "2024-03-14T00:00:00-04:00",
          "2024-03-15T00:00:00-04:00",
          "2024-03-18T00:00:00-04:00",
          "2024-03-19T00:00:00-04:00",
          "2024-03-20T00:00:00-04:00",
          "2024-03-21T00:00:00-04:00",
          "2024-03-22T00:00:00-04:00",
          "2024-03-25T00:00:00-04:00",
          "2024-03-26T00:00:00-04:00",
          "2024-03-27T00:00:00-04:00",
          "2024-03-28T00:00:00-04:00",
          "2024-04-01T00:00:00-04:00",
          "2024-04-02T00:00:00-04:00",
          "2024-04-03T00:00:00-04:00",
          "2024-04-04T00:00:00-04:00",
          "2024-04-05T00:00:00-04:00",
          "2024-04-08T00:00:00-04:00",
          "2024-04-09T00:00:00-04:00",
          "2024-04-10T00:00:00-04:00",
          "2024-04-11T00:00:00-04:00",
          "2024-04-12T00:00:00-04:00",
          "2024-04-15T00:00:00-04:00",
          "2024-04-16T00:00:00-04:00",
          "2024-04-17T00:00:00-04:00",
          "2024-04-18T00:00:00-04:00",
          "2024-04-19T00:00:00-04:00",
          "2024-04-22T00:00:00-04:00",
          "2024-04-23T00:00:00-04:00",
          "2024-04-24T00:00:00-04:00",
          "2024-04-25T00:00:00-04:00",
          "2024-04-26T00:00:00-04:00",
          "2024-04-29T00:00:00-04:00",
          "2024-04-30T00:00:00-04:00",
          "2024-05-01T00:00:00-04:00",
          "2024-05-02T00:00:00-04:00",
          "2024-05-03T00:00:00-04:00",
          "2024-05-06T00:00:00-04:00",
          "2024-05-07T00:00:00-04:00",
          "2024-05-08T00:00:00-04:00",
          "2024-05-09T00:00:00-04:00",
          "2024-05-10T00:00:00-04:00",
          "2024-05-13T00:00:00-04:00",
          "2024-05-14T00:00:00-04:00",
          "2024-05-15T00:00:00-04:00",
          "2024-05-16T00:00:00-04:00",
          "2024-05-17T00:00:00-04:00",
          "2024-05-20T00:00:00-04:00",
          "2024-05-21T00:00:00-04:00",
          "2024-05-22T00:00:00-04:00",
          "2024-05-23T00:00:00-04:00",
          "2024-05-24T00:00:00-04:00",
          "2024-05-28T00:00:00-04:00",
          "2024-05-29T00:00:00-04:00",
          "2024-05-30T00:00:00-04:00",
          "2024-05-31T00:00:00-04:00",
          "2024-06-03T00:00:00-04:00",
          "2024-06-04T00:00:00-04:00",
          "2024-06-05T00:00:00-04:00",
          "2024-06-06T00:00:00-04:00",
          "2024-06-07T00:00:00-04:00",
          "2024-06-10T00:00:00-04:00",
          "2024-06-11T00:00:00-04:00",
          "2024-06-12T00:00:00-04:00",
          "2024-06-13T00:00:00-04:00",
          "2024-06-14T00:00:00-04:00",
          "2024-06-17T00:00:00-04:00",
          "2024-06-18T00:00:00-04:00",
          "2024-06-20T00:00:00-04:00",
          "2024-06-21T00:00:00-04:00",
          "2024-06-24T00:00:00-04:00",
          "2024-06-25T00:00:00-04:00",
          "2024-06-26T00:00:00-04:00",
          "2024-06-27T00:00:00-04:00",
          "2024-06-28T00:00:00-04:00",
          "2024-07-01T00:00:00-04:00",
          "2024-07-02T00:00:00-04:00",
          "2024-07-03T00:00:00-04:00",
          "2024-07-05T00:00:00-04:00",
          "2024-07-08T00:00:00-04:00",
          "2024-07-09T00:00:00-04:00",
          "2024-07-10T00:00:00-04:00",
          "2024-07-11T00:00:00-04:00",
          "2024-07-12T00:00:00-04:00",
          "2024-07-15T00:00:00-04:00",
          "2024-07-16T00:00:00-04:00",
          "2024-07-17T00:00:00-04:00",
          "2024-07-18T00:00:00-04:00",
          "2024-07-19T00:00:00-04:00",
          "2024-07-22T00:00:00-04:00",
          "2024-07-23T00:00:00-04:00",
          "2024-07-24T00:00:00-04:00",
          "2024-07-25T00:00:00-04:00",
          "2024-07-26T00:00:00-04:00",
          "2024-07-29T00:00:00-04:00",
          "2024-07-30T00:00:00-04:00",
          "2024-07-31T00:00:00-04:00",
          "2024-08-01T00:00:00-04:00",
          "2024-08-02T00:00:00-04:00",
          "2024-08-05T00:00:00-04:00",
          "2024-08-06T00:00:00-04:00",
          "2024-08-07T00:00:00-04:00",
          "2024-08-08T00:00:00-04:00",
          "2024-08-09T00:00:00-04:00",
          "2024-08-12T00:00:00-04:00",
          "2024-08-13T00:00:00-04:00",
          "2024-08-14T00:00:00-04:00",
          "2024-08-15T00:00:00-04:00",
          "2024-08-16T00:00:00-04:00",
          "2024-08-19T00:00:00-04:00",
          "2024-08-20T00:00:00-04:00",
          "2024-08-21T00:00:00-04:00",
          "2024-08-22T00:00:00-04:00",
          "2024-08-23T00:00:00-04:00",
          "2024-08-26T00:00:00-04:00",
          "2024-08-27T00:00:00-04:00",
          "2024-08-28T00:00:00-04:00",
          "2024-08-29T00:00:00-04:00",
          "2024-08-30T00:00:00-04:00",
          "2024-09-03T00:00:00-04:00",
          "2024-09-04T00:00:00-04:00",
          "2024-09-05T00:00:00-04:00",
          "2024-09-06T00:00:00-04:00",
          "2024-09-09T00:00:00-04:00",
          "2024-09-10T00:00:00-04:00",
          "2024-09-11T00:00:00-04:00",
          "2024-09-12T00:00:00-04:00",
          "2024-09-13T00:00:00-04:00",
          "2024-09-16T00:00:00-04:00",
          "2024-09-17T00:00:00-04:00",
          "2024-09-18T00:00:00-04:00",
          "2024-09-19T00:00:00-04:00",
          "2024-09-20T00:00:00-04:00",
          "2024-09-23T00:00:00-04:00",
          "2024-09-24T00:00:00-04:00",
          "2024-09-25T00:00:00-04:00",
          "2024-09-26T00:00:00-04:00",
          "2024-09-27T00:00:00-04:00",
          "2024-09-30T00:00:00-04:00",
          "2024-10-01T00:00:00-04:00",
          "2024-10-02T00:00:00-04:00",
          "2024-10-03T00:00:00-04:00",
          "2024-10-04T00:00:00-04:00",
          "2024-10-07T00:00:00-04:00",
          "2024-10-08T00:00:00-04:00",
          "2024-10-09T00:00:00-04:00",
          "2024-10-10T00:00:00-04:00",
          "2024-10-11T00:00:00-04:00",
          "2024-10-14T00:00:00-04:00",
          "2024-10-15T00:00:00-04:00",
          "2024-10-16T00:00:00-04:00",
          "2024-10-17T00:00:00-04:00",
          "2024-10-18T00:00:00-04:00",
          "2024-10-21T00:00:00-04:00",
          "2024-10-22T00:00:00-04:00",
          "2024-10-23T00:00:00-04:00",
          "2024-10-24T00:00:00-04:00",
          "2024-10-25T00:00:00-04:00",
          "2024-10-28T00:00:00-04:00",
          "2024-10-29T00:00:00-04:00",
          "2024-10-30T00:00:00-04:00",
          "2024-10-31T00:00:00-04:00",
          "2024-11-01T00:00:00-04:00",
          "2024-11-04T00:00:00-05:00",
          "2024-11-05T00:00:00-05:00",
          "2024-11-06T00:00:00-05:00",
          "2024-11-07T00:00:00-05:00",
          "2024-11-08T00:00:00-05:00",
          "2024-11-11T00:00:00-05:00",
          "2024-11-12T00:00:00-05:00",
          "2024-11-13T00:00:00-05:00",
          "2024-11-14T00:00:00-05:00",
          "2024-11-15T00:00:00-05:00",
          "2024-11-18T00:00:00-05:00",
          "2024-11-19T00:00:00-05:00",
          "2024-11-20T00:00:00-05:00",
          "2024-11-21T00:00:00-05:00",
          "2024-11-22T00:00:00-05:00",
          "2024-11-25T00:00:00-05:00",
          "2024-11-26T00:00:00-05:00",
          "2024-11-27T00:00:00-05:00",
          "2024-11-29T00:00:00-05:00"
         ],
         "y": [
          477.19000244140625,
          473.9700012207031,
          465.739990234375,
          453.8999938964844,
          455.1499938964844,
          446.7300109863281,
          452,
          453.760009765625,
          459.8900146484375,
          463,
          479.9800109863281,
          469.8299865722656,
          472.05999755859375,
          486.1199951171875,
          495.0199890136719,
          489.2699890136719,
          491.6099853515625,
          486.760009765625,
          491.19000244140625,
          491.7900085449219,
          490.510009765625,
          486.8800048828125,
          468.5,
          470.260009765625,
          474.6700134277344,
          474.05999755859375,
          485.0299987792969,
          482.0899963378906,
          478.3299865722656,
          492.2300109863281,
          492.1600036621094,
          481.239990234375,
          480.3299865722656,
          485.30999755859375,
          482.95001220703125,
          485.7099914550781,
          492.19000244140625,
          544.8699951171875,
          562,
          570.4199829101562,
          575.7899780273438,
          562.8499755859375,
          564.1099853515625,
          567.510009765625,
          564.6400146484375,
          562.0599975585938,
          555.8800048828125,
          559.2999877929688,
          558.530029296875,
          561.3200073242188,
          557.8499755859375,
          554.52001953125,
          579.3300170898438,
          593.4600219726562,
          583.9500122070312,
          575.1300048828125,
          573.3499755859375,
          588.469970703125,
          583.5599975585938,
          587.6500244140625,
          601.6699829101562,
          596.47998046875,
          602.9199829101562,
          619.3400268554688,
          615.8300170898438,
          598.5,
          597.6900024414062,
          608.510009765625,
          604.8200073242188,
          600.9299926757812,
          611.0800170898438,
          609.4500122070312,
          613.010009765625,
          605.8800048828125,
          618.3900146484375,
          620.739990234375,
          627.6900024414062,
          622.7100219726562,
          628.010009765625,
          627.4600219726562,
          629.239990234375,
          613.530029296875,
          607.3300170898438,
          614.3099975585938,
          614.2100219726562,
          630.0800170898438,
          617.1400146484375,
          636.1799926757812,
          628.4099731445312,
          618.2000122070312,
          618.5800170898438,
          628.780029296875,
          622.8300170898438,
          607.1500244140625,
          617.52001953125,
          613.6900024414062,
          610.5599975585938,
          555.0399780273438,
          554.5999755859375,
          577.75,
          555.1199951171875,
          564.7999877929688,
          561.22998046875,
          559.489990234375,
          550.6400146484375,
          551.7100219726562,
          565.1500244140625,
          579.3400268554688,
          596.969970703125,
          606,
          609.469970703125,
          612.0900268554688,
          610.8699951171875,
          616.5900268554688,
          613.6599731445312,
          613.52001953125,
          610.52001953125,
          621.0999755859375,
          640.8200073242188,
          650.6099853515625,
          640.469970703125,
          635.6699829101562,
          646.75,
          649,
          654.6199951171875,
          647.6599731445312,
          641.6199951171875,
          633.7899780273438,
          631.6199951171875,
          650.27001953125,
          648.52001953125,
          641.469970703125,
          644.5,
          648.5499877929688,
          650.0599975585938,
          653.260009765625,
          669.3800048828125,
          675.8300170898438,
          685.6699829101562,
          679.030029296875,
          686.1199951171875,
          669.02001953125,
          672.4099731445312,
          677.6900024414062,
          684.3400268554688,
          674.8800048828125,
          673.6099853515625,
          679.5800170898438,
          682.510009765625,
          690.6500244140625,
          685.739990234375,
          685.739990234375,
          677.6500244140625,
          652.75,
          647.5999755859375,
          656.4500122070312,
          656.3200073242188,
          647.4600219726562,
          643.0399780273438,
          633.3400268554688,
          647.5,
          642.760009765625,
          635.989990234375,
          634.0900268554688,
          631.3699951171875,
          626.9600219726562,
          622.5800170898438,
          628.3499755859375,
          624.8499755859375,
          613.6400146484375,
          598.5499877929688,
          609.5700073242188,
          611.47998046875,
          630.3499755859375,
          633.9400024414062,
          633.1400146484375,
          648.02001953125,
          661.6799926757812,
          663.219970703125,
          674.0700073242188,
          688.530029296875,
          698.5399780273438,
          697.1199951171875,
          688.9600219726562,
          686.72998046875,
          688.4400024414062,
          695.719970703125,
          683.8400268554688,
          692.47998046875,
          701.3499755859375,
          675.3200073242188,
          679.6799926757812,
          683.6199951171875,
          665.77001953125,
          675.4199829101562,
          673.6199951171875,
          681.469970703125,
          686.7999877929688,
          697.0599975585938,
          696.5,
          706.9099731445312,
          690.469970703125,
          704.3200073242188,
          701.030029296875,
          705.3699951171875,
          722.260009765625,
          721.5599975585938,
          711.4299926757812,
          707.3499755859375,
          709.27001953125,
          706.1300048828125,
          711.0900268554688,
          706.7999877929688,
          719.7000122070312,
          701.9199829101562,
          721.760009765625,
          727.4299926757812,
          730.2899780273438,
          722.7899780273438,
          713,
          705.97998046875,
          702,
          687.6500244140625,
          763.8900146484375,
          772.0700073242188,
          764.239990234375,
          749.2899780273438,
          754.5499877929688,
          754.6799926757812,
          749.1199951171875,
          759.4400024414062,
          753.739990234375,
          756.030029296875,
          756.0999755859375,
          755.510009765625,
          763.9099731445312,
          780.2100219726562,
          796.5399780273438,
          795.0399780273438,
          805.4400024414062,
          819.5,
          830.469970703125,
          837.260009765625,
          823.9600219726562,
          847.0499877929688,
          871.3200073242188,
          883.8499755859375,
          897.47998046875,
          897.7899780273438,
          865.5900268554688,
          872.5999755859375,
          877.3400268554688,
          892.1599731445312
         ]
        },
        {
         "mode": "lines",
         "name": "META",
         "type": "scatter",
         "x": [
          "2023-11-29T00:00:00-05:00",
          "2023-11-30T00:00:00-05:00",
          "2023-12-01T00:00:00-05:00",
          "2023-12-04T00:00:00-05:00",
          "2023-12-05T00:00:00-05:00",
          "2023-12-06T00:00:00-05:00",
          "2023-12-07T00:00:00-05:00",
          "2023-12-08T00:00:00-05:00",
          "2023-12-11T00:00:00-05:00",
          "2023-12-12T00:00:00-05:00",
          "2023-12-13T00:00:00-05:00",
          "2023-12-14T00:00:00-05:00",
          "2023-12-15T00:00:00-05:00",
          "2023-12-18T00:00:00-05:00",
          "2023-12-19T00:00:00-05:00",
          "2023-12-20T00:00:00-05:00",
          "2023-12-21T00:00:00-05:00",
          "2023-12-22T00:00:00-05:00",
          "2023-12-26T00:00:00-05:00",
          "2023-12-27T00:00:00-05:00",
          "2023-12-28T00:00:00-05:00",
          "2023-12-29T00:00:00-05:00",
          "2024-01-02T00:00:00-05:00",
          "2024-01-03T00:00:00-05:00",
          "2024-01-04T00:00:00-05:00",
          "2024-01-05T00:00:00-05:00",
          "2024-01-08T00:00:00-05:00",
          "2024-01-09T00:00:00-05:00",
          "2024-01-10T00:00:00-05:00",
          "2024-01-11T00:00:00-05:00",
          "2024-01-12T00:00:00-05:00",
          "2024-01-16T00:00:00-05:00",
          "2024-01-17T00:00:00-05:00",
          "2024-01-18T00:00:00-05:00",
          "2024-01-19T00:00:00-05:00",
          "2024-01-22T00:00:00-05:00",
          "2024-01-23T00:00:00-05:00",
          "2024-01-24T00:00:00-05:00",
          "2024-01-25T00:00:00-05:00",
          "2024-01-26T00:00:00-05:00",
          "2024-01-29T00:00:00-05:00",
          "2024-01-30T00:00:00-05:00",
          "2024-01-31T00:00:00-05:00",
          "2024-02-01T00:00:00-05:00",
          "2024-02-02T00:00:00-05:00",
          "2024-02-05T00:00:00-05:00",
          "2024-02-06T00:00:00-05:00",
          "2024-02-07T00:00:00-05:00",
          "2024-02-08T00:00:00-05:00",
          "2024-02-09T00:00:00-05:00",
          "2024-02-12T00:00:00-05:00",
          "2024-02-13T00:00:00-05:00",
          "2024-02-14T00:00:00-05:00",
          "2024-02-15T00:00:00-05:00",
          "2024-02-16T00:00:00-05:00",
          "2024-02-20T00:00:00-05:00",
          "2024-02-21T00:00:00-05:00",
          "2024-02-22T00:00:00-05:00",
          "2024-02-23T00:00:00-05:00",
          "2024-02-26T00:00:00-05:00",
          "2024-02-27T00:00:00-05:00",
          "2024-02-28T00:00:00-05:00",
          "2024-02-29T00:00:00-05:00",
          "2024-03-01T00:00:00-05:00",
          "2024-03-04T00:00:00-05:00",
          "2024-03-05T00:00:00-05:00",
          "2024-03-06T00:00:00-05:00",
          "2024-03-07T00:00:00-05:00",
          "2024-03-08T00:00:00-05:00",
          "2024-03-11T00:00:00-04:00",
          "2024-03-12T00:00:00-04:00",
          "2024-03-13T00:00:00-04:00",
          "2024-03-14T00:00:00-04:00",
          "2024-03-15T00:00:00-04:00",
          "2024-03-18T00:00:00-04:00",
          "2024-03-19T00:00:00-04:00",
          "2024-03-20T00:00:00-04:00",
          "2024-03-21T00:00:00-04:00",
          "2024-03-22T00:00:00-04:00",
          "2024-03-25T00:00:00-04:00",
          "2024-03-26T00:00:00-04:00",
          "2024-03-27T00:00:00-04:00",
          "2024-03-28T00:00:00-04:00",
          "2024-04-01T00:00:00-04:00",
          "2024-04-02T00:00:00-04:00",
          "2024-04-03T00:00:00-04:00",
          "2024-04-04T00:00:00-04:00",
          "2024-04-05T00:00:00-04:00",
          "2024-04-08T00:00:00-04:00",
          "2024-04-09T00:00:00-04:00",
          "2024-04-10T00:00:00-04:00",
          "2024-04-11T00:00:00-04:00",
          "2024-04-12T00:00:00-04:00",
          "2024-04-15T00:00:00-04:00",
          "2024-04-16T00:00:00-04:00",
          "2024-04-17T00:00:00-04:00",
          "2024-04-18T00:00:00-04:00",
          "2024-04-19T00:00:00-04:00",
          "2024-04-22T00:00:00-04:00",
          "2024-04-23T00:00:00-04:00",
          "2024-04-24T00:00:00-04:00",
          "2024-04-25T00:00:00-04:00",
          "2024-04-26T00:00:00-04:00",
          "2024-04-29T00:00:00-04:00",
          "2024-04-30T00:00:00-04:00",
          "2024-05-01T00:00:00-04:00",
          "2024-05-02T00:00:00-04:00",
          "2024-05-03T00:00:00-04:00",
          "2024-05-06T00:00:00-04:00",
          "2024-05-07T00:00:00-04:00",
          "2024-05-08T00:00:00-04:00",
          "2024-05-09T00:00:00-04:00",
          "2024-05-10T00:00:00-04:00",
          "2024-05-13T00:00:00-04:00",
          "2024-05-14T00:00:00-04:00",
          "2024-05-15T00:00:00-04:00",
          "2024-05-16T00:00:00-04:00",
          "2024-05-17T00:00:00-04:00",
          "2024-05-20T00:00:00-04:00",
          "2024-05-21T00:00:00-04:00",
          "2024-05-22T00:00:00-04:00",
          "2024-05-23T00:00:00-04:00",
          "2024-05-24T00:00:00-04:00",
          "2024-05-28T00:00:00-04:00",
          "2024-05-29T00:00:00-04:00",
          "2024-05-30T00:00:00-04:00",
          "2024-05-31T00:00:00-04:00",
          "2024-06-03T00:00:00-04:00",
          "2024-06-04T00:00:00-04:00",
          "2024-06-05T00:00:00-04:00",
          "2024-06-06T00:00:00-04:00",
          "2024-06-07T00:00:00-04:00",
          "2024-06-10T00:00:00-04:00",
          "2024-06-11T00:00:00-04:00",
          "2024-06-12T00:00:00-04:00",
          "2024-06-13T00:00:00-04:00",
          "2024-06-14T00:00:00-04:00",
          "2024-06-17T00:00:00-04:00",
          "2024-06-18T00:00:00-04:00",
          "2024-06-20T00:00:00-04:00",
          "2024-06-21T00:00:00-04:00",
          "2024-06-24T00:00:00-04:00",
          "2024-06-25T00:00:00-04:00",
          "2024-06-26T00:00:00-04:00",
          "2024-06-27T00:00:00-04:00",
          "2024-06-28T00:00:00-04:00",
          "2024-07-01T00:00:00-04:00",
          "2024-07-02T00:00:00-04:00",
          "2024-07-03T00:00:00-04:00",
          "2024-07-05T00:00:00-04:00",
          "2024-07-08T00:00:00-04:00",
          "2024-07-09T00:00:00-04:00",
          "2024-07-10T00:00:00-04:00",
          "2024-07-11T00:00:00-04:00",
          "2024-07-12T00:00:00-04:00",
          "2024-07-15T00:00:00-04:00",
          "2024-07-16T00:00:00-04:00",
          "2024-07-17T00:00:00-04:00",
          "2024-07-18T00:00:00-04:00",
          "2024-07-19T00:00:00-04:00",
          "2024-07-22T00:00:00-04:00",
          "2024-07-23T00:00:00-04:00",
          "2024-07-24T00:00:00-04:00",
          "2024-07-25T00:00:00-04:00",
          "2024-07-26T00:00:00-04:00",
          "2024-07-29T00:00:00-04:00",
          "2024-07-30T00:00:00-04:00",
          "2024-07-31T00:00:00-04:00",
          "2024-08-01T00:00:00-04:00",
          "2024-08-02T00:00:00-04:00",
          "2024-08-05T00:00:00-04:00",
          "2024-08-06T00:00:00-04:00",
          "2024-08-07T00:00:00-04:00",
          "2024-08-08T00:00:00-04:00",
          "2024-08-09T00:00:00-04:00",
          "2024-08-12T00:00:00-04:00",
          "2024-08-13T00:00:00-04:00",
          "2024-08-14T00:00:00-04:00",
          "2024-08-15T00:00:00-04:00",
          "2024-08-16T00:00:00-04:00",
          "2024-08-19T00:00:00-04:00",
          "2024-08-20T00:00:00-04:00",
          "2024-08-21T00:00:00-04:00",
          "2024-08-22T00:00:00-04:00",
          "2024-08-23T00:00:00-04:00",
          "2024-08-26T00:00:00-04:00",
          "2024-08-27T00:00:00-04:00",
          "2024-08-28T00:00:00-04:00",
          "2024-08-29T00:00:00-04:00",
          "2024-08-30T00:00:00-04:00",
          "2024-09-03T00:00:00-04:00",
          "2024-09-04T00:00:00-04:00",
          "2024-09-05T00:00:00-04:00",
          "2024-09-06T00:00:00-04:00",
          "2024-09-09T00:00:00-04:00",
          "2024-09-10T00:00:00-04:00",
          "2024-09-11T00:00:00-04:00",
          "2024-09-12T00:00:00-04:00",
          "2024-09-13T00:00:00-04:00",
          "2024-09-16T00:00:00-04:00",
          "2024-09-17T00:00:00-04:00",
          "2024-09-18T00:00:00-04:00",
          "2024-09-19T00:00:00-04:00",
          "2024-09-20T00:00:00-04:00",
          "2024-09-23T00:00:00-04:00",
          "2024-09-24T00:00:00-04:00",
          "2024-09-25T00:00:00-04:00",
          "2024-09-26T00:00:00-04:00",
          "2024-09-27T00:00:00-04:00",
          "2024-09-30T00:00:00-04:00",
          "2024-10-01T00:00:00-04:00",
          "2024-10-02T00:00:00-04:00",
          "2024-10-03T00:00:00-04:00",
          "2024-10-04T00:00:00-04:00",
          "2024-10-07T00:00:00-04:00",
          "2024-10-08T00:00:00-04:00",
          "2024-10-09T00:00:00-04:00",
          "2024-10-10T00:00:00-04:00",
          "2024-10-11T00:00:00-04:00",
          "2024-10-14T00:00:00-04:00",
          "2024-10-15T00:00:00-04:00",
          "2024-10-16T00:00:00-04:00",
          "2024-10-17T00:00:00-04:00",
          "2024-10-18T00:00:00-04:00",
          "2024-10-21T00:00:00-04:00",
          "2024-10-22T00:00:00-04:00",
          "2024-10-23T00:00:00-04:00",
          "2024-10-24T00:00:00-04:00",
          "2024-10-25T00:00:00-04:00",
          "2024-10-28T00:00:00-04:00",
          "2024-10-29T00:00:00-04:00",
          "2024-10-30T00:00:00-04:00",
          "2024-10-31T00:00:00-04:00",
          "2024-11-01T00:00:00-04:00",
          "2024-11-04T00:00:00-05:00",
          "2024-11-05T00:00:00-05:00",
          "2024-11-06T00:00:00-05:00",
          "2024-11-07T00:00:00-05:00",
          "2024-11-08T00:00:00-05:00",
          "2024-11-11T00:00:00-05:00",
          "2024-11-12T00:00:00-05:00",
          "2024-11-13T00:00:00-05:00",
          "2024-11-14T00:00:00-05:00",
          "2024-11-15T00:00:00-05:00",
          "2024-11-18T00:00:00-05:00",
          "2024-11-19T00:00:00-05:00",
          "2024-11-20T00:00:00-05:00",
          "2024-11-21T00:00:00-05:00",
          "2024-11-22T00:00:00-05:00",
          "2024-11-25T00:00:00-05:00",
          "2024-11-26T00:00:00-05:00",
          "2024-11-27T00:00:00-05:00",
          "2024-11-29T00:00:00-05:00"
         ],
         "y": [
          331.20281982421875,
          326.1679382324219,
          323.844970703125,
          319.0593566894531,
          317.3345642089844,
          316.4970703125,
          325.609619140625,
          331.7511291503906,
          324.3035583496094,
          333.2167053222656,
          333.7351379394531,
          332.1698913574219,
          333.91461181640625,
          343.58551025390625,
          349.3082580566406,
          348.2315368652344,
          353.027099609375,
          352.32916259765625,
          353.76483154296875,
          356.7558288574219,
          357.2443542480469,
          352.8974914550781,
          345.2505187988281,
          343.43597412109375,
          346.0780029296875,
          350.89349365234375,
          357.5833435058594,
          356.3570251464844,
          369.35791015625,
          368.560302734375,
          373.3658447265625,
          366.35693359375,
          367.26422119140625,
          375.00091552734375,
          382.2989501953125,
          380.6339416503906,
          384.043701171875,
          389.5271911621094,
          391.999755859375,
          392.95684814453125,
          399.8161926269531,
          398.85906982421875,
          388.9688720703125,
          393.5949401855469,
          473.56414794921875,
          458.0309143066406,
          453.35498046875,
          468.1803283691406,
          468.5891418457031,
          466.7048034667969,
          467.4924011230469,
          458.73876953125,
          471.8592529296875,
          482.5770263671875,
          471.899169921875,
          470.3338928222656,
          467.1201477050781,
          485.1849670410156,
          483.08905029296875,
          480.803466796875,
          486.1031494140625,
          483.07904052734375,
          489.17718505859375,
          501.3235168457031,
          497.22149658203125,
          489.2669982910156,
          495.1255798339844,
          511.1943054199219,
          504.9664306640625,
          482.6498718261719,
          498.77850341796875,
          494.6065979003906,
          490.8738708496094,
          483.1589050292969,
          496.0138854980469,
          495.2752990722656,
          504.5372314453125,
          506.7729187011719,
          508.58935546875,
          502.0420837402344,
          494.9259948730469,
          492.8999328613281,
          484.6360168457031,
          490.3948059082031,
          496.4031066894531,
          505.7548828125,
          509.9267883300781,
          526.3148193359375,
          518.2406005859375,
          515.8951416015625,
          518.8194580078125,
          522.1429443359375,
          510.90484619140625,
          499.257568359375,
          498.7884521484375,
          493.2093505859375,
          500.8244934082031,
          480.1347961425781,
          480.79351806640625,
          495.1355895996094,
          492.5406494140625,
          440.5219421386719,
          442.4282531738281,
          431.7789611816406,
          429.3337707519531,
          438.3362121582031,
          440.82135009765625,
          451.08135986328125,
          464.77471923828125,
          467.3297424316406,
          471.6812438964844,
          474.49578857421875,
          475.2742614746094,
          467.1001892089844,
          470.9327392578125,
          480.6038818359375,
          472.31005859375,
          470.99261474609375,
          467.9285583496094,
          463.72674560546875,
          466.8706359863281,
          464.87451171875,
          477.29034423828125,
          478.987060546875,
          473.4378356933594,
          466.14202880859375,
          465.9224853515625,
          476.5617370605469,
          476.0627136230469,
          494.09759521484375,
          492.8001403808594,
          492.0016784667969,
          501.6229553222656,
          506.48345947265625,
          507.8507995605469,
          503.1200256347656,
          503.67950439453125,
          506.14715576171875,
          499.0139465332031,
          501.22186279296875,
          494.3084411621094,
          498.43450927734375,
          510.1133728027344,
          512.6309814453125,
          519.0648193359375,
          503.73944091796875,
          504.1990051269531,
          509.014404296875,
          509.4739685058594,
          539.3953857421875,
          528.8155517578125,
          529.494873046875,
          534.180419921875,
          512.2113647460938,
          498.39453125,
          495.6871337890625,
          489.3232116699219,
          461.5496826171875,
          475.396484375,
          476.3356018066406,
          486.9354553222656,
          488.2242431640625,
          460.8303527832031,
          452.9778747558594,
          465.25616455078125,
          465.2661437988281,
          462.74853515625,
          474.37744140625,
          497.2655944824219,
          487.6747741699219,
          475.276611328125,
          493.61907958984375,
          488.45404052734375,
          509.144287109375,
          517.2765502929688,
          515.458251953125,
          528.0362548828125,
          526.2579956054688,
          536.81787109375,
          526.9172973632812,
          528.7755737304688,
          526.2279663085938,
          534.64990234375,
          531.4230346679688,
          527.4967651367188,
          520.6233520507812,
          518.605224609375,
          516.2874755859375,
          517.72607421875,
          520.8131713867188,
          511.2722473144531,
          512.2512817382812,
          516.3673706054688,
          499.7931823730469,
          504.30889892578125,
          504.30889892578125,
          511.3421630859375,
          525.0990600585938,
          524.1199951171875,
          533.280029296875,
          536.3200073242188,
          537.9500122070312,
          559.0999755859375,
          561.3499755859375,
          564.4099731445312,
          563.3300170898438,
          568.3099975585938,
          567.8400268554688,
          567.3599853515625,
          572.4400024414062,
          576.469970703125,
          572.8099975585938,
          582.77001953125,
          595.9400024414062,
          584.780029296875,
          592.8900146484375,
          590.510009765625,
          583.8300170898438,
          589.9500122070312,
          590.4199829101562,
          586.27001953125,
          576.7899780273438,
          576.9299926757812,
          576.469970703125,
          575.1599731445312,
          582.010009765625,
          563.6900024414062,
          567.780029296875,
          573.25,
          578.1599731445312,
          593.280029296875,
          591.7999877929688,
          567.5800170898438,
          567.1599731445312,
          560.6799926757812,
          572.4299926757812,
          572.0499877929688,
          591.7000122070312,
          589.3400268554688,
          583.1699829101562,
          584.8200073242188,
          580,
          577.1599731445312,
          554.0800170898438,
          554.4000244140625,
          561.0900268554688,
          565.52001953125,
          563.0900268554688,
          559.1400146484375,
          565.1099853515625,
          573.5399780273438,
          569.2000122070312,
          578.25
         ]
        }
       ],
       "layout": {
        "hovermode": "x unified",
        "template": {
         "data": {
          "bar": [
           {
            "error_x": {
             "color": "#f2f5fa"
            },
            "error_y": {
             "color": "#f2f5fa"
            },
            "marker": {
             "line": {
              "color": "rgb(17,17,17)",
              "width": 0.5
             },
             "pattern": {
              "fillmode": "overlay",
              "size": 10,
              "solidity": 0.2
             }
            },
            "type": "bar"
           }
          ],
          "barpolar": [
           {
            "marker": {
             "line": {
              "color": "rgb(17,17,17)",
              "width": 0.5
             },
             "pattern": {
              "fillmode": "overlay",
              "size": 10,
              "solidity": 0.2
             }
            },
            "type": "barpolar"
           }
          ],
          "carpet": [
           {
            "aaxis": {
             "endlinecolor": "#A2B1C6",
             "gridcolor": "#506784",
             "linecolor": "#506784",
             "minorgridcolor": "#506784",
             "startlinecolor": "#A2B1C6"
            },
            "baxis": {
             "endlinecolor": "#A2B1C6",
             "gridcolor": "#506784",
             "linecolor": "#506784",
             "minorgridcolor": "#506784",
             "startlinecolor": "#A2B1C6"
            },
            "type": "carpet"
           }
          ],
          "choropleth": [
           {
            "colorbar": {
             "outlinewidth": 0,
             "ticks": ""
            },
            "type": "choropleth"
           }
          ],
          "contour": [
           {
            "colorbar": {
             "outlinewidth": 0,
             "ticks": ""
            },
            "colorscale": [
             [
              0,
              "#0d0887"
             ],
             [
              0.1111111111111111,
              "#46039f"
             ],
             [
              0.2222222222222222,
              "#7201a8"
             ],
             [
              0.3333333333333333,
              "#9c179e"
             ],
             [
              0.4444444444444444,
              "#bd3786"
             ],
             [
              0.5555555555555556,
              "#d8576b"
             ],
             [
              0.6666666666666666,
              "#ed7953"
             ],
             [
              0.7777777777777778,
              "#fb9f3a"
             ],
             [
              0.8888888888888888,
              "#fdca26"
             ],
             [
              1,
              "#f0f921"
             ]
            ],
            "type": "contour"
           }
          ],
          "contourcarpet": [
           {
            "colorbar": {
             "outlinewidth": 0,
             "ticks": ""
            },
            "type": "contourcarpet"
           }
          ],
          "heatmap": [
           {
            "colorbar": {
             "outlinewidth": 0,
             "ticks": ""
            },
            "colorscale": [
             [
              0,
              "#0d0887"
             ],
             [
              0.1111111111111111,
              "#46039f"
             ],
             [
              0.2222222222222222,
              "#7201a8"
             ],
             [
              0.3333333333333333,
              "#9c179e"
             ],
             [
              0.4444444444444444,
              "#bd3786"
             ],
             [
              0.5555555555555556,
              "#d8576b"
             ],
             [
              0.6666666666666666,
              "#ed7953"
             ],
             [
              0.7777777777777778,
              "#fb9f3a"
             ],
             [
              0.8888888888888888,
              "#fdca26"
             ],
             [
              1,
              "#f0f921"
             ]
            ],
            "type": "heatmap"
           }
          ],
          "heatmapgl": [
           {
            "colorbar": {
             "outlinewidth": 0,
             "ticks": ""
            },
            "colorscale": [
             [
              0,
              "#0d0887"
             ],
             [
              0.1111111111111111,
              "#46039f"
             ],
             [
              0.2222222222222222,
              "#7201a8"
             ],
             [
              0.3333333333333333,
              "#9c179e"
             ],
             [
              0.4444444444444444,
              "#bd3786"
             ],
             [
              0.5555555555555556,
              "#d8576b"
             ],
             [
              0.6666666666666666,
              "#ed7953"
             ],
             [
              0.7777777777777778,
              "#fb9f3a"
             ],
             [
              0.8888888888888888,
              "#fdca26"
             ],
             [
              1,
              "#f0f921"
             ]
            ],
            "type": "heatmapgl"
           }
          ],
          "histogram": [
           {
            "marker": {
             "pattern": {
              "fillmode": "overlay",
              "size": 10,
              "solidity": 0.2
             }
            },
            "type": "histogram"
           }
          ],
          "histogram2d": [
           {
            "colorbar": {
             "outlinewidth": 0,
             "ticks": ""
            },
            "colorscale": [
             [
              0,
              "#0d0887"
             ],
             [
              0.1111111111111111,
              "#46039f"
             ],
             [
              0.2222222222222222,
              "#7201a8"
             ],
             [
              0.3333333333333333,
              "#9c179e"
             ],
             [
              0.4444444444444444,
              "#bd3786"
             ],
             [
              0.5555555555555556,
              "#d8576b"
             ],
             [
              0.6666666666666666,
              "#ed7953"
             ],
             [
              0.7777777777777778,
              "#fb9f3a"
             ],
             [
              0.8888888888888888,
              "#fdca26"
             ],
             [
              1,
              "#f0f921"
             ]
            ],
            "type": "histogram2d"
           }
          ],
          "histogram2dcontour": [
           {
            "colorbar": {
             "outlinewidth": 0,
             "ticks": ""
            },
            "colorscale": [
             [
              0,
              "#0d0887"
             ],
             [
              0.1111111111111111,
              "#46039f"
             ],
             [
              0.2222222222222222,
              "#7201a8"
             ],
             [
              0.3333333333333333,
              "#9c179e"
             ],
             [
              0.4444444444444444,
              "#bd3786"
             ],
             [
              0.5555555555555556,
              "#d8576b"
             ],
             [
              0.6666666666666666,
              "#ed7953"
             ],
             [
              0.7777777777777778,
              "#fb9f3a"
             ],
             [
              0.8888888888888888,
              "#fdca26"
             ],
             [
              1,
              "#f0f921"
             ]
            ],
            "type": "histogram2dcontour"
           }
          ],
          "mesh3d": [
           {
            "colorbar": {
             "outlinewidth": 0,
             "ticks": ""
            },
            "type": "mesh3d"
           }
          ],
          "parcoords": [
           {
            "line": {
             "colorbar": {
              "outlinewidth": 0,
              "ticks": ""
             }
            },
            "type": "parcoords"
           }
          ],
          "pie": [
           {
            "automargin": true,
            "type": "pie"
           }
          ],
          "scatter": [
           {
            "marker": {
             "line": {
              "color": "#283442"
             }
            },
            "type": "scatter"
           }
          ],
          "scatter3d": [
           {
            "line": {
             "colorbar": {
              "outlinewidth": 0,
              "ticks": ""
             }
            },
            "marker": {
             "colorbar": {
              "outlinewidth": 0,
              "ticks": ""
             }
            },
            "type": "scatter3d"
           }
          ],
          "scattercarpet": [
           {
            "marker": {
             "colorbar": {
              "outlinewidth": 0,
              "ticks": ""
             }
            },
            "type": "scattercarpet"
           }
          ],
          "scattergeo": [
           {
            "marker": {
             "colorbar": {
              "outlinewidth": 0,
              "ticks": ""
             }
            },
            "type": "scattergeo"
           }
          ],
          "scattergl": [
           {
            "marker": {
             "line": {
              "color": "#283442"
             }
            },
            "type": "scattergl"
           }
          ],
          "scattermapbox": [
           {
            "marker": {
             "colorbar": {
              "outlinewidth": 0,
              "ticks": ""
             }
            },
            "type": "scattermapbox"
           }
          ],
          "scatterpolar": [
           {
            "marker": {
             "colorbar": {
              "outlinewidth": 0,
              "ticks": ""
             }
            },
            "type": "scatterpolar"
           }
          ],
          "scatterpolargl": [
           {
            "marker": {
             "colorbar": {
              "outlinewidth": 0,
              "ticks": ""
             }
            },
            "type": "scatterpolargl"
           }
          ],
          "scatterternary": [
           {
            "marker": {
             "colorbar": {
              "outlinewidth": 0,
              "ticks": ""
             }
            },
            "type": "scatterternary"
           }
          ],
          "surface": [
           {
            "colorbar": {
             "outlinewidth": 0,
             "ticks": ""
            },
            "colorscale": [
             [
              0,
              "#0d0887"
             ],
             [
              0.1111111111111111,
              "#46039f"
             ],
             [
              0.2222222222222222,
              "#7201a8"
             ],
             [
              0.3333333333333333,
              "#9c179e"
             ],
             [
              0.4444444444444444,
              "#bd3786"
             ],
             [
              0.5555555555555556,
              "#d8576b"
             ],
             [
              0.6666666666666666,
              "#ed7953"
             ],
             [
              0.7777777777777778,
              "#fb9f3a"
             ],
             [
              0.8888888888888888,
              "#fdca26"
             ],
             [
              1,
              "#f0f921"
             ]
            ],
            "type": "surface"
           }
          ],
          "table": [
           {
            "cells": {
             "fill": {
              "color": "#506784"
             },
             "line": {
              "color": "rgb(17,17,17)"
             }
            },
            "header": {
             "fill": {
              "color": "#2a3f5f"
             },
             "line": {
              "color": "rgb(17,17,17)"
             }
            },
            "type": "table"
           }
          ]
         },
         "layout": {
          "annotationdefaults": {
           "arrowcolor": "#f2f5fa",
           "arrowhead": 0,
           "arrowwidth": 1
          },
          "autotypenumbers": "strict",
          "coloraxis": {
           "colorbar": {
            "outlinewidth": 0,
            "ticks": ""
           }
          },
          "colorscale": {
           "diverging": [
            [
             0,
             "#8e0152"
            ],
            [
             0.1,
             "#c51b7d"
            ],
            [
             0.2,
             "#de77ae"
            ],
            [
             0.3,
             "#f1b6da"
            ],
            [
             0.4,
             "#fde0ef"
            ],
            [
             0.5,
             "#f7f7f7"
            ],
            [
             0.6,
             "#e6f5d0"
            ],
            [
             0.7,
             "#b8e186"
            ],
            [
             0.8,
             "#7fbc41"
            ],
            [
             0.9,
             "#4d9221"
            ],
            [
             1,
             "#276419"
            ]
           ],
           "sequential": [
            [
             0,
             "#0d0887"
            ],
            [
             0.1111111111111111,
             "#46039f"
            ],
            [
             0.2222222222222222,
             "#7201a8"
            ],
            [
             0.3333333333333333,
             "#9c179e"
            ],
            [
             0.4444444444444444,
             "#bd3786"
            ],
            [
             0.5555555555555556,
             "#d8576b"
            ],
            [
             0.6666666666666666,
             "#ed7953"
            ],
            [
             0.7777777777777778,
             "#fb9f3a"
            ],
            [
             0.8888888888888888,
             "#fdca26"
            ],
            [
             1,
             "#f0f921"
            ]
           ],
           "sequentialminus": [
            [
             0,
             "#0d0887"
            ],
            [
             0.1111111111111111,
             "#46039f"
            ],
            [
             0.2222222222222222,
             "#7201a8"
            ],
            [
             0.3333333333333333,
             "#9c179e"
            ],
            [
             0.4444444444444444,
             "#bd3786"
            ],
            [
             0.5555555555555556,
             "#d8576b"
            ],
            [
             0.6666666666666666,
             "#ed7953"
            ],
            [
             0.7777777777777778,
             "#fb9f3a"
            ],
            [
             0.8888888888888888,
             "#fdca26"
            ],
            [
             1,
             "#f0f921"
            ]
           ]
          },
          "colorway": [
           "#636efa",
           "#EF553B",
           "#00cc96",
           "#ab63fa",
           "#FFA15A",
           "#19d3f3",
           "#FF6692",
           "#B6E880",
           "#FF97FF",
           "#FECB52"
          ],
          "font": {
           "color": "#f2f5fa"
          },
          "geo": {
           "bgcolor": "rgb(17,17,17)",
           "lakecolor": "rgb(17,17,17)",
           "landcolor": "rgb(17,17,17)",
           "showlakes": true,
           "showland": true,
           "subunitcolor": "#506784"
          },
          "hoverlabel": {
           "align": "left"
          },
          "hovermode": "closest",
          "mapbox": {
           "style": "dark"
          },
          "paper_bgcolor": "rgb(17,17,17)",
          "plot_bgcolor": "rgb(17,17,17)",
          "polar": {
           "angularaxis": {
            "gridcolor": "#506784",
            "linecolor": "#506784",
            "ticks": ""
           },
           "bgcolor": "rgb(17,17,17)",
           "radialaxis": {
            "gridcolor": "#506784",
            "linecolor": "#506784",
            "ticks": ""
           }
          },
          "scene": {
           "xaxis": {
            "backgroundcolor": "rgb(17,17,17)",
            "gridcolor": "#506784",
            "gridwidth": 2,
            "linecolor": "#506784",
            "showbackground": true,
            "ticks": "",
            "zerolinecolor": "#C8D4E3"
           },
           "yaxis": {
            "backgroundcolor": "rgb(17,17,17)",
            "gridcolor": "#506784",
            "gridwidth": 2,
            "linecolor": "#506784",
            "showbackground": true,
            "ticks": "",
            "zerolinecolor": "#C8D4E3"
           },
           "zaxis": {
            "backgroundcolor": "rgb(17,17,17)",
            "gridcolor": "#506784",
            "gridwidth": 2,
            "linecolor": "#506784",
            "showbackground": true,
            "ticks": "",
            "zerolinecolor": "#C8D4E3"
           }
          },
          "shapedefaults": {
           "line": {
            "color": "#f2f5fa"
           }
          },
          "sliderdefaults": {
           "bgcolor": "#C8D4E3",
           "bordercolor": "rgb(17,17,17)",
           "borderwidth": 1,
           "tickwidth": 0
          },
          "ternary": {
           "aaxis": {
            "gridcolor": "#506784",
            "linecolor": "#506784",
            "ticks": ""
           },
           "baxis": {
            "gridcolor": "#506784",
            "linecolor": "#506784",
            "ticks": ""
           },
           "bgcolor": "rgb(17,17,17)",
           "caxis": {
            "gridcolor": "#506784",
            "linecolor": "#506784",
            "ticks": ""
           }
          },
          "title": {
           "x": 0.05
          },
          "updatemenudefaults": {
           "bgcolor": "#506784",
           "borderwidth": 0
          },
          "xaxis": {
           "automargin": true,
           "gridcolor": "#283442",
           "linecolor": "#506784",
           "ticks": "",
           "title": {
            "standoff": 15
           },
           "zerolinecolor": "#283442",
           "zerolinewidth": 2
          },
          "yaxis": {
           "automargin": true,
           "gridcolor": "#283442",
           "linecolor": "#506784",
           "ticks": "",
           "title": {
            "standoff": 15
           },
           "zerolinecolor": "#283442",
           "zerolinewidth": 2
          }
         }
        },
        "title": {
         "text": "Comparaison des Prix de Clôture des Actions"
        },
        "xaxis": {
         "title": {
          "text": "Date"
         }
        },
        "yaxis": {
         "title": {
          "text": "Prix de Clôture"
         }
        }
       }
      }
     },
     "metadata": {},
     "output_type": "display_data"
    }
   ],
   "source": [
    "import plotly.graph_objects as go\n",
    "\n",
    "fig = go.Figure()\n",
    "for action in df_comparaison.columns:\n",
    "    fig.add_trace(go.Scatter(\n",
    "        x=df_comparaison.index,\n",
    "        y=df_comparaison[action],\n",
    "        mode='lines',\n",
    "        name=action\n",
    "    ))\n",
    "\n",
    "fig.update_layout(\n",
    "    title=\"Comparaison des Prix de Clôture des Actions\",\n",
    "    xaxis_title=\"Date\",\n",
    "    yaxis_title=\"Prix de Clôture\",\n",
    "    template=\"plotly_dark\",\n",
    "    hovermode=\"x unified\"\n",
    ")\n",
    "fig.show()"
   ]
  },
  {
   "cell_type": "code",
   "execution_count": 40,
   "metadata": {},
   "outputs": [
    {
     "data": {
      "application/vnd.plotly.v1+json": {
       "config": {
        "plotlyServerURL": "https://plot.ly"
       },
       "data": [
        {
         "mode": "lines",
         "name": "AAPL",
         "type": "scatter",
         "x": [
          "2023-11-29T00:00:00-05:00",
          "2023-11-30T00:00:00-05:00",
          "2023-12-01T00:00:00-05:00",
          "2023-12-04T00:00:00-05:00",
          "2023-12-05T00:00:00-05:00",
          "2023-12-06T00:00:00-05:00",
          "2023-12-07T00:00:00-05:00",
          "2023-12-08T00:00:00-05:00",
          "2023-12-11T00:00:00-05:00",
          "2023-12-12T00:00:00-05:00",
          "2023-12-13T00:00:00-05:00",
          "2023-12-14T00:00:00-05:00",
          "2023-12-15T00:00:00-05:00",
          "2023-12-18T00:00:00-05:00",
          "2023-12-19T00:00:00-05:00",
          "2023-12-20T00:00:00-05:00",
          "2023-12-21T00:00:00-05:00",
          "2023-12-22T00:00:00-05:00",
          "2023-12-26T00:00:00-05:00",
          "2023-12-27T00:00:00-05:00",
          "2023-12-28T00:00:00-05:00",
          "2023-12-29T00:00:00-05:00",
          "2024-01-02T00:00:00-05:00",
          "2024-01-03T00:00:00-05:00",
          "2024-01-04T00:00:00-05:00",
          "2024-01-05T00:00:00-05:00",
          "2024-01-08T00:00:00-05:00",
          "2024-01-09T00:00:00-05:00",
          "2024-01-10T00:00:00-05:00",
          "2024-01-11T00:00:00-05:00",
          "2024-01-12T00:00:00-05:00",
          "2024-01-16T00:00:00-05:00",
          "2024-01-17T00:00:00-05:00",
          "2024-01-18T00:00:00-05:00",
          "2024-01-19T00:00:00-05:00",
          "2024-01-22T00:00:00-05:00",
          "2024-01-23T00:00:00-05:00",
          "2024-01-24T00:00:00-05:00",
          "2024-01-25T00:00:00-05:00",
          "2024-01-26T00:00:00-05:00",
          "2024-01-29T00:00:00-05:00",
          "2024-01-30T00:00:00-05:00",
          "2024-01-31T00:00:00-05:00",
          "2024-02-01T00:00:00-05:00",
          "2024-02-02T00:00:00-05:00",
          "2024-02-05T00:00:00-05:00",
          "2024-02-06T00:00:00-05:00",
          "2024-02-07T00:00:00-05:00",
          "2024-02-08T00:00:00-05:00",
          "2024-02-09T00:00:00-05:00",
          "2024-02-12T00:00:00-05:00",
          "2024-02-13T00:00:00-05:00",
          "2024-02-14T00:00:00-05:00",
          "2024-02-15T00:00:00-05:00",
          "2024-02-16T00:00:00-05:00",
          "2024-02-20T00:00:00-05:00",
          "2024-02-21T00:00:00-05:00",
          "2024-02-22T00:00:00-05:00",
          "2024-02-23T00:00:00-05:00",
          "2024-02-26T00:00:00-05:00",
          "2024-02-27T00:00:00-05:00",
          "2024-02-28T00:00:00-05:00",
          "2024-02-29T00:00:00-05:00",
          "2024-03-01T00:00:00-05:00",
          "2024-03-04T00:00:00-05:00",
          "2024-03-05T00:00:00-05:00",
          "2024-03-06T00:00:00-05:00",
          "2024-03-07T00:00:00-05:00",
          "2024-03-08T00:00:00-05:00",
          "2024-03-11T00:00:00-04:00",
          "2024-03-12T00:00:00-04:00",
          "2024-03-13T00:00:00-04:00",
          "2024-03-14T00:00:00-04:00",
          "2024-03-15T00:00:00-04:00",
          "2024-03-18T00:00:00-04:00",
          "2024-03-19T00:00:00-04:00",
          "2024-03-20T00:00:00-04:00",
          "2024-03-21T00:00:00-04:00",
          "2024-03-22T00:00:00-04:00",
          "2024-03-25T00:00:00-04:00",
          "2024-03-26T00:00:00-04:00",
          "2024-03-27T00:00:00-04:00",
          "2024-03-28T00:00:00-04:00",
          "2024-04-01T00:00:00-04:00",
          "2024-04-02T00:00:00-04:00",
          "2024-04-03T00:00:00-04:00",
          "2024-04-04T00:00:00-04:00",
          "2024-04-05T00:00:00-04:00",
          "2024-04-08T00:00:00-04:00",
          "2024-04-09T00:00:00-04:00",
          "2024-04-10T00:00:00-04:00",
          "2024-04-11T00:00:00-04:00",
          "2024-04-12T00:00:00-04:00",
          "2024-04-15T00:00:00-04:00",
          "2024-04-16T00:00:00-04:00",
          "2024-04-17T00:00:00-04:00",
          "2024-04-18T00:00:00-04:00",
          "2024-04-19T00:00:00-04:00",
          "2024-04-22T00:00:00-04:00",
          "2024-04-23T00:00:00-04:00",
          "2024-04-24T00:00:00-04:00",
          "2024-04-25T00:00:00-04:00",
          "2024-04-26T00:00:00-04:00",
          "2024-04-29T00:00:00-04:00",
          "2024-04-30T00:00:00-04:00",
          "2024-05-01T00:00:00-04:00",
          "2024-05-02T00:00:00-04:00",
          "2024-05-03T00:00:00-04:00",
          "2024-05-06T00:00:00-04:00",
          "2024-05-07T00:00:00-04:00",
          "2024-05-08T00:00:00-04:00",
          "2024-05-09T00:00:00-04:00",
          "2024-05-10T00:00:00-04:00",
          "2024-05-13T00:00:00-04:00",
          "2024-05-14T00:00:00-04:00",
          "2024-05-15T00:00:00-04:00",
          "2024-05-16T00:00:00-04:00",
          "2024-05-17T00:00:00-04:00",
          "2024-05-20T00:00:00-04:00",
          "2024-05-21T00:00:00-04:00",
          "2024-05-22T00:00:00-04:00",
          "2024-05-23T00:00:00-04:00",
          "2024-05-24T00:00:00-04:00",
          "2024-05-28T00:00:00-04:00",
          "2024-05-29T00:00:00-04:00",
          "2024-05-30T00:00:00-04:00",
          "2024-05-31T00:00:00-04:00",
          "2024-06-03T00:00:00-04:00",
          "2024-06-04T00:00:00-04:00",
          "2024-06-05T00:00:00-04:00",
          "2024-06-06T00:00:00-04:00",
          "2024-06-07T00:00:00-04:00",
          "2024-06-10T00:00:00-04:00",
          "2024-06-11T00:00:00-04:00",
          "2024-06-12T00:00:00-04:00",
          "2024-06-13T00:00:00-04:00",
          "2024-06-14T00:00:00-04:00",
          "2024-06-17T00:00:00-04:00",
          "2024-06-18T00:00:00-04:00",
          "2024-06-20T00:00:00-04:00",
          "2024-06-21T00:00:00-04:00",
          "2024-06-24T00:00:00-04:00",
          "2024-06-25T00:00:00-04:00",
          "2024-06-26T00:00:00-04:00",
          "2024-06-27T00:00:00-04:00",
          "2024-06-28T00:00:00-04:00",
          "2024-07-01T00:00:00-04:00",
          "2024-07-02T00:00:00-04:00",
          "2024-07-03T00:00:00-04:00",
          "2024-07-05T00:00:00-04:00",
          "2024-07-08T00:00:00-04:00",
          "2024-07-09T00:00:00-04:00",
          "2024-07-10T00:00:00-04:00",
          "2024-07-11T00:00:00-04:00",
          "2024-07-12T00:00:00-04:00",
          "2024-07-15T00:00:00-04:00",
          "2024-07-16T00:00:00-04:00",
          "2024-07-17T00:00:00-04:00",
          "2024-07-18T00:00:00-04:00",
          "2024-07-19T00:00:00-04:00",
          "2024-07-22T00:00:00-04:00",
          "2024-07-23T00:00:00-04:00",
          "2024-07-24T00:00:00-04:00",
          "2024-07-25T00:00:00-04:00",
          "2024-07-26T00:00:00-04:00",
          "2024-07-29T00:00:00-04:00",
          "2024-07-30T00:00:00-04:00",
          "2024-07-31T00:00:00-04:00",
          "2024-08-01T00:00:00-04:00",
          "2024-08-02T00:00:00-04:00",
          "2024-08-05T00:00:00-04:00",
          "2024-08-06T00:00:00-04:00",
          "2024-08-07T00:00:00-04:00",
          "2024-08-08T00:00:00-04:00",
          "2024-08-09T00:00:00-04:00",
          "2024-08-12T00:00:00-04:00",
          "2024-08-13T00:00:00-04:00",
          "2024-08-14T00:00:00-04:00",
          "2024-08-15T00:00:00-04:00",
          "2024-08-16T00:00:00-04:00",
          "2024-08-19T00:00:00-04:00",
          "2024-08-20T00:00:00-04:00",
          "2024-08-21T00:00:00-04:00",
          "2024-08-22T00:00:00-04:00",
          "2024-08-23T00:00:00-04:00",
          "2024-08-26T00:00:00-04:00",
          "2024-08-27T00:00:00-04:00",
          "2024-08-28T00:00:00-04:00",
          "2024-08-29T00:00:00-04:00",
          "2024-08-30T00:00:00-04:00",
          "2024-09-03T00:00:00-04:00",
          "2024-09-04T00:00:00-04:00",
          "2024-09-05T00:00:00-04:00",
          "2024-09-06T00:00:00-04:00",
          "2024-09-09T00:00:00-04:00",
          "2024-09-10T00:00:00-04:00",
          "2024-09-11T00:00:00-04:00",
          "2024-09-12T00:00:00-04:00",
          "2024-09-13T00:00:00-04:00",
          "2024-09-16T00:00:00-04:00",
          "2024-09-17T00:00:00-04:00",
          "2024-09-18T00:00:00-04:00",
          "2024-09-19T00:00:00-04:00",
          "2024-09-20T00:00:00-04:00",
          "2024-09-23T00:00:00-04:00",
          "2024-09-24T00:00:00-04:00",
          "2024-09-25T00:00:00-04:00",
          "2024-09-26T00:00:00-04:00",
          "2024-09-27T00:00:00-04:00",
          "2024-09-30T00:00:00-04:00",
          "2024-10-01T00:00:00-04:00",
          "2024-10-02T00:00:00-04:00",
          "2024-10-03T00:00:00-04:00",
          "2024-10-04T00:00:00-04:00",
          "2024-10-07T00:00:00-04:00",
          "2024-10-08T00:00:00-04:00",
          "2024-10-09T00:00:00-04:00",
          "2024-10-10T00:00:00-04:00",
          "2024-10-11T00:00:00-04:00",
          "2024-10-14T00:00:00-04:00",
          "2024-10-15T00:00:00-04:00",
          "2024-10-16T00:00:00-04:00",
          "2024-10-17T00:00:00-04:00",
          "2024-10-18T00:00:00-04:00",
          "2024-10-21T00:00:00-04:00",
          "2024-10-22T00:00:00-04:00",
          "2024-10-23T00:00:00-04:00",
          "2024-10-24T00:00:00-04:00",
          "2024-10-25T00:00:00-04:00",
          "2024-10-28T00:00:00-04:00",
          "2024-10-29T00:00:00-04:00",
          "2024-10-30T00:00:00-04:00",
          "2024-10-31T00:00:00-04:00",
          "2024-11-01T00:00:00-04:00",
          "2024-11-04T00:00:00-05:00",
          "2024-11-05T00:00:00-05:00",
          "2024-11-06T00:00:00-05:00",
          "2024-11-07T00:00:00-05:00",
          "2024-11-08T00:00:00-05:00",
          "2024-11-11T00:00:00-05:00",
          "2024-11-12T00:00:00-05:00",
          "2024-11-13T00:00:00-05:00",
          "2024-11-14T00:00:00-05:00",
          "2024-11-15T00:00:00-05:00",
          "2024-11-18T00:00:00-05:00",
          "2024-11-19T00:00:00-05:00",
          "2024-11-20T00:00:00-05:00",
          "2024-11-21T00:00:00-05:00",
          "2024-11-22T00:00:00-05:00",
          "2024-11-25T00:00:00-05:00",
          "2024-11-26T00:00:00-05:00",
          "2024-11-27T00:00:00-05:00",
          "2024-11-29T00:00:00-05:00"
         ],
         "y": [
          100,
          100.30627406366777,
          100.98747778349076,
          100.03166788798426,
          102.13866340622101,
          101.55778316686977,
          102.58751988858346,
          103.34793786259975,
          102.01192707721832,
          102.81988332031045,
          104.53609499556681,
          104.61530115262691,
          104.3301444123708,
          103.44299010935178,
          103.99745750017206,
          102.8832433876786,
          102.80402103635208,
          102.23371565297306,
          101.94328767899725,
          101.99608098752637,
          102.22316508840046,
          101.66868150331376,
          98.03029947247177,
          97.29628624985324,
          96.06061513920996,
          95.6751187242157,
          97.98805672851528,
          97.76626815276052,
          98.3207355435808,
          98.003894721074,
          98.17816122201934,
          96.96889486277384,
          96.46722078048266,
          99.60923235128602,
          101.1564649535832,
          102.38685673337355,
          103.06805235606333,
          102.70897688673327,
          102.53470228865471,
          101.61058457253209,
          101.2462378694823,
          99.29765466536573,
          97.37550050404654,
          98.6745478763244,
          98.14119780891576,
          99.10755826899486,
          99.96303658689641,
          100.02111732341166,
          99.44552451204652,
          99.85265646697786,
          98.953785612204,
          97.83814640426557,
          97.36756531350076,
          97.21423799903644,
          96.3946866611876,
          95.9981295622285,
          96.39998218630694,
          97.48388063206221,
          96.50572264889615,
          95.78664053991685,
          96.5638924538767,
          95.924113667556,
          95.56985599248587,
          94.99352634199862,
          92.58246727746041,
          89.94934433463833,
          89.42059343889296,
          89.3571524001927,
          90.27187744179173,
          91.33992979785506,
          91.5937182440557,
          90.4833745612366,
          91.47210740037491,
          91.27119323403548,
          91.85281031250886,
          93.10064331723353,
          94.47006287423937,
          90.6102647357703,
          91.09141258537414,
          90.3353265776252,
          89.73255978720735,
          91.63601766794467,
          90.66842644361763,
          89.90175748276322,
          89.27255355241476,
          89.7008271221574,
          89.26198679357573,
          89.66381512625455,
          89.06634386095604,
          89.71140197812964,
          88.71208618588588,
          92.55074270954368,
          93.34914433544803,
          91.30820522993834,
          89.55807466366534,
          88.82840960158056,
          88.32080841777969,
          87.24218930287732,
          87.68632515657832,
          88.2467925231072,
          89.36772725616495,
          89.82773349095753,
          89.51577523977635,
          91.73647879968098,
          90.06037222521365,
          89.51577523977635,
          91.48797778146647,
          96.96044145570261,
          96.07744907915352,
          96.4422735130627,
          96.62205416172405,
          97.58964538605107,
          96.91722705576092,
          98.62738207537622,
          99.2362541042344,
          100.44871883109785,
          100.51224893826341,
          100.52813551362141,
          101.14759859271825,
          101.84119092635254,
          101.07347743531403,
          98.94505690260364,
          100.58637009566762,
          100.59167371792017,
          100.75050708296726,
          101.2799624293019,
          101.78824377229243,
          102.7306691066028,
          102.90010161902178,
          103.70487568876239,
          102.96892725130668,
          104.24493018246889,
          102.24886538920894,
          109.6771592017846,
          112.81155946737059,
          113.43102254646742,
          112.50446759324862,
          114.7176003336019,
          113.45748397779766,
          111.01669224011239,
          109.85718276444226,
          110.2013190229999,
          110.69372188776563,
          112.90685462811891,
          113.3569013890632,
          111.51437443573103,
          114.75995643742334,
          116.6236492969664,
          117.30135505524268,
          119.83745005080951,
          120.62105821433921,
          121.0763843061364,
          123.35304715365525,
          120.48869437775555,
          122.06117384140146,
          124.10488216646895,
          124.32726183294804,
          121.18227861425663,
          118.69381905336415,
          118.76265278278227,
          118.57734988927172,
          119.13327476406978,
          115.70767729685305,
          115.15176051918819,
          115.4006016169975,
          115.54885202893917,
          115.84534475568924,
          117.581969303768,
          115.61238213610471,
          116.40656515560666,
          110.79961619588585,
          109.71951530560604,
          111.09082149464982,
          112.9386196817017,
          114.48994133626988,
          115.30624572370152,
          117.2887073331687,
          117.52724078040171,
          119.11745296577747,
          119.82244606297141,
          119.73763668973001,
          120.06627503532374,
          120.00796757907864,
          119.01674082291164,
          120.2411974040591,
          120.42142339504697,
          120.8719802753835,
          120.05567588795188,
          121.80490767243856,
          121.38615633135088,
          118.08381342585656,
          117.06608475269331,
          117.87708551787239,
          117.0501819830689,
          117.09788219480892,
          116.6738272314687,
          118.02550596961146,
          118.08381342585656,
          117.94069659637006,
          114.66486370500523,
          114.91398820247692,
          116.9812672823187,
          121.31724163060069,
          120.96209327087743,
          120.04507674058,
          120.5221355379128,
          119.9920648094542,
          120.60164938603488,
          120.7447662155214,
          123.50643924518525,
          119.90726353334603,
          120.20939996194346,
          119.62101368010656,
          120.21999910931535,
          117.5113380107773,
          119.67402561123235,
          121.67238999032392,
          121.40735462609462,
          120.61755215565928,
          122.605317387379,
          123.95699612552175,
          122.85974550710321,
          123.05587426771551,
          124.56657260496922,
          125.35107955028522,
          125.02244120469148,
          122.31907563127275,
          122.21837158554014,
          122.66362484362412,
          123.71846267828874,
          123.86157950777528,
          121.96923089380205,
          119.74823583710187,
          118.1580236517261,
          117.68095675726009,
          118.44425731069914,
          118.0573115088603,
          120.5804429941579,
          120.43717231914042,
          118.98848182800879,
          118.98848182800879,
          119.46076331674772,
          121.10579309395509,
          119.39708746118436,
          120.99966396897179,
          121.13763102173675,
          121.51970234938321,
          121.26499082999665,
          121.98136849648382,
          123.57332966263294,
          124.73546260946311,
          124.66647503451402,
          125.42531406755437
         ]
        },
        {
         "mode": "lines",
         "name": "MSFT",
         "type": "scatter",
         "x": [
          "2023-11-29T00:00:00-05:00",
          "2023-11-30T00:00:00-05:00",
          "2023-12-01T00:00:00-05:00",
          "2023-12-04T00:00:00-05:00",
          "2023-12-05T00:00:00-05:00",
          "2023-12-06T00:00:00-05:00",
          "2023-12-07T00:00:00-05:00",
          "2023-12-08T00:00:00-05:00",
          "2023-12-11T00:00:00-05:00",
          "2023-12-12T00:00:00-05:00",
          "2023-12-13T00:00:00-05:00",
          "2023-12-14T00:00:00-05:00",
          "2023-12-15T00:00:00-05:00",
          "2023-12-18T00:00:00-05:00",
          "2023-12-19T00:00:00-05:00",
          "2023-12-20T00:00:00-05:00",
          "2023-12-21T00:00:00-05:00",
          "2023-12-22T00:00:00-05:00",
          "2023-12-26T00:00:00-05:00",
          "2023-12-27T00:00:00-05:00",
          "2023-12-28T00:00:00-05:00",
          "2023-12-29T00:00:00-05:00",
          "2024-01-02T00:00:00-05:00",
          "2024-01-03T00:00:00-05:00",
          "2024-01-04T00:00:00-05:00",
          "2024-01-05T00:00:00-05:00",
          "2024-01-08T00:00:00-05:00",
          "2024-01-09T00:00:00-05:00",
          "2024-01-10T00:00:00-05:00",
          "2024-01-11T00:00:00-05:00",
          "2024-01-12T00:00:00-05:00",
          "2024-01-16T00:00:00-05:00",
          "2024-01-17T00:00:00-05:00",
          "2024-01-18T00:00:00-05:00",
          "2024-01-19T00:00:00-05:00",
          "2024-01-22T00:00:00-05:00",
          "2024-01-23T00:00:00-05:00",
          "2024-01-24T00:00:00-05:00",
          "2024-01-25T00:00:00-05:00",
          "2024-01-26T00:00:00-05:00",
          "2024-01-29T00:00:00-05:00",
          "2024-01-30T00:00:00-05:00",
          "2024-01-31T00:00:00-05:00",
          "2024-02-01T00:00:00-05:00",
          "2024-02-02T00:00:00-05:00",
          "2024-02-05T00:00:00-05:00",
          "2024-02-06T00:00:00-05:00",
          "2024-02-07T00:00:00-05:00",
          "2024-02-08T00:00:00-05:00",
          "2024-02-09T00:00:00-05:00",
          "2024-02-12T00:00:00-05:00",
          "2024-02-13T00:00:00-05:00",
          "2024-02-14T00:00:00-05:00",
          "2024-02-15T00:00:00-05:00",
          "2024-02-16T00:00:00-05:00",
          "2024-02-20T00:00:00-05:00",
          "2024-02-21T00:00:00-05:00",
          "2024-02-22T00:00:00-05:00",
          "2024-02-23T00:00:00-05:00",
          "2024-02-26T00:00:00-05:00",
          "2024-02-27T00:00:00-05:00",
          "2024-02-28T00:00:00-05:00",
          "2024-02-29T00:00:00-05:00",
          "2024-03-01T00:00:00-05:00",
          "2024-03-04T00:00:00-05:00",
          "2024-03-05T00:00:00-05:00",
          "2024-03-06T00:00:00-05:00",
          "2024-03-07T00:00:00-05:00",
          "2024-03-08T00:00:00-05:00",
          "2024-03-11T00:00:00-04:00",
          "2024-03-12T00:00:00-04:00",
          "2024-03-13T00:00:00-04:00",
          "2024-03-14T00:00:00-04:00",
          "2024-03-15T00:00:00-04:00",
          "2024-03-18T00:00:00-04:00",
          "2024-03-19T00:00:00-04:00",
          "2024-03-20T00:00:00-04:00",
          "2024-03-21T00:00:00-04:00",
          "2024-03-22T00:00:00-04:00",
          "2024-03-25T00:00:00-04:00",
          "2024-03-26T00:00:00-04:00",
          "2024-03-27T00:00:00-04:00",
          "2024-03-28T00:00:00-04:00",
          "2024-04-01T00:00:00-04:00",
          "2024-04-02T00:00:00-04:00",
          "2024-04-03T00:00:00-04:00",
          "2024-04-04T00:00:00-04:00",
          "2024-04-05T00:00:00-04:00",
          "2024-04-08T00:00:00-04:00",
          "2024-04-09T00:00:00-04:00",
          "2024-04-10T00:00:00-04:00",
          "2024-04-11T00:00:00-04:00",
          "2024-04-12T00:00:00-04:00",
          "2024-04-15T00:00:00-04:00",
          "2024-04-16T00:00:00-04:00",
          "2024-04-17T00:00:00-04:00",
          "2024-04-18T00:00:00-04:00",
          "2024-04-19T00:00:00-04:00",
          "2024-04-22T00:00:00-04:00",
          "2024-04-23T00:00:00-04:00",
          "2024-04-24T00:00:00-04:00",
          "2024-04-25T00:00:00-04:00",
          "2024-04-26T00:00:00-04:00",
          "2024-04-29T00:00:00-04:00",
          "2024-04-30T00:00:00-04:00",
          "2024-05-01T00:00:00-04:00",
          "2024-05-02T00:00:00-04:00",
          "2024-05-03T00:00:00-04:00",
          "2024-05-06T00:00:00-04:00",
          "2024-05-07T00:00:00-04:00",
          "2024-05-08T00:00:00-04:00",
          "2024-05-09T00:00:00-04:00",
          "2024-05-10T00:00:00-04:00",
          "2024-05-13T00:00:00-04:00",
          "2024-05-14T00:00:00-04:00",
          "2024-05-15T00:00:00-04:00",
          "2024-05-16T00:00:00-04:00",
          "2024-05-17T00:00:00-04:00",
          "2024-05-20T00:00:00-04:00",
          "2024-05-21T00:00:00-04:00",
          "2024-05-22T00:00:00-04:00",
          "2024-05-23T00:00:00-04:00",
          "2024-05-24T00:00:00-04:00",
          "2024-05-28T00:00:00-04:00",
          "2024-05-29T00:00:00-04:00",
          "2024-05-30T00:00:00-04:00",
          "2024-05-31T00:00:00-04:00",
          "2024-06-03T00:00:00-04:00",
          "2024-06-04T00:00:00-04:00",
          "2024-06-05T00:00:00-04:00",
          "2024-06-06T00:00:00-04:00",
          "2024-06-07T00:00:00-04:00",
          "2024-06-10T00:00:00-04:00",
          "2024-06-11T00:00:00-04:00",
          "2024-06-12T00:00:00-04:00",
          "2024-06-13T00:00:00-04:00",
          "2024-06-14T00:00:00-04:00",
          "2024-06-17T00:00:00-04:00",
          "2024-06-18T00:00:00-04:00",
          "2024-06-20T00:00:00-04:00",
          "2024-06-21T00:00:00-04:00",
          "2024-06-24T00:00:00-04:00",
          "2024-06-25T00:00:00-04:00",
          "2024-06-26T00:00:00-04:00",
          "2024-06-27T00:00:00-04:00",
          "2024-06-28T00:00:00-04:00",
          "2024-07-01T00:00:00-04:00",
          "2024-07-02T00:00:00-04:00",
          "2024-07-03T00:00:00-04:00",
          "2024-07-05T00:00:00-04:00",
          "2024-07-08T00:00:00-04:00",
          "2024-07-09T00:00:00-04:00",
          "2024-07-10T00:00:00-04:00",
          "2024-07-11T00:00:00-04:00",
          "2024-07-12T00:00:00-04:00",
          "2024-07-15T00:00:00-04:00",
          "2024-07-16T00:00:00-04:00",
          "2024-07-17T00:00:00-04:00",
          "2024-07-18T00:00:00-04:00",
          "2024-07-19T00:00:00-04:00",
          "2024-07-22T00:00:00-04:00",
          "2024-07-23T00:00:00-04:00",
          "2024-07-24T00:00:00-04:00",
          "2024-07-25T00:00:00-04:00",
          "2024-07-26T00:00:00-04:00",
          "2024-07-29T00:00:00-04:00",
          "2024-07-30T00:00:00-04:00",
          "2024-07-31T00:00:00-04:00",
          "2024-08-01T00:00:00-04:00",
          "2024-08-02T00:00:00-04:00",
          "2024-08-05T00:00:00-04:00",
          "2024-08-06T00:00:00-04:00",
          "2024-08-07T00:00:00-04:00",
          "2024-08-08T00:00:00-04:00",
          "2024-08-09T00:00:00-04:00",
          "2024-08-12T00:00:00-04:00",
          "2024-08-13T00:00:00-04:00",
          "2024-08-14T00:00:00-04:00",
          "2024-08-15T00:00:00-04:00",
          "2024-08-16T00:00:00-04:00",
          "2024-08-19T00:00:00-04:00",
          "2024-08-20T00:00:00-04:00",
          "2024-08-21T00:00:00-04:00",
          "2024-08-22T00:00:00-04:00",
          "2024-08-23T00:00:00-04:00",
          "2024-08-26T00:00:00-04:00",
          "2024-08-27T00:00:00-04:00",
          "2024-08-28T00:00:00-04:00",
          "2024-08-29T00:00:00-04:00",
          "2024-08-30T00:00:00-04:00",
          "2024-09-03T00:00:00-04:00",
          "2024-09-04T00:00:00-04:00",
          "2024-09-05T00:00:00-04:00",
          "2024-09-06T00:00:00-04:00",
          "2024-09-09T00:00:00-04:00",
          "2024-09-10T00:00:00-04:00",
          "2024-09-11T00:00:00-04:00",
          "2024-09-12T00:00:00-04:00",
          "2024-09-13T00:00:00-04:00",
          "2024-09-16T00:00:00-04:00",
          "2024-09-17T00:00:00-04:00",
          "2024-09-18T00:00:00-04:00",
          "2024-09-19T00:00:00-04:00",
          "2024-09-20T00:00:00-04:00",
          "2024-09-23T00:00:00-04:00",
          "2024-09-24T00:00:00-04:00",
          "2024-09-25T00:00:00-04:00",
          "2024-09-26T00:00:00-04:00",
          "2024-09-27T00:00:00-04:00",
          "2024-09-30T00:00:00-04:00",
          "2024-10-01T00:00:00-04:00",
          "2024-10-02T00:00:00-04:00",
          "2024-10-03T00:00:00-04:00",
          "2024-10-04T00:00:00-04:00",
          "2024-10-07T00:00:00-04:00",
          "2024-10-08T00:00:00-04:00",
          "2024-10-09T00:00:00-04:00",
          "2024-10-10T00:00:00-04:00",
          "2024-10-11T00:00:00-04:00",
          "2024-10-14T00:00:00-04:00",
          "2024-10-15T00:00:00-04:00",
          "2024-10-16T00:00:00-04:00",
          "2024-10-17T00:00:00-04:00",
          "2024-10-18T00:00:00-04:00",
          "2024-10-21T00:00:00-04:00",
          "2024-10-22T00:00:00-04:00",
          "2024-10-23T00:00:00-04:00",
          "2024-10-24T00:00:00-04:00",
          "2024-10-25T00:00:00-04:00",
          "2024-10-28T00:00:00-04:00",
          "2024-10-29T00:00:00-04:00",
          "2024-10-30T00:00:00-04:00",
          "2024-10-31T00:00:00-04:00",
          "2024-11-01T00:00:00-04:00",
          "2024-11-04T00:00:00-05:00",
          "2024-11-05T00:00:00-05:00",
          "2024-11-06T00:00:00-05:00",
          "2024-11-07T00:00:00-05:00",
          "2024-11-08T00:00:00-05:00",
          "2024-11-11T00:00:00-05:00",
          "2024-11-12T00:00:00-05:00",
          "2024-11-13T00:00:00-05:00",
          "2024-11-14T00:00:00-05:00",
          "2024-11-15T00:00:00-05:00",
          "2024-11-18T00:00:00-05:00",
          "2024-11-19T00:00:00-05:00",
          "2024-11-20T00:00:00-05:00",
          "2024-11-21T00:00:00-05:00",
          "2024-11-22T00:00:00-05:00",
          "2024-11-25T00:00:00-05:00",
          "2024-11-26T00:00:00-05:00",
          "2024-11-27T00:00:00-05:00",
          "2024-11-29T00:00:00-05:00"
         ],
         "y": [
          100,
          100.01584156615957,
          98.85442428486122,
          97.43699366028963,
          98.32915301021407,
          97.34723560612738,
          97.9147402364581,
          98.78052402797141,
          98.00711961534859,
          98.82011982781385,
          98.81746604085988,
          96.58968087522057,
          97.8566734301714,
          98.36345746726144,
          98.52449445358526,
          97.82763596924983,
          98.59839471047509,
          98.8729034068619,
          98.89402008470368,
          98.73829067228782,
          99.05767028019933,
          99.2582787196963,
          97.89362355861631,
          97.8223608575676,
          97.12022726154994,
          97.07008123834302,
          98.90194086778347,
          99.19229924588626,
          101.03470098313474,
          101.52566780073454,
          102.5392602215839,
          103.01437735746771,
          102.80321057904982,
          103.96462786034814,
          105.23162853085543,
          104.66147822912714,
          105.2923247774268,
          106.25841684646682,
          106.86816294803756,
          106.62003792561833,
          108.14834328219396,
          107.85006412101139,
          104.94390770859374,
          106.58045024133229,
          108.5442850495057,
          107.07404649921676,
          107.03179691242033,
          109.29127332593521,
          109.30710677653832,
          111.0069912272458,
          109.61066916495956,
          107.25089258947442,
          108.28751695948407,
          107.51269232448526,
          106.85158286624248,
          106.515736794326,
          106.35441576352697,
          108.85871416799233,
          108.51229352604209,
          107.771854503655,
          107.75598047526971,
          107.81944412658515,
          109.38496742496804,
          109.87682695377559,
          109.72345105272564,
          106.47870551031673,
          106.33061283650547,
          108.19496715390844,
          107.42278007475076,
          106.97321882607827,
          109.8186465296988,
          109.77105690676865,
          112.44723468095394,
          110.12012322011645,
          110.35812002810579,
          111.43969646520446,
          112.44988035235149,
          113.54467703088147,
          113.3780727728438,
          111.82314027560753,
          111.50315200096348,
          111.44497969244314,
          111.25722629433793,
          112.2753471956776,
          111.44763347939713,
          111.18583374438626,
          110.50620458636064,
          112.52656424509824,
          112.28063042291625,
          112.72753788463477,
          111.9289184381709,
          113.16387889187595,
          111.56927755478934,
          109.38496742496804,
          109.63353880299114,
          108.90895757787646,
          106.90710950336528,
          105.54522174702934,
          106.03179804859822,
          107.77978340229122,
          108.17380178272803,
          105.52406449140538,
          107.44922867316981,
          106.37293546330982,
          102.95630243562456,
          104.43984238290915,
          105.2067300037153,
          107.53913280734788,
          109.35851882654897,
          108.24784811963369,
          108.56518260732378,
          109.0358929960638,
          109.67584519868261,
          109.40611656503556,
          110.15713827301283,
          112.0831140104207,
          111.52943828825386,
          111.32279187476983,
          112.68184730191022,
          113.66206043914575,
          114.0541392015948,
          113.12161307396664,
          113.95877329793653,
          114.00115273363592,
          113.69650286065249,
          109.85513407142695,
          109.97699726684291,
          109.55046796733066,
          110.22602311602631,
          112.329502303763,
          112.46460197172313,
          112.2871147525072,
          113.3520948766979,
          114.62636708577023,
          116.84641812612774,
          116.98417969659829,
          117.24645013388233,
          118.7829927802387,
          118.24520731757,
          118.07565711254671,
          119.15653561179202,
          118.59756043127365,
          119.46649305868343,
          119.78704942227789,
          119.96984421540179,
          118.40681239284423,
          120.99774436224469,
          121.6732913953839,
          122.06802394478696,
          123.86684514398377,
          123.5171458172341,
          121.74217623839738,
          123.51979960418808,
          120.45995078401957,
          120.15528467992327,
          120.26391140279502,
          119.08765888433499,
          117.49812165446329,
          116.66362333300384,
          115.79997393283273,
          117.3444698244946,
          117.85047476816695,
          113.62496423068502,
          110.84328422285512,
          112.66329513990165,
          113.05009067511205,
          112.04074269027775,
          110.83004775031095,
          110.50153814141098,
          108.21790983194792,
          104.68385281821624,
          105.86540479502781,
          105.55280167673888,
          106.68136718559158,
          107.56355251665839,
          107.77284460153997,
          109.68028440805213,
          110.43530708535147,
          111.74107576894492,
          111.06164949983015,
          111.8737732322005,
          112.74162649060453,
          112.5664684360852,
          110.28668690037198,
          110.61578082933521,
          109.7399580945128,
          109.83284875345865,
          108.97296497147302,
          109.64176797721541,
          110.70867148828106,
          108.6650932225852,
          108.52178061151368,
          108.3864293613041,
          106.61090792462986,
          107.6778114356955,
          109.92840131491492,
          112.27452752447773,
          113.32550831381947,
          114.27829087030742,
          114.47734112296901,
          115.48851510800102,
          114.33668229885147,
          116.42802872971902,
          115.5203605514488,
          115.053261585322,
          113.90142877617247,
          114.68169894953861,
          114.46937976210707,
          113.59621081423865,
          114.20132293308545,
          111.65083889695305,
          110.70601770132707,
          110.54943615548562,
          110.42203815058156,
          108.69163920768148,
          110.0637525651245,
          110.79359267080852,
          110.36365483759391,
          110.49104472694155,
          111.23947757241632,
          111.13330986314413,
          110.43796087230547,
          110.59720432065731,
          110.97938210425666,
          111.14392501096006,
          113.4608676795855,
          112.68855075152486,
          112.72305809748309,
          113.63071816019685,
          113.21669493314972,
          114.63923835827488,
          114.79316611716234,
          107.84501624490932,
          108.91191975597496,
          108.40500586998196,
          109.20119876507202,
          111.51547953118704,
          112.90883129981837,
          112.14183006122214,
          110.93956718439047,
          112.27187373752375,
          112.84779419987674,
          113.29631665732566,
          110.14072050234644,
          110.34242454196206,
          110.88118387140284,
          110.27075606309162,
          109.79474621600008,
          110.8930406993532,
          111.3690586620012,
          113.81561488243723,
          112.48596211625794,
          112.54181337563811
         ]
        },
        {
         "mode": "lines",
         "name": "TSLA",
         "type": "scatter",
         "x": [
          "2023-11-29T00:00:00-05:00",
          "2023-11-30T00:00:00-05:00",
          "2023-12-01T00:00:00-05:00",
          "2023-12-04T00:00:00-05:00",
          "2023-12-05T00:00:00-05:00",
          "2023-12-06T00:00:00-05:00",
          "2023-12-07T00:00:00-05:00",
          "2023-12-08T00:00:00-05:00",
          "2023-12-11T00:00:00-05:00",
          "2023-12-12T00:00:00-05:00",
          "2023-12-13T00:00:00-05:00",
          "2023-12-14T00:00:00-05:00",
          "2023-12-15T00:00:00-05:00",
          "2023-12-18T00:00:00-05:00",
          "2023-12-19T00:00:00-05:00",
          "2023-12-20T00:00:00-05:00",
          "2023-12-21T00:00:00-05:00",
          "2023-12-22T00:00:00-05:00",
          "2023-12-26T00:00:00-05:00",
          "2023-12-27T00:00:00-05:00",
          "2023-12-28T00:00:00-05:00",
          "2023-12-29T00:00:00-05:00",
          "2024-01-02T00:00:00-05:00",
          "2024-01-03T00:00:00-05:00",
          "2024-01-04T00:00:00-05:00",
          "2024-01-05T00:00:00-05:00",
          "2024-01-08T00:00:00-05:00",
          "2024-01-09T00:00:00-05:00",
          "2024-01-10T00:00:00-05:00",
          "2024-01-11T00:00:00-05:00",
          "2024-01-12T00:00:00-05:00",
          "2024-01-16T00:00:00-05:00",
          "2024-01-17T00:00:00-05:00",
          "2024-01-18T00:00:00-05:00",
          "2024-01-19T00:00:00-05:00",
          "2024-01-22T00:00:00-05:00",
          "2024-01-23T00:00:00-05:00",
          "2024-01-24T00:00:00-05:00",
          "2024-01-25T00:00:00-05:00",
          "2024-01-26T00:00:00-05:00",
          "2024-01-29T00:00:00-05:00",
          "2024-01-30T00:00:00-05:00",
          "2024-01-31T00:00:00-05:00",
          "2024-02-01T00:00:00-05:00",
          "2024-02-02T00:00:00-05:00",
          "2024-02-05T00:00:00-05:00",
          "2024-02-06T00:00:00-05:00",
          "2024-02-07T00:00:00-05:00",
          "2024-02-08T00:00:00-05:00",
          "2024-02-09T00:00:00-05:00",
          "2024-02-12T00:00:00-05:00",
          "2024-02-13T00:00:00-05:00",
          "2024-02-14T00:00:00-05:00",
          "2024-02-15T00:00:00-05:00",
          "2024-02-16T00:00:00-05:00",
          "2024-02-20T00:00:00-05:00",
          "2024-02-21T00:00:00-05:00",
          "2024-02-22T00:00:00-05:00",
          "2024-02-23T00:00:00-05:00",
          "2024-02-26T00:00:00-05:00",
          "2024-02-27T00:00:00-05:00",
          "2024-02-28T00:00:00-05:00",
          "2024-02-29T00:00:00-05:00",
          "2024-03-01T00:00:00-05:00",
          "2024-03-04T00:00:00-05:00",
          "2024-03-05T00:00:00-05:00",
          "2024-03-06T00:00:00-05:00",
          "2024-03-07T00:00:00-05:00",
          "2024-03-08T00:00:00-05:00",
          "2024-03-11T00:00:00-04:00",
          "2024-03-12T00:00:00-04:00",
          "2024-03-13T00:00:00-04:00",
          "2024-03-14T00:00:00-04:00",
          "2024-03-15T00:00:00-04:00",
          "2024-03-18T00:00:00-04:00",
          "2024-03-19T00:00:00-04:00",
          "2024-03-20T00:00:00-04:00",
          "2024-03-21T00:00:00-04:00",
          "2024-03-22T00:00:00-04:00",
          "2024-03-25T00:00:00-04:00",
          "2024-03-26T00:00:00-04:00",
          "2024-03-27T00:00:00-04:00",
          "2024-03-28T00:00:00-04:00",
          "2024-04-01T00:00:00-04:00",
          "2024-04-02T00:00:00-04:00",
          "2024-04-03T00:00:00-04:00",
          "2024-04-04T00:00:00-04:00",
          "2024-04-05T00:00:00-04:00",
          "2024-04-08T00:00:00-04:00",
          "2024-04-09T00:00:00-04:00",
          "2024-04-10T00:00:00-04:00",
          "2024-04-11T00:00:00-04:00",
          "2024-04-12T00:00:00-04:00",
          "2024-04-15T00:00:00-04:00",
          "2024-04-16T00:00:00-04:00",
          "2024-04-17T00:00:00-04:00",
          "2024-04-18T00:00:00-04:00",
          "2024-04-19T00:00:00-04:00",
          "2024-04-22T00:00:00-04:00",
          "2024-04-23T00:00:00-04:00",
          "2024-04-24T00:00:00-04:00",
          "2024-04-25T00:00:00-04:00",
          "2024-04-26T00:00:00-04:00",
          "2024-04-29T00:00:00-04:00",
          "2024-04-30T00:00:00-04:00",
          "2024-05-01T00:00:00-04:00",
          "2024-05-02T00:00:00-04:00",
          "2024-05-03T00:00:00-04:00",
          "2024-05-06T00:00:00-04:00",
          "2024-05-07T00:00:00-04:00",
          "2024-05-08T00:00:00-04:00",
          "2024-05-09T00:00:00-04:00",
          "2024-05-10T00:00:00-04:00",
          "2024-05-13T00:00:00-04:00",
          "2024-05-14T00:00:00-04:00",
          "2024-05-15T00:00:00-04:00",
          "2024-05-16T00:00:00-04:00",
          "2024-05-17T00:00:00-04:00",
          "2024-05-20T00:00:00-04:00",
          "2024-05-21T00:00:00-04:00",
          "2024-05-22T00:00:00-04:00",
          "2024-05-23T00:00:00-04:00",
          "2024-05-24T00:00:00-04:00",
          "2024-05-28T00:00:00-04:00",
          "2024-05-29T00:00:00-04:00",
          "2024-05-30T00:00:00-04:00",
          "2024-05-31T00:00:00-04:00",
          "2024-06-03T00:00:00-04:00",
          "2024-06-04T00:00:00-04:00",
          "2024-06-05T00:00:00-04:00",
          "2024-06-06T00:00:00-04:00",
          "2024-06-07T00:00:00-04:00",
          "2024-06-10T00:00:00-04:00",
          "2024-06-11T00:00:00-04:00",
          "2024-06-12T00:00:00-04:00",
          "2024-06-13T00:00:00-04:00",
          "2024-06-14T00:00:00-04:00",
          "2024-06-17T00:00:00-04:00",
          "2024-06-18T00:00:00-04:00",
          "2024-06-20T00:00:00-04:00",
          "2024-06-21T00:00:00-04:00",
          "2024-06-24T00:00:00-04:00",
          "2024-06-25T00:00:00-04:00",
          "2024-06-26T00:00:00-04:00",
          "2024-06-27T00:00:00-04:00",
          "2024-06-28T00:00:00-04:00",
          "2024-07-01T00:00:00-04:00",
          "2024-07-02T00:00:00-04:00",
          "2024-07-03T00:00:00-04:00",
          "2024-07-05T00:00:00-04:00",
          "2024-07-08T00:00:00-04:00",
          "2024-07-09T00:00:00-04:00",
          "2024-07-10T00:00:00-04:00",
          "2024-07-11T00:00:00-04:00",
          "2024-07-12T00:00:00-04:00",
          "2024-07-15T00:00:00-04:00",
          "2024-07-16T00:00:00-04:00",
          "2024-07-17T00:00:00-04:00",
          "2024-07-18T00:00:00-04:00",
          "2024-07-19T00:00:00-04:00",
          "2024-07-22T00:00:00-04:00",
          "2024-07-23T00:00:00-04:00",
          "2024-07-24T00:00:00-04:00",
          "2024-07-25T00:00:00-04:00",
          "2024-07-26T00:00:00-04:00",
          "2024-07-29T00:00:00-04:00",
          "2024-07-30T00:00:00-04:00",
          "2024-07-31T00:00:00-04:00",
          "2024-08-01T00:00:00-04:00",
          "2024-08-02T00:00:00-04:00",
          "2024-08-05T00:00:00-04:00",
          "2024-08-06T00:00:00-04:00",
          "2024-08-07T00:00:00-04:00",
          "2024-08-08T00:00:00-04:00",
          "2024-08-09T00:00:00-04:00",
          "2024-08-12T00:00:00-04:00",
          "2024-08-13T00:00:00-04:00",
          "2024-08-14T00:00:00-04:00",
          "2024-08-15T00:00:00-04:00",
          "2024-08-16T00:00:00-04:00",
          "2024-08-19T00:00:00-04:00",
          "2024-08-20T00:00:00-04:00",
          "2024-08-21T00:00:00-04:00",
          "2024-08-22T00:00:00-04:00",
          "2024-08-23T00:00:00-04:00",
          "2024-08-26T00:00:00-04:00",
          "2024-08-27T00:00:00-04:00",
          "2024-08-28T00:00:00-04:00",
          "2024-08-29T00:00:00-04:00",
          "2024-08-30T00:00:00-04:00",
          "2024-09-03T00:00:00-04:00",
          "2024-09-04T00:00:00-04:00",
          "2024-09-05T00:00:00-04:00",
          "2024-09-06T00:00:00-04:00",
          "2024-09-09T00:00:00-04:00",
          "2024-09-10T00:00:00-04:00",
          "2024-09-11T00:00:00-04:00",
          "2024-09-12T00:00:00-04:00",
          "2024-09-13T00:00:00-04:00",
          "2024-09-16T00:00:00-04:00",
          "2024-09-17T00:00:00-04:00",
          "2024-09-18T00:00:00-04:00",
          "2024-09-19T00:00:00-04:00",
          "2024-09-20T00:00:00-04:00",
          "2024-09-23T00:00:00-04:00",
          "2024-09-24T00:00:00-04:00",
          "2024-09-25T00:00:00-04:00",
          "2024-09-26T00:00:00-04:00",
          "2024-09-27T00:00:00-04:00",
          "2024-09-30T00:00:00-04:00",
          "2024-10-01T00:00:00-04:00",
          "2024-10-02T00:00:00-04:00",
          "2024-10-03T00:00:00-04:00",
          "2024-10-04T00:00:00-04:00",
          "2024-10-07T00:00:00-04:00",
          "2024-10-08T00:00:00-04:00",
          "2024-10-09T00:00:00-04:00",
          "2024-10-10T00:00:00-04:00",
          "2024-10-11T00:00:00-04:00",
          "2024-10-14T00:00:00-04:00",
          "2024-10-15T00:00:00-04:00",
          "2024-10-16T00:00:00-04:00",
          "2024-10-17T00:00:00-04:00",
          "2024-10-18T00:00:00-04:00",
          "2024-10-21T00:00:00-04:00",
          "2024-10-22T00:00:00-04:00",
          "2024-10-23T00:00:00-04:00",
          "2024-10-24T00:00:00-04:00",
          "2024-10-25T00:00:00-04:00",
          "2024-10-28T00:00:00-04:00",
          "2024-10-29T00:00:00-04:00",
          "2024-10-30T00:00:00-04:00",
          "2024-10-31T00:00:00-04:00",
          "2024-11-01T00:00:00-04:00",
          "2024-11-04T00:00:00-05:00",
          "2024-11-05T00:00:00-05:00",
          "2024-11-06T00:00:00-05:00",
          "2024-11-07T00:00:00-05:00",
          "2024-11-08T00:00:00-05:00",
          "2024-11-11T00:00:00-05:00",
          "2024-11-12T00:00:00-05:00",
          "2024-11-13T00:00:00-05:00",
          "2024-11-14T00:00:00-05:00",
          "2024-11-15T00:00:00-05:00",
          "2024-11-18T00:00:00-05:00",
          "2024-11-19T00:00:00-05:00",
          "2024-11-20T00:00:00-05:00",
          "2024-11-21T00:00:00-05:00",
          "2024-11-22T00:00:00-05:00",
          "2024-11-25T00:00:00-05:00",
          "2024-11-26T00:00:00-05:00",
          "2024-11-27T00:00:00-05:00",
          "2024-11-29T00:00:00-05:00"
         ],
         "y": [
          100,
          98.33702073861565,
          97.82501942661229,
          96.49381601540354,
          97.77996306115534,
          98.04620124339068,
          99.38559842559597,
          99.87711843511599,
          98.19775788175458,
          97.0795425163277,
          98.01343240942056,
          102.83034475275844,
          103.83386607428181,
          103.25223333384793,
          105.35758247880511,
          101.22880314880807,
          104.2434671238845,
          103.4406463166562,
          105.1077193385308,
          107.08609940812974,
          103.70279073840128,
          101.77766705527182,
          101.75309199229822,
          97.66936902775814,
          97.45637473196025,
          97.27615552014852,
          98.4885711269635,
          96.239865364655,
          95.82207054405578,
          93.06955099072441,
          89.65757349753208,
          90.07536831813131,
          88.28950749186295,
          86.786272389823,
          86.91324771519727,
          85.52470040704479,
          85.66396326390586,
          85.1273868889289,
          74.80544168894433,
          75.05939233969286,
          78.20512540063383,
          78.47546359337547,
          76.71417783008069,
          77.3572544779646,
          76.96813473084525,
          74.16236504106041,
          75.81715678146426,
          76.83296563447443,
          77.64397396268328,
          79.28647817160032,
          77.05824746175912,
          75.37478689789143,
          77.2958168205306,
          82.10452914285594,
          81.89972861805458,
          79.36429712101138,
          79.77799818112034,
          80.8593447020708,
          78.6311139922296,
          81.6744467907699,
          81.80961588714071,
          82.75579331172037,
          82.6902618937961,
          83.00155644148838,
          77.06234122224939,
          74.03129595519589,
          72.31096654685177,
          73.17522501151409,
          71.81944653733176,
          72.81478033787462,
          72.72056759645447,
          69.41918413665935,
          66.56017056043706,
          66.99844668351963,
          71.18866367095066,
          70.17285481794046,
          71.95052187321231,
          70.78725639234452,
          69.9721480536294,
          70.70943119291742,
          72.77381773290794,
          73.65855750005359,
          72.00376575964977,
          71.77029641138455,
          68.2518248953013,
          68.968626732106,
          70.08683584751687,
          67.5432105794771,
          70.85278781026877,
          72.45023565372887,
          70.35307402975221,
          71.51634576063601,
          70.06226078454326,
          66.14237573983783,
          64.3524211530792,
          63.6724819107349,
          61.411482366923565,
          60.23183559407871,
          58.18383034606526,
          59.26107685650944,
          66.4086201720892,
          69.70590362137803,
          68.93175788762959,
          79.48308492540512,
          75.07167987117967,
          73.72409516799387,
          73.7322826889744,
          74.2156151775139,
          75.67788767458717,
          72.83116162985168,
          71.56549588658321,
          70.43909300017582,
          69.00548932656639,
          70.40632416620568,
          72.72466760696075,
          71.26648887037773,
          71.6146460125304,
          72.68780501250033,
          71.65970237798734,
          76.43155835586829,
          73.77324529394107,
          71.16408860797706,
          73.41689438079186,
          72.3969855172754,
          72.16760992950044,
          73.23256890845784,
          72.94175566324888,
          72.20856628445111,
          71.58597718906655,
          71.68018368047068,
          72.88441176630515,
          72.69599253348088,
          71.18456366044438,
          69.90251662519886,
          72.6181673340538,
          74.73990402100405,
          72.91308058976901,
          76.7756217375307,
          75.71885027955383,
          74.37126557636805,
          74.96108583778246,
          74.78496038646098,
          76.7387591430703,
          80.43335611047503,
          80.86343846256106,
          81.05185769538534,
          85.95887651962109,
          94.72433648111223,
          100.92160236160606,
          103.02285774607299,
          103.60449048650686,
          107.45063784225948,
          107.8315763184143,
          98.72614048573499,
          101.67526679287116,
          103.48160892162286,
          105.08724428606348,
          101.78586082626838,
          102.08486784247384,
          97.97656981496014,
          103.01875773556671,
          100.91750860111578,
          88.4697329536907,
          90.21463117499239,
          90.03031195267438,
          95.06840611279065,
          91.18538366254563,
          95.05611858130386,
          88.82608386683991,
          85.06184922098863,
          81.46145874498804,
          82.182354342283,
          78.54509502180599,
          81.44507120299495,
          81.92020992053793,
          80.89211353604094,
          85.1273868889289,
          82.48546136899476,
          87.71196851191931,
          88.52297684012815,
          91.22634626751231,
          90.56279456716108,
          91.45162809479699,
          86.28655860930644,
          90.24330624847227,
          87.3310425357965,
          85.69263833738574,
          84.27541595575339,
          84.49250401204154,
          87.69968098043252,
          86.26198354633283,
          89.87056779332997,
          94.27787283704915,
          86.31522743277029,
          88.58442074757816,
          92.63946863863839,
          93.4422894458667,
          94.13041620919154,
          94.32702296299634,
          92.88932552889668,
          93.33578917295976,
          93.06135721972788,
          99.90988726908613,
          97.58745006784079,
          102.40026240067239,
          104.14926063248038,
          105.27565726887175,
          104.12877932999703,
          106.68468587950757,
          107.16392460755682,
          105.68525831847444,
          101.99885512206626,
          98.57459009738713,
          102.43303123464254,
          98.64422152581766,
          100.1474566278576,
          98.73433425673154,
          97.80044436363869,
          89.211109853469,
          89.7681675309293,
          89.93610546127024,
          90.65700105856521,
          90.47677559673747,
          90.3989503973104,
          89.64119220555503,
          89.28074128189954,
          87.51126174760823,
          106.69288590052012,
          110.26050754255057,
          107.5243755312123,
          106.29965989287848,
          105.49274532515989,
          102.3388247432384,
          101.98246758007316,
          99.4675173855133,
          102.99008891210283,
          118.18219034186275,
          121.61464913753841,
          131.57204965337723,
          143.36036736094135,
          134.54984478397728,
          135.26664662078196,
          127.45965161535726,
          131.36724912857588,
          138.74825554240482,
          141.7219631625306,
          140.09584649560665,
          139.11690648707287,
          144.4089450479217,
          138.68681788497085,
          138.53936750712924,
          136.35209940225474,
          138.7523555529111
         ]
        },
        {
         "mode": "lines",
         "name": "GOOGL",
         "type": "scatter",
         "x": [
          "2023-11-29T00:00:00-05:00",
          "2023-11-30T00:00:00-05:00",
          "2023-12-01T00:00:00-05:00",
          "2023-12-04T00:00:00-05:00",
          "2023-12-05T00:00:00-05:00",
          "2023-12-06T00:00:00-05:00",
          "2023-12-07T00:00:00-05:00",
          "2023-12-08T00:00:00-05:00",
          "2023-12-11T00:00:00-05:00",
          "2023-12-12T00:00:00-05:00",
          "2023-12-13T00:00:00-05:00",
          "2023-12-14T00:00:00-05:00",
          "2023-12-15T00:00:00-05:00",
          "2023-12-18T00:00:00-05:00",
          "2023-12-19T00:00:00-05:00",
          "2023-12-20T00:00:00-05:00",
          "2023-12-21T00:00:00-05:00",
          "2023-12-22T00:00:00-05:00",
          "2023-12-26T00:00:00-05:00",
          "2023-12-27T00:00:00-05:00",
          "2023-12-28T00:00:00-05:00",
          "2023-12-29T00:00:00-05:00",
          "2024-01-02T00:00:00-05:00",
          "2024-01-03T00:00:00-05:00",
          "2024-01-04T00:00:00-05:00",
          "2024-01-05T00:00:00-05:00",
          "2024-01-08T00:00:00-05:00",
          "2024-01-09T00:00:00-05:00",
          "2024-01-10T00:00:00-05:00",
          "2024-01-11T00:00:00-05:00",
          "2024-01-12T00:00:00-05:00",
          "2024-01-16T00:00:00-05:00",
          "2024-01-17T00:00:00-05:00",
          "2024-01-18T00:00:00-05:00",
          "2024-01-19T00:00:00-05:00",
          "2024-01-22T00:00:00-05:00",
          "2024-01-23T00:00:00-05:00",
          "2024-01-24T00:00:00-05:00",
          "2024-01-25T00:00:00-05:00",
          "2024-01-26T00:00:00-05:00",
          "2024-01-29T00:00:00-05:00",
          "2024-01-30T00:00:00-05:00",
          "2024-01-31T00:00:00-05:00",
          "2024-02-01T00:00:00-05:00",
          "2024-02-02T00:00:00-05:00",
          "2024-02-05T00:00:00-05:00",
          "2024-02-06T00:00:00-05:00",
          "2024-02-07T00:00:00-05:00",
          "2024-02-08T00:00:00-05:00",
          "2024-02-09T00:00:00-05:00",
          "2024-02-12T00:00:00-05:00",
          "2024-02-13T00:00:00-05:00",
          "2024-02-14T00:00:00-05:00",
          "2024-02-15T00:00:00-05:00",
          "2024-02-16T00:00:00-05:00",
          "2024-02-20T00:00:00-05:00",
          "2024-02-21T00:00:00-05:00",
          "2024-02-22T00:00:00-05:00",
          "2024-02-23T00:00:00-05:00",
          "2024-02-26T00:00:00-05:00",
          "2024-02-27T00:00:00-05:00",
          "2024-02-28T00:00:00-05:00",
          "2024-02-29T00:00:00-05:00",
          "2024-03-01T00:00:00-05:00",
          "2024-03-04T00:00:00-05:00",
          "2024-03-05T00:00:00-05:00",
          "2024-03-06T00:00:00-05:00",
          "2024-03-07T00:00:00-05:00",
          "2024-03-08T00:00:00-05:00",
          "2024-03-11T00:00:00-04:00",
          "2024-03-12T00:00:00-04:00",
          "2024-03-13T00:00:00-04:00",
          "2024-03-14T00:00:00-04:00",
          "2024-03-15T00:00:00-04:00",
          "2024-03-18T00:00:00-04:00",
          "2024-03-19T00:00:00-04:00",
          "2024-03-20T00:00:00-04:00",
          "2024-03-21T00:00:00-04:00",
          "2024-03-22T00:00:00-04:00",
          "2024-03-25T00:00:00-04:00",
          "2024-03-26T00:00:00-04:00",
          "2024-03-27T00:00:00-04:00",
          "2024-03-28T00:00:00-04:00",
          "2024-04-01T00:00:00-04:00",
          "2024-04-02T00:00:00-04:00",
          "2024-04-03T00:00:00-04:00",
          "2024-04-04T00:00:00-04:00",
          "2024-04-05T00:00:00-04:00",
          "2024-04-08T00:00:00-04:00",
          "2024-04-09T00:00:00-04:00",
          "2024-04-10T00:00:00-04:00",
          "2024-04-11T00:00:00-04:00",
          "2024-04-12T00:00:00-04:00",
          "2024-04-15T00:00:00-04:00",
          "2024-04-16T00:00:00-04:00",
          "2024-04-17T00:00:00-04:00",
          "2024-04-18T00:00:00-04:00",
          "2024-04-19T00:00:00-04:00",
          "2024-04-22T00:00:00-04:00",
          "2024-04-23T00:00:00-04:00",
          "2024-04-24T00:00:00-04:00",
          "2024-04-25T00:00:00-04:00",
          "2024-04-26T00:00:00-04:00",
          "2024-04-29T00:00:00-04:00",
          "2024-04-30T00:00:00-04:00",
          "2024-05-01T00:00:00-04:00",
          "2024-05-02T00:00:00-04:00",
          "2024-05-03T00:00:00-04:00",
          "2024-05-06T00:00:00-04:00",
          "2024-05-07T00:00:00-04:00",
          "2024-05-08T00:00:00-04:00",
          "2024-05-09T00:00:00-04:00",
          "2024-05-10T00:00:00-04:00",
          "2024-05-13T00:00:00-04:00",
          "2024-05-14T00:00:00-04:00",
          "2024-05-15T00:00:00-04:00",
          "2024-05-16T00:00:00-04:00",
          "2024-05-17T00:00:00-04:00",
          "2024-05-20T00:00:00-04:00",
          "2024-05-21T00:00:00-04:00",
          "2024-05-22T00:00:00-04:00",
          "2024-05-23T00:00:00-04:00",
          "2024-05-24T00:00:00-04:00",
          "2024-05-28T00:00:00-04:00",
          "2024-05-29T00:00:00-04:00",
          "2024-05-30T00:00:00-04:00",
          "2024-05-31T00:00:00-04:00",
          "2024-06-03T00:00:00-04:00",
          "2024-06-04T00:00:00-04:00",
          "2024-06-05T00:00:00-04:00",
          "2024-06-06T00:00:00-04:00",
          "2024-06-07T00:00:00-04:00",
          "2024-06-10T00:00:00-04:00",
          "2024-06-11T00:00:00-04:00",
          "2024-06-12T00:00:00-04:00",
          "2024-06-13T00:00:00-04:00",
          "2024-06-14T00:00:00-04:00",
          "2024-06-17T00:00:00-04:00",
          "2024-06-18T00:00:00-04:00",
          "2024-06-20T00:00:00-04:00",
          "2024-06-21T00:00:00-04:00",
          "2024-06-24T00:00:00-04:00",
          "2024-06-25T00:00:00-04:00",
          "2024-06-26T00:00:00-04:00",
          "2024-06-27T00:00:00-04:00",
          "2024-06-28T00:00:00-04:00",
          "2024-07-01T00:00:00-04:00",
          "2024-07-02T00:00:00-04:00",
          "2024-07-03T00:00:00-04:00",
          "2024-07-05T00:00:00-04:00",
          "2024-07-08T00:00:00-04:00",
          "2024-07-09T00:00:00-04:00",
          "2024-07-10T00:00:00-04:00",
          "2024-07-11T00:00:00-04:00",
          "2024-07-12T00:00:00-04:00",
          "2024-07-15T00:00:00-04:00",
          "2024-07-16T00:00:00-04:00",
          "2024-07-17T00:00:00-04:00",
          "2024-07-18T00:00:00-04:00",
          "2024-07-19T00:00:00-04:00",
          "2024-07-22T00:00:00-04:00",
          "2024-07-23T00:00:00-04:00",
          "2024-07-24T00:00:00-04:00",
          "2024-07-25T00:00:00-04:00",
          "2024-07-26T00:00:00-04:00",
          "2024-07-29T00:00:00-04:00",
          "2024-07-30T00:00:00-04:00",
          "2024-07-31T00:00:00-04:00",
          "2024-08-01T00:00:00-04:00",
          "2024-08-02T00:00:00-04:00",
          "2024-08-05T00:00:00-04:00",
          "2024-08-06T00:00:00-04:00",
          "2024-08-07T00:00:00-04:00",
          "2024-08-08T00:00:00-04:00",
          "2024-08-09T00:00:00-04:00",
          "2024-08-12T00:00:00-04:00",
          "2024-08-13T00:00:00-04:00",
          "2024-08-14T00:00:00-04:00",
          "2024-08-15T00:00:00-04:00",
          "2024-08-16T00:00:00-04:00",
          "2024-08-19T00:00:00-04:00",
          "2024-08-20T00:00:00-04:00",
          "2024-08-21T00:00:00-04:00",
          "2024-08-22T00:00:00-04:00",
          "2024-08-23T00:00:00-04:00",
          "2024-08-26T00:00:00-04:00",
          "2024-08-27T00:00:00-04:00",
          "2024-08-28T00:00:00-04:00",
          "2024-08-29T00:00:00-04:00",
          "2024-08-30T00:00:00-04:00",
          "2024-09-03T00:00:00-04:00",
          "2024-09-04T00:00:00-04:00",
          "2024-09-05T00:00:00-04:00",
          "2024-09-06T00:00:00-04:00",
          "2024-09-09T00:00:00-04:00",
          "2024-09-10T00:00:00-04:00",
          "2024-09-11T00:00:00-04:00",
          "2024-09-12T00:00:00-04:00",
          "2024-09-13T00:00:00-04:00",
          "2024-09-16T00:00:00-04:00",
          "2024-09-17T00:00:00-04:00",
          "2024-09-18T00:00:00-04:00",
          "2024-09-19T00:00:00-04:00",
          "2024-09-20T00:00:00-04:00",
          "2024-09-23T00:00:00-04:00",
          "2024-09-24T00:00:00-04:00",
          "2024-09-25T00:00:00-04:00",
          "2024-09-26T00:00:00-04:00",
          "2024-09-27T00:00:00-04:00",
          "2024-09-30T00:00:00-04:00",
          "2024-10-01T00:00:00-04:00",
          "2024-10-02T00:00:00-04:00",
          "2024-10-03T00:00:00-04:00",
          "2024-10-04T00:00:00-04:00",
          "2024-10-07T00:00:00-04:00",
          "2024-10-08T00:00:00-04:00",
          "2024-10-09T00:00:00-04:00",
          "2024-10-10T00:00:00-04:00",
          "2024-10-11T00:00:00-04:00",
          "2024-10-14T00:00:00-04:00",
          "2024-10-15T00:00:00-04:00",
          "2024-10-16T00:00:00-04:00",
          "2024-10-17T00:00:00-04:00",
          "2024-10-18T00:00:00-04:00",
          "2024-10-21T00:00:00-04:00",
          "2024-10-22T00:00:00-04:00",
          "2024-10-23T00:00:00-04:00",
          "2024-10-24T00:00:00-04:00",
          "2024-10-25T00:00:00-04:00",
          "2024-10-28T00:00:00-04:00",
          "2024-10-29T00:00:00-04:00",
          "2024-10-30T00:00:00-04:00",
          "2024-10-31T00:00:00-04:00",
          "2024-11-01T00:00:00-04:00",
          "2024-11-04T00:00:00-05:00",
          "2024-11-05T00:00:00-05:00",
          "2024-11-06T00:00:00-05:00",
          "2024-11-07T00:00:00-05:00",
          "2024-11-08T00:00:00-05:00",
          "2024-11-11T00:00:00-05:00",
          "2024-11-12T00:00:00-05:00",
          "2024-11-13T00:00:00-05:00",
          "2024-11-14T00:00:00-05:00",
          "2024-11-15T00:00:00-05:00",
          "2024-11-18T00:00:00-05:00",
          "2024-11-19T00:00:00-05:00",
          "2024-11-20T00:00:00-05:00",
          "2024-11-21T00:00:00-05:00",
          "2024-11-22T00:00:00-05:00",
          "2024-11-25T00:00:00-05:00",
          "2024-11-26T00:00:00-05:00",
          "2024-11-27T00:00:00-05:00",
          "2024-11-29T00:00:00-05:00"
         ],
         "y": [
          100,
          98.17763536684407,
          97.68130981898508,
          95.76264896423771,
          97.03682316294675,
          96.31825028700194,
          101.43714575188957,
          100,
          98.74063624629214,
          98.17023581016024,
          98.20727892011347,
          97.74056293062333,
          98.22950025343198,
          100.6000439894013,
          101.22972020043845,
          102.48166173419546,
          104.02251459599383,
          104.81517369184508,
          104.83739502516359,
          103.98547148604062,
          103.88176437613181,
          103.48173504986428,
          102.35572195933462,
          102.91132328209886,
          101.03710509398853,
          100.5481904344469,
          102.8520588388271,
          104.41514436557753,
          105.40039590461167,
          105.2522461280658,
          105.67448545601836,
          105.55596790110837,
          104.80036324684387,
          106.28935122205434,
          108.43767029320487,
          108.1487589651635,
          108.92658495274652,
          110.156305153185,
          112.50462755583577,
          112.74168532892277,
          113.71952597963954,
          112.2009057827932,
          103.78546815454037,
          104.57071636207425,
          105.4744821245181,
          106.43750099860021,
          106.74865632322714,
          107.81539363885156,
          108.08949452189177,
          110.3785524812708,
          109.28957116906084,
          107.51907142249281,
          108.11171585521029,
          105.7633934525595,
          104.09660081590029,
          104.54107280880487,
          105.60041056774543,
          106.74123410327627,
          106.64493788168483,
          101.91126129806354,
          102.88169106046298,
          101.02970553730471,
          102.5705697307366,
          101.59270641675278,
          98.78510157619623,
          98.28135380838638,
          97.3405336043558,
          99.54811711877807,
          100.31113266135992,
          101.98532485470295,
          102.60019062073896,
          103.55580993813722,
          106.00785078233031,
          104.58551547544191,
          109.40068916728698,
          108.91917406442917,
          110.18593737482085,
          109.34143605564874,
          111.68975845829954,
          111.1712002454885,
          111.61567223839309,
          111.76382201493895,
          111.80827601320951,
          115.1863152847985,
          114.49736329885609,
          114.76405329357895,
          111.51196512848429,
          112.97133221369239,
          114.71219973862455,
          116.00859527065211,
          115.66781905602281,
          118.09022767858002,
          116.84568570150687,
          114.71961062694189,
          114.37883441231259,
          115.17149350816382,
          115.57151150279783,
          114.14918752754295,
          115.77153749756512,
          117.23830413945706,
          117.88281345876244,
          115.564111946114,
          127.37981017927437,
          123.08318336860683,
          120.58671118941018,
          121.38675851031174,
          123.43135913991996,
          123.89065290945922,
          124.52775134044727,
          126.86124063482984,
          125.47597110116169,
          125.90562131743157,
          124.93518022339862,
          125.29816643971294,
          126.18712175715561,
          127.79464995054309,
          129.03176970766538,
          130.42447279291792,
          131.0615598922724,
          131.75050054658135,
          130.6615305660049,
          128.56507638144228,
          129.63182502870018,
          130.67634101100606,
          130.3059439063744,
          127.49833906581787,
          127.78723906222574,
          128.28357594171825,
          128.742858379624,
          129.9429690216936,
          130.9207983407769,
          129.23920659075,
          129.79543115335744,
          130.98947937149774,
          131.8571992077375,
          129.90668513118575,
          131.11555512596073,
          131.44930572781212,
          129.8547635864303,
          130.75216097083998,
          133.22184516841244,
          132.91776078309746,
          136.48507232925013,
          136.37382968305533,
          137.50855679975632,
          135.09078281530583,
          135.71377336257046,
          137.38246971365982,
          137.81262985343778,
          141.3576974030049,
          140.19330406976752,
          140.15622696491374,
          141.78783487951586,
          137.62722166590197,
          137.25639395919683,
          138.3391881995088,
          136.40349589959175,
          134.25272919560248,
          131.78304499803,
          131.76080100144446,
          134.73478821686888,
          134.82378686647812,
          128.030313932708,
          124.06250846331378,
          123.85484494755889,
          125.73121614603666,
          126.29486292859495,
          127.22191519790755,
          126.64343530708105,
          123.60269343863291,
          118.10710048088053,
          117.39511128400666,
          117.87718163690658,
          120.16886853526059,
          121.38517208161994,
          120.36168761111374,
          121.74857756837423,
          118.93773188063304,
          119.62746574928784,
          120.8586024039154,
          123.61010432695025,
          123.98834292197276,
          123.00195821958735,
          121.48158161954652,
          122.83137180868621,
          123.23186573192777,
          122.13422705171406,
          120.77702597425701,
          119.98346034772479,
          121.17009767754772,
          116.70538874698535,
          116.03048798659876,
          116.61639009737613,
          111.92918454279068,
          110.43650245505505,
          110.39936869203373,
          112.2559435267647,
          114.87742628687411,
          116.93451437661342,
          117.38008553796872,
          118.31580650691858,
          118.67968792228041,
          120.41001702804567,
          121.48682816586293,
          120.19465933313565,
          120.52140698547613,
          119.92731210366902,
          120.84816596945014,
          121.75417539532954,
          123.16517906870517,
          124.01177674007715,
          123.17260128865604,
          123.17260128865604,
          124.06375494300019,
          121.03382345292324,
          122.07351215935269,
          120.20208155308649,
          120.3654610450735,
          121.22691448798071,
          122.50423888080628,
          122.87555384775249,
          122.65276260125806,
          120.99668968990191,
          121.36058243689725,
          121.8432986929074,
          122.63790682972282,
          120.88529973247147,
          120.8407437494993,
          122.73445234725156,
          123.8112634850688,
          126.0094417436755,
          129.55922325278394,
          127.07140844159103,
          127.20507639050757,
          125.68269409133501,
          126.0540090582812,
          131.0816055519565,
          134.23036055104828,
          132.44805324235995,
          133.93331311014472,
          134.8764449674119,
          132.84164620079224,
          130.39096515262068,
          128.09624137648527,
          130.1830296776615,
          132.27724019878858,
          130.68801259352423,
          124.48705944450293,
          122.355703828721,
          124.50190388440465,
          125.59357079375712,
          125.67526053975064,
          125.42462746971536
         ]
        },
        {
         "mode": "lines",
         "name": "AMZN",
         "type": "scatter",
         "x": [
          "2023-11-29T00:00:00-05:00",
          "2023-11-30T00:00:00-05:00",
          "2023-12-01T00:00:00-05:00",
          "2023-12-04T00:00:00-05:00",
          "2023-12-05T00:00:00-05:00",
          "2023-12-06T00:00:00-05:00",
          "2023-12-07T00:00:00-05:00",
          "2023-12-08T00:00:00-05:00",
          "2023-12-11T00:00:00-05:00",
          "2023-12-12T00:00:00-05:00",
          "2023-12-13T00:00:00-05:00",
          "2023-12-14T00:00:00-05:00",
          "2023-12-15T00:00:00-05:00",
          "2023-12-18T00:00:00-05:00",
          "2023-12-19T00:00:00-05:00",
          "2023-12-20T00:00:00-05:00",
          "2023-12-21T00:00:00-05:00",
          "2023-12-22T00:00:00-05:00",
          "2023-12-26T00:00:00-05:00",
          "2023-12-27T00:00:00-05:00",
          "2023-12-28T00:00:00-05:00",
          "2023-12-29T00:00:00-05:00",
          "2024-01-02T00:00:00-05:00",
          "2024-01-03T00:00:00-05:00",
          "2024-01-04T00:00:00-05:00",
          "2024-01-05T00:00:00-05:00",
          "2024-01-08T00:00:00-05:00",
          "2024-01-09T00:00:00-05:00",
          "2024-01-10T00:00:00-05:00",
          "2024-01-11T00:00:00-05:00",
          "2024-01-12T00:00:00-05:00",
          "2024-01-16T00:00:00-05:00",
          "2024-01-17T00:00:00-05:00",
          "2024-01-18T00:00:00-05:00",
          "2024-01-19T00:00:00-05:00",
          "2024-01-22T00:00:00-05:00",
          "2024-01-23T00:00:00-05:00",
          "2024-01-24T00:00:00-05:00",
          "2024-01-25T00:00:00-05:00",
          "2024-01-26T00:00:00-05:00",
          "2024-01-29T00:00:00-05:00",
          "2024-01-30T00:00:00-05:00",
          "2024-01-31T00:00:00-05:00",
          "2024-02-01T00:00:00-05:00",
          "2024-02-02T00:00:00-05:00",
          "2024-02-05T00:00:00-05:00",
          "2024-02-06T00:00:00-05:00",
          "2024-02-07T00:00:00-05:00",
          "2024-02-08T00:00:00-05:00",
          "2024-02-09T00:00:00-05:00",
          "2024-02-12T00:00:00-05:00",
          "2024-02-13T00:00:00-05:00",
          "2024-02-14T00:00:00-05:00",
          "2024-02-15T00:00:00-05:00",
          "2024-02-16T00:00:00-05:00",
          "2024-02-20T00:00:00-05:00",
          "2024-02-21T00:00:00-05:00",
          "2024-02-22T00:00:00-05:00",
          "2024-02-23T00:00:00-05:00",
          "2024-02-26T00:00:00-05:00",
          "2024-02-27T00:00:00-05:00",
          "2024-02-28T00:00:00-05:00",
          "2024-02-29T00:00:00-05:00",
          "2024-03-01T00:00:00-05:00",
          "2024-03-04T00:00:00-05:00",
          "2024-03-05T00:00:00-05:00",
          "2024-03-06T00:00:00-05:00",
          "2024-03-07T00:00:00-05:00",
          "2024-03-08T00:00:00-05:00",
          "2024-03-11T00:00:00-04:00",
          "2024-03-12T00:00:00-04:00",
          "2024-03-13T00:00:00-04:00",
          "2024-03-14T00:00:00-04:00",
          "2024-03-15T00:00:00-04:00",
          "2024-03-18T00:00:00-04:00",
          "2024-03-19T00:00:00-04:00",
          "2024-03-20T00:00:00-04:00",
          "2024-03-21T00:00:00-04:00",
          "2024-03-22T00:00:00-04:00",
          "2024-03-25T00:00:00-04:00",
          "2024-03-26T00:00:00-04:00",
          "2024-03-27T00:00:00-04:00",
          "2024-03-28T00:00:00-04:00",
          "2024-04-01T00:00:00-04:00",
          "2024-04-02T00:00:00-04:00",
          "2024-04-03T00:00:00-04:00",
          "2024-04-04T00:00:00-04:00",
          "2024-04-05T00:00:00-04:00",
          "2024-04-08T00:00:00-04:00",
          "2024-04-09T00:00:00-04:00",
          "2024-04-10T00:00:00-04:00",
          "2024-04-11T00:00:00-04:00",
          "2024-04-12T00:00:00-04:00",
          "2024-04-15T00:00:00-04:00",
          "2024-04-16T00:00:00-04:00",
          "2024-04-17T00:00:00-04:00",
          "2024-04-18T00:00:00-04:00",
          "2024-04-19T00:00:00-04:00",
          "2024-04-22T00:00:00-04:00",
          "2024-04-23T00:00:00-04:00",
          "2024-04-24T00:00:00-04:00",
          "2024-04-25T00:00:00-04:00",
          "2024-04-26T00:00:00-04:00",
          "2024-04-29T00:00:00-04:00",
          "2024-04-30T00:00:00-04:00",
          "2024-05-01T00:00:00-04:00",
          "2024-05-02T00:00:00-04:00",
          "2024-05-03T00:00:00-04:00",
          "2024-05-06T00:00:00-04:00",
          "2024-05-07T00:00:00-04:00",
          "2024-05-08T00:00:00-04:00",
          "2024-05-09T00:00:00-04:00",
          "2024-05-10T00:00:00-04:00",
          "2024-05-13T00:00:00-04:00",
          "2024-05-14T00:00:00-04:00",
          "2024-05-15T00:00:00-04:00",
          "2024-05-16T00:00:00-04:00",
          "2024-05-17T00:00:00-04:00",
          "2024-05-20T00:00:00-04:00",
          "2024-05-21T00:00:00-04:00",
          "2024-05-22T00:00:00-04:00",
          "2024-05-23T00:00:00-04:00",
          "2024-05-24T00:00:00-04:00",
          "2024-05-28T00:00:00-04:00",
          "2024-05-29T00:00:00-04:00",
          "2024-05-30T00:00:00-04:00",
          "2024-05-31T00:00:00-04:00",
          "2024-06-03T00:00:00-04:00",
          "2024-06-04T00:00:00-04:00",
          "2024-06-05T00:00:00-04:00",
          "2024-06-06T00:00:00-04:00",
          "2024-06-07T00:00:00-04:00",
          "2024-06-10T00:00:00-04:00",
          "2024-06-11T00:00:00-04:00",
          "2024-06-12T00:00:00-04:00",
          "2024-06-13T00:00:00-04:00",
          "2024-06-14T00:00:00-04:00",
          "2024-06-17T00:00:00-04:00",
          "2024-06-18T00:00:00-04:00",
          "2024-06-20T00:00:00-04:00",
          "2024-06-21T00:00:00-04:00",
          "2024-06-24T00:00:00-04:00",
          "2024-06-25T00:00:00-04:00",
          "2024-06-26T00:00:00-04:00",
          "2024-06-27T00:00:00-04:00",
          "2024-06-28T00:00:00-04:00",
          "2024-07-01T00:00:00-04:00",
          "2024-07-02T00:00:00-04:00",
          "2024-07-03T00:00:00-04:00",
          "2024-07-05T00:00:00-04:00",
          "2024-07-08T00:00:00-04:00",
          "2024-07-09T00:00:00-04:00",
          "2024-07-10T00:00:00-04:00",
          "2024-07-11T00:00:00-04:00",
          "2024-07-12T00:00:00-04:00",
          "2024-07-15T00:00:00-04:00",
          "2024-07-16T00:00:00-04:00",
          "2024-07-17T00:00:00-04:00",
          "2024-07-18T00:00:00-04:00",
          "2024-07-19T00:00:00-04:00",
          "2024-07-22T00:00:00-04:00",
          "2024-07-23T00:00:00-04:00",
          "2024-07-24T00:00:00-04:00",
          "2024-07-25T00:00:00-04:00",
          "2024-07-26T00:00:00-04:00",
          "2024-07-29T00:00:00-04:00",
          "2024-07-30T00:00:00-04:00",
          "2024-07-31T00:00:00-04:00",
          "2024-08-01T00:00:00-04:00",
          "2024-08-02T00:00:00-04:00",
          "2024-08-05T00:00:00-04:00",
          "2024-08-06T00:00:00-04:00",
          "2024-08-07T00:00:00-04:00",
          "2024-08-08T00:00:00-04:00",
          "2024-08-09T00:00:00-04:00",
          "2024-08-12T00:00:00-04:00",
          "2024-08-13T00:00:00-04:00",
          "2024-08-14T00:00:00-04:00",
          "2024-08-15T00:00:00-04:00",
          "2024-08-16T00:00:00-04:00",
          "2024-08-19T00:00:00-04:00",
          "2024-08-20T00:00:00-04:00",
          "2024-08-21T00:00:00-04:00",
          "2024-08-22T00:00:00-04:00",
          "2024-08-23T00:00:00-04:00",
          "2024-08-26T00:00:00-04:00",
          "2024-08-27T00:00:00-04:00",
          "2024-08-28T00:00:00-04:00",
          "2024-08-29T00:00:00-04:00",
          "2024-08-30T00:00:00-04:00",
          "2024-09-03T00:00:00-04:00",
          "2024-09-04T00:00:00-04:00",
          "2024-09-05T00:00:00-04:00",
          "2024-09-06T00:00:00-04:00",
          "2024-09-09T00:00:00-04:00",
          "2024-09-10T00:00:00-04:00",
          "2024-09-11T00:00:00-04:00",
          "2024-09-12T00:00:00-04:00",
          "2024-09-13T00:00:00-04:00",
          "2024-09-16T00:00:00-04:00",
          "2024-09-17T00:00:00-04:00",
          "2024-09-18T00:00:00-04:00",
          "2024-09-19T00:00:00-04:00",
          "2024-09-20T00:00:00-04:00",
          "2024-09-23T00:00:00-04:00",
          "2024-09-24T00:00:00-04:00",
          "2024-09-25T00:00:00-04:00",
          "2024-09-26T00:00:00-04:00",
          "2024-09-27T00:00:00-04:00",
          "2024-09-30T00:00:00-04:00",
          "2024-10-01T00:00:00-04:00",
          "2024-10-02T00:00:00-04:00",
          "2024-10-03T00:00:00-04:00",
          "2024-10-04T00:00:00-04:00",
          "2024-10-07T00:00:00-04:00",
          "2024-10-08T00:00:00-04:00",
          "2024-10-09T00:00:00-04:00",
          "2024-10-10T00:00:00-04:00",
          "2024-10-11T00:00:00-04:00",
          "2024-10-14T00:00:00-04:00",
          "2024-10-15T00:00:00-04:00",
          "2024-10-16T00:00:00-04:00",
          "2024-10-17T00:00:00-04:00",
          "2024-10-18T00:00:00-04:00",
          "2024-10-21T00:00:00-04:00",
          "2024-10-22T00:00:00-04:00",
          "2024-10-23T00:00:00-04:00",
          "2024-10-24T00:00:00-04:00",
          "2024-10-25T00:00:00-04:00",
          "2024-10-28T00:00:00-04:00",
          "2024-10-29T00:00:00-04:00",
          "2024-10-30T00:00:00-04:00",
          "2024-10-31T00:00:00-04:00",
          "2024-11-01T00:00:00-04:00",
          "2024-11-04T00:00:00-05:00",
          "2024-11-05T00:00:00-05:00",
          "2024-11-06T00:00:00-05:00",
          "2024-11-07T00:00:00-05:00",
          "2024-11-08T00:00:00-05:00",
          "2024-11-11T00:00:00-05:00",
          "2024-11-12T00:00:00-05:00",
          "2024-11-13T00:00:00-05:00",
          "2024-11-14T00:00:00-05:00",
          "2024-11-15T00:00:00-05:00",
          "2024-11-18T00:00:00-05:00",
          "2024-11-19T00:00:00-05:00",
          "2024-11-20T00:00:00-05:00",
          "2024-11-21T00:00:00-05:00",
          "2024-11-22T00:00:00-05:00",
          "2024-11-25T00:00:00-05:00",
          "2024-11-26T00:00:00-05:00",
          "2024-11-27T00:00:00-05:00",
          "2024-11-29T00:00:00-05:00"
         ],
         "y": [
          100,
          99.84280277828414,
          100.48523197070713,
          98.9885108582255,
          100.38272111164737,
          98.76981754944194,
          100.38272111164737,
          100.7517706326307,
          99.70611815674837,
          100.7927749762546,
          101.72224500241312,
          100.7517706326307,
          102.49452823522394,
          105.29660990436352,
          105.10523892017167,
          103.96390616637751,
          105.13941268264766,
          104.85237184891214,
          104.84554126776419,
          104.7976959146242,
          104.82503909595225,
          103.8408931355058,
          102.46718505389589,
          101.46937793115359,
          98.80399131191791,
          99.26189052966517,
          101.89994439594095,
          103.45133101434234,
          105.06423457654776,
          106.05521111814215,
          105.6724900064948,
          104.67468288375248,
          103.68370634215809,
          104.90704778320006,
          106.16456298671801,
          105.78184187507065,
          106.62930321398136,
          107.21021546260032,
          107.81164031139943,
          108.74794091870585,
          110.21048826871152,
          108.66593223145804,
          106.06888270880617,
          108.85729278728174,
          117.42071415968,
          116.39556385560965,
          115.60277845098688,
          116.54592006780942,
          116.07434925939815,
          119.2249782777091,
          117.78293309951542,
          115.25423110181549,
          116.85346307335689,
          116.04701650643827,
          115.84881494109848,
          114.18807645412123,
          115.2200573393395,
          119.31382797447303,
          119.59403822706061,
          119.41633883353279,
          118.60305125709807,
          118.34335360469059,
          120.80370807743857,
          121.80152562854903,
          121.36412858261374,
          118.99944395940945,
          118.58254908528612,
          120.84472284943064,
          119.84007471717221,
          117.52323544710794,
          119.86740747013212,
          120.66702345590281,
          122.16374456838443,
          119.20447610589716,
          119.24548044952105,
          120.21595481930349,
          121.75368027540902,
          121.75368027540902,
          122.24575325563225,
          122.81984535147146,
          121.85620156283696,
          122.90185403871928,
          123.27774456921871,
          123.68096785267804,
          123.48960729685435,
          124.66511381312448,
          123.01803648844307,
          126.48304952181762,
          126.56505820906543,
          126.89310338642485,
          127.08446394224853,
          129.2031120753412,
          127.20748740148842,
          125.49206255185506,
          125.28704083373552,
          123.89283058031366,
          122.48495916459594,
          119.34800173694899,
          121.12492267365005,
          122.7036524733795,
          120.68752562771476,
          118.69190095386197,
          122.75832840766742,
          123.6741372715301,
          119.60086880820855,
          122.33460295239618,
          126.24384361285392,
          127.26216333577636,
          128.9639061663775,
          129.00491051000142,
          128.48550477681832,
          129.51065508088868,
          128.13011641813083,
          127.50819982588797,
          127.84991659391143,
          127.11180712357657,
          125.49890356137115,
          126.23017202218989,
          125.43738661756714,
          125.17084795564357,
          125.1571867933477,
          123.73564378696595,
          123.53061164047826,
          124.48741441959666,
          124.39857515120092,
          122.5533066895479,
          120.585014768655,
          121.88353431579687,
          122.56696785184376,
          123.89283058031366,
          126.4352041686776,
          125.9568027791184,
          127.84307558439532,
          127.95925803411912,
          127.72689313467154,
          125.6355881829069,
          125.51940573318309,
          125.7927749762546,
          124.93848305619596,
          127.18698522967647,
          129.22361424715317,
          126.82476628984105,
          127.3510026041721,
          132.3195673311762,
          135.2173292782276,
          132.07353084106458,
          134.77309122277623,
          136.68670720938118,
          135.0396298846998,
          136.68670720938118,
          136.2014648103059,
          136.23563857278188,
          136.54318157832935,
          133.30371329162264,
          132.9209921799753,
          131.71131190122918,
          131.91634404771688,
          128.43765942367833,
          125.58091224861899,
          125.1571867933477,
          124.7607940910363,
          127.39884795731211,
          123.58528757476618,
          122.91552562938331,
          124.72662032856034,
          125.20502171811954,
          124.18671242356527,
          127.7883996501074,
          125.7996159857707,
          114.74848653092823,
          110.04647089421589,
          110.66838748645877,
          111.24247958229796,
          113.31328236225065,
          114.09239617620939,
          113.99671589829754,
          116.34088792132171,
          116.25204865292598,
          121.37095916376165,
          121.00874022392627,
          121.80152562854903,
          122.25259426514836,
          123.09321459454297,
          120.37315204101937,
          120.99506863326224,
          119.94258557623199,
          118.31601042336256,
          116.73045004248517,
          117.63257688731564,
          121.99288618437272,
          120.45516072826719,
          118.4595360544144,
          121.57599131024936,
          117.13367332594449,
          119.87423805128003,
          122.7104934828956,
          126.10715899131817,
          127.80207124077141,
          127.45352389160003,
          126.36002606257773,
          127.72006255352359,
          127.41250911960795,
          129.76352215214823,
          130.94586967793444,
          132.50409730585193,
          132.55877324013989,
          131.58145786084134,
          130.6451572535349,
          128.46500260500636,
          127.34417202302417,
          126.52405386544152,
          126.2711763658138,
          124.357570807577,
          127.46718505389589,
          123.56478540295424,
          124.87697654076011,
          126.5513866184014,
          127.56286533180774,
          129.0459252819935,
          128.17112076175474,
          128.27364204918268,
          127.72689313467154,
          128.16429018060683,
          129.1621077317173,
          129.21678366600523,
          129.64733970242443,
          126.237013031706,
          127.37834578550013,
          128.36932232709452,
          128.75204343874188,
          130.41962293523522,
          131.7181424823771,
          127.392006947796,
          135.27199478414738,
          133.8026168529938,
          136.34499044135774,
          141.5322484771454,
          143.55521633232624,
          142.27718852862816,
          141.36139009313368,
          142.77610251836748,
          146.32312423898983,
          144.53252128325659,
          138.47046915559835,
          137.8485421349873,
          139.83733622769216,
          138.6549991302741,
          135.57954821806302,
          134.7184152884883,
          137.67768375097558,
          142.0584952198446,
          140.60961946050296,
          140.93220017294405
         ]
        },
        {
         "mode": "lines",
         "name": "NFLX",
         "type": "scatter",
         "x": [
          "2023-11-29T00:00:00-05:00",
          "2023-11-30T00:00:00-05:00",
          "2023-12-01T00:00:00-05:00",
          "2023-12-04T00:00:00-05:00",
          "2023-12-05T00:00:00-05:00",
          "2023-12-06T00:00:00-05:00",
          "2023-12-07T00:00:00-05:00",
          "2023-12-08T00:00:00-05:00",
          "2023-12-11T00:00:00-05:00",
          "2023-12-12T00:00:00-05:00",
          "2023-12-13T00:00:00-05:00",
          "2023-12-14T00:00:00-05:00",
          "2023-12-15T00:00:00-05:00",
          "2023-12-18T00:00:00-05:00",
          "2023-12-19T00:00:00-05:00",
          "2023-12-20T00:00:00-05:00",
          "2023-12-21T00:00:00-05:00",
          "2023-12-22T00:00:00-05:00",
          "2023-12-26T00:00:00-05:00",
          "2023-12-27T00:00:00-05:00",
          "2023-12-28T00:00:00-05:00",
          "2023-12-29T00:00:00-05:00",
          "2024-01-02T00:00:00-05:00",
          "2024-01-03T00:00:00-05:00",
          "2024-01-04T00:00:00-05:00",
          "2024-01-05T00:00:00-05:00",
          "2024-01-08T00:00:00-05:00",
          "2024-01-09T00:00:00-05:00",
          "2024-01-10T00:00:00-05:00",
          "2024-01-11T00:00:00-05:00",
          "2024-01-12T00:00:00-05:00",
          "2024-01-16T00:00:00-05:00",
          "2024-01-17T00:00:00-05:00",
          "2024-01-18T00:00:00-05:00",
          "2024-01-19T00:00:00-05:00",
          "2024-01-22T00:00:00-05:00",
          "2024-01-23T00:00:00-05:00",
          "2024-01-24T00:00:00-05:00",
          "2024-01-25T00:00:00-05:00",
          "2024-01-26T00:00:00-05:00",
          "2024-01-29T00:00:00-05:00",
          "2024-01-30T00:00:00-05:00",
          "2024-01-31T00:00:00-05:00",
          "2024-02-01T00:00:00-05:00",
          "2024-02-02T00:00:00-05:00",
          "2024-02-05T00:00:00-05:00",
          "2024-02-06T00:00:00-05:00",
          "2024-02-07T00:00:00-05:00",
          "2024-02-08T00:00:00-05:00",
          "2024-02-09T00:00:00-05:00",
          "2024-02-12T00:00:00-05:00",
          "2024-02-13T00:00:00-05:00",
          "2024-02-14T00:00:00-05:00",
          "2024-02-15T00:00:00-05:00",
          "2024-02-16T00:00:00-05:00",
          "2024-02-20T00:00:00-05:00",
          "2024-02-21T00:00:00-05:00",
          "2024-02-22T00:00:00-05:00",
          "2024-02-23T00:00:00-05:00",
          "2024-02-26T00:00:00-05:00",
          "2024-02-27T00:00:00-05:00",
          "2024-02-28T00:00:00-05:00",
          "2024-02-29T00:00:00-05:00",
          "2024-03-01T00:00:00-05:00",
          "2024-03-04T00:00:00-05:00",
          "2024-03-05T00:00:00-05:00",
          "2024-03-06T00:00:00-05:00",
          "2024-03-07T00:00:00-05:00",
          "2024-03-08T00:00:00-05:00",
          "2024-03-11T00:00:00-04:00",
          "2024-03-12T00:00:00-04:00",
          "2024-03-13T00:00:00-04:00",
          "2024-03-14T00:00:00-04:00",
          "2024-03-15T00:00:00-04:00",
          "2024-03-18T00:00:00-04:00",
          "2024-03-19T00:00:00-04:00",
          "2024-03-20T00:00:00-04:00",
          "2024-03-21T00:00:00-04:00",
          "2024-03-22T00:00:00-04:00",
          "2024-03-25T00:00:00-04:00",
          "2024-03-26T00:00:00-04:00",
          "2024-03-27T00:00:00-04:00",
          "2024-03-28T00:00:00-04:00",
          "2024-04-01T00:00:00-04:00",
          "2024-04-02T00:00:00-04:00",
          "2024-04-03T00:00:00-04:00",
          "2024-04-04T00:00:00-04:00",
          "2024-04-05T00:00:00-04:00",
          "2024-04-08T00:00:00-04:00",
          "2024-04-09T00:00:00-04:00",
          "2024-04-10T00:00:00-04:00",
          "2024-04-11T00:00:00-04:00",
          "2024-04-12T00:00:00-04:00",
          "2024-04-15T00:00:00-04:00",
          "2024-04-16T00:00:00-04:00",
          "2024-04-17T00:00:00-04:00",
          "2024-04-18T00:00:00-04:00",
          "2024-04-19T00:00:00-04:00",
          "2024-04-22T00:00:00-04:00",
          "2024-04-23T00:00:00-04:00",
          "2024-04-24T00:00:00-04:00",
          "2024-04-25T00:00:00-04:00",
          "2024-04-26T00:00:00-04:00",
          "2024-04-29T00:00:00-04:00",
          "2024-04-30T00:00:00-04:00",
          "2024-05-01T00:00:00-04:00",
          "2024-05-02T00:00:00-04:00",
          "2024-05-03T00:00:00-04:00",
          "2024-05-06T00:00:00-04:00",
          "2024-05-07T00:00:00-04:00",
          "2024-05-08T00:00:00-04:00",
          "2024-05-09T00:00:00-04:00",
          "2024-05-10T00:00:00-04:00",
          "2024-05-13T00:00:00-04:00",
          "2024-05-14T00:00:00-04:00",
          "2024-05-15T00:00:00-04:00",
          "2024-05-16T00:00:00-04:00",
          "2024-05-17T00:00:00-04:00",
          "2024-05-20T00:00:00-04:00",
          "2024-05-21T00:00:00-04:00",
          "2024-05-22T00:00:00-04:00",
          "2024-05-23T00:00:00-04:00",
          "2024-05-24T00:00:00-04:00",
          "2024-05-28T00:00:00-04:00",
          "2024-05-29T00:00:00-04:00",
          "2024-05-30T00:00:00-04:00",
          "2024-05-31T00:00:00-04:00",
          "2024-06-03T00:00:00-04:00",
          "2024-06-04T00:00:00-04:00",
          "2024-06-05T00:00:00-04:00",
          "2024-06-06T00:00:00-04:00",
          "2024-06-07T00:00:00-04:00",
          "2024-06-10T00:00:00-04:00",
          "2024-06-11T00:00:00-04:00",
          "2024-06-12T00:00:00-04:00",
          "2024-06-13T00:00:00-04:00",
          "2024-06-14T00:00:00-04:00",
          "2024-06-17T00:00:00-04:00",
          "2024-06-18T00:00:00-04:00",
          "2024-06-20T00:00:00-04:00",
          "2024-06-21T00:00:00-04:00",
          "2024-06-24T00:00:00-04:00",
          "2024-06-25T00:00:00-04:00",
          "2024-06-26T00:00:00-04:00",
          "2024-06-27T00:00:00-04:00",
          "2024-06-28T00:00:00-04:00",
          "2024-07-01T00:00:00-04:00",
          "2024-07-02T00:00:00-04:00",
          "2024-07-03T00:00:00-04:00",
          "2024-07-05T00:00:00-04:00",
          "2024-07-08T00:00:00-04:00",
          "2024-07-09T00:00:00-04:00",
          "2024-07-10T00:00:00-04:00",
          "2024-07-11T00:00:00-04:00",
          "2024-07-12T00:00:00-04:00",
          "2024-07-15T00:00:00-04:00",
          "2024-07-16T00:00:00-04:00",
          "2024-07-17T00:00:00-04:00",
          "2024-07-18T00:00:00-04:00",
          "2024-07-19T00:00:00-04:00",
          "2024-07-22T00:00:00-04:00",
          "2024-07-23T00:00:00-04:00",
          "2024-07-24T00:00:00-04:00",
          "2024-07-25T00:00:00-04:00",
          "2024-07-26T00:00:00-04:00",
          "2024-07-29T00:00:00-04:00",
          "2024-07-30T00:00:00-04:00",
          "2024-07-31T00:00:00-04:00",
          "2024-08-01T00:00:00-04:00",
          "2024-08-02T00:00:00-04:00",
          "2024-08-05T00:00:00-04:00",
          "2024-08-06T00:00:00-04:00",
          "2024-08-07T00:00:00-04:00",
          "2024-08-08T00:00:00-04:00",
          "2024-08-09T00:00:00-04:00",
          "2024-08-12T00:00:00-04:00",
          "2024-08-13T00:00:00-04:00",
          "2024-08-14T00:00:00-04:00",
          "2024-08-15T00:00:00-04:00",
          "2024-08-16T00:00:00-04:00",
          "2024-08-19T00:00:00-04:00",
          "2024-08-20T00:00:00-04:00",
          "2024-08-21T00:00:00-04:00",
          "2024-08-22T00:00:00-04:00",
          "2024-08-23T00:00:00-04:00",
          "2024-08-26T00:00:00-04:00",
          "2024-08-27T00:00:00-04:00",
          "2024-08-28T00:00:00-04:00",
          "2024-08-29T00:00:00-04:00",
          "2024-08-30T00:00:00-04:00",
          "2024-09-03T00:00:00-04:00",
          "2024-09-04T00:00:00-04:00",
          "2024-09-05T00:00:00-04:00",
          "2024-09-06T00:00:00-04:00",
          "2024-09-09T00:00:00-04:00",
          "2024-09-10T00:00:00-04:00",
          "2024-09-11T00:00:00-04:00",
          "2024-09-12T00:00:00-04:00",
          "2024-09-13T00:00:00-04:00",
          "2024-09-16T00:00:00-04:00",
          "2024-09-17T00:00:00-04:00",
          "2024-09-18T00:00:00-04:00",
          "2024-09-19T00:00:00-04:00",
          "2024-09-20T00:00:00-04:00",
          "2024-09-23T00:00:00-04:00",
          "2024-09-24T00:00:00-04:00",
          "2024-09-25T00:00:00-04:00",
          "2024-09-26T00:00:00-04:00",
          "2024-09-27T00:00:00-04:00",
          "2024-09-30T00:00:00-04:00",
          "2024-10-01T00:00:00-04:00",
          "2024-10-02T00:00:00-04:00",
          "2024-10-03T00:00:00-04:00",
          "2024-10-04T00:00:00-04:00",
          "2024-10-07T00:00:00-04:00",
          "2024-10-08T00:00:00-04:00",
          "2024-10-09T00:00:00-04:00",
          "2024-10-10T00:00:00-04:00",
          "2024-10-11T00:00:00-04:00",
          "2024-10-14T00:00:00-04:00",
          "2024-10-15T00:00:00-04:00",
          "2024-10-16T00:00:00-04:00",
          "2024-10-17T00:00:00-04:00",
          "2024-10-18T00:00:00-04:00",
          "2024-10-21T00:00:00-04:00",
          "2024-10-22T00:00:00-04:00",
          "2024-10-23T00:00:00-04:00",
          "2024-10-24T00:00:00-04:00",
          "2024-10-25T00:00:00-04:00",
          "2024-10-28T00:00:00-04:00",
          "2024-10-29T00:00:00-04:00",
          "2024-10-30T00:00:00-04:00",
          "2024-10-31T00:00:00-04:00",
          "2024-11-01T00:00:00-04:00",
          "2024-11-04T00:00:00-05:00",
          "2024-11-05T00:00:00-05:00",
          "2024-11-06T00:00:00-05:00",
          "2024-11-07T00:00:00-05:00",
          "2024-11-08T00:00:00-05:00",
          "2024-11-11T00:00:00-05:00",
          "2024-11-12T00:00:00-05:00",
          "2024-11-13T00:00:00-05:00",
          "2024-11-14T00:00:00-05:00",
          "2024-11-15T00:00:00-05:00",
          "2024-11-18T00:00:00-05:00",
          "2024-11-19T00:00:00-05:00",
          "2024-11-20T00:00:00-05:00",
          "2024-11-21T00:00:00-05:00",
          "2024-11-22T00:00:00-05:00",
          "2024-11-25T00:00:00-05:00",
          "2024-11-26T00:00:00-05:00",
          "2024-11-27T00:00:00-05:00",
          "2024-11-29T00:00:00-05:00"
         ],
         "y": [
          100,
          99.32521611847925,
          97.6005339281103,
          95.11934273019862,
          95.38129289545874,
          93.61680016361653,
          94.72117975805679,
          95.0900076372287,
          96.37461227090712,
          97.02634121234578,
          100.58467455953553,
          98.45763410140925,
          98.92495549852967,
          101.87137044575401,
          103.73645434335246,
          102.53148358315593,
          103.02185352509075,
          102.00549200009567,
          102.93384185091325,
          103.05957920929166,
          102.79134249587601,
          102.0306381927178,
          98.17892193949028,
          98.54774981866218,
          99.471910769132,
          99.34407576294585,
          101.64295066907931,
          101.02684336876611,
          100.23889522517801,
          103.15178617908462,
          103.13711543496582,
          100.84871597733569,
          100.65801548959419,
          101.70162725028686,
          101.20706840800426,
          101.78545002411656,
          103.14340198312135,
          114.1830282129793,
          117.77279430094671,
          119.53728703278892,
          120.66262391950353,
          117.95091529710943,
          118.2149631101773,
          118.92747267589895,
          118.32603611970458,
          117.78536739725777,
          116.49028731507605,
          117.20697938587779,
          117.04562678164163,
          117.63029494590947,
          116.90311463606898,
          116.20528860500154,
          121.40447497346283,
          124.36556066480597,
          122.37264176102138,
          120.52431986008179,
          120.15129668529438,
          123.31984486103786,
          122.29091023973173,
          123.1480168082984,
          126.08604116429174,
          124.99842356651034,
          126.34799132955186,
          129.7889779095942,
          129.05341979905813,
          125.42173912654202,
          125.25199593107487,
          127.51943809643068,
          126.74616069696138,
          125.93096871294343,
          128.0580091710697,
          127.71642513232769,
          128.4624586913671,
          126.96829392548055,
          129.58989322588943,
          130.08235442036425,
          131.53879989731757,
          130.49519453189262,
          131.60586067448844,
          131.49060515988106,
          131.86361554413304,
          128.5714340530866,
          127.27215867528936,
          128.7348843051305,
          128.71393340812384,
          132.0396516830234,
          129.3279430606293,
          133.3179633732786,
          131.68967705305042,
          129.55007628914848,
          129.62971016263037,
          131.76722606926,
          130.52034072451477,
          127.23443938635614,
          129.40757693411123,
          128.60495804640433,
          127.94903380935017,
          116.31425117618565,
          116.22204420639268,
          121.07336638322414,
          116.33101956811223,
          118.35956011302228,
          117.61142890617515,
          117.24679632261874,
          115.3921942687913,
          115.6164251451182,
          118.43291383361635,
          121.4065726212706,
          125.10110598480664,
          126.9934401181027,
          127.72060763740775,
          128.26966695108555,
          128.01399693871326,
          129.21268754602195,
          128.59866510298107,
          128.56933640527885,
          127.94065600865459,
          130.1577929982307,
          134.29032545645262,
          136.3419145461771,
          134.21697173585855,
          133.2110856593668,
          135.53301550558237,
          136.00452580305057,
          137.18225272281722,
          135.72370959805616,
          134.45797100411204,
          132.81711158757275,
          132.36236968203113,
          136.27067126392618,
          135.90394103256202,
          134.42653186806666,
          135.06150520811414,
          135.91022118544984,
          136.2266590315697,
          136.8972540127427,
          140.27536232069428,
          141.62702773154354,
          143.68909226977132,
          142.2976227127165,
          143.78339688737205,
          140.19992374282785,
          140.9103228702064,
          142.0168065077221,
          143.41038650312007,
          141.42794304783877,
          141.16179758696316,
          142.4128782273239,
          143.02688787982933,
          144.7327104257317,
          143.70376301389015,
          143.70376301389015,
          142.00842870702652,
          136.7903762988309,
          135.71113650174507,
          137.56575134610793,
          137.53850750567804,
          135.68180780404288,
          134.7555428104976,
          132.72281976050746,
          135.69018560473842,
          134.69687262455776,
          133.27814643653767,
          132.8799898596635,
          132.3099796489791,
          131.38582509377702,
          130.46795069146273,
          131.67710395673936,
          130.943643494011,
          128.594482597901,
          125.43221457504534,
          127.7415713249498,
          128.1418255496317,
          132.09622422115552,
          132.84855072361813,
          132.68090517595877,
          135.79916096645798,
          138.66174674458492,
          138.9844647435926,
          141.25819985237166,
          144.28844396869337,
          146.3861301480466,
          146.08855834166104,
          144.3785532906786,
          143.91122549829046,
          144.26957792895908,
          145.79516904035555,
          143.30560643701602,
          145.116196258487,
          146.97499360792995,
          141.52015001763175,
          142.43382912433054,
          143.25949655685181,
          139.51885331315157,
          141.5411009146384,
          141.1638952347709,
          142.80893715639027,
          143.9258962424093,
          146.07598524534998,
          145.95863208293486,
          148.1401474313855,
          144.69497834626307,
          147.59739385166637,
          146.9079456212945,
          147.8174294323778,
          151.35690313510094,
          151.21020848444817,
          149.0873633219374,
          148.23235440117847,
          148.6347190642035,
          147.97669717934158,
          149.01612003968648,
          148.11709888657109,
          150.82042970826964,
          147.0944444181528,
          151.2521230689969,
          152.44032543726684,
          153.03966434565348,
          151.4679633540928,
          149.41637426436833,
          147.9452580432962,
          147.11121281007934,
          144.1040300291074,
          160.08089246216656,
          161.79509280876448,
          160.15423339222522,
          157.0213068576072,
          158.1235951995074,
          158.1508390399373,
          156.98568521648173,
          159.14834731573347,
          157.95385200404027,
          158.43375289273948,
          158.44841084632287,
          158.32477753101992,
          160.08507496724664,
          163.50091535466683,
          166.92302310443944,
          166.6086829061273,
          168.7881133973056,
          171.73452834452996,
          174.03339685539572,
          175.4563183390313,
          172.6691711387708,
          177.50790742875574,
          182.59393593041744,
          185.21971773590639,
          188.0760233611455,
          188.1409864905086,
          181.39316046583642,
          182.86216624856536,
          183.85549201928148,
          186.96116192293422
         ]
        },
        {
         "mode": "lines",
         "name": "META",
         "type": "scatter",
         "x": [
          "2023-11-29T00:00:00-05:00",
          "2023-11-30T00:00:00-05:00",
          "2023-12-01T00:00:00-05:00",
          "2023-12-04T00:00:00-05:00",
          "2023-12-05T00:00:00-05:00",
          "2023-12-06T00:00:00-05:00",
          "2023-12-07T00:00:00-05:00",
          "2023-12-08T00:00:00-05:00",
          "2023-12-11T00:00:00-05:00",
          "2023-12-12T00:00:00-05:00",
          "2023-12-13T00:00:00-05:00",
          "2023-12-14T00:00:00-05:00",
          "2023-12-15T00:00:00-05:00",
          "2023-12-18T00:00:00-05:00",
          "2023-12-19T00:00:00-05:00",
          "2023-12-20T00:00:00-05:00",
          "2023-12-21T00:00:00-05:00",
          "2023-12-22T00:00:00-05:00",
          "2023-12-26T00:00:00-05:00",
          "2023-12-27T00:00:00-05:00",
          "2023-12-28T00:00:00-05:00",
          "2023-12-29T00:00:00-05:00",
          "2024-01-02T00:00:00-05:00",
          "2024-01-03T00:00:00-05:00",
          "2024-01-04T00:00:00-05:00",
          "2024-01-05T00:00:00-05:00",
          "2024-01-08T00:00:00-05:00",
          "2024-01-09T00:00:00-05:00",
          "2024-01-10T00:00:00-05:00",
          "2024-01-11T00:00:00-05:00",
          "2024-01-12T00:00:00-05:00",
          "2024-01-16T00:00:00-05:00",
          "2024-01-17T00:00:00-05:00",
          "2024-01-18T00:00:00-05:00",
          "2024-01-19T00:00:00-05:00",
          "2024-01-22T00:00:00-05:00",
          "2024-01-23T00:00:00-05:00",
          "2024-01-24T00:00:00-05:00",
          "2024-01-25T00:00:00-05:00",
          "2024-01-26T00:00:00-05:00",
          "2024-01-29T00:00:00-05:00",
          "2024-01-30T00:00:00-05:00",
          "2024-01-31T00:00:00-05:00",
          "2024-02-01T00:00:00-05:00",
          "2024-02-02T00:00:00-05:00",
          "2024-02-05T00:00:00-05:00",
          "2024-02-06T00:00:00-05:00",
          "2024-02-07T00:00:00-05:00",
          "2024-02-08T00:00:00-05:00",
          "2024-02-09T00:00:00-05:00",
          "2024-02-12T00:00:00-05:00",
          "2024-02-13T00:00:00-05:00",
          "2024-02-14T00:00:00-05:00",
          "2024-02-15T00:00:00-05:00",
          "2024-02-16T00:00:00-05:00",
          "2024-02-20T00:00:00-05:00",
          "2024-02-21T00:00:00-05:00",
          "2024-02-22T00:00:00-05:00",
          "2024-02-23T00:00:00-05:00",
          "2024-02-26T00:00:00-05:00",
          "2024-02-27T00:00:00-05:00",
          "2024-02-28T00:00:00-05:00",
          "2024-02-29T00:00:00-05:00",
          "2024-03-01T00:00:00-05:00",
          "2024-03-04T00:00:00-05:00",
          "2024-03-05T00:00:00-05:00",
          "2024-03-06T00:00:00-05:00",
          "2024-03-07T00:00:00-05:00",
          "2024-03-08T00:00:00-05:00",
          "2024-03-11T00:00:00-04:00",
          "2024-03-12T00:00:00-04:00",
          "2024-03-13T00:00:00-04:00",
          "2024-03-14T00:00:00-04:00",
          "2024-03-15T00:00:00-04:00",
          "2024-03-18T00:00:00-04:00",
          "2024-03-19T00:00:00-04:00",
          "2024-03-20T00:00:00-04:00",
          "2024-03-21T00:00:00-04:00",
          "2024-03-22T00:00:00-04:00",
          "2024-03-25T00:00:00-04:00",
          "2024-03-26T00:00:00-04:00",
          "2024-03-27T00:00:00-04:00",
          "2024-03-28T00:00:00-04:00",
          "2024-04-01T00:00:00-04:00",
          "2024-04-02T00:00:00-04:00",
          "2024-04-03T00:00:00-04:00",
          "2024-04-04T00:00:00-04:00",
          "2024-04-05T00:00:00-04:00",
          "2024-04-08T00:00:00-04:00",
          "2024-04-09T00:00:00-04:00",
          "2024-04-10T00:00:00-04:00",
          "2024-04-11T00:00:00-04:00",
          "2024-04-12T00:00:00-04:00",
          "2024-04-15T00:00:00-04:00",
          "2024-04-16T00:00:00-04:00",
          "2024-04-17T00:00:00-04:00",
          "2024-04-18T00:00:00-04:00",
          "2024-04-19T00:00:00-04:00",
          "2024-04-22T00:00:00-04:00",
          "2024-04-23T00:00:00-04:00",
          "2024-04-24T00:00:00-04:00",
          "2024-04-25T00:00:00-04:00",
          "2024-04-26T00:00:00-04:00",
          "2024-04-29T00:00:00-04:00",
          "2024-04-30T00:00:00-04:00",
          "2024-05-01T00:00:00-04:00",
          "2024-05-02T00:00:00-04:00",
          "2024-05-03T00:00:00-04:00",
          "2024-05-06T00:00:00-04:00",
          "2024-05-07T00:00:00-04:00",
          "2024-05-08T00:00:00-04:00",
          "2024-05-09T00:00:00-04:00",
          "2024-05-10T00:00:00-04:00",
          "2024-05-13T00:00:00-04:00",
          "2024-05-14T00:00:00-04:00",
          "2024-05-15T00:00:00-04:00",
          "2024-05-16T00:00:00-04:00",
          "2024-05-17T00:00:00-04:00",
          "2024-05-20T00:00:00-04:00",
          "2024-05-21T00:00:00-04:00",
          "2024-05-22T00:00:00-04:00",
          "2024-05-23T00:00:00-04:00",
          "2024-05-24T00:00:00-04:00",
          "2024-05-28T00:00:00-04:00",
          "2024-05-29T00:00:00-04:00",
          "2024-05-30T00:00:00-04:00",
          "2024-05-31T00:00:00-04:00",
          "2024-06-03T00:00:00-04:00",
          "2024-06-04T00:00:00-04:00",
          "2024-06-05T00:00:00-04:00",
          "2024-06-06T00:00:00-04:00",
          "2024-06-07T00:00:00-04:00",
          "2024-06-10T00:00:00-04:00",
          "2024-06-11T00:00:00-04:00",
          "2024-06-12T00:00:00-04:00",
          "2024-06-13T00:00:00-04:00",
          "2024-06-14T00:00:00-04:00",
          "2024-06-17T00:00:00-04:00",
          "2024-06-18T00:00:00-04:00",
          "2024-06-20T00:00:00-04:00",
          "2024-06-21T00:00:00-04:00",
          "2024-06-24T00:00:00-04:00",
          "2024-06-25T00:00:00-04:00",
          "2024-06-26T00:00:00-04:00",
          "2024-06-27T00:00:00-04:00",
          "2024-06-28T00:00:00-04:00",
          "2024-07-01T00:00:00-04:00",
          "2024-07-02T00:00:00-04:00",
          "2024-07-03T00:00:00-04:00",
          "2024-07-05T00:00:00-04:00",
          "2024-07-08T00:00:00-04:00",
          "2024-07-09T00:00:00-04:00",
          "2024-07-10T00:00:00-04:00",
          "2024-07-11T00:00:00-04:00",
          "2024-07-12T00:00:00-04:00",
          "2024-07-15T00:00:00-04:00",
          "2024-07-16T00:00:00-04:00",
          "2024-07-17T00:00:00-04:00",
          "2024-07-18T00:00:00-04:00",
          "2024-07-19T00:00:00-04:00",
          "2024-07-22T00:00:00-04:00",
          "2024-07-23T00:00:00-04:00",
          "2024-07-24T00:00:00-04:00",
          "2024-07-25T00:00:00-04:00",
          "2024-07-26T00:00:00-04:00",
          "2024-07-29T00:00:00-04:00",
          "2024-07-30T00:00:00-04:00",
          "2024-07-31T00:00:00-04:00",
          "2024-08-01T00:00:00-04:00",
          "2024-08-02T00:00:00-04:00",
          "2024-08-05T00:00:00-04:00",
          "2024-08-06T00:00:00-04:00",
          "2024-08-07T00:00:00-04:00",
          "2024-08-08T00:00:00-04:00",
          "2024-08-09T00:00:00-04:00",
          "2024-08-12T00:00:00-04:00",
          "2024-08-13T00:00:00-04:00",
          "2024-08-14T00:00:00-04:00",
          "2024-08-15T00:00:00-04:00",
          "2024-08-16T00:00:00-04:00",
          "2024-08-19T00:00:00-04:00",
          "2024-08-20T00:00:00-04:00",
          "2024-08-21T00:00:00-04:00",
          "2024-08-22T00:00:00-04:00",
          "2024-08-23T00:00:00-04:00",
          "2024-08-26T00:00:00-04:00",
          "2024-08-27T00:00:00-04:00",
          "2024-08-28T00:00:00-04:00",
          "2024-08-29T00:00:00-04:00",
          "2024-08-30T00:00:00-04:00",
          "2024-09-03T00:00:00-04:00",
          "2024-09-04T00:00:00-04:00",
          "2024-09-05T00:00:00-04:00",
          "2024-09-06T00:00:00-04:00",
          "2024-09-09T00:00:00-04:00",
          "2024-09-10T00:00:00-04:00",
          "2024-09-11T00:00:00-04:00",
          "2024-09-12T00:00:00-04:00",
          "2024-09-13T00:00:00-04:00",
          "2024-09-16T00:00:00-04:00",
          "2024-09-17T00:00:00-04:00",
          "2024-09-18T00:00:00-04:00",
          "2024-09-19T00:00:00-04:00",
          "2024-09-20T00:00:00-04:00",
          "2024-09-23T00:00:00-04:00",
          "2024-09-24T00:00:00-04:00",
          "2024-09-25T00:00:00-04:00",
          "2024-09-26T00:00:00-04:00",
          "2024-09-27T00:00:00-04:00",
          "2024-09-30T00:00:00-04:00",
          "2024-10-01T00:00:00-04:00",
          "2024-10-02T00:00:00-04:00",
          "2024-10-03T00:00:00-04:00",
          "2024-10-04T00:00:00-04:00",
          "2024-10-07T00:00:00-04:00",
          "2024-10-08T00:00:00-04:00",
          "2024-10-09T00:00:00-04:00",
          "2024-10-10T00:00:00-04:00",
          "2024-10-11T00:00:00-04:00",
          "2024-10-14T00:00:00-04:00",
          "2024-10-15T00:00:00-04:00",
          "2024-10-16T00:00:00-04:00",
          "2024-10-17T00:00:00-04:00",
          "2024-10-18T00:00:00-04:00",
          "2024-10-21T00:00:00-04:00",
          "2024-10-22T00:00:00-04:00",
          "2024-10-23T00:00:00-04:00",
          "2024-10-24T00:00:00-04:00",
          "2024-10-25T00:00:00-04:00",
          "2024-10-28T00:00:00-04:00",
          "2024-10-29T00:00:00-04:00",
          "2024-10-30T00:00:00-04:00",
          "2024-10-31T00:00:00-04:00",
          "2024-11-01T00:00:00-04:00",
          "2024-11-04T00:00:00-05:00",
          "2024-11-05T00:00:00-05:00",
          "2024-11-06T00:00:00-05:00",
          "2024-11-07T00:00:00-05:00",
          "2024-11-08T00:00:00-05:00",
          "2024-11-11T00:00:00-05:00",
          "2024-11-12T00:00:00-05:00",
          "2024-11-13T00:00:00-05:00",
          "2024-11-14T00:00:00-05:00",
          "2024-11-15T00:00:00-05:00",
          "2024-11-18T00:00:00-05:00",
          "2024-11-19T00:00:00-05:00",
          "2024-11-20T00:00:00-05:00",
          "2024-11-21T00:00:00-05:00",
          "2024-11-22T00:00:00-05:00",
          "2024-11-25T00:00:00-05:00",
          "2024-11-26T00:00:00-05:00",
          "2024-11-27T00:00:00-05:00",
          "2024-11-29T00:00:00-05:00"
         ],
         "y": [
          100,
          98.4798192254314,
          97.77844611196281,
          96.33352664653924,
          95.81276040385322,
          95.55989604209178,
          98.31124605564582,
          100.1655509232871,
          97.91690738675743,
          100.6080520386619,
          100.76458229328433,
          100.29198771125087,
          100.8187708044354,
          103.73870320194116,
          105.46657128161866,
          105.1414770713768,
          106.58940035496653,
          106.37867237502687,
          106.81214360757087,
          107.7152148181483,
          107.8627151899399,
          106.55026779131094,
          104.2414188931317,
          103.69355378778707,
          104.49126100839466,
          105.94520114248289,
          107.96506614757739,
          107.59480409484917,
          111.52015866056983,
          111.27933721397154,
          112.73027352989362,
          110.61407441766009,
          110.88801157741548,
          113.22395012408717,
          115.42744424646271,
          114.92472855527218,
          115.9542365538134,
          117.60986557084432,
          118.3564065267993,
          118.64538120571785,
          120.71642168963112,
          120.42743779654641,
          117.44129240105875,
          118.83804020582973,
          142.98312683465565,
          138.29318076148448,
          136.88137700921803,
          141.3575912842834,
          141.481024254081,
          140.91208635074238,
          141.1498855508422,
          138.50690334542418,
          142.46836822830198,
          145.70438338155108,
          142.48042035763126,
          142.00781656143167,
          141.03749115209695,
          146.49179837856477,
          145.85897866128116,
          145.16889290135111,
          146.7690249956371,
          145.8559564147827,
          147.69716795231926,
          151.3645074373985,
          150.12598529382225,
          147.7242852433102,
          149.49316557653867,
          154.3447926232123,
          152.4644116653555,
          145.72637759616043,
          150.59609205099414,
          149.33646946692548,
          148.20944794797754,
          145.88006988760745,
          149.76137152494636,
          149.53837027568972,
          152.33482363256707,
          153.0098442308355,
          153.5582806144817,
          151.58146419365818,
          149.43290492989217,
          148.82117643893486,
          146.32605395778845,
          148.06480396769365,
          149.87888900007314,
          152.70246886210762,
          153.9620914461763,
          158.91012631331813,
          156.47227908898432,
          155.7641151350603,
          156.6470533925915,
          157.6505129434156,
          154.25739625724256,
          150.74073603127803,
          150.59909586916032,
          148.91459886956923,
          151.21383739244996,
          144.96700130675305,
          145.16588908318494,
          149.49618782303716,
          148.71269806080502,
          133.0067003573438,
          133.5822724603132,
          130.36693389591346,
          129.6286580469985,
          132.3467633490693,
          133.0971005414797,
          136.1949032024203,
          140.3293364123391,
          141.10077404524193,
          142.4146219971263,
          143.26441689900187,
          143.49946106342168,
          141.0314650874323,
          142.1886261438696,
          145.10863225470462,
          142.60447989072736,
          142.20670433786358,
          141.2815744135137,
          140.01292194661423,
          140.96215612962268,
          140.35946673566235,
          144.10817652204665,
          144.6204657318711,
          142.94498940094468,
          140.74216791269836,
          140.6758812013872,
          143.8881883051223,
          143.73751826017377,
          149.1827863896446,
          148.79104611561164,
          148.54996667236102,
          151.45491683570054,
          152.92244786486577,
          153.33528857939118,
          151.90692697054618,
          152.07585027864562,
          152.8209077538498,
          150.66717934287146,
          151.33381504993986,
          149.2464470636019,
          150.49222997010742,
          154.0184268580412,
          154.77856792323936,
          156.72113528846882,
          152.09394690097187,
          152.2327030290834,
          153.68661552067317,
          153.82537164878474,
          162.85953906686666,
          159.6651719446332,
          159.87027928321896,
          161.2849854978239,
          154.65187313862324,
          150.4801594124458,
          149.66271544793653,
          147.7412577373657,
          139.35560176152742,
          143.53636379886802,
          143.81991133392194,
          147.02032294915236,
          147.40944639999765,
          139.1384146511139,
          136.76751755805432,
          140.474699097583,
          140.47771212991532,
          139.71757106471716,
          143.22868436265705,
          150.13929976391464,
          147.2435453383967,
          143.50017055421552,
          149.03830826435149,
          147.4788290711365,
          153.72583101182417,
          156.18120358018268,
          155.6322051324011,
          159.42987899772723,
          158.89296953593959,
          162.08131059350842,
          159.0920323815284,
          159.65310138697157,
          158.88390279644412,
          161.42673622993547,
          160.45244872915455,
          159.26699096845863,
          157.1917027539484,
          156.5823699461911,
          155.88257245513483,
          156.31692824762962,
          157.24901486742567,
          154.36832560356933,
          154.66392526795255,
          155.90669514212573,
          150.9024538614451,
          152.2658832414036,
          152.2658832414036,
          154.38943525822793,
          158.54305236207912,
          158.24744348352976,
          161.01313073961927,
          161.9309906868737,
          162.42313772948572,
          168.80894186911573,
          169.48828391131033,
          170.41218835156172,
          170.08611743970755,
          171.5897219293653,
          171.44782377059528,
          171.30288493699447,
          172.83669346330467,
          174.05346096059156,
          172.94840601375455,
          175.95563342140233,
          179.93204368178178,
          176.5625152609627,
          179.01116148802888,
          178.29256709801865,
          176.27567826859183,
          178.12348714909461,
          178.26538530786465,
          177.01238770926062,
          174.15008070688134,
          174.19235530119545,
          174.05346096059156,
          173.6579336642693,
          175.72616382750564,
          170.19480774365897,
          171.4297087199367,
          173.08125586136146,
          174.56372305386213,
          179.12891853147568,
          178.68204990134393,
          171.36931907496407,
          171.2424952920218,
          169.28599610756766,
          172.83367121680618,
          172.71893641985784,
          178.65186429302375,
          177.9393143960105,
          176.0763942830153,
          176.5745858186243,
          175.11928198794527,
          174.2617932573312,
          167.29326682179638,
          167.38988656808615,
          169.40979764401143,
          170.74734443124362,
          170.01365723707332,
          168.82103085510965,
          170.62354289479984,
          173.16880886815576,
          171.8584438710776,
          174.59090484401614
         ]
        }
       ],
       "layout": {
        "hovermode": "x unified",
        "template": {
         "data": {
          "bar": [
           {
            "error_x": {
             "color": "#f2f5fa"
            },
            "error_y": {
             "color": "#f2f5fa"
            },
            "marker": {
             "line": {
              "color": "rgb(17,17,17)",
              "width": 0.5
             },
             "pattern": {
              "fillmode": "overlay",
              "size": 10,
              "solidity": 0.2
             }
            },
            "type": "bar"
           }
          ],
          "barpolar": [
           {
            "marker": {
             "line": {
              "color": "rgb(17,17,17)",
              "width": 0.5
             },
             "pattern": {
              "fillmode": "overlay",
              "size": 10,
              "solidity": 0.2
             }
            },
            "type": "barpolar"
           }
          ],
          "carpet": [
           {
            "aaxis": {
             "endlinecolor": "#A2B1C6",
             "gridcolor": "#506784",
             "linecolor": "#506784",
             "minorgridcolor": "#506784",
             "startlinecolor": "#A2B1C6"
            },
            "baxis": {
             "endlinecolor": "#A2B1C6",
             "gridcolor": "#506784",
             "linecolor": "#506784",
             "minorgridcolor": "#506784",
             "startlinecolor": "#A2B1C6"
            },
            "type": "carpet"
           }
          ],
          "choropleth": [
           {
            "colorbar": {
             "outlinewidth": 0,
             "ticks": ""
            },
            "type": "choropleth"
           }
          ],
          "contour": [
           {
            "colorbar": {
             "outlinewidth": 0,
             "ticks": ""
            },
            "colorscale": [
             [
              0,
              "#0d0887"
             ],
             [
              0.1111111111111111,
              "#46039f"
             ],
             [
              0.2222222222222222,
              "#7201a8"
             ],
             [
              0.3333333333333333,
              "#9c179e"
             ],
             [
              0.4444444444444444,
              "#bd3786"
             ],
             [
              0.5555555555555556,
              "#d8576b"
             ],
             [
              0.6666666666666666,
              "#ed7953"
             ],
             [
              0.7777777777777778,
              "#fb9f3a"
             ],
             [
              0.8888888888888888,
              "#fdca26"
             ],
             [
              1,
              "#f0f921"
             ]
            ],
            "type": "contour"
           }
          ],
          "contourcarpet": [
           {
            "colorbar": {
             "outlinewidth": 0,
             "ticks": ""
            },
            "type": "contourcarpet"
           }
          ],
          "heatmap": [
           {
            "colorbar": {
             "outlinewidth": 0,
             "ticks": ""
            },
            "colorscale": [
             [
              0,
              "#0d0887"
             ],
             [
              0.1111111111111111,
              "#46039f"
             ],
             [
              0.2222222222222222,
              "#7201a8"
             ],
             [
              0.3333333333333333,
              "#9c179e"
             ],
             [
              0.4444444444444444,
              "#bd3786"
             ],
             [
              0.5555555555555556,
              "#d8576b"
             ],
             [
              0.6666666666666666,
              "#ed7953"
             ],
             [
              0.7777777777777778,
              "#fb9f3a"
             ],
             [
              0.8888888888888888,
              "#fdca26"
             ],
             [
              1,
              "#f0f921"
             ]
            ],
            "type": "heatmap"
           }
          ],
          "heatmapgl": [
           {
            "colorbar": {
             "outlinewidth": 0,
             "ticks": ""
            },
            "colorscale": [
             [
              0,
              "#0d0887"
             ],
             [
              0.1111111111111111,
              "#46039f"
             ],
             [
              0.2222222222222222,
              "#7201a8"
             ],
             [
              0.3333333333333333,
              "#9c179e"
             ],
             [
              0.4444444444444444,
              "#bd3786"
             ],
             [
              0.5555555555555556,
              "#d8576b"
             ],
             [
              0.6666666666666666,
              "#ed7953"
             ],
             [
              0.7777777777777778,
              "#fb9f3a"
             ],
             [
              0.8888888888888888,
              "#fdca26"
             ],
             [
              1,
              "#f0f921"
             ]
            ],
            "type": "heatmapgl"
           }
          ],
          "histogram": [
           {
            "marker": {
             "pattern": {
              "fillmode": "overlay",
              "size": 10,
              "solidity": 0.2
             }
            },
            "type": "histogram"
           }
          ],
          "histogram2d": [
           {
            "colorbar": {
             "outlinewidth": 0,
             "ticks": ""
            },
            "colorscale": [
             [
              0,
              "#0d0887"
             ],
             [
              0.1111111111111111,
              "#46039f"
             ],
             [
              0.2222222222222222,
              "#7201a8"
             ],
             [
              0.3333333333333333,
              "#9c179e"
             ],
             [
              0.4444444444444444,
              "#bd3786"
             ],
             [
              0.5555555555555556,
              "#d8576b"
             ],
             [
              0.6666666666666666,
              "#ed7953"
             ],
             [
              0.7777777777777778,
              "#fb9f3a"
             ],
             [
              0.8888888888888888,
              "#fdca26"
             ],
             [
              1,
              "#f0f921"
             ]
            ],
            "type": "histogram2d"
           }
          ],
          "histogram2dcontour": [
           {
            "colorbar": {
             "outlinewidth": 0,
             "ticks": ""
            },
            "colorscale": [
             [
              0,
              "#0d0887"
             ],
             [
              0.1111111111111111,
              "#46039f"
             ],
             [
              0.2222222222222222,
              "#7201a8"
             ],
             [
              0.3333333333333333,
              "#9c179e"
             ],
             [
              0.4444444444444444,
              "#bd3786"
             ],
             [
              0.5555555555555556,
              "#d8576b"
             ],
             [
              0.6666666666666666,
              "#ed7953"
             ],
             [
              0.7777777777777778,
              "#fb9f3a"
             ],
             [
              0.8888888888888888,
              "#fdca26"
             ],
             [
              1,
              "#f0f921"
             ]
            ],
            "type": "histogram2dcontour"
           }
          ],
          "mesh3d": [
           {
            "colorbar": {
             "outlinewidth": 0,
             "ticks": ""
            },
            "type": "mesh3d"
           }
          ],
          "parcoords": [
           {
            "line": {
             "colorbar": {
              "outlinewidth": 0,
              "ticks": ""
             }
            },
            "type": "parcoords"
           }
          ],
          "pie": [
           {
            "automargin": true,
            "type": "pie"
           }
          ],
          "scatter": [
           {
            "marker": {
             "line": {
              "color": "#283442"
             }
            },
            "type": "scatter"
           }
          ],
          "scatter3d": [
           {
            "line": {
             "colorbar": {
              "outlinewidth": 0,
              "ticks": ""
             }
            },
            "marker": {
             "colorbar": {
              "outlinewidth": 0,
              "ticks": ""
             }
            },
            "type": "scatter3d"
           }
          ],
          "scattercarpet": [
           {
            "marker": {
             "colorbar": {
              "outlinewidth": 0,
              "ticks": ""
             }
            },
            "type": "scattercarpet"
           }
          ],
          "scattergeo": [
           {
            "marker": {
             "colorbar": {
              "outlinewidth": 0,
              "ticks": ""
             }
            },
            "type": "scattergeo"
           }
          ],
          "scattergl": [
           {
            "marker": {
             "line": {
              "color": "#283442"
             }
            },
            "type": "scattergl"
           }
          ],
          "scattermapbox": [
           {
            "marker": {
             "colorbar": {
              "outlinewidth": 0,
              "ticks": ""
             }
            },
            "type": "scattermapbox"
           }
          ],
          "scatterpolar": [
           {
            "marker": {
             "colorbar": {
              "outlinewidth": 0,
              "ticks": ""
             }
            },
            "type": "scatterpolar"
           }
          ],
          "scatterpolargl": [
           {
            "marker": {
             "colorbar": {
              "outlinewidth": 0,
              "ticks": ""
             }
            },
            "type": "scatterpolargl"
           }
          ],
          "scatterternary": [
           {
            "marker": {
             "colorbar": {
              "outlinewidth": 0,
              "ticks": ""
             }
            },
            "type": "scatterternary"
           }
          ],
          "surface": [
           {
            "colorbar": {
             "outlinewidth": 0,
             "ticks": ""
            },
            "colorscale": [
             [
              0,
              "#0d0887"
             ],
             [
              0.1111111111111111,
              "#46039f"
             ],
             [
              0.2222222222222222,
              "#7201a8"
             ],
             [
              0.3333333333333333,
              "#9c179e"
             ],
             [
              0.4444444444444444,
              "#bd3786"
             ],
             [
              0.5555555555555556,
              "#d8576b"
             ],
             [
              0.6666666666666666,
              "#ed7953"
             ],
             [
              0.7777777777777778,
              "#fb9f3a"
             ],
             [
              0.8888888888888888,
              "#fdca26"
             ],
             [
              1,
              "#f0f921"
             ]
            ],
            "type": "surface"
           }
          ],
          "table": [
           {
            "cells": {
             "fill": {
              "color": "#506784"
             },
             "line": {
              "color": "rgb(17,17,17)"
             }
            },
            "header": {
             "fill": {
              "color": "#2a3f5f"
             },
             "line": {
              "color": "rgb(17,17,17)"
             }
            },
            "type": "table"
           }
          ]
         },
         "layout": {
          "annotationdefaults": {
           "arrowcolor": "#f2f5fa",
           "arrowhead": 0,
           "arrowwidth": 1
          },
          "autotypenumbers": "strict",
          "coloraxis": {
           "colorbar": {
            "outlinewidth": 0,
            "ticks": ""
           }
          },
          "colorscale": {
           "diverging": [
            [
             0,
             "#8e0152"
            ],
            [
             0.1,
             "#c51b7d"
            ],
            [
             0.2,
             "#de77ae"
            ],
            [
             0.3,
             "#f1b6da"
            ],
            [
             0.4,
             "#fde0ef"
            ],
            [
             0.5,
             "#f7f7f7"
            ],
            [
             0.6,
             "#e6f5d0"
            ],
            [
             0.7,
             "#b8e186"
            ],
            [
             0.8,
             "#7fbc41"
            ],
            [
             0.9,
             "#4d9221"
            ],
            [
             1,
             "#276419"
            ]
           ],
           "sequential": [
            [
             0,
             "#0d0887"
            ],
            [
             0.1111111111111111,
             "#46039f"
            ],
            [
             0.2222222222222222,
             "#7201a8"
            ],
            [
             0.3333333333333333,
             "#9c179e"
            ],
            [
             0.4444444444444444,
             "#bd3786"
            ],
            [
             0.5555555555555556,
             "#d8576b"
            ],
            [
             0.6666666666666666,
             "#ed7953"
            ],
            [
             0.7777777777777778,
             "#fb9f3a"
            ],
            [
             0.8888888888888888,
             "#fdca26"
            ],
            [
             1,
             "#f0f921"
            ]
           ],
           "sequentialminus": [
            [
             0,
             "#0d0887"
            ],
            [
             0.1111111111111111,
             "#46039f"
            ],
            [
             0.2222222222222222,
             "#7201a8"
            ],
            [
             0.3333333333333333,
             "#9c179e"
            ],
            [
             0.4444444444444444,
             "#bd3786"
            ],
            [
             0.5555555555555556,
             "#d8576b"
            ],
            [
             0.6666666666666666,
             "#ed7953"
            ],
            [
             0.7777777777777778,
             "#fb9f3a"
            ],
            [
             0.8888888888888888,
             "#fdca26"
            ],
            [
             1,
             "#f0f921"
            ]
           ]
          },
          "colorway": [
           "#636efa",
           "#EF553B",
           "#00cc96",
           "#ab63fa",
           "#FFA15A",
           "#19d3f3",
           "#FF6692",
           "#B6E880",
           "#FF97FF",
           "#FECB52"
          ],
          "font": {
           "color": "#f2f5fa"
          },
          "geo": {
           "bgcolor": "rgb(17,17,17)",
           "lakecolor": "rgb(17,17,17)",
           "landcolor": "rgb(17,17,17)",
           "showlakes": true,
           "showland": true,
           "subunitcolor": "#506784"
          },
          "hoverlabel": {
           "align": "left"
          },
          "hovermode": "closest",
          "mapbox": {
           "style": "dark"
          },
          "paper_bgcolor": "rgb(17,17,17)",
          "plot_bgcolor": "rgb(17,17,17)",
          "polar": {
           "angularaxis": {
            "gridcolor": "#506784",
            "linecolor": "#506784",
            "ticks": ""
           },
           "bgcolor": "rgb(17,17,17)",
           "radialaxis": {
            "gridcolor": "#506784",
            "linecolor": "#506784",
            "ticks": ""
           }
          },
          "scene": {
           "xaxis": {
            "backgroundcolor": "rgb(17,17,17)",
            "gridcolor": "#506784",
            "gridwidth": 2,
            "linecolor": "#506784",
            "showbackground": true,
            "ticks": "",
            "zerolinecolor": "#C8D4E3"
           },
           "yaxis": {
            "backgroundcolor": "rgb(17,17,17)",
            "gridcolor": "#506784",
            "gridwidth": 2,
            "linecolor": "#506784",
            "showbackground": true,
            "ticks": "",
            "zerolinecolor": "#C8D4E3"
           },
           "zaxis": {
            "backgroundcolor": "rgb(17,17,17)",
            "gridcolor": "#506784",
            "gridwidth": 2,
            "linecolor": "#506784",
            "showbackground": true,
            "ticks": "",
            "zerolinecolor": "#C8D4E3"
           }
          },
          "shapedefaults": {
           "line": {
            "color": "#f2f5fa"
           }
          },
          "sliderdefaults": {
           "bgcolor": "#C8D4E3",
           "bordercolor": "rgb(17,17,17)",
           "borderwidth": 1,
           "tickwidth": 0
          },
          "ternary": {
           "aaxis": {
            "gridcolor": "#506784",
            "linecolor": "#506784",
            "ticks": ""
           },
           "baxis": {
            "gridcolor": "#506784",
            "linecolor": "#506784",
            "ticks": ""
           },
           "bgcolor": "rgb(17,17,17)",
           "caxis": {
            "gridcolor": "#506784",
            "linecolor": "#506784",
            "ticks": ""
           }
          },
          "title": {
           "x": 0.05
          },
          "updatemenudefaults": {
           "bgcolor": "#506784",
           "borderwidth": 0
          },
          "xaxis": {
           "automargin": true,
           "gridcolor": "#283442",
           "linecolor": "#506784",
           "ticks": "",
           "title": {
            "standoff": 15
           },
           "zerolinecolor": "#283442",
           "zerolinewidth": 2
          },
          "yaxis": {
           "automargin": true,
           "gridcolor": "#283442",
           "linecolor": "#506784",
           "ticks": "",
           "title": {
            "standoff": 15
           },
           "zerolinecolor": "#283442",
           "zerolinewidth": 2
          }
         }
        },
        "title": {
         "text": "Comparaison des Tendances (Normalisées, Base 100)"
        },
        "xaxis": {
         "title": {
          "text": "Date"
         }
        },
        "yaxis": {
         "title": {
          "text": "Prix Normalisé"
         }
        }
       }
      }
     },
     "metadata": {},
     "output_type": "display_data"
    }
   ],
   "source": [
    "fig_normalise = go.Figure()\n",
    "for action in df_normalise.columns:\n",
    "    fig_normalise.add_trace(go.Scatter(\n",
    "        x=df_normalise.index,\n",
    "        y=df_normalise[action],\n",
    "        mode='lines',\n",
    "        name=action\n",
    "    ))\n",
    "\n",
    "fig_normalise.update_layout(\n",
    "    title=\"Comparaison des Tendances (Normalisées, Base 100)\",\n",
    "    xaxis_title=\"Date\",\n",
    "    yaxis_title=\"Prix Normalisé\",\n",
    "    template=\"plotly_dark\",\n",
    "    hovermode=\"x unified\"\n",
    ")\n",
    "fig_normalise.show()"
   ]
  },
  {
   "cell_type": "code",
   "execution_count": 41,
   "metadata": {},
   "outputs": [
    {
     "name": "stdout",
     "output_type": "stream",
     "text": [
      "Tableau récapitulatif des performances :\n",
      "  Symbole Variation (%) Prix Max Prix Min\n",
      "0    AAPL        25.43%  $236.36  $164.41\n",
      "1    MSFT        12.54%  $465.79  $363.21\n",
      "2    TSLA        38.75%  $352.56  $142.05\n",
      "3   GOOGL        25.42%  $190.93  $128.95\n",
      "4    AMZN        40.93%  $214.10  $144.52\n",
      "5    NFLX        86.96%  $897.79  $446.73\n",
      "6    META        74.59%  $595.94  $316.50\n"
     ]
    }
   ],
   "source": [
    "# Créer un tableau récapitulatif des performances\n",
    "tableau_performance = pd.DataFrame({\n",
    "    \"Symbole\": df_comparaison.columns,\n",
    "    \"Variation (%)\": variations,\n",
    "    \"Prix Max\": prix_max,\n",
    "    \"Prix Min\": prix_min\n",
    "}).reset_index(drop=True)\n",
    "\n",
    "# Ajustement des formats numériques\n",
    "tableau_performance[\"Variation (%)\"] = tableau_performance[\"Variation (%)\"].map(lambda x: f\"{x:.2f}%\" if pd.notnull(x) else \"N/A\")\n",
    "tableau_performance[\"Prix Max\"] = tableau_performance[\"Prix Max\"].map(lambda x: f\"${x:.2f}\" if pd.notnull(x) else \"N/A\")\n",
    "tableau_performance[\"Prix Min\"] = tableau_performance[\"Prix Min\"].map(lambda x: f\"${x:.2f}\" if pd.notnull(x) else \"N/A\")\n",
    "\n",
    "# Affichage du tableau\n",
    "print(\"Tableau récapitulatif des performances :\")\n",
    "print(tableau_performance)"
   ]
  },
  {
   "cell_type": "markdown",
   "metadata": {},
   "source": [
    "## Indicateurs par pays ( API Banque Mondiale)"
   ]
  },
  {
   "cell_type": "code",
   "execution_count": 43,
   "metadata": {},
   "outputs": [
    {
     "data": {
      "text/plain": [
       "\"\\nComment récupérer et analyser les données économiques clés par pays en utilisant l'API de la Banque mondiale.\\n\""
      ]
     },
     "execution_count": 43,
     "metadata": {},
     "output_type": "execute_result"
    }
   ],
   "source": [
    "# Importation des bibliothèques nécessaires\n",
    "import pandas as pd\n",
    "import requests\n",
    "import plotly.express as px\n",
    "import plotly.graph_objects as go\n",
    "\n",
    "# Description du notebook\n",
    "\"\"\"\n",
    "Comment récupérer et analyser les données économiques clés par pays en utilisant l'API de la Banque mondiale.\n",
    "\"\"\""
   ]
  },
  {
   "cell_type": "code",
   "execution_count": 44,
   "metadata": {},
   "outputs": [],
   "source": [
    "# Paramètres utilisateur\n",
    "indicateur = \"NY.GDP.PCAP.CD\"  # Exemple : PIB par habitant\n",
    "annee = 2021  # Année sélectionnée\n",
    "\n",
    "# Fonction pour récupérer les données\n",
    "def fetch_indicator_data(indicateur, annee):\n",
    "    url = f\"https://api.worldbank.org/v2/country/all/indicator/{indicateur}?format=json&date={annee}&per_page=300\"\n",
    "    response = requests.get(url)\n",
    "    data = response.json()\n",
    "    if len(data) > 1:\n",
    "        return pd.DataFrame(data[1])\n",
    "    return pd.DataFrame()\n",
    "\n",
    "# Appel de la fonction\n",
    "df = fetch_indicator_data(indicateur, annee)\n",
    "if df.empty:\n",
    "    print(\"Aucune donnée disponible pour cet indicateur et cette année.\")\n",
    "else:\n",
    "    df.head()  # Aperçu des données brutes"
   ]
  },
  {
   "cell_type": "code",
   "execution_count": 45,
   "metadata": {},
   "outputs": [],
   "source": [
    "# Nettoyage des données\n",
    "if not df.empty:\n",
    "    df = df[['country', 'value']].dropna()\n",
    "    df['Country'] = df['country'].apply(lambda x: x['value'])\n",
    "    df['Country Code'] = df['country'].apply(lambda x: x['id'])\n",
    "    df['Value'] = df['value'].astype(float)\n",
    "\n",
    "    # Charger les données géographiques pour la carte\n",
    "    df_geo = px.data.gapminder().query(\"year==2007\")[['country', 'iso_alpha']].drop_duplicates()\n",
    "    df = pd.merge(df, df_geo, left_on='Country', right_on='country', how='left')\n",
    "\n",
    "    # Supprimer les pays sans code ISO\n",
    "    df = df.dropna(subset=['iso_alpha'])\n",
    "    df.head()  # Aperçu des données nettoyées"
   ]
  },
  {
   "cell_type": "code",
   "execution_count": 46,
   "metadata": {},
   "outputs": [
    {
     "data": {
      "application/vnd.plotly.v1+json": {
       "config": {
        "plotlyServerURL": "https://plot.ly"
       },
       "data": [
        {
         "coloraxis": "coloraxis",
         "geo": "geo",
         "hovertemplate": "<b>%{hovertext}</b><br><br>iso_alpha=%{location}<br>PIB par habitant (USD)=%{z}<extra></extra>",
         "hovertext": [
          "Afghanistan",
          "Albania",
          "Algeria",
          "Angola",
          "Argentina",
          "Australia",
          "Austria",
          "Bahrain",
          "Bangladesh",
          "Belgium",
          "Benin",
          "Bolivia",
          "Bosnia and Herzegovina",
          "Botswana",
          "Brazil",
          "Bulgaria",
          "Burkina Faso",
          "Burundi",
          "Cambodia",
          "Cameroon",
          "Canada",
          "Central African Republic",
          "Chad",
          "Chile",
          "China",
          "Colombia",
          "Comoros",
          "Congo, Dem. Rep.",
          "Congo, Rep.",
          "Costa Rica",
          "Cote d'Ivoire",
          "Croatia",
          "Denmark",
          "Djibouti",
          "Dominican Republic",
          "Ecuador",
          "El Salvador",
          "Equatorial Guinea",
          "Ethiopia",
          "Finland",
          "France",
          "Gabon",
          "Germany",
          "Ghana",
          "Greece",
          "Guatemala",
          "Guinea",
          "Guinea-Bissau",
          "Haiti",
          "Honduras",
          "Hungary",
          "Iceland",
          "India",
          "Indonesia",
          "Iraq",
          "Ireland",
          "Israel",
          "Italy",
          "Jamaica",
          "Japan",
          "Jordan",
          "Kenya",
          "Korea, Rep.",
          "Kuwait",
          "Lebanon",
          "Lesotho",
          "Liberia",
          "Libya",
          "Madagascar",
          "Malawi",
          "Malaysia",
          "Mali",
          "Mauritania",
          "Mauritius",
          "Mexico",
          "Mongolia",
          "Montenegro",
          "Morocco",
          "Mozambique",
          "Myanmar",
          "Namibia",
          "Nepal",
          "Netherlands",
          "New Zealand",
          "Nicaragua",
          "Niger",
          "Nigeria",
          "Norway",
          "Oman",
          "Pakistan",
          "Panama",
          "Paraguay",
          "Peru",
          "Philippines",
          "Poland",
          "Portugal",
          "Puerto Rico",
          "Romania",
          "Rwanda",
          "Sao Tome and Principe",
          "Saudi Arabia",
          "Senegal",
          "Serbia",
          "Sierra Leone",
          "Singapore",
          "Slovak Republic",
          "Slovenia",
          "Somalia",
          "South Africa",
          "Spain",
          "Sri Lanka",
          "Sudan",
          "Sweden",
          "Switzerland",
          "Tanzania",
          "Thailand",
          "Togo",
          "Trinidad and Tobago",
          "Tunisia",
          "Uganda",
          "United Kingdom",
          "United States",
          "Uruguay",
          "West Bank and Gaza",
          "Zambia",
          "Zimbabwe"
         ],
         "locations": [
          "AFG",
          "ALB",
          "DZA",
          "AGO",
          "ARG",
          "AUS",
          "AUT",
          "BHR",
          "BGD",
          "BEL",
          "BEN",
          "BOL",
          "BIH",
          "BWA",
          "BRA",
          "BGR",
          "BFA",
          "BDI",
          "KHM",
          "CMR",
          "CAN",
          "CAF",
          "TCD",
          "CHL",
          "CHN",
          "COL",
          "COM",
          "COD",
          "COG",
          "CRI",
          "CIV",
          "HRV",
          "DNK",
          "DJI",
          "DOM",
          "ECU",
          "SLV",
          "GNQ",
          "ETH",
          "FIN",
          "FRA",
          "GAB",
          "DEU",
          "GHA",
          "GRC",
          "GTM",
          "GIN",
          "GNB",
          "HTI",
          "HND",
          "HUN",
          "ISL",
          "IND",
          "IDN",
          "IRQ",
          "IRL",
          "ISR",
          "ITA",
          "JAM",
          "JPN",
          "JOR",
          "KEN",
          "KOR",
          "KWT",
          "LBN",
          "LSO",
          "LBR",
          "LBY",
          "MDG",
          "MWI",
          "MYS",
          "MLI",
          "MRT",
          "MUS",
          "MEX",
          "MNG",
          "MNE",
          "MAR",
          "MOZ",
          "MMR",
          "NAM",
          "NPL",
          "NLD",
          "NZL",
          "NIC",
          "NER",
          "NGA",
          "NOR",
          "OMN",
          "PAK",
          "PAN",
          "PRY",
          "PER",
          "PHL",
          "POL",
          "PRT",
          "PRI",
          "ROU",
          "RWA",
          "STP",
          "SAU",
          "SEN",
          "SRB",
          "SLE",
          "SGP",
          "SVK",
          "SVN",
          "SOM",
          "ZAF",
          "ESP",
          "LKA",
          "SDN",
          "SWE",
          "CHE",
          "TZA",
          "THA",
          "TGO",
          "TTO",
          "TUN",
          "UGA",
          "GBR",
          "USA",
          "URY",
          "PSE",
          "ZMB",
          "ZWE"
         ],
         "name": "",
         "type": "choropleth",
         "z": [
          355.777826392648,
          6377.20309553753,
          4216.2512851303,
          1927.47407827687,
          10650.8604604345,
          60697.2454358579,
          53517.8904509612,
          26850.0033915702,
          2457.96446570157,
          51863.8311565054,
          1360.91147388169,
          3345.02300209796,
          7237.27446250665,
          7244.15854755666,
          7794.88097933152,
          12219.3418706779,
          888.803610895832,
          221.157803429854,
          1625.23502147979,
          1654.25703730592,
          52496.8441693242,
          461.137510956047,
          685.690314996618,
          16185.9147709548,
          12617.5051041181,
          6182.9559438651,
          1577.47084122292,
          576.974729394136,
          2540.47002419731,
          12604.0488374654,
          2649.17304788159,
          17943.415126673,
          69268.6517983134,
          3062.55148207643,
          8476.74963892506,
          6036.4472741675,
          4599.67878581609,
          7473.92606069296,
          925.00069759158,
          53504.6936483441,
          43671.3084099631,
          8635.79714374956,
          51426.7503654421,
          2422.08591285021,
          20310.6824798873,
          5029.47755484093,
          1189.17599945874,
          836.870024795178,
          1823.74222445285,
          2738.21626989704,
          18755.1023464312,
          69252.3112431448,
          2250.1790176424,
          4334.23145407913,
          4816.78483395313,
          102001.798249145,
          52129.5159612108,
          36441.0598048734,
          5183.58102957767,
          40058.5373276179,
          4152.75795426388,
          2069.66112881918,
          35125.5224984723,
          33358.4631538575,
          4136.14657516013,
          1054.9327396161,
          676.44292696753,
          7094.99982017328,
          503.352081190858,
          632.533192648231,
          11134.6229528189,
          881.510088733585,
          1998.39400265586,
          9068.97292976686,
          10363.1927221972,
          4566.14013029182,
          9465.96153027794,
          3767.52490234375,
          504.037758654687,
          1233.22776997352,
          4901.87588947838,
          1229.39420401521,
          58727.8705471475,
          49624.1816729553,
          2064.6646185055,
          590.629494755814,
          2065.77441035114,
          93072.8925119571,
          19509.4664633867,
          1506.10829305917,
          15491.2898013383,
          5959.44179393627,
          6713.66205386496,
          3460.53938172807,
          18050.2778862996,
          24661.1664874576,
          32619.250416757,
          14946.624968678,
          822.26804122921,
          2350.45270097134,
          24315.6153272971,
          1630.69507165793,
          9232.95770463789,
          504.621287621531,
          79601.4129622433,
          21765.722502093,
          29331.0647010043,
          576.523678242099,
          7073.61275415525,
          30488.8209528797,
          3999.33800155592,
          749.706787109375,
          61417.6808766469,
          93446.4344518943,
          1146.03198242188,
          7070.51250729112,
          964.998109961965,
          16056.3020409273,
          3817.37717375123,
          883.892026171965,
          46869.759058411,
          71055.8761938303,
          17733.8551643902,
          3678.63565662194,
          1134.71345415843,
          1773.92041088078
         ]
        }
       ],
       "layout": {
        "coloraxis": {
         "colorbar": {
          "title": {
           "text": "PIB par habitant (USD)"
          }
         },
         "colorscale": [
          [
           0,
           "#30123b"
          ],
          [
           0.07142857142857142,
           "#4145ab"
          ],
          [
           0.14285714285714285,
           "#4675ed"
          ],
          [
           0.21428571428571427,
           "#39a2fc"
          ],
          [
           0.2857142857142857,
           "#1bcfd4"
          ],
          [
           0.35714285714285715,
           "#24eca6"
          ],
          [
           0.42857142857142855,
           "#61fc6c"
          ],
          [
           0.5,
           "#a4fc3b"
          ],
          [
           0.5714285714285714,
           "#d1e834"
          ],
          [
           0.6428571428571429,
           "#f3c63a"
          ],
          [
           0.7142857142857143,
           "#fe9b2d"
          ],
          [
           0.7857142857142857,
           "#f36315"
          ],
          [
           0.8571428571428571,
           "#d93806"
          ],
          [
           0.9285714285714286,
           "#b11901"
          ],
          [
           1,
           "#7a0402"
          ]
         ]
        },
        "geo": {
         "center": {},
         "domain": {
          "x": [
           0,
           1
          ],
          "y": [
           0,
           1
          ]
         },
         "landcolor": "#f0f0f0",
         "oceancolor": "#d1e7f7",
         "projection": {
          "type": "natural earth"
         },
         "showcoastlines": false,
         "showlakes": false,
         "showland": true,
         "showocean": true
        },
        "legend": {
         "tracegroupgap": 0
        },
        "margin": {
         "b": 0,
         "l": 0,
         "r": 0,
         "t": 30
        },
        "template": {
         "data": {
          "candlestick": [
           {
            "decreasing": {
             "line": {
              "color": "#000033"
             }
            },
            "increasing": {
             "line": {
              "color": "#000032"
             }
            },
            "type": "candlestick"
           }
          ],
          "contour": [
           {
            "colorscale": [
             [
              0,
              "#000011"
             ],
             [
              0.1111111111111111,
              "#000012"
             ],
             [
              0.2222222222222222,
              "#000013"
             ],
             [
              0.3333333333333333,
              "#000014"
             ],
             [
              0.4444444444444444,
              "#000015"
             ],
             [
              0.5555555555555556,
              "#000016"
             ],
             [
              0.6666666666666666,
              "#000017"
             ],
             [
              0.7777777777777778,
              "#000018"
             ],
             [
              0.8888888888888888,
              "#000019"
             ],
             [
              1,
              "#000020"
             ]
            ],
            "type": "contour"
           }
          ],
          "contourcarpet": [
           {
            "colorscale": [
             [
              0,
              "#000011"
             ],
             [
              0.1111111111111111,
              "#000012"
             ],
             [
              0.2222222222222222,
              "#000013"
             ],
             [
              0.3333333333333333,
              "#000014"
             ],
             [
              0.4444444444444444,
              "#000015"
             ],
             [
              0.5555555555555556,
              "#000016"
             ],
             [
              0.6666666666666666,
              "#000017"
             ],
             [
              0.7777777777777778,
              "#000018"
             ],
             [
              0.8888888888888888,
              "#000019"
             ],
             [
              1,
              "#000020"
             ]
            ],
            "type": "contourcarpet"
           }
          ],
          "heatmap": [
           {
            "colorscale": [
             [
              0,
              "#000011"
             ],
             [
              0.1111111111111111,
              "#000012"
             ],
             [
              0.2222222222222222,
              "#000013"
             ],
             [
              0.3333333333333333,
              "#000014"
             ],
             [
              0.4444444444444444,
              "#000015"
             ],
             [
              0.5555555555555556,
              "#000016"
             ],
             [
              0.6666666666666666,
              "#000017"
             ],
             [
              0.7777777777777778,
              "#000018"
             ],
             [
              0.8888888888888888,
              "#000019"
             ],
             [
              1,
              "#000020"
             ]
            ],
            "type": "heatmap"
           }
          ],
          "histogram2d": [
           {
            "colorscale": [
             [
              0,
              "#000011"
             ],
             [
              0.1111111111111111,
              "#000012"
             ],
             [
              0.2222222222222222,
              "#000013"
             ],
             [
              0.3333333333333333,
              "#000014"
             ],
             [
              0.4444444444444444,
              "#000015"
             ],
             [
              0.5555555555555556,
              "#000016"
             ],
             [
              0.6666666666666666,
              "#000017"
             ],
             [
              0.7777777777777778,
              "#000018"
             ],
             [
              0.8888888888888888,
              "#000019"
             ],
             [
              1,
              "#000020"
             ]
            ],
            "type": "histogram2d"
           }
          ],
          "icicle": [
           {
            "textfont": {
             "color": "white"
            },
            "type": "icicle"
           }
          ],
          "sankey": [
           {
            "textfont": {
             "color": "#000036"
            },
            "type": "sankey"
           }
          ],
          "scatter": [
           {
            "marker": {
             "line": {
              "width": 0
             }
            },
            "type": "scatter"
           }
          ],
          "table": [
           {
            "cells": {
             "fill": {
              "color": "#000038"
             },
             "font": {
              "color": "#000037"
             },
             "line": {
              "color": "#000039"
             }
            },
            "header": {
             "fill": {
              "color": "#000040"
             },
             "font": {
              "color": "#000036"
             },
             "line": {
              "color": "#000039"
             }
            },
            "type": "table"
           }
          ],
          "waterfall": [
           {
            "connector": {
             "line": {
              "color": "#000036",
              "width": 2
             }
            },
            "decreasing": {
             "marker": {
              "color": "#000033"
             }
            },
            "increasing": {
             "marker": {
              "color": "#000032"
             }
            },
            "totals": {
             "marker": {
              "color": "#000034"
             }
            },
            "type": "waterfall"
           }
          ]
         },
         "layout": {
          "coloraxis": {
           "colorscale": [
            [
             0,
             "#000011"
            ],
            [
             0.1111111111111111,
             "#000012"
            ],
            [
             0.2222222222222222,
             "#000013"
            ],
            [
             0.3333333333333333,
             "#000014"
            ],
            [
             0.4444444444444444,
             "#000015"
            ],
            [
             0.5555555555555556,
             "#000016"
            ],
            [
             0.6666666666666666,
             "#000017"
            ],
            [
             0.7777777777777778,
             "#000018"
            ],
            [
             0.8888888888888888,
             "#000019"
            ],
            [
             1,
             "#000020"
            ]
           ]
          },
          "colorscale": {
           "diverging": [
            [
             0,
             "#000021"
            ],
            [
             0.1,
             "#000022"
            ],
            [
             0.2,
             "#000023"
            ],
            [
             0.3,
             "#000024"
            ],
            [
             0.4,
             "#000025"
            ],
            [
             0.5,
             "#000026"
            ],
            [
             0.6,
             "#000027"
            ],
            [
             0.7,
             "#000028"
            ],
            [
             0.8,
             "#000029"
            ],
            [
             0.9,
             "#000030"
            ],
            [
             1,
             "#000031"
            ]
           ],
           "sequential": [
            [
             0,
             "#000011"
            ],
            [
             0.1111111111111111,
             "#000012"
            ],
            [
             0.2222222222222222,
             "#000013"
            ],
            [
             0.3333333333333333,
             "#000014"
            ],
            [
             0.4444444444444444,
             "#000015"
            ],
            [
             0.5555555555555556,
             "#000016"
            ],
            [
             0.6666666666666666,
             "#000017"
            ],
            [
             0.7777777777777778,
             "#000018"
            ],
            [
             0.8888888888888888,
             "#000019"
            ],
            [
             1,
             "#000020"
            ]
           ],
           "sequentialminus": [
            [
             0,
             "#000011"
            ],
            [
             0.1111111111111111,
             "#000012"
            ],
            [
             0.2222222222222222,
             "#000013"
            ],
            [
             0.3333333333333333,
             "#000014"
            ],
            [
             0.4444444444444444,
             "#000015"
            ],
            [
             0.5555555555555556,
             "#000016"
            ],
            [
             0.6666666666666666,
             "#000017"
            ],
            [
             0.7777777777777778,
             "#000018"
            ],
            [
             0.8888888888888888,
             "#000019"
            ],
            [
             1,
             "#000020"
            ]
           ]
          },
          "colorway": [
           "#000001",
           "#000002",
           "#000003",
           "#000004",
           "#000005",
           "#000006",
           "#000007",
           "#000008",
           "#000009",
           "#000010"
          ]
         }
        },
        "title": {
         "text": "Carte : PIB par habitant (USD) en 2021"
        }
       }
      }
     },
     "metadata": {},
     "output_type": "display_data"
    }
   ],
   "source": [
    "# Création de la carte\n",
    "fig_map = px.choropleth(\n",
    "    df,\n",
    "    locations=\"iso_alpha\",\n",
    "    color=\"Value\",\n",
    "    hover_name=\"Country\",\n",
    "    color_continuous_scale=px.colors.sequential.Turbo,\n",
    "    labels={'Value': \"PIB par habitant (USD)\"},\n",
    "    projection='natural earth',\n",
    ")\n",
    "\n",
    "# Personnalisation de la carte\n",
    "fig_map.update_geos(\n",
    "    showcoastlines=False,\n",
    "    showland=True,\n",
    "    landcolor=\"#f0f0f0\",\n",
    "    showocean=True,\n",
    "    oceancolor=\"#d1e7f7\",\n",
    "    showlakes=False,\n",
    ")\n",
    "fig_map.update_layout(\n",
    "    title=\"Carte : PIB par habitant (USD) en 2021\",\n",
    "    margin={\"r\":0,\"t\":30,\"l\":0,\"b\":0},\n",
    ")\n",
    "fig_map.show()"
   ]
  },
  {
   "cell_type": "code",
   "execution_count": 47,
   "metadata": {},
   "outputs": [
    {
     "data": {
      "application/vnd.plotly.v1+json": {
       "config": {
        "plotlyServerURL": "https://plot.ly"
       },
       "data": [
        {
         "hovertemplate": "<b>%{y}</b><br>Valeur: %{x:.2f}<extra></extra>",
         "marker": {
          "color": [
           58727.8705471475,
           60697.2454358579,
           61417.6808766469,
           69252.3112431448,
           69268.6517983134,
           71055.8761938303,
           79601.4129622433,
           93072.8925119571,
           93446.4344518943,
           102001.798249145
          ],
          "colorscale": [
           [
            0,
            "#30123b"
           ],
           [
            0.07142857142857142,
            "#4145ab"
           ],
           [
            0.14285714285714285,
            "#4675ed"
           ],
           [
            0.21428571428571427,
            "#39a2fc"
           ],
           [
            0.2857142857142857,
            "#1bcfd4"
           ],
           [
            0.35714285714285715,
            "#24eca6"
           ],
           [
            0.42857142857142855,
            "#61fc6c"
           ],
           [
            0.5,
            "#a4fc3b"
           ],
           [
            0.5714285714285714,
            "#d1e834"
           ],
           [
            0.6428571428571429,
            "#f3c63a"
           ],
           [
            0.7142857142857143,
            "#fe9b2d"
           ],
           [
            0.7857142857142857,
            "#f36315"
           ],
           [
            0.8571428571428571,
            "#d93806"
           ],
           [
            0.9285714285714286,
            "#b11901"
           ],
           [
            1,
            "#7a0402"
           ]
          ]
         },
         "orientation": "h",
         "type": "bar",
         "x": [
          58727.8705471475,
          60697.2454358579,
          61417.6808766469,
          69252.3112431448,
          69268.6517983134,
          71055.8761938303,
          79601.4129622433,
          93072.8925119571,
          93446.4344518943,
          102001.798249145
         ],
         "y": [
          "Netherlands",
          "Australia",
          "Sweden",
          "Iceland",
          "Denmark",
          "United States",
          "Singapore",
          "Norway",
          "Switzerland",
          "Ireland"
         ]
        }
       ],
       "layout": {
        "margin": {
         "b": 0,
         "l": 0,
         "r": 0,
         "t": 30
        },
        "template": {
         "data": {
          "bar": [
           {
            "error_x": {
             "color": "#2a3f5f"
            },
            "error_y": {
             "color": "#2a3f5f"
            },
            "marker": {
             "line": {
              "color": "white",
              "width": 0.5
             },
             "pattern": {
              "fillmode": "overlay",
              "size": 10,
              "solidity": 0.2
             }
            },
            "type": "bar"
           }
          ],
          "barpolar": [
           {
            "marker": {
             "line": {
              "color": "white",
              "width": 0.5
             },
             "pattern": {
              "fillmode": "overlay",
              "size": 10,
              "solidity": 0.2
             }
            },
            "type": "barpolar"
           }
          ],
          "carpet": [
           {
            "aaxis": {
             "endlinecolor": "#2a3f5f",
             "gridcolor": "#C8D4E3",
             "linecolor": "#C8D4E3",
             "minorgridcolor": "#C8D4E3",
             "startlinecolor": "#2a3f5f"
            },
            "baxis": {
             "endlinecolor": "#2a3f5f",
             "gridcolor": "#C8D4E3",
             "linecolor": "#C8D4E3",
             "minorgridcolor": "#C8D4E3",
             "startlinecolor": "#2a3f5f"
            },
            "type": "carpet"
           }
          ],
          "choropleth": [
           {
            "colorbar": {
             "outlinewidth": 0,
             "ticks": ""
            },
            "type": "choropleth"
           }
          ],
          "contour": [
           {
            "colorbar": {
             "outlinewidth": 0,
             "ticks": ""
            },
            "colorscale": [
             [
              0,
              "#0d0887"
             ],
             [
              0.1111111111111111,
              "#46039f"
             ],
             [
              0.2222222222222222,
              "#7201a8"
             ],
             [
              0.3333333333333333,
              "#9c179e"
             ],
             [
              0.4444444444444444,
              "#bd3786"
             ],
             [
              0.5555555555555556,
              "#d8576b"
             ],
             [
              0.6666666666666666,
              "#ed7953"
             ],
             [
              0.7777777777777778,
              "#fb9f3a"
             ],
             [
              0.8888888888888888,
              "#fdca26"
             ],
             [
              1,
              "#f0f921"
             ]
            ],
            "type": "contour"
           }
          ],
          "contourcarpet": [
           {
            "colorbar": {
             "outlinewidth": 0,
             "ticks": ""
            },
            "type": "contourcarpet"
           }
          ],
          "heatmap": [
           {
            "colorbar": {
             "outlinewidth": 0,
             "ticks": ""
            },
            "colorscale": [
             [
              0,
              "#0d0887"
             ],
             [
              0.1111111111111111,
              "#46039f"
             ],
             [
              0.2222222222222222,
              "#7201a8"
             ],
             [
              0.3333333333333333,
              "#9c179e"
             ],
             [
              0.4444444444444444,
              "#bd3786"
             ],
             [
              0.5555555555555556,
              "#d8576b"
             ],
             [
              0.6666666666666666,
              "#ed7953"
             ],
             [
              0.7777777777777778,
              "#fb9f3a"
             ],
             [
              0.8888888888888888,
              "#fdca26"
             ],
             [
              1,
              "#f0f921"
             ]
            ],
            "type": "heatmap"
           }
          ],
          "heatmapgl": [
           {
            "colorbar": {
             "outlinewidth": 0,
             "ticks": ""
            },
            "colorscale": [
             [
              0,
              "#0d0887"
             ],
             [
              0.1111111111111111,
              "#46039f"
             ],
             [
              0.2222222222222222,
              "#7201a8"
             ],
             [
              0.3333333333333333,
              "#9c179e"
             ],
             [
              0.4444444444444444,
              "#bd3786"
             ],
             [
              0.5555555555555556,
              "#d8576b"
             ],
             [
              0.6666666666666666,
              "#ed7953"
             ],
             [
              0.7777777777777778,
              "#fb9f3a"
             ],
             [
              0.8888888888888888,
              "#fdca26"
             ],
             [
              1,
              "#f0f921"
             ]
            ],
            "type": "heatmapgl"
           }
          ],
          "histogram": [
           {
            "marker": {
             "pattern": {
              "fillmode": "overlay",
              "size": 10,
              "solidity": 0.2
             }
            },
            "type": "histogram"
           }
          ],
          "histogram2d": [
           {
            "colorbar": {
             "outlinewidth": 0,
             "ticks": ""
            },
            "colorscale": [
             [
              0,
              "#0d0887"
             ],
             [
              0.1111111111111111,
              "#46039f"
             ],
             [
              0.2222222222222222,
              "#7201a8"
             ],
             [
              0.3333333333333333,
              "#9c179e"
             ],
             [
              0.4444444444444444,
              "#bd3786"
             ],
             [
              0.5555555555555556,
              "#d8576b"
             ],
             [
              0.6666666666666666,
              "#ed7953"
             ],
             [
              0.7777777777777778,
              "#fb9f3a"
             ],
             [
              0.8888888888888888,
              "#fdca26"
             ],
             [
              1,
              "#f0f921"
             ]
            ],
            "type": "histogram2d"
           }
          ],
          "histogram2dcontour": [
           {
            "colorbar": {
             "outlinewidth": 0,
             "ticks": ""
            },
            "colorscale": [
             [
              0,
              "#0d0887"
             ],
             [
              0.1111111111111111,
              "#46039f"
             ],
             [
              0.2222222222222222,
              "#7201a8"
             ],
             [
              0.3333333333333333,
              "#9c179e"
             ],
             [
              0.4444444444444444,
              "#bd3786"
             ],
             [
              0.5555555555555556,
              "#d8576b"
             ],
             [
              0.6666666666666666,
              "#ed7953"
             ],
             [
              0.7777777777777778,
              "#fb9f3a"
             ],
             [
              0.8888888888888888,
              "#fdca26"
             ],
             [
              1,
              "#f0f921"
             ]
            ],
            "type": "histogram2dcontour"
           }
          ],
          "mesh3d": [
           {
            "colorbar": {
             "outlinewidth": 0,
             "ticks": ""
            },
            "type": "mesh3d"
           }
          ],
          "parcoords": [
           {
            "line": {
             "colorbar": {
              "outlinewidth": 0,
              "ticks": ""
             }
            },
            "type": "parcoords"
           }
          ],
          "pie": [
           {
            "automargin": true,
            "type": "pie"
           }
          ],
          "scatter": [
           {
            "fillpattern": {
             "fillmode": "overlay",
             "size": 10,
             "solidity": 0.2
            },
            "type": "scatter"
           }
          ],
          "scatter3d": [
           {
            "line": {
             "colorbar": {
              "outlinewidth": 0,
              "ticks": ""
             }
            },
            "marker": {
             "colorbar": {
              "outlinewidth": 0,
              "ticks": ""
             }
            },
            "type": "scatter3d"
           }
          ],
          "scattercarpet": [
           {
            "marker": {
             "colorbar": {
              "outlinewidth": 0,
              "ticks": ""
             }
            },
            "type": "scattercarpet"
           }
          ],
          "scattergeo": [
           {
            "marker": {
             "colorbar": {
              "outlinewidth": 0,
              "ticks": ""
             }
            },
            "type": "scattergeo"
           }
          ],
          "scattergl": [
           {
            "marker": {
             "colorbar": {
              "outlinewidth": 0,
              "ticks": ""
             }
            },
            "type": "scattergl"
           }
          ],
          "scattermapbox": [
           {
            "marker": {
             "colorbar": {
              "outlinewidth": 0,
              "ticks": ""
             }
            },
            "type": "scattermapbox"
           }
          ],
          "scatterpolar": [
           {
            "marker": {
             "colorbar": {
              "outlinewidth": 0,
              "ticks": ""
             }
            },
            "type": "scatterpolar"
           }
          ],
          "scatterpolargl": [
           {
            "marker": {
             "colorbar": {
              "outlinewidth": 0,
              "ticks": ""
             }
            },
            "type": "scatterpolargl"
           }
          ],
          "scatterternary": [
           {
            "marker": {
             "colorbar": {
              "outlinewidth": 0,
              "ticks": ""
             }
            },
            "type": "scatterternary"
           }
          ],
          "surface": [
           {
            "colorbar": {
             "outlinewidth": 0,
             "ticks": ""
            },
            "colorscale": [
             [
              0,
              "#0d0887"
             ],
             [
              0.1111111111111111,
              "#46039f"
             ],
             [
              0.2222222222222222,
              "#7201a8"
             ],
             [
              0.3333333333333333,
              "#9c179e"
             ],
             [
              0.4444444444444444,
              "#bd3786"
             ],
             [
              0.5555555555555556,
              "#d8576b"
             ],
             [
              0.6666666666666666,
              "#ed7953"
             ],
             [
              0.7777777777777778,
              "#fb9f3a"
             ],
             [
              0.8888888888888888,
              "#fdca26"
             ],
             [
              1,
              "#f0f921"
             ]
            ],
            "type": "surface"
           }
          ],
          "table": [
           {
            "cells": {
             "fill": {
              "color": "#EBF0F8"
             },
             "line": {
              "color": "white"
             }
            },
            "header": {
             "fill": {
              "color": "#C8D4E3"
             },
             "line": {
              "color": "white"
             }
            },
            "type": "table"
           }
          ]
         },
         "layout": {
          "annotationdefaults": {
           "arrowcolor": "#2a3f5f",
           "arrowhead": 0,
           "arrowwidth": 1
          },
          "autotypenumbers": "strict",
          "coloraxis": {
           "colorbar": {
            "outlinewidth": 0,
            "ticks": ""
           }
          },
          "colorscale": {
           "diverging": [
            [
             0,
             "#8e0152"
            ],
            [
             0.1,
             "#c51b7d"
            ],
            [
             0.2,
             "#de77ae"
            ],
            [
             0.3,
             "#f1b6da"
            ],
            [
             0.4,
             "#fde0ef"
            ],
            [
             0.5,
             "#f7f7f7"
            ],
            [
             0.6,
             "#e6f5d0"
            ],
            [
             0.7,
             "#b8e186"
            ],
            [
             0.8,
             "#7fbc41"
            ],
            [
             0.9,
             "#4d9221"
            ],
            [
             1,
             "#276419"
            ]
           ],
           "sequential": [
            [
             0,
             "#0d0887"
            ],
            [
             0.1111111111111111,
             "#46039f"
            ],
            [
             0.2222222222222222,
             "#7201a8"
            ],
            [
             0.3333333333333333,
             "#9c179e"
            ],
            [
             0.4444444444444444,
             "#bd3786"
            ],
            [
             0.5555555555555556,
             "#d8576b"
            ],
            [
             0.6666666666666666,
             "#ed7953"
            ],
            [
             0.7777777777777778,
             "#fb9f3a"
            ],
            [
             0.8888888888888888,
             "#fdca26"
            ],
            [
             1,
             "#f0f921"
            ]
           ],
           "sequentialminus": [
            [
             0,
             "#0d0887"
            ],
            [
             0.1111111111111111,
             "#46039f"
            ],
            [
             0.2222222222222222,
             "#7201a8"
            ],
            [
             0.3333333333333333,
             "#9c179e"
            ],
            [
             0.4444444444444444,
             "#bd3786"
            ],
            [
             0.5555555555555556,
             "#d8576b"
            ],
            [
             0.6666666666666666,
             "#ed7953"
            ],
            [
             0.7777777777777778,
             "#fb9f3a"
            ],
            [
             0.8888888888888888,
             "#fdca26"
            ],
            [
             1,
             "#f0f921"
            ]
           ]
          },
          "colorway": [
           "#636efa",
           "#EF553B",
           "#00cc96",
           "#ab63fa",
           "#FFA15A",
           "#19d3f3",
           "#FF6692",
           "#B6E880",
           "#FF97FF",
           "#FECB52"
          ],
          "font": {
           "color": "#2a3f5f"
          },
          "geo": {
           "bgcolor": "white",
           "lakecolor": "white",
           "landcolor": "white",
           "showlakes": true,
           "showland": true,
           "subunitcolor": "#C8D4E3"
          },
          "hoverlabel": {
           "align": "left"
          },
          "hovermode": "closest",
          "mapbox": {
           "style": "light"
          },
          "paper_bgcolor": "white",
          "plot_bgcolor": "white",
          "polar": {
           "angularaxis": {
            "gridcolor": "#EBF0F8",
            "linecolor": "#EBF0F8",
            "ticks": ""
           },
           "bgcolor": "white",
           "radialaxis": {
            "gridcolor": "#EBF0F8",
            "linecolor": "#EBF0F8",
            "ticks": ""
           }
          },
          "scene": {
           "xaxis": {
            "backgroundcolor": "white",
            "gridcolor": "#DFE8F3",
            "gridwidth": 2,
            "linecolor": "#EBF0F8",
            "showbackground": true,
            "ticks": "",
            "zerolinecolor": "#EBF0F8"
           },
           "yaxis": {
            "backgroundcolor": "white",
            "gridcolor": "#DFE8F3",
            "gridwidth": 2,
            "linecolor": "#EBF0F8",
            "showbackground": true,
            "ticks": "",
            "zerolinecolor": "#EBF0F8"
           },
           "zaxis": {
            "backgroundcolor": "white",
            "gridcolor": "#DFE8F3",
            "gridwidth": 2,
            "linecolor": "#EBF0F8",
            "showbackground": true,
            "ticks": "",
            "zerolinecolor": "#EBF0F8"
           }
          },
          "shapedefaults": {
           "line": {
            "color": "#2a3f5f"
           }
          },
          "ternary": {
           "aaxis": {
            "gridcolor": "#DFE8F3",
            "linecolor": "#A2B1C6",
            "ticks": ""
           },
           "baxis": {
            "gridcolor": "#DFE8F3",
            "linecolor": "#A2B1C6",
            "ticks": ""
           },
           "bgcolor": "white",
           "caxis": {
            "gridcolor": "#DFE8F3",
            "linecolor": "#A2B1C6",
            "ticks": ""
           }
          },
          "title": {
           "x": 0.05
          },
          "xaxis": {
           "automargin": true,
           "gridcolor": "#EBF0F8",
           "linecolor": "#EBF0F8",
           "ticks": "",
           "title": {
            "standoff": 15
           },
           "zerolinecolor": "#EBF0F8",
           "zerolinewidth": 2
          },
          "yaxis": {
           "automargin": true,
           "gridcolor": "#EBF0F8",
           "linecolor": "#EBF0F8",
           "ticks": "",
           "title": {
            "standoff": 15
           },
           "zerolinecolor": "#EBF0F8",
           "zerolinewidth": 2
          }
         }
        },
        "title": {
         "text": "Top 10 des pays par PIB par habitant (USD)"
        },
        "xaxis": {
         "title": {
          "text": "PIB par habitant (USD)"
         }
        },
        "yaxis": {
         "title": {
          "text": "Pays"
         }
        }
       }
      }
     },
     "metadata": {},
     "output_type": "display_data"
    }
   ],
   "source": [
    "# Top 10 des pays\n",
    "df_top10 = df.sort_values(by='Value', ascending=False).head(10)\n",
    "\n",
    "# Création de l'histogramme\n",
    "fig_bar = go.Figure()\n",
    "fig_bar.add_trace(go.Bar(\n",
    "    x=df_top10['Value'][::-1],\n",
    "    y=df_top10['Country'][::-1],\n",
    "    orientation='h',\n",
    "    marker=dict(\n",
    "        color=df_top10['Value'][::-1],\n",
    "        colorscale='Turbo',\n",
    "    ),\n",
    "    hovertemplate='<b>%{y}</b><br>Valeur: %{x:.2f}<extra></extra>',\n",
    "))\n",
    "\n",
    "# Personnalisation de l'histogramme\n",
    "fig_bar.update_layout(\n",
    "    title=\"Top 10 des pays par PIB par habitant (USD)\",\n",
    "    xaxis_title=\"PIB par habitant (USD)\",\n",
    "    yaxis_title=\"Pays\",\n",
    "    template='plotly_white',\n",
    "    margin={\"r\":0,\"t\":30,\"l\":0,\"b\":0},\n",
    ")\n",
    "fig_bar.show()"
   ]
  },
  {
   "cell_type": "code",
   "execution_count": 48,
   "metadata": {},
   "outputs": [
    {
     "data": {
      "application/vnd.plotly.v1+json": {
       "config": {
        "plotlyServerURL": "https://plot.ly"
       },
       "data": [
        {
         "line": {
          "width": 3
         },
         "mode": "lines+markers",
         "name": "United States",
         "type": "scatter",
         "x": [
          2021,
          2020,
          2019,
          2018,
          2017,
          2016,
          2015,
          2014,
          2013,
          2012,
          2011,
          2010,
          2009,
          2008,
          2007,
          2006,
          2005,
          2004,
          2003,
          2002,
          2001,
          2000
         ],
         "y": [
          71055.8761938303,
          64317.398912504,
          65548.0707847572,
          63201.0458483771,
          60322.2614241747,
          58206.6141931844,
          57040.2082136605,
          55304.3155317137,
          53409.7507774372,
          51784.4114692048,
          50065.9789470675,
          48650.6643227232,
          47194.9500893872,
          48570.0594269601,
          48050.227412195,
          46301.9876485519,
          44123.3996470026,
          41724.6411982614,
          39490.3023903176,
          37997.7424300242,
          37133.6203973517,
          36329.9702595751
         ]
        },
        {
         "line": {
          "width": 3
         },
         "mode": "lines+markers",
         "name": "France",
         "type": "scatter",
         "x": [
          2021,
          2020,
          2019,
          2018,
          2017,
          2016,
          2015,
          2014,
          2013,
          2012,
          2011,
          2010,
          2009,
          2008,
          2007,
          2006,
          2005,
          2004,
          2003,
          2002,
          2001,
          2000
         ],
         "y": [
          43671.3084099631,
          39179.7442596057,
          40494.8982936276,
          41557.8548588876,
          38781.0494870836,
          37062.5335723829,
          36652.9223052178,
          43068.5487241739,
          42602.7179652667,
          40870.8523645734,
          43846.4660764798,
          40676.0647913181,
          41737.7635518137,
          45515.9617533473,
          41557.6235648179,
          36470.2128399313,
          34768.1759037525,
          33797.1624418436,
          29627.92426353,
          24288.2700193508,
          22449.3396931175,
          22416.425417915
         ]
        },
        {
         "line": {
          "width": 3
         },
         "mode": "lines+markers",
         "name": "China",
         "type": "scatter",
         "x": [
          2021,
          2020,
          2019,
          2018,
          2017,
          2016,
          2015,
          2014,
          2013,
          2012,
          2011,
          2010,
          2009,
          2008,
          2007,
          2006,
          2005,
          2004,
          2003,
          2002,
          2001,
          2000
         ],
         "y": [
          12617.5051041181,
          10408.7195541075,
          10143.8602206165,
          9905.40638304527,
          8817.04560829162,
          8094.39016735149,
          8016.44559489998,
          7636.07434020616,
          7020.3860742288,
          6300.58217951734,
          5614.38602225277,
          4550.47394356715,
          3832.2274569094,
          3468.32706307504,
          2693.95873160283,
          2099.2194300499,
          1753.41419160544,
          1508.66791560781,
          1288.63749134336,
          1148.51425710711,
          1053.11231442789,
          959.360431369138
         ]
        },
        {
         "line": {
          "width": 3
         },
         "mode": "lines+markers",
         "name": "India",
         "type": "scatter",
         "x": [
          2021,
          2020,
          2019,
          2018,
          2017,
          2016,
          2015,
          2014,
          2013,
          2012,
          2011,
          2010,
          2009,
          2008,
          2007,
          2006,
          2005,
          2004,
          2003,
          2002,
          2001,
          2000
         ],
         "y": [
          2250.1790176424,
          1915.55158799947,
          2050.16380022056,
          1974.37773145023,
          1957.96981331058,
          1714.27953738629,
          1590.17433134297,
          1559.86377864962,
          1438.05700503424,
          1434.01798692108,
          1449.60330101112,
          1350.63447029137,
          1096.63613606381,
          993.503405259298,
          1022.73246703925,
          802.01374204361,
          710.511222493062,
          624.108803038152,
          543.845053399477,
          468.845513103988,
          449.910313665362,
          442.03533042158
         ]
        },
        {
         "line": {
          "width": 3
         },
         "mode": "lines+markers",
         "name": "Germany",
         "type": "scatter",
         "x": [
          2021,
          2020,
          2019,
          2018,
          2017,
          2016,
          2015,
          2014,
          2013,
          2012,
          2011,
          2010,
          2009,
          2008,
          2007,
          2006,
          2005,
          2004,
          2003,
          2002,
          2001,
          2000
         ],
         "y": [
          51426.7503654421,
          46749.4762280016,
          46805.1384334439,
          47939.2782884504,
          44652.5891722719,
          42136.1207907991,
          41103.2564363768,
          48023.8699845462,
          46298.9229177341,
          43855.8544658618,
          46705.8957963353,
          41572.4559481507,
          41650.3678297162,
          45612.7106221441,
          41640.0808695147,
          36353.8803343631,
          34520.2396492496,
          34106.6581224001,
          30310.3575963774,
          25197.2656001848,
          23628.3272122367,
          23694.7604830673
         ]
        }
       ],
       "layout": {
        "template": {
         "data": {
          "bar": [
           {
            "error_x": {
             "color": "#2a3f5f"
            },
            "error_y": {
             "color": "#2a3f5f"
            },
            "marker": {
             "line": {
              "color": "white",
              "width": 0.5
             },
             "pattern": {
              "fillmode": "overlay",
              "size": 10,
              "solidity": 0.2
             }
            },
            "type": "bar"
           }
          ],
          "barpolar": [
           {
            "marker": {
             "line": {
              "color": "white",
              "width": 0.5
             },
             "pattern": {
              "fillmode": "overlay",
              "size": 10,
              "solidity": 0.2
             }
            },
            "type": "barpolar"
           }
          ],
          "carpet": [
           {
            "aaxis": {
             "endlinecolor": "#2a3f5f",
             "gridcolor": "#C8D4E3",
             "linecolor": "#C8D4E3",
             "minorgridcolor": "#C8D4E3",
             "startlinecolor": "#2a3f5f"
            },
            "baxis": {
             "endlinecolor": "#2a3f5f",
             "gridcolor": "#C8D4E3",
             "linecolor": "#C8D4E3",
             "minorgridcolor": "#C8D4E3",
             "startlinecolor": "#2a3f5f"
            },
            "type": "carpet"
           }
          ],
          "choropleth": [
           {
            "colorbar": {
             "outlinewidth": 0,
             "ticks": ""
            },
            "type": "choropleth"
           }
          ],
          "contour": [
           {
            "colorbar": {
             "outlinewidth": 0,
             "ticks": ""
            },
            "colorscale": [
             [
              0,
              "#0d0887"
             ],
             [
              0.1111111111111111,
              "#46039f"
             ],
             [
              0.2222222222222222,
              "#7201a8"
             ],
             [
              0.3333333333333333,
              "#9c179e"
             ],
             [
              0.4444444444444444,
              "#bd3786"
             ],
             [
              0.5555555555555556,
              "#d8576b"
             ],
             [
              0.6666666666666666,
              "#ed7953"
             ],
             [
              0.7777777777777778,
              "#fb9f3a"
             ],
             [
              0.8888888888888888,
              "#fdca26"
             ],
             [
              1,
              "#f0f921"
             ]
            ],
            "type": "contour"
           }
          ],
          "contourcarpet": [
           {
            "colorbar": {
             "outlinewidth": 0,
             "ticks": ""
            },
            "type": "contourcarpet"
           }
          ],
          "heatmap": [
           {
            "colorbar": {
             "outlinewidth": 0,
             "ticks": ""
            },
            "colorscale": [
             [
              0,
              "#0d0887"
             ],
             [
              0.1111111111111111,
              "#46039f"
             ],
             [
              0.2222222222222222,
              "#7201a8"
             ],
             [
              0.3333333333333333,
              "#9c179e"
             ],
             [
              0.4444444444444444,
              "#bd3786"
             ],
             [
              0.5555555555555556,
              "#d8576b"
             ],
             [
              0.6666666666666666,
              "#ed7953"
             ],
             [
              0.7777777777777778,
              "#fb9f3a"
             ],
             [
              0.8888888888888888,
              "#fdca26"
             ],
             [
              1,
              "#f0f921"
             ]
            ],
            "type": "heatmap"
           }
          ],
          "heatmapgl": [
           {
            "colorbar": {
             "outlinewidth": 0,
             "ticks": ""
            },
            "colorscale": [
             [
              0,
              "#0d0887"
             ],
             [
              0.1111111111111111,
              "#46039f"
             ],
             [
              0.2222222222222222,
              "#7201a8"
             ],
             [
              0.3333333333333333,
              "#9c179e"
             ],
             [
              0.4444444444444444,
              "#bd3786"
             ],
             [
              0.5555555555555556,
              "#d8576b"
             ],
             [
              0.6666666666666666,
              "#ed7953"
             ],
             [
              0.7777777777777778,
              "#fb9f3a"
             ],
             [
              0.8888888888888888,
              "#fdca26"
             ],
             [
              1,
              "#f0f921"
             ]
            ],
            "type": "heatmapgl"
           }
          ],
          "histogram": [
           {
            "marker": {
             "pattern": {
              "fillmode": "overlay",
              "size": 10,
              "solidity": 0.2
             }
            },
            "type": "histogram"
           }
          ],
          "histogram2d": [
           {
            "colorbar": {
             "outlinewidth": 0,
             "ticks": ""
            },
            "colorscale": [
             [
              0,
              "#0d0887"
             ],
             [
              0.1111111111111111,
              "#46039f"
             ],
             [
              0.2222222222222222,
              "#7201a8"
             ],
             [
              0.3333333333333333,
              "#9c179e"
             ],
             [
              0.4444444444444444,
              "#bd3786"
             ],
             [
              0.5555555555555556,
              "#d8576b"
             ],
             [
              0.6666666666666666,
              "#ed7953"
             ],
             [
              0.7777777777777778,
              "#fb9f3a"
             ],
             [
              0.8888888888888888,
              "#fdca26"
             ],
             [
              1,
              "#f0f921"
             ]
            ],
            "type": "histogram2d"
           }
          ],
          "histogram2dcontour": [
           {
            "colorbar": {
             "outlinewidth": 0,
             "ticks": ""
            },
            "colorscale": [
             [
              0,
              "#0d0887"
             ],
             [
              0.1111111111111111,
              "#46039f"
             ],
             [
              0.2222222222222222,
              "#7201a8"
             ],
             [
              0.3333333333333333,
              "#9c179e"
             ],
             [
              0.4444444444444444,
              "#bd3786"
             ],
             [
              0.5555555555555556,
              "#d8576b"
             ],
             [
              0.6666666666666666,
              "#ed7953"
             ],
             [
              0.7777777777777778,
              "#fb9f3a"
             ],
             [
              0.8888888888888888,
              "#fdca26"
             ],
             [
              1,
              "#f0f921"
             ]
            ],
            "type": "histogram2dcontour"
           }
          ],
          "mesh3d": [
           {
            "colorbar": {
             "outlinewidth": 0,
             "ticks": ""
            },
            "type": "mesh3d"
           }
          ],
          "parcoords": [
           {
            "line": {
             "colorbar": {
              "outlinewidth": 0,
              "ticks": ""
             }
            },
            "type": "parcoords"
           }
          ],
          "pie": [
           {
            "automargin": true,
            "type": "pie"
           }
          ],
          "scatter": [
           {
            "fillpattern": {
             "fillmode": "overlay",
             "size": 10,
             "solidity": 0.2
            },
            "type": "scatter"
           }
          ],
          "scatter3d": [
           {
            "line": {
             "colorbar": {
              "outlinewidth": 0,
              "ticks": ""
             }
            },
            "marker": {
             "colorbar": {
              "outlinewidth": 0,
              "ticks": ""
             }
            },
            "type": "scatter3d"
           }
          ],
          "scattercarpet": [
           {
            "marker": {
             "colorbar": {
              "outlinewidth": 0,
              "ticks": ""
             }
            },
            "type": "scattercarpet"
           }
          ],
          "scattergeo": [
           {
            "marker": {
             "colorbar": {
              "outlinewidth": 0,
              "ticks": ""
             }
            },
            "type": "scattergeo"
           }
          ],
          "scattergl": [
           {
            "marker": {
             "colorbar": {
              "outlinewidth": 0,
              "ticks": ""
             }
            },
            "type": "scattergl"
           }
          ],
          "scattermapbox": [
           {
            "marker": {
             "colorbar": {
              "outlinewidth": 0,
              "ticks": ""
             }
            },
            "type": "scattermapbox"
           }
          ],
          "scatterpolar": [
           {
            "marker": {
             "colorbar": {
              "outlinewidth": 0,
              "ticks": ""
             }
            },
            "type": "scatterpolar"
           }
          ],
          "scatterpolargl": [
           {
            "marker": {
             "colorbar": {
              "outlinewidth": 0,
              "ticks": ""
             }
            },
            "type": "scatterpolargl"
           }
          ],
          "scatterternary": [
           {
            "marker": {
             "colorbar": {
              "outlinewidth": 0,
              "ticks": ""
             }
            },
            "type": "scatterternary"
           }
          ],
          "surface": [
           {
            "colorbar": {
             "outlinewidth": 0,
             "ticks": ""
            },
            "colorscale": [
             [
              0,
              "#0d0887"
             ],
             [
              0.1111111111111111,
              "#46039f"
             ],
             [
              0.2222222222222222,
              "#7201a8"
             ],
             [
              0.3333333333333333,
              "#9c179e"
             ],
             [
              0.4444444444444444,
              "#bd3786"
             ],
             [
              0.5555555555555556,
              "#d8576b"
             ],
             [
              0.6666666666666666,
              "#ed7953"
             ],
             [
              0.7777777777777778,
              "#fb9f3a"
             ],
             [
              0.8888888888888888,
              "#fdca26"
             ],
             [
              1,
              "#f0f921"
             ]
            ],
            "type": "surface"
           }
          ],
          "table": [
           {
            "cells": {
             "fill": {
              "color": "#EBF0F8"
             },
             "line": {
              "color": "white"
             }
            },
            "header": {
             "fill": {
              "color": "#C8D4E3"
             },
             "line": {
              "color": "white"
             }
            },
            "type": "table"
           }
          ]
         },
         "layout": {
          "annotationdefaults": {
           "arrowcolor": "#2a3f5f",
           "arrowhead": 0,
           "arrowwidth": 1
          },
          "autotypenumbers": "strict",
          "coloraxis": {
           "colorbar": {
            "outlinewidth": 0,
            "ticks": ""
           }
          },
          "colorscale": {
           "diverging": [
            [
             0,
             "#8e0152"
            ],
            [
             0.1,
             "#c51b7d"
            ],
            [
             0.2,
             "#de77ae"
            ],
            [
             0.3,
             "#f1b6da"
            ],
            [
             0.4,
             "#fde0ef"
            ],
            [
             0.5,
             "#f7f7f7"
            ],
            [
             0.6,
             "#e6f5d0"
            ],
            [
             0.7,
             "#b8e186"
            ],
            [
             0.8,
             "#7fbc41"
            ],
            [
             0.9,
             "#4d9221"
            ],
            [
             1,
             "#276419"
            ]
           ],
           "sequential": [
            [
             0,
             "#0d0887"
            ],
            [
             0.1111111111111111,
             "#46039f"
            ],
            [
             0.2222222222222222,
             "#7201a8"
            ],
            [
             0.3333333333333333,
             "#9c179e"
            ],
            [
             0.4444444444444444,
             "#bd3786"
            ],
            [
             0.5555555555555556,
             "#d8576b"
            ],
            [
             0.6666666666666666,
             "#ed7953"
            ],
            [
             0.7777777777777778,
             "#fb9f3a"
            ],
            [
             0.8888888888888888,
             "#fdca26"
            ],
            [
             1,
             "#f0f921"
            ]
           ],
           "sequentialminus": [
            [
             0,
             "#0d0887"
            ],
            [
             0.1111111111111111,
             "#46039f"
            ],
            [
             0.2222222222222222,
             "#7201a8"
            ],
            [
             0.3333333333333333,
             "#9c179e"
            ],
            [
             0.4444444444444444,
             "#bd3786"
            ],
            [
             0.5555555555555556,
             "#d8576b"
            ],
            [
             0.6666666666666666,
             "#ed7953"
            ],
            [
             0.7777777777777778,
             "#fb9f3a"
            ],
            [
             0.8888888888888888,
             "#fdca26"
            ],
            [
             1,
             "#f0f921"
            ]
           ]
          },
          "colorway": [
           "#636efa",
           "#EF553B",
           "#00cc96",
           "#ab63fa",
           "#FFA15A",
           "#19d3f3",
           "#FF6692",
           "#B6E880",
           "#FF97FF",
           "#FECB52"
          ],
          "font": {
           "color": "#2a3f5f"
          },
          "geo": {
           "bgcolor": "white",
           "lakecolor": "white",
           "landcolor": "white",
           "showlakes": true,
           "showland": true,
           "subunitcolor": "#C8D4E3"
          },
          "hoverlabel": {
           "align": "left"
          },
          "hovermode": "closest",
          "mapbox": {
           "style": "light"
          },
          "paper_bgcolor": "white",
          "plot_bgcolor": "white",
          "polar": {
           "angularaxis": {
            "gridcolor": "#EBF0F8",
            "linecolor": "#EBF0F8",
            "ticks": ""
           },
           "bgcolor": "white",
           "radialaxis": {
            "gridcolor": "#EBF0F8",
            "linecolor": "#EBF0F8",
            "ticks": ""
           }
          },
          "scene": {
           "xaxis": {
            "backgroundcolor": "white",
            "gridcolor": "#DFE8F3",
            "gridwidth": 2,
            "linecolor": "#EBF0F8",
            "showbackground": true,
            "ticks": "",
            "zerolinecolor": "#EBF0F8"
           },
           "yaxis": {
            "backgroundcolor": "white",
            "gridcolor": "#DFE8F3",
            "gridwidth": 2,
            "linecolor": "#EBF0F8",
            "showbackground": true,
            "ticks": "",
            "zerolinecolor": "#EBF0F8"
           },
           "zaxis": {
            "backgroundcolor": "white",
            "gridcolor": "#DFE8F3",
            "gridwidth": 2,
            "linecolor": "#EBF0F8",
            "showbackground": true,
            "ticks": "",
            "zerolinecolor": "#EBF0F8"
           }
          },
          "shapedefaults": {
           "line": {
            "color": "#2a3f5f"
           }
          },
          "ternary": {
           "aaxis": {
            "gridcolor": "#DFE8F3",
            "linecolor": "#A2B1C6",
            "ticks": ""
           },
           "baxis": {
            "gridcolor": "#DFE8F3",
            "linecolor": "#A2B1C6",
            "ticks": ""
           },
           "bgcolor": "white",
           "caxis": {
            "gridcolor": "#DFE8F3",
            "linecolor": "#A2B1C6",
            "ticks": ""
           }
          },
          "title": {
           "x": 0.05
          },
          "xaxis": {
           "automargin": true,
           "gridcolor": "#EBF0F8",
           "linecolor": "#EBF0F8",
           "ticks": "",
           "title": {
            "standoff": 15
           },
           "zerolinecolor": "#EBF0F8",
           "zerolinewidth": 2
          },
          "yaxis": {
           "automargin": true,
           "gridcolor": "#EBF0F8",
           "linecolor": "#EBF0F8",
           "ticks": "",
           "title": {
            "standoff": 15
           },
           "zerolinecolor": "#EBF0F8",
           "zerolinewidth": 2
          }
         }
        },
        "title": {
         "text": "Évolution du PIB par habitant (USD) au fil du temps"
        },
        "xaxis": {
         "title": {
          "text": "Année"
         }
        },
        "yaxis": {
         "title": {
          "text": "PIB par habitant (USD)"
         }
        }
       }
      }
     },
     "metadata": {},
     "output_type": "display_data"
    }
   ],
   "source": [
    "# Pays sélectionnés\n",
    "pays_selectionnes = [\"United States\", \"France\", \"China\", \"India\", \"Germany\"]\n",
    "\n",
    "# Récupérer les codes pays\n",
    "country_info = df[df['Country'].isin(pays_selectionnes)][['Country', 'Country Code']].drop_duplicates()\n",
    "country_codes = country_info['Country Code'].tolist()\n",
    "\n",
    "# Fonction pour récupérer les données historiques\n",
    "def fetch_historical_data(indicateur, country_codes):\n",
    "    frames = []\n",
    "    for code in country_codes:\n",
    "        url = f\"https://api.worldbank.org/v2/country/{code}/indicator/{indicateur}?format=json&date=2000:2021&per_page=300\"\n",
    "        response = requests.get(url)\n",
    "        data = response.json()\n",
    "        if len(data) > 1:\n",
    "            df_hist = pd.DataFrame(data[1])\n",
    "            df_hist['Country Code'] = code\n",
    "            frames.append(df_hist)\n",
    "    if frames:\n",
    "        return pd.concat(frames, ignore_index=True)\n",
    "    return pd.DataFrame()\n",
    "\n",
    "# Appel de la fonction\n",
    "df_hist = fetch_historical_data(indicateur, country_codes)\n",
    "\n",
    "# Nettoyage et visualisation\n",
    "if not df_hist.empty:\n",
    "    df_hist = df_hist[['country', 'date', 'value']].dropna()\n",
    "    df_hist['Value'] = df_hist['value'].astype(float)\n",
    "    df_hist['Year'] = df_hist['date'].astype(int)\n",
    "    df_hist['Country'] = df_hist['country'].apply(lambda x: x['value'])\n",
    "\n",
    "    # Création du graphique temporel\n",
    "    fig_line = go.Figure()\n",
    "    for country in pays_selectionnes:\n",
    "        df_country = df_hist[df_hist['Country'] == country]\n",
    "        fig_line.add_trace(go.Scatter(\n",
    "            x=df_country['Year'],\n",
    "            y=df_country['Value'],\n",
    "            mode='lines+markers',\n",
    "            name=country,\n",
    "            line=dict(width=3),\n",
    "        ))\n",
    "\n",
    "    # Personnalisation du graphique\n",
    "    fig_line.update_layout(\n",
    "        title=\"Évolution du PIB par habitant (USD) au fil du temps\",\n",
    "        xaxis_title=\"Année\",\n",
    "        yaxis_title=\"PIB par habitant (USD)\",\n",
    "        template='plotly_white',\n",
    "    )\n",
    "    fig_line.show()\n",
    "else:\n",
    "    print(\"Aucune donnée historique disponible.\")"
   ]
  },
  {
   "cell_type": "code",
   "execution_count": null,
   "metadata": {},
   "outputs": [],
   "source": [
    "# Exporter les données nettoyées\n",
    "#df_export = df[['Country', 'Value']]\n",
    "#df_export.to_csv(\"indicateurs_pays.csv\", index=False)\n",
    "#print(\"Les données ont été exportées sous forme de fichier CSV : indicateurs_pays.csv\")"
   ]
  },
  {
   "cell_type": "markdown",
   "metadata": {},
   "source": [
    "## Cryptommonaies ( API Coin Geko)"
   ]
  },
  {
   "cell_type": "code",
   "execution_count": 49,
   "metadata": {},
   "outputs": [
    {
     "data": {
      "text/plain": [
       "\"\\nComment utiliser l'API CoinGecko pour analyser les principales cryptomonnaies\\u202f:\\n- Récupération des données en temps réel.\\n- Visualisation avancée\\u202f: prix historiques, heatmap, et graphique 3D.\\n\""
      ]
     },
     "execution_count": 49,
     "metadata": {},
     "output_type": "execute_result"
    }
   ],
   "source": [
    "# Importation des bibliothèques nécessaires\n",
    "import pandas as pd\n",
    "import requests\n",
    "import plotly.graph_objects as go\n",
    "from datetime import datetime, timedelta\n",
    "\n",
    "# URL de l'API CoinGecko\n",
    "COINGECKO_API = \"https://api.coingecko.com/api/v3/coins/markets\"\n",
    "\n",
    "# Description\n",
    "\"\"\"\n",
    "Comment utiliser l'API CoinGecko pour analyser les principales cryptomonnaies :\n",
    "- Récupération des données en temps réel.\n",
    "- Visualisation avancée : prix historiques, heatmap, et graphique 3D.\n",
    "\"\"\""
   ]
  },
  {
   "cell_type": "code",
   "execution_count": 60,
   "metadata": {},
   "outputs": [
    {
     "data": {
      "text/html": [
       "<div>\n",
       "<style scoped>\n",
       "    .dataframe tbody tr th:only-of-type {\n",
       "        vertical-align: middle;\n",
       "    }\n",
       "\n",
       "    .dataframe tbody tr th {\n",
       "        vertical-align: top;\n",
       "    }\n",
       "\n",
       "    .dataframe thead th {\n",
       "        text-align: right;\n",
       "    }\n",
       "</style>\n",
       "<table border=\"1\" class=\"dataframe\">\n",
       "  <thead>\n",
       "    <tr style=\"text-align: right;\">\n",
       "      <th></th>\n",
       "      <th>id</th>\n",
       "      <th>symbol</th>\n",
       "      <th>name</th>\n",
       "      <th>image</th>\n",
       "      <th>current_price</th>\n",
       "      <th>market_cap</th>\n",
       "      <th>market_cap_rank</th>\n",
       "      <th>fully_diluted_valuation</th>\n",
       "      <th>total_volume</th>\n",
       "      <th>high_24h</th>\n",
       "      <th>...</th>\n",
       "      <th>ath_date</th>\n",
       "      <th>atl</th>\n",
       "      <th>atl_change_percentage</th>\n",
       "      <th>atl_date</th>\n",
       "      <th>roi</th>\n",
       "      <th>last_updated</th>\n",
       "      <th>sparkline_in_7d</th>\n",
       "      <th>price_change_percentage_1h_in_currency</th>\n",
       "      <th>price_change_percentage_24h_in_currency</th>\n",
       "      <th>price_change_percentage_7d_in_currency</th>\n",
       "    </tr>\n",
       "  </thead>\n",
       "  <tbody>\n",
       "    <tr>\n",
       "      <th>0</th>\n",
       "      <td>bitcoin</td>\n",
       "      <td>btc</td>\n",
       "      <td>Bitcoin</td>\n",
       "      <td>https://coin-images.coingecko.com/coins/images...</td>\n",
       "      <td>98193.000</td>\n",
       "      <td>1938715508924</td>\n",
       "      <td>1</td>\n",
       "      <td>2057355146756</td>\n",
       "      <td>66517926901</td>\n",
       "      <td>98685.000</td>\n",
       "      <td>...</td>\n",
       "      <td>2024-11-22T19:35:49.770Z</td>\n",
       "      <td>67.810000</td>\n",
       "      <td>144290.83887</td>\n",
       "      <td>2013-07-06T00:00:00.000Z</td>\n",
       "      <td>None</td>\n",
       "      <td>2024-11-29T16:25:05.135Z</td>\n",
       "      <td>{'price': [98957.45944900438, 98685.7882146392...</td>\n",
       "      <td>-0.380604</td>\n",
       "      <td>3.129958</td>\n",
       "      <td>-0.247433</td>\n",
       "    </tr>\n",
       "    <tr>\n",
       "      <th>1</th>\n",
       "      <td>ethereum</td>\n",
       "      <td>eth</td>\n",
       "      <td>Ethereum</td>\n",
       "      <td>https://coin-images.coingecko.com/coins/images...</td>\n",
       "      <td>3606.340</td>\n",
       "      <td>433573895704</td>\n",
       "      <td>2</td>\n",
       "      <td>433573895704</td>\n",
       "      <td>28482420807</td>\n",
       "      <td>3649.170</td>\n",
       "      <td>...</td>\n",
       "      <td>2021-11-10T14:24:19.604Z</td>\n",
       "      <td>0.432979</td>\n",
       "      <td>831232.24982</td>\n",
       "      <td>2015-10-20T00:00:00.000Z</td>\n",
       "      <td>{'times': 48.1207451740577, 'currency': 'btc',...</td>\n",
       "      <td>2024-11-29T16:25:09.959Z</td>\n",
       "      <td>{'price': [3346.5455196347625, 3293.7397622031...</td>\n",
       "      <td>-0.907684</td>\n",
       "      <td>1.522389</td>\n",
       "      <td>9.159786</td>\n",
       "    </tr>\n",
       "    <tr>\n",
       "      <th>2</th>\n",
       "      <td>tether</td>\n",
       "      <td>usdt</td>\n",
       "      <td>Tether</td>\n",
       "      <td>https://coin-images.coingecko.com/coins/images...</td>\n",
       "      <td>1.002</td>\n",
       "      <td>133428276706</td>\n",
       "      <td>3</td>\n",
       "      <td>133428276706</td>\n",
       "      <td>116000956237</td>\n",
       "      <td>1.003</td>\n",
       "      <td>...</td>\n",
       "      <td>2018-07-24T00:00:00.000Z</td>\n",
       "      <td>0.572521</td>\n",
       "      <td>74.46178</td>\n",
       "      <td>2015-03-02T00:00:00.000Z</td>\n",
       "      <td>None</td>\n",
       "      <td>2024-11-29T16:25:13.398Z</td>\n",
       "      <td>{'price': [1.0008510517630425, 1.0009433245657...</td>\n",
       "      <td>-0.015373</td>\n",
       "      <td>0.180017</td>\n",
       "      <td>0.157059</td>\n",
       "    </tr>\n",
       "    <tr>\n",
       "      <th>3</th>\n",
       "      <td>solana</td>\n",
       "      <td>sol</td>\n",
       "      <td>Solana</td>\n",
       "      <td>https://coin-images.coingecko.com/coins/images...</td>\n",
       "      <td>243.460</td>\n",
       "      <td>115463539757</td>\n",
       "      <td>4</td>\n",
       "      <td>143244655969</td>\n",
       "      <td>5488585629</td>\n",
       "      <td>246.610</td>\n",
       "      <td>...</td>\n",
       "      <td>2024-11-23T15:05:59.896Z</td>\n",
       "      <td>0.500801</td>\n",
       "      <td>48417.21286</td>\n",
       "      <td>2020-05-11T19:35:23.449Z</td>\n",
       "      <td>None</td>\n",
       "      <td>2024-11-29T16:25:13.111Z</td>\n",
       "      <td>{'price': [259.27140409899755, 259.39654086691...</td>\n",
       "      <td>-0.946752</td>\n",
       "      <td>3.714568</td>\n",
       "      <td>-4.623486</td>\n",
       "    </tr>\n",
       "    <tr>\n",
       "      <th>4</th>\n",
       "      <td>ripple</td>\n",
       "      <td>xrp</td>\n",
       "      <td>XRP</td>\n",
       "      <td>https://coin-images.coingecko.com/coins/images...</td>\n",
       "      <td>1.700</td>\n",
       "      <td>97070502033</td>\n",
       "      <td>5</td>\n",
       "      <td>170123217520</td>\n",
       "      <td>14031972100</td>\n",
       "      <td>1.760</td>\n",
       "      <td>...</td>\n",
       "      <td>2018-01-07T00:00:00.000Z</td>\n",
       "      <td>0.002686</td>\n",
       "      <td>63285.85689</td>\n",
       "      <td>2014-05-22T00:00:00.000Z</td>\n",
       "      <td>None</td>\n",
       "      <td>2024-11-29T16:25:15.237Z</td>\n",
       "      <td>{'price': [1.4637653602118972, 1.4597012674227...</td>\n",
       "      <td>-2.873193</td>\n",
       "      <td>17.307849</td>\n",
       "      <td>17.961130</td>\n",
       "    </tr>\n",
       "  </tbody>\n",
       "</table>\n",
       "<p>5 rows × 30 columns</p>\n",
       "</div>"
      ],
      "text/plain": [
       "         id symbol      name  \\\n",
       "0   bitcoin    btc   Bitcoin   \n",
       "1  ethereum    eth  Ethereum   \n",
       "2    tether   usdt    Tether   \n",
       "3    solana    sol    Solana   \n",
       "4    ripple    xrp       XRP   \n",
       "\n",
       "                                               image  current_price  \\\n",
       "0  https://coin-images.coingecko.com/coins/images...      98193.000   \n",
       "1  https://coin-images.coingecko.com/coins/images...       3606.340   \n",
       "2  https://coin-images.coingecko.com/coins/images...          1.002   \n",
       "3  https://coin-images.coingecko.com/coins/images...        243.460   \n",
       "4  https://coin-images.coingecko.com/coins/images...          1.700   \n",
       "\n",
       "      market_cap  market_cap_rank  fully_diluted_valuation  total_volume  \\\n",
       "0  1938715508924                1            2057355146756   66517926901   \n",
       "1   433573895704                2             433573895704   28482420807   \n",
       "2   133428276706                3             133428276706  116000956237   \n",
       "3   115463539757                4             143244655969    5488585629   \n",
       "4    97070502033                5             170123217520   14031972100   \n",
       "\n",
       "    high_24h  ...                  ath_date        atl  atl_change_percentage  \\\n",
       "0  98685.000  ...  2024-11-22T19:35:49.770Z  67.810000           144290.83887   \n",
       "1   3649.170  ...  2021-11-10T14:24:19.604Z   0.432979           831232.24982   \n",
       "2      1.003  ...  2018-07-24T00:00:00.000Z   0.572521               74.46178   \n",
       "3    246.610  ...  2024-11-23T15:05:59.896Z   0.500801            48417.21286   \n",
       "4      1.760  ...  2018-01-07T00:00:00.000Z   0.002686            63285.85689   \n",
       "\n",
       "                   atl_date  \\\n",
       "0  2013-07-06T00:00:00.000Z   \n",
       "1  2015-10-20T00:00:00.000Z   \n",
       "2  2015-03-02T00:00:00.000Z   \n",
       "3  2020-05-11T19:35:23.449Z   \n",
       "4  2014-05-22T00:00:00.000Z   \n",
       "\n",
       "                                                 roi  \\\n",
       "0                                               None   \n",
       "1  {'times': 48.1207451740577, 'currency': 'btc',...   \n",
       "2                                               None   \n",
       "3                                               None   \n",
       "4                                               None   \n",
       "\n",
       "               last_updated  \\\n",
       "0  2024-11-29T16:25:05.135Z   \n",
       "1  2024-11-29T16:25:09.959Z   \n",
       "2  2024-11-29T16:25:13.398Z   \n",
       "3  2024-11-29T16:25:13.111Z   \n",
       "4  2024-11-29T16:25:15.237Z   \n",
       "\n",
       "                                     sparkline_in_7d  \\\n",
       "0  {'price': [98957.45944900438, 98685.7882146392...   \n",
       "1  {'price': [3346.5455196347625, 3293.7397622031...   \n",
       "2  {'price': [1.0008510517630425, 1.0009433245657...   \n",
       "3  {'price': [259.27140409899755, 259.39654086691...   \n",
       "4  {'price': [1.4637653602118972, 1.4597012674227...   \n",
       "\n",
       "   price_change_percentage_1h_in_currency  \\\n",
       "0                               -0.380604   \n",
       "1                               -0.907684   \n",
       "2                               -0.015373   \n",
       "3                               -0.946752   \n",
       "4                               -2.873193   \n",
       "\n",
       "   price_change_percentage_24h_in_currency  \\\n",
       "0                                 3.129958   \n",
       "1                                 1.522389   \n",
       "2                                 0.180017   \n",
       "3                                 3.714568   \n",
       "4                                17.307849   \n",
       "\n",
       "   price_change_percentage_7d_in_currency  \n",
       "0                               -0.247433  \n",
       "1                                9.159786  \n",
       "2                                0.157059  \n",
       "3                               -4.623486  \n",
       "4                               17.961130  \n",
       "\n",
       "[5 rows x 30 columns]"
      ]
     },
     "execution_count": 60,
     "metadata": {},
     "output_type": "execute_result"
    }
   ],
   "source": [
    "# Fonction pour récupérer les données des cryptomonnaies\n",
    "def recuperer_donnees_crypto(devise=\"usd\", nb_cryptos=20):\n",
    "    try:\n",
    "        params = {\n",
    "            \"vs_currency\": devise,\n",
    "            \"order\": \"market_cap_desc\",\n",
    "            \"per_page\": nb_cryptos,\n",
    "            \"page\": 1,\n",
    "            \"sparkline\": \"true\",\n",
    "            \"price_change_percentage\": \"1h,24h,7d\"\n",
    "        }\n",
    "        response = requests.get(COINGECKO_API, params=params)\n",
    "        if response.status_code == 200:\n",
    "            return pd.DataFrame(response.json())\n",
    "        else:\n",
    "            print(f\"Erreur {response.status_code} lors de la récupération des données.\")\n",
    "            return pd.DataFrame()\n",
    "    except Exception as e:\n",
    "        print(f\"Une erreur s'est produite : {e}\")\n",
    "        return pd.DataFrame()\n",
    "\n",
    "# Récupérer les données pour les 10 principales cryptomonnaies\n",
    "devise = \"usd\"  # Monnaie utilisée (USD par défaut)\n",
    "nb_cryptos = 10  # Nombre de cryptos à récupérer\n",
    "data_crypto = recuperer_donnees_crypto(devise, nb_cryptos)\n",
    "\n",
    "# Aperçu des données\n",
    "data_crypto.head()"
   ]
  },
  {
   "cell_type": "code",
   "execution_count": 61,
   "metadata": {},
   "outputs": [],
   "source": [
    "# Nettoyage des données\n",
    "if not data_crypto.empty:\n",
    "    data_crypto = data_crypto[[\n",
    "        \"name\", \"symbol\", \"current_price\", \"price_change_percentage_1h_in_currency\",\n",
    "        \"price_change_percentage_24h_in_currency\", \"price_change_percentage_7d_in_currency\",\n",
    "        \"market_cap\", \"total_volume\", \"sparkline_in_7d\"\n",
    "    ]]\n",
    "    data_crypto.columns = [\n",
    "        \"Nom\", \"Symbole\", \"Prix Actuel\", \"Variation 1h (%)\",\n",
    "        \"Variation 24h (%)\", \"Variation 7j (%)\", \"Capitalisation\", \"Volume Échangé\", \"Sparkline\"\n",
    "    ]\n",
    "    data_crypto.head()  # Aperçu des données nettoyées"
   ]
  },
  {
   "cell_type": "code",
   "execution_count": 62,
   "metadata": {},
   "outputs": [
    {
     "data": {
      "text/html": [
       "<div>\n",
       "<style scoped>\n",
       "    .dataframe tbody tr th:only-of-type {\n",
       "        vertical-align: middle;\n",
       "    }\n",
       "\n",
       "    .dataframe tbody tr th {\n",
       "        vertical-align: top;\n",
       "    }\n",
       "\n",
       "    .dataframe thead th {\n",
       "        text-align: right;\n",
       "    }\n",
       "</style>\n",
       "<table border=\"1\" class=\"dataframe\">\n",
       "  <thead>\n",
       "    <tr style=\"text-align: right;\">\n",
       "      <th></th>\n",
       "      <th>Nom</th>\n",
       "      <th>Symbole</th>\n",
       "      <th>Prix Actuel</th>\n",
       "      <th>Variation 1h (%)</th>\n",
       "      <th>Variation 24h (%)</th>\n",
       "      <th>Variation 7j (%)</th>\n",
       "      <th>Capitalisation</th>\n",
       "      <th>Volume Échangé</th>\n",
       "      <th>Sparkline</th>\n",
       "    </tr>\n",
       "  </thead>\n",
       "  <tbody>\n",
       "    <tr>\n",
       "      <th>0</th>\n",
       "      <td>Bitcoin</td>\n",
       "      <td>btc</td>\n",
       "      <td>98193.000</td>\n",
       "      <td>-0.380604</td>\n",
       "      <td>3.129958</td>\n",
       "      <td>-0.247433</td>\n",
       "      <td>1938715508924</td>\n",
       "      <td>66517926901</td>\n",
       "      <td>{'price': [98957.45944900438, 98685.7882146392...</td>\n",
       "    </tr>\n",
       "    <tr>\n",
       "      <th>1</th>\n",
       "      <td>Ethereum</td>\n",
       "      <td>eth</td>\n",
       "      <td>3606.340</td>\n",
       "      <td>-0.907684</td>\n",
       "      <td>1.522389</td>\n",
       "      <td>9.159786</td>\n",
       "      <td>433573895704</td>\n",
       "      <td>28482420807</td>\n",
       "      <td>{'price': [3346.5455196347625, 3293.7397622031...</td>\n",
       "    </tr>\n",
       "    <tr>\n",
       "      <th>2</th>\n",
       "      <td>Tether</td>\n",
       "      <td>usdt</td>\n",
       "      <td>1.002</td>\n",
       "      <td>-0.015373</td>\n",
       "      <td>0.180017</td>\n",
       "      <td>0.157059</td>\n",
       "      <td>133428276706</td>\n",
       "      <td>116000956237</td>\n",
       "      <td>{'price': [1.0008510517630425, 1.0009433245657...</td>\n",
       "    </tr>\n",
       "    <tr>\n",
       "      <th>3</th>\n",
       "      <td>Solana</td>\n",
       "      <td>sol</td>\n",
       "      <td>243.460</td>\n",
       "      <td>-0.946752</td>\n",
       "      <td>3.714568</td>\n",
       "      <td>-4.623486</td>\n",
       "      <td>115463539757</td>\n",
       "      <td>5488585629</td>\n",
       "      <td>{'price': [259.27140409899755, 259.39654086691...</td>\n",
       "    </tr>\n",
       "    <tr>\n",
       "      <th>4</th>\n",
       "      <td>XRP</td>\n",
       "      <td>xrp</td>\n",
       "      <td>1.700</td>\n",
       "      <td>-2.873193</td>\n",
       "      <td>17.307849</td>\n",
       "      <td>17.961130</td>\n",
       "      <td>97070502033</td>\n",
       "      <td>14031972100</td>\n",
       "      <td>{'price': [1.4637653602118972, 1.4597012674227...</td>\n",
       "    </tr>\n",
       "  </tbody>\n",
       "</table>\n",
       "</div>"
      ],
      "text/plain": [
       "        Nom Symbole  Prix Actuel  Variation 1h (%)  Variation 24h (%)  \\\n",
       "0   Bitcoin     btc    98193.000         -0.380604           3.129958   \n",
       "1  Ethereum     eth     3606.340         -0.907684           1.522389   \n",
       "2    Tether    usdt        1.002         -0.015373           0.180017   \n",
       "3    Solana     sol      243.460         -0.946752           3.714568   \n",
       "4       XRP     xrp        1.700         -2.873193          17.307849   \n",
       "\n",
       "   Variation 7j (%)  Capitalisation  Volume Échangé  \\\n",
       "0         -0.247433   1938715508924     66517926901   \n",
       "1          9.159786    433573895704     28482420807   \n",
       "2          0.157059    133428276706    116000956237   \n",
       "3         -4.623486    115463539757      5488585629   \n",
       "4         17.961130     97070502033     14031972100   \n",
       "\n",
       "                                           Sparkline  \n",
       "0  {'price': [98957.45944900438, 98685.7882146392...  \n",
       "1  {'price': [3346.5455196347625, 3293.7397622031...  \n",
       "2  {'price': [1.0008510517630425, 1.0009433245657...  \n",
       "3  {'price': [259.27140409899755, 259.39654086691...  \n",
       "4  {'price': [1.4637653602118972, 1.4597012674227...  "
      ]
     },
     "execution_count": 62,
     "metadata": {},
     "output_type": "execute_result"
    }
   ],
   "source": [
    "data_crypto.head()# Aperçu des données nettoyées"
   ]
  },
  {
   "cell_type": "code",
   "execution_count": 69,
   "metadata": {},
   "outputs": [
    {
     "name": "stdout",
     "output_type": "stream",
     "text": [
      "Données Sparkline brutes pour chaque crypto :\n",
      "Bitcoin : {'price': [98957.45944900438, 98685.78821463924, 97871.01435703253, 97393.85345172636, 98436.20344002808, 99036.38730170106, 99137.77149298869, 99366.40761088874, 99531.18012036204, 99334.42990748059, 99418.67011453414, 98853.46617956243, 98907.79325258995, 98721.12064236584, 98545.74682604708, 98610.3477536692, 98720.12576397, 98479.71802325314, 98803.60701519938, 98827.5462630559, 98688.35022303325, 98562.42427541426, 98567.61071655307, 98627.69963826089, 98573.42641332174, 98816.16419710916, 98638.74802471796, 98907.83827505098, 98637.06301800392, 97887.14429180366, 97993.79314280888, 97959.65085898795, 97627.80481379767, 97828.71753790964, 98078.20284165346, 97795.77021667767, 97903.58813942045, 98040.73700095096, 98292.35524999183, 98497.71417618614, 98293.90548790821, 98300.80802932262, 98321.94620028995, 98473.08914761616, 98553.76752974809, 98207.04580972278, 98047.89454351828, 97865.55396535275, 97446.22464625575, 96915.28655165159, 96981.5818480657, 96965.73350831258, 96121.8572199591, 96334.81781873644, 95903.66256158017, 96374.14974274626, 96341.4137878268, 96846.36681720814, 97096.89702404664, 98185.22555498003, 98025.77577156796, 97957.30958863487, 97540.4200448884, 97960.57363783635, 97936.55308901767, 98341.69292713798, 98186.0759936348, 98094.82573459054, 98376.20871947528, 98567.62400727392, 98519.10798225815, 98228.50822336145, 97540.86969775405, 97609.67708694986, 94997.23837022923, 96100.44894198941, 95959.07345600906, 95659.88581413838, 95033.5526782929, 94570.70404035949, 94829.93056445321, 93474.36970924771, 94285.27104790804, 92958.83651055662, 93962.56167000989, 94749.6371475018, 94603.47578618444, 94477.185285292, 94392.11640676353, 94710.7745627786, 94402.29090376447, 93877.62962253872, 93335.26212181491, 93301.72697676787, 92016.0821640605, 92312.30864955236, 91830.9877008543, 91909.6595139108, 93508.27326596904, 92896.65602512732, 93816.48423067528, 93153.52006682314, 92457.07367896379, 91948.7665271105, 90911.13567641751, 91723.76190532198, 91798.21404384292, 91966.12546082259, 91933.92643871943, 92607.25978525801, 92757.25760440195, 92540.63200465744, 92467.19419996986, 93116.52878592828, 93041.15493061596, 93358.52950733504, 93353.14544962376, 93421.06777149941, 93720.0281114403, 93357.55242737303, 93629.54950174688, 94329.7143041084, 94861.93284322716, 95789.66766620122, 95515.77323187885, 96424.72297475173, 96170.26060853197, 96657.69896151192, 96666.00439308601, 96491.06000818207, 96170.73566599475, 95951.2085932291, 96614.05040446685, 96276.71642483807, 95479.544969306, 95703.61262402752, 95988.10541431927, 95186.68566247674, 95515.34711807224, 95393.76265151467, 95502.0233166038, 94760.40084653812, 94983.44976143821, 95481.90220044892, 95475.11606956099, 96198.05364234172, 95387.70283031963, 95028.11522967313, 94870.52015258135, 94913.79266980878, 95259.23310011603, 95067.89673866176, 94832.58319602066, 95070.723499186, 95690.73120439636, 95491.15372866433, 95605.1000917574, 96185.70817332235, 96689.2115628015, 96453.7957193378, 96379.56503402354, 96373.51348577719, 96125.36721127221, 95825.0748819143, 95945.75550951564, 96456.81032264214, 96642.49448371603]}\n",
      "Ethereum : {'price': [3346.5455196347625, 3293.7397622031604, 3290.121592279032, 3303.729838125895, 3316.737427865859, 3301.6164249597405, 3285.378336246834, 3284.252275149774, 3293.191852506751, 3313.845423218429, 3314.5929003581064, 3326.870801955107, 3355.8115586383647, 3343.973561362051, 3330.467474053841, 3346.168115529849, 3357.555902300609, 3351.6440090020988, 3348.196120183424, 3345.4071097480687, 3371.0343916092847, 3364.781973738918, 3358.0973526364432, 3357.305546823104, 3407.094179368865, 3439.4396685495467, 3481.1472762481935, 3471.002592521104, 3417.3837039150694, 3418.9673664262714, 3430.3899299266213, 3406.0228852352307, 3407.193340944026, 3429.0808428636187, 3408.5927751846357, 3407.4549658266246, 3422.8276806236913, 3434.9808104317576, 3435.7794733915175, 3429.4090698913865, 3416.3798758800303, 3415.838973683861, 3429.6764779619207, 3427.8305932715757, 3402.761807467599, 3405.3409015625975, 3382.6785314884596, 3354.3307160258087, 3317.381857762563, 3308.34875025957, 3323.2774145311414, 3305.6979733053186, 3319.5893393693136, 3309.171910614818, 3325.974736620244, 3330.2387142919524, 3340.8714617232013, 3348.8984109967696, 3366.16871819021, 3368.6323533732234, 3356.6814277078765, 3343.880610831676, 3367.082497881655, 3374.1381676637493, 3390.841777698942, 3385.3835332086055, 3408.221562249927, 3419.794485776995, 3473.923340290609, 3501.9829424608865, 3478.7825658765605, 3474.332467354044, 3488.195735459422, 3410.4457566941237, 3520.8872920249014, 3466.319585324234, 3480.454015525765, 3446.357551893258, 3463.450576939897, 3474.275386754663, 3424.6031851688836, 3442.990425417335, 3407.6322757178846, 3432.4333798171106, 3454.4049011644092, 3446.5599928723004, 3437.2564631940313, 3423.546779448051, 3430.169852146569, 3417.791236457158, 3392.526088313153, 3380.8152974671357, 3362.961029248412, 3305.779921858582, 3325.001056994645, 3302.3680798986975, 3299.162866755669, 3347.2649236321345, 3297.0804620349686, 3326.267518826369, 3326.644035195155, 3288.30717312049, 3298.1577063341524, 3312.3087511305007, 3323.1429648583744, 3317.8047364144395, 3326.4793465710977, 3314.184732964164, 3337.237881273387, 3360.707837442303, 3360.2917004221285, 3393.166776624478, 3413.5364066124257, 3427.2544211029904, 3426.1592564560237, 3420.162207208439, 3412.9543534876098, 3458.8374652674866, 3450.7511873462577, 3486.4879200127666, 3486.7906506773534, 3530.2988306126326, 3562.316952861153, 3556.765114090693, 3569.728755805309, 3590.5507686595824, 3605.848643147215, 3647.8779374901583, 3645.2183805932773, 3663.848907516152, 3666.1884904377557, 3652.525637757042, 3631.831928585891, 3615.034574523957, 3601.197330817142, 3615.2145826884407, 3581.518873974984, 3594.6524762891086, 3593.847227880343, 3628.552561364859, 3585.0088785333674, 3608.8061966343826, 3621.2051452824066, 3610.732487165745, 3607.484026135571, 3562.8035445710107, 3555.5621832214333, 3534.442093076524, 3560.1334899533267, 3583.395950642489, 3569.820194443461, 3572.048161022212, 3573.129837000764, 3587.9951641210873, 3578.7940610328665, 3563.346425773754, 3576.8949664480037, 3592.482264458509, 3581.9052320378423, 3577.5248643141435, 3580.788647007448, 3564.341705270493, 3554.262638651803, 3567.991415294199, 3571.388471130018, 3576.1337452313146]}\n",
      "Tether : {'price': [1.0008510517630425, 1.0009433245657993, 1.000749203299808, 1.0029622606565012, 1.0004243714744177, 1.0014582304076434, 1.0009377471663845, 1.0010061614448669, 1.0013828091159753, 1.0005353314588488, 1.0017235621868672, 1.0008926940724423, 1.0002620518554457, 1.0010392468134506, 1.0008446496663201, 1.0007070415730634, 1.0013530840377087, 1.0015935627910173, 1.0009120659562307, 1.0010908755660157, 1.0012499605426035, 1.001147194452405, 1.0012059710654915, 1.001628844452505, 1.0011428054573985, 1.0017596025514899, 1.000331126155487, 1.0016666058440018, 1.001756742194439, 1.0018816468574687, 1.0021708601992507, 1.0017242582793537, 1.0012925412833664, 1.001670948197325, 1.0011573228410402, 1.0013497481705953, 1.0012291797840625, 1.001174427933469, 1.000890715371707, 1.000924843438094, 1.0011409027957203, 1.00123265548671, 1.0008515630575303, 1.001198537066007, 1.0016948237507097, 1.0014975388782152, 1.0009066200770775, 1.0018076817705583, 1.0007806442786644, 1.0015676398753286, 0.9998059323335944, 1.000169140499058, 1.001475682147212, 0.9986874913740519, 1.0014230007058562, 0.9999075068633534, 1.0005264620511964, 1.000640240705187, 1.003766380634638, 1.002118648090717, 1.0019410417765533, 1.0010905557463938, 1.0006828052017491, 1.0010229104251744, 1.002432452236072, 1.0021516536417578, 1.0009511908873148, 1.0012297224547302, 1.001377872839298, 1.0013811392831289, 1.0011436273546175, 1.0003437778020678, 1.000563006476727, 1.000776980248778, 0.998449304192437, 0.9999126986574689, 0.9976862231585698, 1.001916362758924, 1.00070978387012, 1.0005024563375562, 1.0005787799017498, 0.9984383047300722, 0.9979468611399964, 0.999381002002201, 1.000512184896738, 1.000564759494826, 0.9995509137913373, 0.9998903048803672, 1.0005912782455297, 1.000664522037408, 0.9999916964923324, 0.9980297619268941, 1.0007534410273407, 1.0016258945140295, 0.9974556896697389, 1.0016598126410756, 0.9999062962512313, 0.9975196329473578, 1.0005662477891262, 0.9978383820558945, 0.997835112113921, 0.9997941262237524, 0.9996571590039987, 0.999437149773909, 0.9980643603005598, 0.9999659749881066, 0.9989228177680256, 1.0018366243913186, 1.0003648997010166, 0.9992930829980153, 0.9989364799967899, 0.9991234086073886, 0.9997047365494691, 1.0014500292888995, 0.9995504376669991, 1.0002094080041775, 0.9989015663632115, 0.9998966388992909, 1.0003221827858912, 0.9992465213801879, 1.0024017867496093, 0.9993132335845017, 1.000727368421169, 0.9986182986799881, 1.0011060158775151, 1.0016823724618715, 1.0006680545141853, 1.0034593360297237, 1.000878911988392, 0.9999951674659823, 1.0009500238624995, 1.001214870666018, 1.0026320232051404, 1.0020151045427255, 0.999536532835963, 1.002108773986793, 1.0006007212286285, 1.0000555710010806, 1.0007256283852528, 1.000715920646726, 1.000277275725623, 0.9994797516722208, 1.001203151402914, 1.0002122185483961, 1.0011025192663126, 1.0001423919338404, 0.9987802505851747, 1.0004964009388797, 1.0006086192430288, 0.9999953708510468, 0.9993560585638573, 1.0002521367002748, 1.0007148486367252, 1.0001284214128074, 1.001032090546781, 0.9996808274696615, 1.0006357871386085, 1.0018824341233488, 0.9998289769984743, 0.999916904964037, 0.9998499270729048, 0.9999861151896545, 1.00068831697538, 0.9990414007733558, 1.000066343127624, 1.0006208251675281, 1.000251784571214]}\n",
      "Solana : {'price': [259.27140409899755, 259.39654086691166, 255.0054559296501, 253.77275585073357, 255.26140538729513, 256.1292039904234, 254.62789386113914, 253.03722445091236, 253.47270384418542, 254.79595666639324, 256.9910377262861, 255.59030849353948, 256.3282113220517, 256.14811830489015, 256.88964980143385, 254.54509673914208, 257.93767028721055, 262.0643373858113, 260.090154047387, 259.71727563834634, 258.6916700985282, 258.13998752150854, 258.6950191199613, 257.3726896015195, 256.3775449517053, 258.1574650802304, 259.81621412003545, 263.20698440865965, 261.4842685764552, 256.67816758905195, 257.6999223951378, 256.2814937719451, 254.99256362304126, 255.43226681356236, 255.62766751850037, 255.20527162074566, 255.4448228022861, 258.8553811996399, 258.89404607081434, 259.3817855044664, 258.4701466870798, 257.0477325992316, 255.61410861367935, 256.51062148235985, 257.00263611839426, 254.86866660908186, 254.424545333833, 252.49070350862414, 248.88987177309383, 245.2000752018949, 246.37255132976313, 246.82010235062435, 245.08803059134533, 246.6713936298845, 247.29860708470042, 250.24640327447446, 248.5455622223482, 250.7887074474109, 251.94709228693804, 253.876713772677, 253.1938254290878, 251.792865181703, 250.21021801238493, 252.63297094560022, 252.91964091917566, 253.99943685355132, 252.15730115877506, 253.88175379125974, 255.04491387128766, 255.43978738610932, 254.01665310885977, 251.77018008689424, 249.75930110247847, 248.6359135990431, 241.5355250146166, 244.8661861325951, 241.91638706345256, 241.63354512418488, 239.59997265683597, 239.49991529715192, 239.03334164901554, 237.180818182025, 237.1806696137634, 234.03450967980987, 236.07850432718016, 237.65242533811244, 238.8944024250365, 237.47403394430052, 237.5865098992222, 238.76137924777197, 237.86559779068673, 234.66684972918316, 233.50587420021873, 234.36843063561005, 226.11769835959845, 226.92983235776595, 226.67465993877994, 226.99509937936108, 231.53660751352422, 227.90186581783448, 230.84168573740823, 230.34638727901378, 226.76127517258877, 228.52351284570233, 229.68350761691434, 230.46224088223858, 229.72544805057655, 232.3420182973375, 229.1542477864137, 231.37151410547443, 233.17299896300392, 231.59983765801826, 229.23361637522058, 230.16318628116736, 230.80894542516538, 234.0872669110453, 232.73977322383743, 233.57791414301232, 235.85138812193506, 234.9653205601388, 235.19213672273918, 237.25512666680643, 239.24436124709135, 240.6818156899761, 239.0219946850983, 240.31222123007706, 239.87216915871994, 240.06759658429743, 241.45772526108826, 240.76656629811689, 240.92190618554997, 242.46678684660802, 245.03390248335486, 243.69621072264758, 241.2202015759415, 240.41008775030926, 240.81046383648535, 238.5171193454614, 238.42862192535665, 238.11757679840645, 238.6390145805587, 236.20596777059706, 235.75474441403418, 236.85746450424313, 235.22891428488853, 237.75631977509468, 235.1483921609017, 234.03092349694518, 234.82591801419565, 235.83021174427716, 236.4431593960716, 235.300180568998, 236.56258879734966, 235.98017294719915, 237.4647695955273, 237.53467932697953, 237.53844209443804, 238.5092163034604, 241.31772770846257, 241.85660005625604, 240.84884628896785, 240.82212106056312, 240.69529996886953, 238.38112386986822, 238.9296647868342, 240.6126477462562, 241.5799959988146]}\n",
      "XRP : {'price': [1.4637653602118972, 1.4597012674227685, 1.4163524850345695, 1.4378696356387501, 1.440992608709401, 1.476998615244756, 1.4522970066996739, 1.4134392675760978, 1.4476256481700904, 1.4462324463700964, 1.4472580908960466, 1.4636413062989722, 1.4735530158968113, 1.5973574917354243, 1.58500344539474, 1.5443261413510565, 1.5449787456088688, 1.525887143943954, 1.5435978597135827, 1.5504383438106264, 1.5477079034459367, 1.5594514713804384, 1.5276763570602252, 1.537026054983635, 1.5457701504211496, 1.535229975718975, 1.550385076944175, 1.5625755265536485, 1.5665698205797147, 1.4654770085508833, 1.4904726362856457, 1.4935769811738433, 1.4629373144063766, 1.458581607399727, 1.4919871193145853, 1.4825215213869434, 1.4682994061016617, 1.4700536305624365, 1.4767729638082505, 1.4936405843962572, 1.4764140271623003, 1.4600744675510489, 1.4502930327871248, 1.4592595073784025, 1.4682964875378717, 1.4406392079260042, 1.4415141788612005, 1.435177716530903, 1.392108199475257, 1.3336987248122762, 1.35761658518368, 1.3535696176013126, 1.3198021305957661, 1.349943888223564, 1.3350093077874272, 1.3946624584062384, 1.3849882683127073, 1.4133699922192584, 1.4301654411541227, 1.4473593727259115, 1.4319771322834152, 1.4072530740379317, 1.3843852485439505, 1.3990790018091375, 1.4443236097550554, 1.4599640037928283, 1.4600759031492554, 1.48429991874354, 1.5162741637034014, 1.5092724585898165, 1.4918068797823094, 1.4807616023270755, 1.4523616898772298, 1.4333402336171097, 1.3963508058252507, 1.4235150165071218, 1.4698132981769858, 1.4659012411119288, 1.461272291842034, 1.4706542746481002, 1.460561744656623, 1.4232379404268019, 1.4171074877082146, 1.4085077085615856, 1.4256032629732576, 1.4468331761790967, 1.4493866813979308, 1.4462393870054053, 1.4419642551874792, 1.4480261191536645, 1.4259794064206421, 1.4137667705827883, 1.3951445806432725, 1.376698084247222, 1.3239317777249913, 1.329055392292293, 1.3211740072644425, 1.3443740875978498, 1.3765585715306023, 1.3468949512907618, 1.3786894507193463, 1.380089555131454, 1.3533063238150067, 1.3776257139352956, 1.4026692983429987, 1.4065735284391705, 1.3925351288333596, 1.4126337706518877, 1.3702046320368888, 1.3878434876947183, 1.3794165463710362, 1.364259166738365, 1.3639277881309386, 1.3727600066026129, 1.385062914481027, 1.4096998642227856, 1.4298215259277123, 1.4483647424494512, 1.4455710916652023, 1.4314942536663284, 1.432918564674698, 1.4408313235685897, 1.448901665163348, 1.4919022890317246, 1.475323095033926, 1.489130022480769, 1.4898815934129983, 1.4839882346091273, 1.502838885780374, 1.4879362311734137, 1.4783520925703548, 1.4723732146032762, 1.464989517874774, 1.472248954679029, 1.461049562866135, 1.4637533135384047, 1.4725722169224391, 1.4754584828533654, 1.4830601631193672, 1.4660658061221725, 1.4588383134205036, 1.4505254650960695, 1.451933732116838, 1.4640586628971008, 1.4587948495304142, 1.4756153844240167, 1.463994646452847, 1.4463991978745043, 1.4593052656294176, 1.468277834979212, 1.476992618433737, 1.476684082079134, 1.4802517151844947, 1.4835283336429927, 1.5145930284404987, 1.5330884951496706, 1.5327075465056013, 1.5577499430641413, 1.5696286394224517, 1.5541714382195198, 1.5478650660243376, 1.5793348145172932, 1.6111250855717565, 1.6043358236339424, 1.6082650407840837, 1.631992625215253, 1.6562524705952029]}\n",
      "BNB : {'price': [625.5759187194614, 626.7364833968403, 620.8459509271802, 618.9775740705974, 624.5255345554941, 625.5906003755871, 623.6343162828931, 622.220775522104, 622.6956061790193, 625.1340076378469, 628.9632491404444, 629.2883647726068, 633.2682262024805, 637.2012842092988, 646.2216811578468, 640.5545195358202, 645.0440215675227, 649.0893653546906, 649.8081075578463, 650.3309052814371, 666.4401418469876, 671.0551679842745, 665.5974442899652, 663.8304429801713, 663.3980032279843, 670.3510709031418, 670.7831878443526, 677.7731954498852, 671.72613805328, 659.4965402212985, 658.210447337132, 658.6822562829302, 652.5350626845147, 649.8211902111931, 656.5350668873858, 654.5054607662694, 652.3539112428083, 661.2399880099664, 661.6464826438206, 659.497571178529, 659.4882550910604, 660.806216341404, 665.3166596892472, 669.4972793968452, 672.0135611548726, 681.5697687650588, 677.5239163612456, 668.7104479139962, 652.8332059240108, 644.5713321347203, 650.3778843461603, 650.8878086844351, 643.1660984652227, 646.8670064786616, 647.1925427853263, 653.2386114956321, 651.1781090945989, 657.4213183108358, 658.067327448652, 662.9279381469252, 661.3421260770938, 661.058213427557, 655.0396048455635, 659.4626572460226, 660.4249004936349, 662.0565467693343, 658.2599460214622, 662.724140738274, 672.7515333397768, 672.3172244694302, 668.2010801543177, 664.6216587000789, 665.4095214856472, 656.705334354272, 636.4483330346411, 647.6138727034041, 647.8230813523355, 646.9037490176569, 643.0148927068801, 643.5699835283998, 646.0525516873556, 639.0262796885678, 637.2824483277649, 635.4096196761667, 641.3577188940764, 644.4547288049264, 644.1634051346846, 642.6066019516645, 641.88403117657, 644.6062861101913, 640.2088736927624, 638.9446471449361, 629.4198833074236, 629.7565931929875, 617.6300459832486, 617.5965621216629, 617.4720138280817, 609.9532530778113, 618.0504243878955, 614.8912371344088, 616.8786490014373, 616.5272408086618, 605.8801973279136, 609.2083333367508, 610.4894469652666, 615.3512354406414, 612.8743459423134, 612.6879601556809, 610.4695189681663, 614.5876231921527, 617.5518008741728, 615.9039401655889, 616.1420935980706, 617.2943121678344, 620.4963946199897, 620.6231799422417, 620.5007482082664, 619.9108627893497, 624.1587827111292, 624.6318337404633, 625.3566350190723, 626.0752915856973, 632.9495689858373, 636.28884981528, 636.1650070819583, 638.9720815882657, 637.4974726657216, 640.6076219085959, 640.910831171288, 643.0621691273706, 644.3379704109717, 644.2775756319617, 649.9447701978328, 656.5343393056575, 652.0336036452691, 652.404421670741, 655.781684573582, 654.2801189934132, 656.4069915815925, 649.5456334975999, 654.6613779636123, 657.242566390081, 659.2746916432036, 659.5636628956706, 658.6784909694112, 655.8920735401036, 651.1855990715526, 647.83951880677, 646.932346621971, 648.0903618922868, 651.4661999029072, 656.6188081250565, 655.3987760105082, 656.4350093640606, 659.573200406103, 654.6483066913157, 653.6009237096911, 656.9826332112283, 662.177957180417, 658.2225567763849, 656.3499127880738, 654.1762554359816, 653.1295092197113, 650.6526124905056, 654.2043355300035, 653.5375552986361, 653.7268663832106]}\n",
      "Dogecoin : {'price': [0.39375893599444356, 0.4014027807574765, 0.39641964158805304, 0.3985544783894812, 0.40072815939120054, 0.40895417703503795, 0.4063598148851226, 0.3970092400289003, 0.3991199456811512, 0.40114382013186284, 0.41056092993480847, 0.41419192580572, 0.412899797503244, 0.41133917730695463, 0.40807324591838606, 0.4241679402801303, 0.4462581072849872, 0.45815534325058793, 0.46290772423217025, 0.46522502246999325, 0.46107406521689986, 0.4609065488281314, 0.4673264605781908, 0.47592040849998624, 0.4672659641509923, 0.4682427248713953, 0.46652037918343847, 0.4659382353351667, 0.45835181843472184, 0.4309652505421834, 0.42913948999693835, 0.43192680312802273, 0.4240671703228465, 0.42532249462296234, 0.4355182808004552, 0.4354285909505502, 0.43267833424666147, 0.4402339029312876, 0.4479590485470003, 0.4456354886504866, 0.44178868563758106, 0.4371927241052028, 0.4344316595696082, 0.4392367053665465, 0.43834184843332097, 0.42906972976809604, 0.4321482524909313, 0.42618631816853136, 0.41725070533293207, 0.40763304692325764, 0.4133800031083649, 0.4113972145297188, 0.4051362413991497, 0.41316957622121414, 0.4107509501285909, 0.4193067987599518, 0.4190838096651056, 0.42518995637053975, 0.425853514449531, 0.4315687493907612, 0.4297804014400327, 0.42040501148548093, 0.4193528853630499, 0.4236021886601674, 0.42226953909927917, 0.4254312109890941, 0.42368318982937436, 0.42851629329918317, 0.43406551994505305, 0.4322774573901259, 0.42958597451441993, 0.4257894504887859, 0.41891505896275405, 0.41653441545392844, 0.401540829485275, 0.4146450517807309, 0.4144337035782097, 0.4031775911249786, 0.40150809014767186, 0.40442430929444945, 0.40351036094622156, 0.39433556222725746, 0.392604293029093, 0.39182512952971116, 0.4012771084187816, 0.40601017802328665, 0.40681438423063554, 0.40525796281015597, 0.40478434647324696, 0.40721816714128994, 0.4028221358220137, 0.39481302769172166, 0.3910294383290648, 0.3911686784375668, 0.3760456041953842, 0.3755109048769477, 0.36949700025237336, 0.3746501340746181, 0.3827600175005554, 0.3833664681032322, 0.3868671012657255, 0.3865489827028007, 0.37485860280912575, 0.3788753724653526, 0.38289011767260606, 0.38516947035475624, 0.382276154028697, 0.3899906036070358, 0.38239859430779993, 0.3897522772271193, 0.38992328275607147, 0.38765375041986855, 0.38840918324511814, 0.3927085169078715, 0.3923414973308816, 0.3963214323378394, 0.39197553252368084, 0.3919953626116029, 0.3956504695757974, 0.3903822326569553, 0.39143032059071564, 0.3936869417348659, 0.39918429909802705, 0.40103174442795086, 0.3990793886776875, 0.40198717018252833, 0.40150848159643476, 0.40552689149548427, 0.4030583171472291, 0.4026574368029863, 0.4031350562755692, 0.39960482996640984, 0.4043930699421552, 0.4127064923766979, 0.4105351407555005, 0.4104704124456482, 0.411199655891988, 0.40727590981949857, 0.40576444602039946, 0.4032150668600526, 0.4042768480437434, 0.4012048335767172, 0.39966657620500495, 0.4018548905780106, 0.39901514771909985, 0.40278081098734947, 0.3987567585612788, 0.39327004100452767, 0.39486721067538233, 0.39704833850530474, 0.40043910834586866, 0.3985735363906925, 0.397065167463715, 0.40001881784666893, 0.4028851277629259, 0.4018626702594793, 0.40022774553726176, 0.4034132869213159, 0.40704016424900274, 0.40634800994410314, 0.40550232266025293, 0.40503263289015895, 0.40419775187826, 0.4018677742690279, 0.40502032900321827, 0.40947273391842254, 0.4123082289647136]}\n",
      "USDC : {'price': [0.9993863572031594, 0.9992001846317412, 1.0007453757989664, 0.998339142514765, 1.0007069578985988, 1.0004427016329387, 1.0001810957276753, 1.0003889755266078, 0.9991988282597544, 0.999626446269517, 0.9996335385622362, 0.9997515841952134, 0.9999868874283386, 1.0003643912632514, 1.0004203122888355, 1.0002448684572243, 0.9992192063302121, 0.9998769996172385, 0.9998772802698035, 0.9998176520112799, 0.9998199806096938, 0.9998743979621656, 1.0001652404602905, 0.9998963403486404, 1.0004377782172558, 0.9992414031096372, 0.9995470374961493, 0.9999538384760949, 0.9996680267452499, 1.0002219594750648, 1.0001451553888145, 1.000046986759826, 0.9993661520592589, 0.9998577746078571, 0.9993528149978345, 1.0004270937165538, 1.0001293741069783, 1.0002553997617778, 0.9993654681507319, 0.9998231011531916, 1.0004788946351388, 0.9999192145944946, 1.0001346302619099, 1.0006729102836116, 1.0001871113906868, 0.999606147523694, 1.0004220299019642, 0.9998091640818293, 1.0005730322688002, 0.9989462369367001, 0.9994710694298894, 0.9983784302806694, 0.9982918084351167, 1.0009957988344067, 1.000364196978022, 0.9997484624481114, 0.9993627164613478, 1.0003704735925292, 1.000179808456324, 1.0008513191822612, 0.9995376290220734, 0.9995813935539598, 1.0005819061386532, 1.0004884372124638, 1.0007603484547518, 0.9996740988036569, 0.9999442001728024, 1.0002902519425796, 0.9995563093424005, 1.000234840572406, 0.9995364184156708, 0.9979336583968705, 0.9998857714123971, 0.9973618438850352, 1.0000263375062408, 0.9996891256185124, 1.0019649624028601, 0.9996821205826818, 1.0004609846984323, 0.999416289888279, 0.9978509365381717, 1.0007698444935913, 0.9987280239947307, 0.9990064942506415, 1.0004541002672676, 0.9994875895104905, 0.9979569934560011, 1.0004845779846419, 1.0003514138774103, 0.9996344284645826, 0.9990855329851271, 1.0013841150754121, 1.001025843690449, 0.997208714723569, 1.0002134825397702, 0.9986755838011433, 0.9975836906504685, 1.0004504807951824, 0.9997679652098441, 0.998398255430534, 0.997202464126775, 0.9979636741886503, 0.9994844355582005, 0.9983007418085269, 0.9998078435627805, 0.9994975107102707, 1.0030191715035028, 0.999882402881867, 1.000085837514665, 0.9998484380173586, 0.9994900799021027, 0.9997361959945359, 1.0014890389222575, 1.0012122973380293, 0.9997317598243568, 1.0000079128409496, 1.000237885875136, 1.000529730773868, 0.9990260397886721, 1.0016309572652857, 1.0023513335639263, 1.0004638448465102, 1.0016049960561288, 0.9997463084933907, 1.0006250870478581, 0.999231566661871, 1.002518181589834, 0.9988141553141175, 1.0001054418190993, 0.9996244460868096, 0.9998651709451457, 1.000779335930895, 1.000918524513133, 0.9983851994048858, 1.0010327646649415, 0.9998902083957388, 0.9994649405197328, 0.9998825498077365, 0.9995102010813542, 0.9997156512060765, 0.9992796800130871, 0.999527607086282, 1.0000159108608846, 1.0006905165868392, 1.0030648376104385, 0.9980276372085017, 1.0006735294157896, 0.9996182513698305, 0.9999074206734773, 1.0000987203561669, 0.9997761464710383, 1.0004162766857816, 0.999812038930818, 1.0006659753197829, 0.9995211514375151, 0.9997943711982975, 1.0020010580987941, 0.9998614772623299, 0.9996925690506878, 0.9996735175444005, 0.999932660876828, 1.0002292792194354, 0.9999228013066083, 0.9998829089116646, 1.000447621948328, 0.999616403269318]}\n",
      "Cardano : {'price': [0.9073961301560751, 0.913504147102892, 0.8914302939808759, 0.8972659246268364, 0.9340837607650933, 0.9691226480116845, 0.9686659737221684, 0.9690771570872081, 0.9726970379088302, 0.9830708545866058, 0.9887094993577111, 1.0222405226067195, 1.0228174909485608, 1.1203631511966559, 1.104295805947357, 1.0707249043496887, 1.0804004000344825, 1.0772087921424982, 1.0909635208601147, 1.0899461218030833, 1.0970069083895992, 1.0958771670078553, 1.0739976478944449, 1.0771575843865313, 1.0867635890357819, 1.067635670185827, 1.0922331094034623, 1.1121572914178373, 1.111238590762422, 1.058520428657865, 1.0591697501056718, 1.0644513530835917, 1.0670362479736202, 1.0466399175034158, 1.0704390385420968, 1.077475558340293, 1.076657156049435, 1.0692288896546425, 1.075233155176104, 1.0803866632378905, 1.0839526064297502, 1.064467202766618, 1.0590682282352362, 1.0625309584585487, 1.0745922799452161, 1.0518524865030656, 1.0465640693393714, 1.0379387790622736, 1.0107716752998055, 0.9754654216788955, 0.989026829772043, 0.9808141050274136, 0.9575730400752572, 0.9773565454275094, 0.9680296973030367, 0.9939595435754871, 0.9872235469759326, 1.0052524153571687, 1.0193904721780092, 1.0295364654571468, 1.0235099954639444, 1.008016920704287, 0.9905770009031449, 1.0248865216466705, 1.0460442716268905, 1.0485866697624573, 1.0410400443462278, 1.0418256413377065, 1.0691039617331557, 1.0637710647595822, 1.0580662935824863, 1.0533655522467449, 1.0281449963932123, 1.0119389013581641, 0.9846464494917451, 1.0055433946540024, 1.0013400575843803, 0.9981428755919587, 0.994969747825914, 1.0047333605044901, 1.0012772337455436, 0.9627052304287549, 0.9585877894489075, 0.9435614872190213, 0.9583838746088874, 0.9754058628424039, 0.9753362381156796, 0.972143428743482, 0.972328425859909, 0.9833855054860198, 0.9757567456984118, 0.957207395840161, 0.9373777519350777, 0.9363583383975601, 0.9163797539168012, 0.9011135348178745, 0.8933359281020349, 0.9043948398762854, 0.9318775098154785, 0.9111177329758122, 0.9323425078979318, 0.9259455954025504, 0.9113370164147536, 0.9427362096856491, 0.9542686363297221, 0.9482692358862249, 0.9565793810057248, 0.9669629533019731, 0.9381609616637138, 0.9515215843398649, 0.9493472145656666, 0.9472237437302589, 0.9553510554979612, 0.9578009926781641, 0.9622456217559802, 0.9773906331247558, 0.974484718382097, 0.9887652506147602, 0.9999379176605452, 0.9943300626142227, 0.9957664856740535, 1.0020692438091225, 1.0021763773696644, 1.032107502015126, 1.0119531103183617, 1.0268969070140863, 1.022637984594636, 1.025947859609223, 1.0193577502899114, 1.0138893777953648, 1.0055650911643912, 1.013312717708717, 1.0134389286917858, 1.0226917013948396, 1.007110688035432, 1.0060526774861303, 1.0154905573621076, 1.0075641331954386, 1.0059177917390765, 0.9981409878012799, 0.9989634690089536, 0.9854628138458462, 0.9893321457583485, 0.9984209721397258, 0.9942604524419537, 1.0089384425241157, 0.9948427859131929, 0.9843823645506034, 0.9889963141555932, 1.0037040599329372, 1.0024740002818882, 1.0009384427405357, 1.0075848206263114, 1.011702710432377, 1.0340922167695878, 1.030201225992838, 1.040500931364005, 1.052862270406676, 1.0570488522039934, 1.0498347169683924, 1.046511133575358, 1.0422029370080712, 1.056013678901114, 1.0525154916485273, 1.0559423368984813, 1.0577623788694235, 1.0706882078984352]}\n",
      "Lido Staked Ether : {'price': [3336.4875069150826, 3337.2540434014304, 3291.3237305308357, 3308.440649268398, 3300.3860398486922, 3321.2388593467285, 3308.426805389542, 3284.270741819178, 3290.3519561816643, 3291.267643743097, 3309.0653650574527, 3319.149784136677, 3331.3627974993124, 3344.432780815021, 3331.7779306280245, 3338.637259784301, 3352.9124541690444, 3347.3199342236185, 3349.411026580998, 3353.1420895143006, 3342.779231824086, 3351.3964762432, 3365.32399577776, 3361.78370099223, 3359.5548127665156, 3410.393609672845, 3463.373313016816, 3471.9438718016886, 3440.4272731985952, 3413.333086562644, 3419.4338499618348, 3430.6119708206006, 3392.490264437068, 3421.0990064730527, 3414.1063187428595, 3399.636065027281, 3418.159892081176, 3421.8008141674227, 3438.5730025760713, 3433.6211424131834, 3421.0525794165537, 3422.685158995554, 3407.6096700334706, 3420.5429646273446, 3425.7568753813675, 3395.6904968908775, 3402.6704067094947, 3358.9010709106133, 3347.288704670853, 3333.1132970853723, 3301.411075013662, 3318.9218381537708, 3313.3980851758697, 3305.30929692849, 3325.7869621663713, 3320.6067703611106, 3338.2273414941305, 3340.0455275385093, 3359.1943244191057, 3361.442007808343, 3362.9626362051645, 3320.18436061036, 3346.8830420467657, 3386.334160778546, 3383.760728697544, 3390.000629467396, 3383.891199542625, 3412.4945466008203, 3441.5637153083017, 3484.6181539073086, 3503.8730684444045, 3481.137043375497, 3464.5541163685857, 3512.864956686362, 3400.8200812243067, 3528.9873285844546, 3424.1675946787254, 3474.7071652620043, 3429.639421580379, 3467.640887549848, 3476.0003747510336, 3413.518458901871, 3454.045387207105, 3431.8538125976083, 3445.2208130544977, 3447.105026015182, 3426.922683184411, 3425.894257280936, 3422.4392743143467, 3428.733305899812, 3406.177341394476, 3363.0308838623155, 3380.8153655175374, 3337.736963459262, 3324.0345246439265, 3324.9777603839393, 3322.023301613262, 3318.79440389038, 3312.7496617370416, 3320.58382438591, 3329.451908053419, 3287.8056866139937, 3272.7637993818266, 3297.5486465771237, 3320.2312437940273, 3330.8938944044085, 3320.6257833474388, 3333.7288707938533, 3331.7852833420457, 3322.0326349284437, 3352.461379650265, 3402.426448936957, 3399.9393755737124, 3419.3707619853085, 3435.7548729015907, 3424.3998835229313, 3410.264673821468, 3422.788034534171, 3443.5897439064966, 3460.7155607187055, 3484.6637487337816, 3479.3695785090235, 3524.74172777286, 3563.6124908394477, 3568.0820508079046, 3585.114041185722, 3599.7564903323027, 3622.4641128525445, 3636.4301371888223, 3667.0834453502407, 3676.935265230329, 3648.308665645577, 3633.7722246643525, 3638.17233514215, 3600.258067241345, 3590.485150353442, 3610.892796724975, 3586.901996238891, 3607.8145639694717, 3597.605963835263, 3625.8402810983052, 3582.8385829560852, 3604.799173569409, 3618.9525048973446, 3609.7243661524553, 3611.0832566237664, 3563.817352405505, 3551.9438406682907, 3550.587380310657, 3560.7566162126263, 3580.9717536382796, 3569.959585127791, 3557.150069322524, 3570.3965458454177, 3592.9328606639947, 3574.368937817958, 3564.2893388033026, 3577.6048149707212, 3592.352598350218, 3580.676111897626, 3576.1471574459697, 3587.469476972154, 3559.8720827841207, 3550.4060362552104, 3568.439451155626, 3575.201002801858, 3576.093719110158]}\n"
     ]
    }
   ],
   "source": [
    "# Inspecter les données sparkline\n",
    "print(\"Données Sparkline brutes pour chaque crypto :\")\n",
    "for _, row in data_crypto.iterrows():\n",
    "    print(f\"{row['Nom']} : {row.get('Sparkline', 'Sparkline non disponible')}\")"
   ]
  },
  {
   "cell_type": "code",
   "execution_count": 93,
   "metadata": {},
   "outputs": [
    {
     "name": "stdout",
     "output_type": "stream",
     "text": [
      "Données récupérées avec succès.\n",
      "Colonnes disponibles : Index(['id', 'symbol', 'name', 'image', 'current_price', 'market_cap',\n",
      "       'market_cap_rank', 'fully_diluted_valuation', 'total_volume',\n",
      "       'high_24h', 'low_24h', 'price_change_24h',\n",
      "       'price_change_percentage_24h', 'market_cap_change_24h',\n",
      "       'market_cap_change_percentage_24h', 'circulating_supply',\n",
      "       'total_supply', 'max_supply', 'ath', 'ath_change_percentage',\n",
      "       'ath_date', 'atl', 'atl_change_percentage', 'atl_date', 'roi',\n",
      "       'last_updated', 'sparkline_in_7d',\n",
      "       'price_change_percentage_1h_in_currency',\n",
      "       'price_change_percentage_24h_in_currency',\n",
      "       'price_change_percentage_7d_in_currency'],\n",
      "      dtype='object')\n"
     ]
    },
    {
     "data": {
      "application/vnd.plotly.v1+json": {
       "config": {
        "plotlyServerURL": "https://plot.ly"
       },
       "data": [
        {
         "line": {
          "width": 2
         },
         "mode": "lines",
         "name": "Bitcoin",
         "type": "scatter",
         "x": [
          "2024-11-29T04:26:13.276777",
          "2024-11-29T04:31:13.276792",
          "2024-11-29T04:36:13.276795",
          "2024-11-29T04:41:13.276796",
          "2024-11-29T04:46:13.276798",
          "2024-11-29T04:51:13.276800",
          "2024-11-29T04:56:13.276802",
          "2024-11-29T05:01:13.276803",
          "2024-11-29T05:06:13.276805",
          "2024-11-29T05:11:13.276806",
          "2024-11-29T05:16:13.276808",
          "2024-11-29T05:21:13.276810",
          "2024-11-29T05:26:13.276811",
          "2024-11-29T05:31:13.276813",
          "2024-11-29T05:36:13.276814",
          "2024-11-29T05:41:13.276816",
          "2024-11-29T05:46:13.276817",
          "2024-11-29T05:51:13.276819",
          "2024-11-29T05:56:13.276820",
          "2024-11-29T06:01:13.276822",
          "2024-11-29T06:06:13.276824",
          "2024-11-29T06:11:13.276825",
          "2024-11-29T06:16:13.276827",
          "2024-11-29T06:21:13.276828",
          "2024-11-29T06:26:13.276830",
          "2024-11-29T06:31:13.276831",
          "2024-11-29T06:36:13.276833",
          "2024-11-29T06:41:13.276834",
          "2024-11-29T06:46:13.276836",
          "2024-11-29T06:51:13.276837",
          "2024-11-29T06:56:13.276839",
          "2024-11-29T07:01:13.276840",
          "2024-11-29T07:06:13.276842",
          "2024-11-29T07:11:13.276843",
          "2024-11-29T07:16:13.276845",
          "2024-11-29T07:21:13.276846",
          "2024-11-29T07:26:13.276848",
          "2024-11-29T07:31:13.276849",
          "2024-11-29T07:36:13.276851",
          "2024-11-29T07:41:13.276852",
          "2024-11-29T07:46:13.276854",
          "2024-11-29T07:51:13.276856",
          "2024-11-29T07:56:13.276857",
          "2024-11-29T08:01:13.276859",
          "2024-11-29T08:06:13.276860",
          "2024-11-29T08:11:13.276862",
          "2024-11-29T08:16:13.276863",
          "2024-11-29T08:21:13.276865",
          "2024-11-29T08:26:13.276866",
          "2024-11-29T08:31:13.276868",
          "2024-11-29T08:36:13.276869",
          "2024-11-29T08:41:13.276871",
          "2024-11-29T08:46:13.276872",
          "2024-11-29T08:51:13.276874",
          "2024-11-29T08:56:13.276875",
          "2024-11-29T09:01:13.276877",
          "2024-11-29T09:06:13.276878",
          "2024-11-29T09:11:13.276880",
          "2024-11-29T09:16:13.276881",
          "2024-11-29T09:21:13.276883",
          "2024-11-29T09:26:13.276884",
          "2024-11-29T09:31:13.276886",
          "2024-11-29T09:36:13.276887",
          "2024-11-29T09:41:13.276889",
          "2024-11-29T09:46:13.276890",
          "2024-11-29T09:51:13.276893",
          "2024-11-29T09:56:13.276894",
          "2024-11-29T10:01:13.276896",
          "2024-11-29T10:06:13.276897",
          "2024-11-29T10:11:13.276899",
          "2024-11-29T10:16:13.276900",
          "2024-11-29T10:21:13.276902",
          "2024-11-29T10:26:13.276903",
          "2024-11-29T10:31:13.276905",
          "2024-11-29T10:36:13.276906",
          "2024-11-29T10:41:13.276908",
          "2024-11-29T10:46:13.276909",
          "2024-11-29T10:51:13.276912",
          "2024-11-29T10:56:13.276914",
          "2024-11-29T11:01:13.276915",
          "2024-11-29T11:06:13.276917",
          "2024-11-29T11:11:13.276918",
          "2024-11-29T11:16:13.276920",
          "2024-11-29T11:21:13.276921",
          "2024-11-29T11:26:13.276923",
          "2024-11-29T11:31:13.276924",
          "2024-11-29T11:36:13.276926",
          "2024-11-29T11:41:13.276927",
          "2024-11-29T11:46:13.276929",
          "2024-11-29T11:51:13.276930",
          "2024-11-29T11:56:13.276932",
          "2024-11-29T12:01:13.276933",
          "2024-11-29T12:06:13.276935",
          "2024-11-29T12:11:13.276937",
          "2024-11-29T12:16:13.276938",
          "2024-11-29T12:21:13.276940",
          "2024-11-29T12:26:13.276941",
          "2024-11-29T12:31:13.276943",
          "2024-11-29T12:36:13.276944",
          "2024-11-29T12:41:13.276946",
          "2024-11-29T12:46:13.276947",
          "2024-11-29T12:51:13.276949",
          "2024-11-29T12:56:13.276950",
          "2024-11-29T13:01:13.276952",
          "2024-11-29T13:06:13.276953",
          "2024-11-29T13:11:13.276955",
          "2024-11-29T13:16:13.276956",
          "2024-11-29T13:21:13.276958",
          "2024-11-29T13:26:13.276960",
          "2024-11-29T13:31:13.276962",
          "2024-11-29T13:36:13.276964",
          "2024-11-29T13:41:13.276965",
          "2024-11-29T13:46:13.276971",
          "2024-11-29T13:51:13.276973",
          "2024-11-29T13:56:13.276974",
          "2024-11-29T14:01:13.276976",
          "2024-11-29T14:06:13.276977",
          "2024-11-29T14:11:13.276979",
          "2024-11-29T14:16:13.276981",
          "2024-11-29T14:21:13.276982",
          "2024-11-29T14:26:13.276984",
          "2024-11-29T14:31:13.276985",
          "2024-11-29T14:36:13.276987",
          "2024-11-29T14:41:13.276988",
          "2024-11-29T14:46:13.276990",
          "2024-11-29T14:51:13.276991",
          "2024-11-29T14:56:13.276993",
          "2024-11-29T15:01:13.276994",
          "2024-11-29T15:06:13.276996",
          "2024-11-29T15:11:13.276998",
          "2024-11-29T15:16:13.277000",
          "2024-11-29T15:21:13.277001",
          "2024-11-29T15:26:13.277003",
          "2024-11-29T15:31:13.277004",
          "2024-11-29T15:36:13.277006",
          "2024-11-29T15:41:13.277007",
          "2024-11-29T15:46:13.277009",
          "2024-11-29T15:51:13.277010",
          "2024-11-29T15:56:13.277012",
          "2024-11-29T16:01:13.277013",
          "2024-11-29T16:06:13.277015",
          "2024-11-29T16:11:13.277016",
          "2024-11-29T16:16:13.277018",
          "2024-11-29T16:21:13.277020",
          "2024-11-29T16:26:13.277021",
          "2024-11-29T16:31:13.277022",
          "2024-11-29T16:36:13.277024",
          "2024-11-29T16:41:13.277025",
          "2024-11-29T16:46:13.277027",
          "2024-11-29T16:51:13.277028",
          "2024-11-29T16:56:13.277030",
          "2024-11-29T17:01:13.277031",
          "2024-11-29T17:06:13.277033",
          "2024-11-29T17:11:13.277034",
          "2024-11-29T17:16:13.277036",
          "2024-11-29T17:21:13.277037",
          "2024-11-29T17:26:13.277039",
          "2024-11-29T17:31:13.277040",
          "2024-11-29T17:36:13.277042",
          "2024-11-29T17:41:13.277043",
          "2024-11-29T17:46:13.277045",
          "2024-11-29T17:51:13.277046",
          "2024-11-29T17:56:13.277048",
          "2024-11-29T18:01:13.277049",
          "2024-11-29T18:06:13.277051",
          "2024-11-29T18:11:13.277053",
          "2024-11-29T18:16:13.277054"
         ],
         "y": [
          100,
          99.72546664407331,
          98.90210894861168,
          98.41992103881387,
          99.47325243404727,
          100.07975937654035,
          100.18221167458046,
          100.41325652877649,
          100.57976495612573,
          100.3809419325993,
          100.4660696304228,
          99.89491113654192,
          99.94981055830357,
          99.76117130739362,
          99.58394988589065,
          99.64923139976722,
          99.76016594771546,
          99.5172254538351,
          99.84452669393328,
          99.86871814750315,
          99.72805564383975,
          99.60080303618375,
          99.60604411772292,
          99.66676609062158,
          99.61192108425081,
          99.85721616876387,
          99.67793087447777,
          99.94985605508701,
          99.67622811581417,
          98.91840881611125,
          99.02618123832079,
          98.99167925735742,
          98.65633713455233,
          98.85936652236266,
          99.11148021357195,
          98.82607209320551,
          98.93502590360353,
          99.07361966125875,
          99.32788876885496,
          99.53541120055213,
          99.32945533889932,
          99.33643060024177,
          99.35779146690611,
          99.51052674140465,
          99.59205508962735,
          99.24168057318781,
          99.08085261025236,
          98.89659103039693,
          98.47284397642866,
          97.93631232175561,
          98.00330605500548,
          97.98729074919491,
          97.13452402190403,
          97.34972821162667,
          96.91403063050753,
          97.38947450688204,
          97.35639367083215,
          97.86666650139281,
          98.11983610400131,
          99.21963043683199,
          99.05850081173865,
          98.98931332116008,
          98.56803174616034,
          98.99261175790214,
          98.968338146845,
          99.37774623025389,
          99.22048983506181,
          99.12827823266989,
          99.41262565473538,
          99.60605754846469,
          99.55703039549826,
          99.26336909849775,
          98.56848613622671,
          98.63801842775777,
          95.99805704307116,
          97.11289020259531,
          96.97002529198875,
          96.66768563660901,
          96.0347539310732,
          95.56702907181493,
          95.82898660946505,
          94.45914459578233,
          95.27858897438242,
          93.93818013129265,
          94.95247977584903,
          95.74784728212329,
          95.60014607583608,
          95.47252507425051,
          95.38655997469952,
          95.7085752707564,
          95.39684166246475,
          94.86665294890332,
          94.31857147657803,
          94.28468303074102,
          92.98549364181993,
          93.28484094432875,
          92.79844916408494,
          92.87794980354612,
          94.49340533459889,
          93.87534455954746,
          94.80486337568277,
          94.13491472548144,
          93.43113110801876,
          92.9174688185021,
          91.8689062781231,
          92.69009371909944,
          92.76533022874256,
          92.935010632741,
          92.90247238622331,
          93.58289946093572,
          93.73447754305215,
          93.51556974069881,
          93.44135825113908,
          94.09753373257718,
          94.02136579563538,
          94.34208398958077,
          94.33664320953116,
          94.40528110934574,
          94.70739106811541,
          94.34109661584719,
          94.61595924458517,
          95.32350045093793,
          95.8613260399154,
          96.79883477158626,
          96.52205479375799,
          97.44058054000683,
          97.18343735177567,
          97.67601098462154,
          97.68440391590771,
          97.50761644998242,
          97.18391741408266,
          96.96207757099454,
          97.63190257956738,
          97.29101470561926,
          96.48544485775665,
          96.71187311891968,
          96.99936310893743,
          96.18950020794458,
          96.52162419074031,
          96.39875880268917,
          96.50816001983027,
          95.75872437930853,
          95.984123167982,
          96.48782692289457,
          96.48096929849139,
          97.21152319185734,
          96.39263513982556,
          96.0292591976291,
          95.87000381863163,
          95.91373222219856,
          96.2628119502258,
          96.06945981434879,
          95.83166718714176,
          96.0723163554726,
          96.69885599044561,
          96.49717591817691,
          96.61232273351304,
          97.19904766036319,
          97.70785557871787,
          97.46995957292457,
          97.39494684955075,
          97.38883154679333,
          97.13807099181682,
          96.83461501080241,
          96.9565670377373,
          97.47300593579719,
          97.66064632400823
         ]
        },
        {
         "line": {
          "width": 2
         },
         "mode": "lines",
         "name": "Ethereum",
         "type": "scatter",
         "x": [
          "2024-11-29T04:31:13.279896",
          "2024-11-29T04:36:13.279902",
          "2024-11-29T04:41:13.279904",
          "2024-11-29T04:46:13.279905",
          "2024-11-29T04:51:13.279907",
          "2024-11-29T04:56:13.279908",
          "2024-11-29T05:01:13.279910",
          "2024-11-29T05:06:13.279911",
          "2024-11-29T05:11:13.279913",
          "2024-11-29T05:16:13.279914",
          "2024-11-29T05:21:13.279916",
          "2024-11-29T05:26:13.279917",
          "2024-11-29T05:31:13.279919",
          "2024-11-29T05:36:13.279920",
          "2024-11-29T05:41:13.279921",
          "2024-11-29T05:46:13.279923",
          "2024-11-29T05:51:13.279924",
          "2024-11-29T05:56:13.279925",
          "2024-11-29T06:01:13.279927",
          "2024-11-29T06:06:13.279928",
          "2024-11-29T06:11:13.279929",
          "2024-11-29T06:16:13.279931",
          "2024-11-29T06:21:13.279932",
          "2024-11-29T06:26:13.279934",
          "2024-11-29T06:31:13.279935",
          "2024-11-29T06:36:13.279936",
          "2024-11-29T06:41:13.279938",
          "2024-11-29T06:46:13.279939",
          "2024-11-29T06:51:13.279940",
          "2024-11-29T06:56:13.279942",
          "2024-11-29T07:01:13.279943",
          "2024-11-29T07:06:13.279944",
          "2024-11-29T07:11:13.279946",
          "2024-11-29T07:16:13.279947",
          "2024-11-29T07:21:13.279949",
          "2024-11-29T07:26:13.279950",
          "2024-11-29T07:31:13.279951",
          "2024-11-29T07:36:13.279953",
          "2024-11-29T07:41:13.279954",
          "2024-11-29T07:46:13.279955",
          "2024-11-29T07:51:13.279957",
          "2024-11-29T07:56:13.279958",
          "2024-11-29T08:01:13.279959",
          "2024-11-29T08:06:13.279961",
          "2024-11-29T08:11:13.279962",
          "2024-11-29T08:16:13.279963",
          "2024-11-29T08:21:13.279965",
          "2024-11-29T08:26:13.279966",
          "2024-11-29T08:31:13.279967",
          "2024-11-29T08:36:13.279969",
          "2024-11-29T08:41:13.279970",
          "2024-11-29T08:46:13.279971",
          "2024-11-29T08:51:13.279973",
          "2024-11-29T08:56:13.279974",
          "2024-11-29T09:01:13.279975",
          "2024-11-29T09:06:13.279977",
          "2024-11-29T09:11:13.279978",
          "2024-11-29T09:16:13.279979",
          "2024-11-29T09:21:13.279981",
          "2024-11-29T09:26:13.279982",
          "2024-11-29T09:31:13.279983",
          "2024-11-29T09:36:13.279985",
          "2024-11-29T09:41:13.279986",
          "2024-11-29T09:46:13.279987",
          "2024-11-29T09:51:13.279989",
          "2024-11-29T09:56:13.279990",
          "2024-11-29T10:01:13.279992",
          "2024-11-29T10:06:13.279993",
          "2024-11-29T10:11:13.279994",
          "2024-11-29T10:16:13.279996",
          "2024-11-29T10:21:13.279997",
          "2024-11-29T10:26:13.279998",
          "2024-11-29T10:31:13.280000",
          "2024-11-29T10:36:13.280001",
          "2024-11-29T10:41:13.280002",
          "2024-11-29T10:46:13.280004",
          "2024-11-29T10:51:13.280005",
          "2024-11-29T10:56:13.280007",
          "2024-11-29T11:01:13.280008",
          "2024-11-29T11:06:13.280010",
          "2024-11-29T11:11:13.280011",
          "2024-11-29T11:16:13.280012",
          "2024-11-29T11:21:13.280014",
          "2024-11-29T11:26:13.280015",
          "2024-11-29T11:31:13.280016",
          "2024-11-29T11:36:13.280018",
          "2024-11-29T11:41:13.280019",
          "2024-11-29T11:46:13.280021",
          "2024-11-29T11:51:13.280022",
          "2024-11-29T11:56:13.280023",
          "2024-11-29T12:01:13.280025",
          "2024-11-29T12:06:13.280026",
          "2024-11-29T12:11:13.280027",
          "2024-11-29T12:16:13.280029",
          "2024-11-29T12:21:13.280030",
          "2024-11-29T12:26:13.280031",
          "2024-11-29T12:31:13.280033",
          "2024-11-29T12:36:13.280034",
          "2024-11-29T12:41:13.280036",
          "2024-11-29T12:46:13.280037",
          "2024-11-29T12:51:13.280038",
          "2024-11-29T12:56:13.280039",
          "2024-11-29T13:01:13.280041",
          "2024-11-29T13:06:13.280042",
          "2024-11-29T13:11:13.280043",
          "2024-11-29T13:16:13.280045",
          "2024-11-29T13:21:13.280046",
          "2024-11-29T13:26:13.280047",
          "2024-11-29T13:31:13.280048",
          "2024-11-29T13:36:13.280050",
          "2024-11-29T13:41:13.280051",
          "2024-11-29T13:46:13.280053",
          "2024-11-29T13:51:13.280054",
          "2024-11-29T13:56:13.280055",
          "2024-11-29T14:01:13.280057",
          "2024-11-29T14:06:13.280058",
          "2024-11-29T14:11:13.280059",
          "2024-11-29T14:16:13.280061",
          "2024-11-29T14:21:13.280062",
          "2024-11-29T14:26:13.280063",
          "2024-11-29T14:31:13.280064",
          "2024-11-29T14:36:13.280066",
          "2024-11-29T14:41:13.280067",
          "2024-11-29T14:46:13.280068",
          "2024-11-29T14:51:13.280070",
          "2024-11-29T14:56:13.280071",
          "2024-11-29T15:01:13.280072",
          "2024-11-29T15:06:13.280073",
          "2024-11-29T15:11:13.280075",
          "2024-11-29T15:16:13.280076",
          "2024-11-29T15:21:13.280078",
          "2024-11-29T15:26:13.280079",
          "2024-11-29T15:31:13.280080",
          "2024-11-29T15:36:13.280082",
          "2024-11-29T15:41:13.280083",
          "2024-11-29T15:46:13.280084",
          "2024-11-29T15:51:13.280085",
          "2024-11-29T15:56:13.280087",
          "2024-11-29T16:01:13.280088",
          "2024-11-29T16:06:13.280089",
          "2024-11-29T16:11:13.280091",
          "2024-11-29T16:16:13.280092",
          "2024-11-29T16:21:13.280093",
          "2024-11-29T16:26:13.280094",
          "2024-11-29T16:31:13.280096",
          "2024-11-29T16:36:13.280097",
          "2024-11-29T16:41:13.280098",
          "2024-11-29T16:46:13.280100",
          "2024-11-29T16:51:13.280101",
          "2024-11-29T16:56:13.280102",
          "2024-11-29T17:01:13.280104",
          "2024-11-29T17:06:13.280105",
          "2024-11-29T17:11:13.280106",
          "2024-11-29T17:16:13.280107",
          "2024-11-29T17:21:13.280109",
          "2024-11-29T17:26:13.280110",
          "2024-11-29T17:31:13.280111",
          "2024-11-29T17:36:13.280113",
          "2024-11-29T17:41:13.280114",
          "2024-11-29T17:46:13.280115",
          "2024-11-29T17:51:13.280116",
          "2024-11-29T17:56:13.280122",
          "2024-11-29T18:01:13.280123",
          "2024-11-29T18:06:13.280124",
          "2024-11-29T18:11:13.280126",
          "2024-11-29T18:16:13.280127"
         ],
         "y": [
          100,
          98.42208160260239,
          98.31396504172193,
          98.72060065348998,
          99.10928772389276,
          98.65744857162662,
          98.17222915304602,
          98.13858069105879,
          98.40570920625534,
          99.0228701141378,
          99.04520589697093,
          99.4120887475093,
          100.27688369840591,
          99.92314587512342,
          99.51956291983514,
          99.98872257667797,
          100.32900740782537,
          100.15235081481552,
          100.04932251896702,
          99.96598253691711,
          100.73176569184079,
          100.54493369348062,
          100.34518678840327,
          100.32152639565817,
          101.8092883954171,
          102.77582206396889,
          104.02211043667864,
          103.71897146344283,
          102.11675543824781,
          102.16407774424694,
          102.5054017583185,
          101.7772764557214,
          101.81225149795313,
          102.46628419498876,
          101.85406877587144,
          101.82006925752229,
          102.27942995370505,
          102.64258442857358,
          102.66644972354936,
          102.47609213054025,
          102.08675949081038,
          102.07059648950063,
          102.48408270078546,
          102.42892478706473,
          101.67983036546211,
          101.75689771983893,
          101.07971075372197,
          100.2326338113547,
          99.12854429437486,
          98.85862095252894,
          99.30471272638896,
          98.77941160250819,
          99.19450728796927,
          98.88321826789246,
          99.38531291763923,
          99.5127272213351,
          99.83045029932298,
          100.07030806388863,
          100.58637178070087,
          100.65998904269713,
          100.30287674300693,
          99.9203683682935,
          100.61367694317613,
          100.82451136155466,
          101.3236412833558,
          101.16054042432631,
          101.84297635437201,
          102.1887933605704,
          103.80624796251831,
          104.64471264216027,
          103.95144920234733,
          103.81847331732182,
          104.23272939195279,
          101.90943875361765,
          105.20960409375118,
          103.57903590394145,
          104.00139472495857,
          102.98253920865206,
          103.49330545839679,
          103.81676765997913,
          102.33248479891108,
          102.8819242175764,
          101.82536755363749,
          102.56646322837773,
          103.22300655696499,
          102.98858846086915,
          102.710584482627,
          102.30091774821256,
          102.49882549097774,
          102.12893314626635,
          101.3739711116617,
          101.02403441493047,
          100.49052103183229,
          98.78186035310138,
          99.35621785170073,
          98.67990919361867,
          98.58413242547901,
          100.02149691355314,
          98.52190692433216,
          99.39406170663393,
          99.4053126030158,
          98.25974736717077,
          98.55409666425541,
          98.9769519552808,
          99.30069516045482,
          99.14118056809042,
          99.40039145005102,
          99.03300921858877,
          99.72187324789799,
          100.42319214618323,
          100.41075732293838,
          101.39311587773663,
          102.0017921939091,
          102.41170786396583,
          102.37898263609904,
          102.19978145050635,
          101.98439953866503,
          103.35545848618786,
          103.11382788909047,
          104.18169720259107,
          104.19074326704202,
          105.49083554667813,
          106.44758698067672,
          106.2816893785707,
          106.66906321342687,
          107.2912574352627,
          107.74838178626516,
          109.00428265766674,
          108.92481094926542,
          109.48152015323609,
          109.55143054016725,
          109.14316319102912,
          108.52480288337046,
          108.02287174383025,
          107.60939331882065,
          108.02825066855807,
          107.02137033432213,
          107.41382285699265,
          107.38976077852872,
          108.42681027571601,
          107.12565711416443,
          107.8367580975932,
          108.2072580228229,
          107.89431866325894,
          107.7972495807942,
          106.46212709994305,
          106.24574392789023,
          105.61464269167533,
          106.38234170327003,
          107.077460312973,
          106.67179554255894,
          106.73837065906878,
          106.77069282448399,
          107.21489198547272,
          106.93994867350412,
          106.47834923705604,
          106.88320076513949,
          107.34897354244228,
          107.03291531587375,
          106.90202309588157,
          106.99955001353905,
          106.5080897408352,
          106.20691150914664,
          106.61714876908668,
          106.7186580961192,
          106.86045428784752
         ]
        },
        {
         "line": {
          "width": 2
         },
         "mode": "lines",
         "name": "Tether",
         "type": "scatter",
         "x": [
          "2024-11-29T04:26:13.281963",
          "2024-11-29T04:31:13.281966",
          "2024-11-29T04:36:13.281968",
          "2024-11-29T04:41:13.281969",
          "2024-11-29T04:46:13.281971",
          "2024-11-29T04:51:13.281972",
          "2024-11-29T04:56:13.281974",
          "2024-11-29T05:01:13.281975",
          "2024-11-29T05:06:13.281977",
          "2024-11-29T05:11:13.281978",
          "2024-11-29T05:16:13.281979",
          "2024-11-29T05:21:13.281981",
          "2024-11-29T05:26:13.281982",
          "2024-11-29T05:31:13.281983",
          "2024-11-29T05:36:13.281985",
          "2024-11-29T05:41:13.281986",
          "2024-11-29T05:46:13.281987",
          "2024-11-29T05:51:13.281989",
          "2024-11-29T05:56:13.281990",
          "2024-11-29T06:01:13.281991",
          "2024-11-29T06:06:13.281993",
          "2024-11-29T06:11:13.281994",
          "2024-11-29T06:16:13.281995",
          "2024-11-29T06:21:13.281997",
          "2024-11-29T06:26:13.281998",
          "2024-11-29T06:31:13.281999",
          "2024-11-29T06:36:13.282001",
          "2024-11-29T06:41:13.282002",
          "2024-11-29T06:46:13.282003",
          "2024-11-29T06:51:13.282005",
          "2024-11-29T06:56:13.282006",
          "2024-11-29T07:01:13.282007",
          "2024-11-29T07:06:13.282008",
          "2024-11-29T07:11:13.282010",
          "2024-11-29T07:16:13.282011",
          "2024-11-29T07:21:13.282012",
          "2024-11-29T07:26:13.282014",
          "2024-11-29T07:31:13.282015",
          "2024-11-29T07:36:13.282016",
          "2024-11-29T07:41:13.282018",
          "2024-11-29T07:46:13.282019",
          "2024-11-29T07:51:13.282020",
          "2024-11-29T07:56:13.282022",
          "2024-11-29T08:01:13.282023",
          "2024-11-29T08:06:13.282024",
          "2024-11-29T08:11:13.282026",
          "2024-11-29T08:16:13.282027",
          "2024-11-29T08:21:13.282028",
          "2024-11-29T08:26:13.282030",
          "2024-11-29T08:31:13.282031",
          "2024-11-29T08:36:13.282032",
          "2024-11-29T08:41:13.282033",
          "2024-11-29T08:46:13.282035",
          "2024-11-29T08:51:13.282036",
          "2024-11-29T08:56:13.282038",
          "2024-11-29T09:01:13.282039",
          "2024-11-29T09:06:13.282040",
          "2024-11-29T09:11:13.282041",
          "2024-11-29T09:16:13.282043",
          "2024-11-29T09:21:13.282044",
          "2024-11-29T09:26:13.282045",
          "2024-11-29T09:31:13.282047",
          "2024-11-29T09:36:13.282048",
          "2024-11-29T09:41:13.282049",
          "2024-11-29T09:46:13.282051",
          "2024-11-29T09:51:13.282052",
          "2024-11-29T09:56:13.282053",
          "2024-11-29T10:01:13.282055",
          "2024-11-29T10:06:13.282056",
          "2024-11-29T10:11:13.282057",
          "2024-11-29T10:16:13.282059",
          "2024-11-29T10:21:13.282060",
          "2024-11-29T10:26:13.282061",
          "2024-11-29T10:31:13.282063",
          "2024-11-29T10:36:13.282064",
          "2024-11-29T10:41:13.282065",
          "2024-11-29T10:46:13.282067",
          "2024-11-29T10:51:13.282068",
          "2024-11-29T10:56:13.282070",
          "2024-11-29T11:01:13.282071",
          "2024-11-29T11:06:13.282072",
          "2024-11-29T11:11:13.282074",
          "2024-11-29T11:16:13.282075",
          "2024-11-29T11:21:13.282076",
          "2024-11-29T11:26:13.282078",
          "2024-11-29T11:31:13.282079",
          "2024-11-29T11:36:13.282080",
          "2024-11-29T11:41:13.282082",
          "2024-11-29T11:46:13.282083",
          "2024-11-29T11:51:13.282084",
          "2024-11-29T11:56:13.282086",
          "2024-11-29T12:01:13.282087",
          "2024-11-29T12:06:13.282088",
          "2024-11-29T12:11:13.282090",
          "2024-11-29T12:16:13.282091",
          "2024-11-29T12:21:13.282092",
          "2024-11-29T12:26:13.282094",
          "2024-11-29T12:31:13.282095",
          "2024-11-29T12:36:13.282096",
          "2024-11-29T12:41:13.282097",
          "2024-11-29T12:46:13.282099",
          "2024-11-29T12:51:13.282100",
          "2024-11-29T12:56:13.282102",
          "2024-11-29T13:01:13.282103",
          "2024-11-29T13:06:13.282104",
          "2024-11-29T13:11:13.282105",
          "2024-11-29T13:16:13.282107",
          "2024-11-29T13:21:13.282108",
          "2024-11-29T13:26:13.282109",
          "2024-11-29T13:31:13.282111",
          "2024-11-29T13:36:13.282112",
          "2024-11-29T13:41:13.282114",
          "2024-11-29T13:46:13.282115",
          "2024-11-29T13:51:13.282116",
          "2024-11-29T13:56:13.282118",
          "2024-11-29T14:01:13.282119",
          "2024-11-29T14:06:13.282120",
          "2024-11-29T14:11:13.282122",
          "2024-11-29T14:16:13.282123",
          "2024-11-29T14:21:13.282124",
          "2024-11-29T14:26:13.282126",
          "2024-11-29T14:31:13.282127",
          "2024-11-29T14:36:13.282128",
          "2024-11-29T14:41:13.282129",
          "2024-11-29T14:46:13.282131",
          "2024-11-29T14:51:13.282132",
          "2024-11-29T14:56:13.282133",
          "2024-11-29T15:01:13.282135",
          "2024-11-29T15:06:13.282136",
          "2024-11-29T15:11:13.282138",
          "2024-11-29T15:16:13.282139",
          "2024-11-29T15:21:13.282140",
          "2024-11-29T15:26:13.282141",
          "2024-11-29T15:31:13.282143",
          "2024-11-29T15:36:13.282144",
          "2024-11-29T15:41:13.282145",
          "2024-11-29T15:46:13.282147",
          "2024-11-29T15:51:13.282148",
          "2024-11-29T15:56:13.282149",
          "2024-11-29T16:01:13.282151",
          "2024-11-29T16:06:13.282152",
          "2024-11-29T16:11:13.282153",
          "2024-11-29T16:16:13.282155",
          "2024-11-29T16:21:13.282156",
          "2024-11-29T16:26:13.282157",
          "2024-11-29T16:31:13.282159",
          "2024-11-29T16:36:13.282160",
          "2024-11-29T16:41:13.282161",
          "2024-11-29T16:46:13.282162",
          "2024-11-29T16:51:13.282164",
          "2024-11-29T16:56:13.282165",
          "2024-11-29T17:01:13.282166",
          "2024-11-29T17:06:13.282168",
          "2024-11-29T17:11:13.282169",
          "2024-11-29T17:16:13.282170",
          "2024-11-29T17:21:13.282172",
          "2024-11-29T17:26:13.282173",
          "2024-11-29T17:31:13.282174",
          "2024-11-29T17:36:13.282176",
          "2024-11-29T17:41:13.282177",
          "2024-11-29T17:46:13.282178",
          "2024-11-29T17:51:13.282179",
          "2024-11-29T17:56:13.282181",
          "2024-11-29T18:01:13.282182",
          "2024-11-29T18:06:13.282184",
          "2024-11-29T18:11:13.282185",
          "2024-11-29T18:16:13.282186"
         ],
         "y": [
          100,
          100.00921943406007,
          99.98982381413747,
          100.21094136732331,
          99.957368252961,
          100.06066623435439,
          100.00866216838054,
          100.0154977787705,
          100.05313051847186,
          99.96845481616495,
          100.08717685037027,
          100.00416068997744,
          99.94115009355696,
          100.01880350228704,
          99.99936033471603,
          99.98561122659308,
          100.05016053825211,
          100.07418796499907,
          100.00609623111059,
          100.02396198740571,
          100.03985695762205,
          100.02958908709152,
          100.03546175045966,
          100.07771313104908,
          100.02915056079944,
          100.0907778222191,
          99.94805164997933,
          100.08148605924157,
          100.09049202973821,
          100.10297187504682,
          100.13186861660218,
          100.08724640042823,
          100.04411141093834,
          100.08191992533138,
          100.03060106470971,
          100.04982723519893,
          100.0377806488142,
          100.03231011945853,
          100.00396298815839,
          100.00737289279174,
          100.0289604564203,
          100.0381279235302,
          100.00005108597199,
          100.03471898264506,
          100.08430545046447,
          100.0645937389019,
          100.00555210627367,
          100.0955816558149,
          99.99296523850838,
          100.07159787772855,
          99.895576926496,
          99.9318668584318,
          100.06240992434081,
          99.78382793471822,
          100.05714625985618,
          99.90572574230431,
          99.96756862959036,
          99.97893682007087,
          100.29128498855648,
          100.12665184549105,
          100.10890631643848,
          100.02393003263867,
          99.98318965034838,
          100.0171712525884,
          100.1580055763786,
          100.12994959404043,
          100.01000539731622,
          100.03783486973619,
          100.05263731054961,
          100.0529636771778,
          100.0292326806331,
          99.94931573883237,
          99.97121996466826,
          99.99259914708249,
          99.76002947028185,
          99.90624448024303,
          99.68378625381892,
          100.10644051320175,
          99.98588522311351,
          99.9651700994996,
          99.97279596591191,
          99.75893045936056,
          99.7098278891819,
          99.85312002637636,
          99.96614212817107,
          99.9713951174141,
          99.87009675721329,
          99.90400700673864,
          99.97404473752061,
          99.98136288858308,
          99.91413754632158,
          99.71811091858488,
          99.99024722654485,
          100.07741838804307,
          99.66075250784594,
          100.08080731659406,
          99.90560478403386,
          99.66714139833132,
          99.9715438202903,
          99.69898920505294,
          99.69866248890794,
          99.89439731941849,
          99.88071224415054,
          99.85873002914441,
          99.72156781395456,
          99.91156758307075,
          99.80734056365128,
          100.09847345681857,
          99.95142613267284,
          99.8443356019577,
          99.80870562479002,
          99.82738259078505,
          99.88546595304526,
          100.05984681984417,
          99.87004918526566,
          99.93589018488468,
          99.80521723023652,
          99.90463987003157,
          99.9471580734996,
          99.83968339944009,
          100.15494163530478,
          99.84634894714536,
          99.98764218295464,
          99.77691454896099,
          100.02547473113243,
          100.08306138034872,
          99.98171583588439,
          100.2606066369303,
          100.00278365350175,
          99.91448434853993,
          100.0098887940701,
          100.03635095375427,
          100.17794570320535,
          100.11630629529064,
          99.86865988452888,
          100.12566527472147,
          99.97498823286712,
          99.92051956576749,
          99.98746832732316,
          99.98649837894675,
          99.94267118604625,
          99.86298659641652,
          100.03518002396574,
          99.93617100031808,
          100.02512536733883,
          99.92919427641567,
          99.79309596825422,
          99.96456507453951,
          99.9757773627168,
          99.91450466975198,
          99.85062780355263,
          99.94015942115337,
          99.9863912691027,
          99.92779841226503,
          100.01808848413756,
          99.8830770781207,
          99.97849184211229,
          100.10305053469139,
          99.8978794334314,
          99.90666475322577,
          99.89997265943077,
          99.91357989064763,
          99.98374035902987,
          99.81918878073827,
          99.92159586243766,
          99.97699691726268,
          99.94012423818981
         ]
        },
        {
         "line": {
          "width": 2
         },
         "mode": "lines",
         "name": "Solana",
         "type": "scatter",
         "x": [
          "2024-11-29T04:26:13.284017",
          "2024-11-29T04:31:13.284020",
          "2024-11-29T04:36:13.284021",
          "2024-11-29T04:41:13.284023",
          "2024-11-29T04:46:13.284024",
          "2024-11-29T04:51:13.284026",
          "2024-11-29T04:56:13.284027",
          "2024-11-29T05:01:13.284028",
          "2024-11-29T05:06:13.284030",
          "2024-11-29T05:11:13.284031",
          "2024-11-29T05:16:13.284032",
          "2024-11-29T05:21:13.284034",
          "2024-11-29T05:26:13.284035",
          "2024-11-29T05:31:13.284036",
          "2024-11-29T05:36:13.284038",
          "2024-11-29T05:41:13.284039",
          "2024-11-29T05:46:13.284040",
          "2024-11-29T05:51:13.284042",
          "2024-11-29T05:56:13.284043",
          "2024-11-29T06:01:13.284044",
          "2024-11-29T06:06:13.284046",
          "2024-11-29T06:11:13.284047",
          "2024-11-29T06:16:13.284048",
          "2024-11-29T06:21:13.284050",
          "2024-11-29T06:26:13.284058",
          "2024-11-29T06:31:13.284059",
          "2024-11-29T06:36:13.284061",
          "2024-11-29T06:41:13.284062",
          "2024-11-29T06:46:13.284063",
          "2024-11-29T06:51:13.284065",
          "2024-11-29T06:56:13.284066",
          "2024-11-29T07:01:13.284067",
          "2024-11-29T07:06:13.284069",
          "2024-11-29T07:11:13.284070",
          "2024-11-29T07:16:13.284071",
          "2024-11-29T07:21:13.284073",
          "2024-11-29T07:26:13.284074",
          "2024-11-29T07:31:13.284075",
          "2024-11-29T07:36:13.284077",
          "2024-11-29T07:41:13.284078",
          "2024-11-29T07:46:13.284080",
          "2024-11-29T07:51:13.284081",
          "2024-11-29T07:56:13.284082",
          "2024-11-29T08:01:13.284084",
          "2024-11-29T08:06:13.284085",
          "2024-11-29T08:11:13.284086",
          "2024-11-29T08:16:13.284087",
          "2024-11-29T08:21:13.284089",
          "2024-11-29T08:26:13.284090",
          "2024-11-29T08:31:13.284091",
          "2024-11-29T08:36:13.284093",
          "2024-11-29T08:41:13.284094",
          "2024-11-29T08:46:13.284095",
          "2024-11-29T08:51:13.284097",
          "2024-11-29T08:56:13.284098",
          "2024-11-29T09:01:13.284099",
          "2024-11-29T09:06:13.284101",
          "2024-11-29T09:11:13.284102",
          "2024-11-29T09:16:13.284104",
          "2024-11-29T09:21:13.284105",
          "2024-11-29T09:26:13.284106",
          "2024-11-29T09:31:13.284108",
          "2024-11-29T09:36:13.284109",
          "2024-11-29T09:41:13.284110",
          "2024-11-29T09:46:13.284112",
          "2024-11-29T09:51:13.284113",
          "2024-11-29T09:56:13.284114",
          "2024-11-29T10:01:13.284116",
          "2024-11-29T10:06:13.284117",
          "2024-11-29T10:11:13.284118",
          "2024-11-29T10:16:13.284120",
          "2024-11-29T10:21:13.284121",
          "2024-11-29T10:26:13.284122",
          "2024-11-29T10:31:13.284123",
          "2024-11-29T10:36:13.284125",
          "2024-11-29T10:41:13.284126",
          "2024-11-29T10:46:13.284127",
          "2024-11-29T10:51:13.284129",
          "2024-11-29T10:56:13.284130",
          "2024-11-29T11:01:13.284132",
          "2024-11-29T11:06:13.284133",
          "2024-11-29T11:11:13.284134",
          "2024-11-29T11:16:13.284136",
          "2024-11-29T11:21:13.284137",
          "2024-11-29T11:26:13.284138",
          "2024-11-29T11:31:13.284140",
          "2024-11-29T11:36:13.284141",
          "2024-11-29T11:41:13.284142",
          "2024-11-29T11:46:13.284144",
          "2024-11-29T11:51:13.284145",
          "2024-11-29T11:56:13.284146",
          "2024-11-29T12:01:13.284148",
          "2024-11-29T12:06:13.284149",
          "2024-11-29T12:11:13.284150",
          "2024-11-29T12:16:13.284152",
          "2024-11-29T12:21:13.284153",
          "2024-11-29T12:26:13.284154",
          "2024-11-29T12:31:13.284156",
          "2024-11-29T12:36:13.284157",
          "2024-11-29T12:41:13.284158",
          "2024-11-29T12:46:13.284160",
          "2024-11-29T12:51:13.284161",
          "2024-11-29T12:56:13.284162",
          "2024-11-29T13:01:13.284163",
          "2024-11-29T13:06:13.284165",
          "2024-11-29T13:11:13.284166",
          "2024-11-29T13:16:13.284167",
          "2024-11-29T13:21:13.284169",
          "2024-11-29T13:26:13.284170",
          "2024-11-29T13:31:13.284172",
          "2024-11-29T13:36:13.284173",
          "2024-11-29T13:41:13.284174",
          "2024-11-29T13:46:13.284176",
          "2024-11-29T13:51:13.284177",
          "2024-11-29T13:56:13.284178",
          "2024-11-29T14:01:13.284179",
          "2024-11-29T14:06:13.284181",
          "2024-11-29T14:11:13.284182",
          "2024-11-29T14:16:13.284183",
          "2024-11-29T14:21:13.284185",
          "2024-11-29T14:26:13.284186",
          "2024-11-29T14:31:13.284187",
          "2024-11-29T14:36:13.284189",
          "2024-11-29T14:41:13.284190",
          "2024-11-29T14:46:13.284191",
          "2024-11-29T14:51:13.284193",
          "2024-11-29T14:56:13.284194",
          "2024-11-29T15:01:13.284195",
          "2024-11-29T15:06:13.284197",
          "2024-11-29T15:11:13.284198",
          "2024-11-29T15:16:13.284199",
          "2024-11-29T15:21:13.284201",
          "2024-11-29T15:26:13.284202",
          "2024-11-29T15:31:13.284203",
          "2024-11-29T15:36:13.284205",
          "2024-11-29T15:41:13.284206",
          "2024-11-29T15:46:13.284207",
          "2024-11-29T15:51:13.284209",
          "2024-11-29T15:56:13.284210",
          "2024-11-29T16:01:13.284211",
          "2024-11-29T16:06:13.284213",
          "2024-11-29T16:11:13.284214",
          "2024-11-29T16:16:13.284215",
          "2024-11-29T16:21:13.284217",
          "2024-11-29T16:26:13.284218",
          "2024-11-29T16:31:13.284219",
          "2024-11-29T16:36:13.284221",
          "2024-11-29T16:41:13.284222",
          "2024-11-29T16:46:13.284223",
          "2024-11-29T16:51:13.284225",
          "2024-11-29T16:56:13.284226",
          "2024-11-29T17:01:13.284227",
          "2024-11-29T17:06:13.284228",
          "2024-11-29T17:11:13.284230",
          "2024-11-29T17:16:13.284231",
          "2024-11-29T17:21:13.284232",
          "2024-11-29T17:26:13.284234",
          "2024-11-29T17:31:13.284235",
          "2024-11-29T17:36:13.284236",
          "2024-11-29T17:41:13.284238",
          "2024-11-29T17:46:13.284239",
          "2024-11-29T17:51:13.284240",
          "2024-11-29T17:56:13.284244",
          "2024-11-29T18:01:13.284245",
          "2024-11-29T18:06:13.284246",
          "2024-11-29T18:11:13.284248",
          "2024-11-29T18:16:13.284249"
         ],
         "y": [
          100,
          100.0482647781189,
          98.35463992484162,
          97.87919216645872,
          98.45335866265789,
          98.78806530188173,
          98.20901566295164,
          97.59550048731761,
          97.76346324232578,
          98.27383685132686,
          99.12047131436033,
          98.58021534682918,
          98.86482167704771,
          98.79536048143788,
          99.08136637519259,
          98.17708112613498,
          99.4855839129572,
          101.07722380588773,
          100.31578875859243,
          100.17197096644664,
          99.77639878856522,
          99.56361690506486,
          99.77769049346598,
          99.26767299923554,
          98.88384947142599,
          99.57035793336398,
          100.2101311646501,
          101.51793844112458,
          100.85349345993156,
          98.99979848569978,
          99.39388545014407,
          98.84680289465676,
          98.34966741094112,
          98.51925926857352,
          98.59462458146527,
          98.43170808119692,
          98.5241020659377,
          99.8395415411108,
          99.85445443569276,
          100.04257369062832,
          99.69095804656814,
          99.14233831243615,
          98.58939496315539,
          98.93517658600578,
          99.12494477033148,
          98.30188080123384,
          98.13058490503107,
          97.38470942681194,
          95.99588224471538,
          94.57274166196524,
          95.02496127019498,
          95.19758000630917,
          94.52952647942749,
          95.14022361513422,
          95.3821374725438,
          96.51909131441388,
          95.8630833531669,
          96.72825598292833,
          97.17504063453798,
          97.91928834378484,
          97.65590089233707,
          97.11555582333368,
          96.50513479567813,
          97.43958143920007,
          97.55014896382612,
          97.96662217194101,
          97.25611740139838,
          97.92123225989093,
          98.36985870370182,
          98.52215992496218,
          97.97326241650184,
          97.10680626806067,
          96.33121784888893,
          95.89793153745042,
          93.15933851401181,
          94.4439619107003,
          93.30623556583265,
          93.19714449956155,
          92.41280328984895,
          92.3742115446344,
          92.19425585312351,
          91.47974455812424,
          91.47968725590762,
          90.26622526811654,
          91.05458627324684,
          91.6616416546152,
          92.14066751990107,
          91.5928367686958,
          91.63621831912654,
          92.08936098352203,
          91.74386146335775,
          90.51011643365821,
          90.06233256293055,
          90.39501731788408,
          87.21274108318553,
          87.52597809479883,
          87.4275590578546,
          87.55115133818907,
          89.30279384961275,
          87.90088772412972,
          89.03476514874968,
          88.84373040655909,
          87.46096622595701,
          88.1406546317176,
          88.58806022788936,
          88.88841470316612,
          88.6042364945347,
          89.61343774287673,
          88.38392671291886,
          89.23911794650901,
          89.9339438428665,
          89.32718147720855,
          88.41453887745074,
          88.77307047455345,
          89.02213733414104,
          90.28657353267691,
          89.76685031372394,
          90.09011809641194,
          90.96698841183425,
          90.6252355043451,
          90.71271764044437,
          91.50840505967074,
          92.27564531402804,
          92.83006605621522,
          92.18987937205469,
          92.68751487083345,
          92.51778845118207,
          92.5931640701234,
          93.12933144331355,
          92.86275404524945,
          92.922668052339,
          93.5185226805911,
          94.50864947288734,
          93.9927068199149,
          93.03771945626384,
          92.72526161755714,
          92.87968515977826,
          91.99515086298852,
          91.96101774275019,
          91.841048813654,
          92.0421653941594,
          91.1037484413077,
          90.92971329920209,
          91.35502826752305,
          90.72690260707313,
          91.70171334603188,
          90.69584552838501,
          90.26484209094853,
          90.5714684695934,
          90.95882076306037,
          91.19523235419766,
          90.75438974332603,
          91.24129582259022,
          91.01666023187612,
          91.58926354441161,
          91.61622746343508,
          91.61767874861309,
          91.99210268957792,
          93.0753349167347,
          93.28317594327062,
          92.89448912653884,
          92.88418130701758,
          92.83526689158704,
          91.94269792238529,
          92.15426807948467,
          92.80338824191467,
          93.1764908044283
         ]
        },
        {
         "line": {
          "width": 2
         },
         "mode": "lines",
         "name": "XRP",
         "type": "scatter",
         "x": [
          "2024-11-29T04:26:13.286191",
          "2024-11-29T04:31:13.286193",
          "2024-11-29T04:36:13.286195",
          "2024-11-29T04:41:13.286196",
          "2024-11-29T04:46:13.286198",
          "2024-11-29T04:51:13.286199",
          "2024-11-29T04:56:13.286200",
          "2024-11-29T05:01:13.286202",
          "2024-11-29T05:06:13.286203",
          "2024-11-29T05:11:13.286205",
          "2024-11-29T05:16:13.286206",
          "2024-11-29T05:21:13.286207",
          "2024-11-29T05:26:13.286209",
          "2024-11-29T05:31:13.286210",
          "2024-11-29T05:36:13.286211",
          "2024-11-29T05:41:13.286213",
          "2024-11-29T05:46:13.286214",
          "2024-11-29T05:51:13.286215",
          "2024-11-29T05:56:13.286217",
          "2024-11-29T06:01:13.286218",
          "2024-11-29T06:06:13.286219",
          "2024-11-29T06:11:13.286221",
          "2024-11-29T06:16:13.286222",
          "2024-11-29T06:21:13.286223",
          "2024-11-29T06:26:13.286224",
          "2024-11-29T06:31:13.286226",
          "2024-11-29T06:36:13.286227",
          "2024-11-29T06:41:13.286229",
          "2024-11-29T06:46:13.286230",
          "2024-11-29T06:51:13.286231",
          "2024-11-29T06:56:13.286233",
          "2024-11-29T07:01:13.286234",
          "2024-11-29T07:06:13.286235",
          "2024-11-29T07:11:13.286237",
          "2024-11-29T07:16:13.286238",
          "2024-11-29T07:21:13.286239",
          "2024-11-29T07:26:13.286240",
          "2024-11-29T07:31:13.286242",
          "2024-11-29T07:36:13.286243",
          "2024-11-29T07:41:13.286244",
          "2024-11-29T07:46:13.286246",
          "2024-11-29T07:51:13.286247",
          "2024-11-29T07:56:13.286248",
          "2024-11-29T08:01:13.286250",
          "2024-11-29T08:06:13.286251",
          "2024-11-29T08:11:13.286252",
          "2024-11-29T08:16:13.286254",
          "2024-11-29T08:21:13.286255",
          "2024-11-29T08:26:13.286256",
          "2024-11-29T08:31:13.286258",
          "2024-11-29T08:36:13.286259",
          "2024-11-29T08:41:13.286260",
          "2024-11-29T08:46:13.286262",
          "2024-11-29T08:51:13.286263",
          "2024-11-29T08:56:13.286264",
          "2024-11-29T09:01:13.286266",
          "2024-11-29T09:06:13.286267",
          "2024-11-29T09:11:13.286268",
          "2024-11-29T09:16:13.286269",
          "2024-11-29T09:21:13.286271",
          "2024-11-29T09:26:13.286272",
          "2024-11-29T09:31:13.286273",
          "2024-11-29T09:36:13.286275",
          "2024-11-29T09:41:13.286276",
          "2024-11-29T09:46:13.286277",
          "2024-11-29T09:51:13.286279",
          "2024-11-29T09:56:13.286280",
          "2024-11-29T10:01:13.286281",
          "2024-11-29T10:06:13.286283",
          "2024-11-29T10:11:13.286284",
          "2024-11-29T10:16:13.286285",
          "2024-11-29T10:21:13.286287",
          "2024-11-29T10:26:13.286288",
          "2024-11-29T10:31:13.286289",
          "2024-11-29T10:36:13.286291",
          "2024-11-29T10:41:13.286292",
          "2024-11-29T10:46:13.286293",
          "2024-11-29T10:51:13.286295",
          "2024-11-29T10:56:13.286296",
          "2024-11-29T11:01:13.286298",
          "2024-11-29T11:06:13.286299",
          "2024-11-29T11:11:13.286300",
          "2024-11-29T11:16:13.286302",
          "2024-11-29T11:21:13.286303",
          "2024-11-29T11:26:13.286304",
          "2024-11-29T11:31:13.286306",
          "2024-11-29T11:36:13.286307",
          "2024-11-29T11:41:13.286308",
          "2024-11-29T11:46:13.286310",
          "2024-11-29T11:51:13.286311",
          "2024-11-29T11:56:13.286312",
          "2024-11-29T12:01:13.286313",
          "2024-11-29T12:06:13.286315",
          "2024-11-29T12:11:13.286316",
          "2024-11-29T12:16:13.286318",
          "2024-11-29T12:21:13.286319",
          "2024-11-29T12:26:13.286320",
          "2024-11-29T12:31:13.286321",
          "2024-11-29T12:36:13.286323",
          "2024-11-29T12:41:13.286324",
          "2024-11-29T12:46:13.286325",
          "2024-11-29T12:51:13.286327",
          "2024-11-29T12:56:13.286328",
          "2024-11-29T13:01:13.286329",
          "2024-11-29T13:06:13.286331",
          "2024-11-29T13:11:13.286332",
          "2024-11-29T13:16:13.286333",
          "2024-11-29T13:21:13.286335",
          "2024-11-29T13:26:13.286336",
          "2024-11-29T13:31:13.286337",
          "2024-11-29T13:36:13.286339",
          "2024-11-29T13:41:13.286340",
          "2024-11-29T13:46:13.286341",
          "2024-11-29T13:51:13.286343",
          "2024-11-29T13:56:13.286344",
          "2024-11-29T14:01:13.286345",
          "2024-11-29T14:06:13.286346",
          "2024-11-29T14:11:13.286348",
          "2024-11-29T14:16:13.286349",
          "2024-11-29T14:21:13.286351",
          "2024-11-29T14:26:13.286352",
          "2024-11-29T14:31:13.286353",
          "2024-11-29T14:36:13.286355",
          "2024-11-29T14:41:13.286356",
          "2024-11-29T14:46:13.286357",
          "2024-11-29T14:51:13.286358",
          "2024-11-29T14:56:13.286360",
          "2024-11-29T15:01:13.286361",
          "2024-11-29T15:06:13.286362",
          "2024-11-29T15:11:13.286364",
          "2024-11-29T15:16:13.286365",
          "2024-11-29T15:21:13.286366",
          "2024-11-29T15:26:13.286368",
          "2024-11-29T15:31:13.286369",
          "2024-11-29T15:36:13.286370",
          "2024-11-29T15:41:13.286372",
          "2024-11-29T15:46:13.286373",
          "2024-11-29T15:51:13.286374",
          "2024-11-29T15:56:13.286376",
          "2024-11-29T16:01:13.286377",
          "2024-11-29T16:06:13.286378",
          "2024-11-29T16:11:13.286379",
          "2024-11-29T16:16:13.286381",
          "2024-11-29T16:21:13.286382",
          "2024-11-29T16:26:13.286383",
          "2024-11-29T16:31:13.286385",
          "2024-11-29T16:36:13.286386",
          "2024-11-29T16:41:13.286387",
          "2024-11-29T16:46:13.286388",
          "2024-11-29T16:51:13.286390",
          "2024-11-29T16:56:13.286391",
          "2024-11-29T17:01:13.286392",
          "2024-11-29T17:06:13.286394",
          "2024-11-29T17:11:13.286395",
          "2024-11-29T17:16:13.286396",
          "2024-11-29T17:21:13.286398",
          "2024-11-29T17:26:13.286399",
          "2024-11-29T17:31:13.286400",
          "2024-11-29T17:36:13.286401",
          "2024-11-29T17:41:13.286403",
          "2024-11-29T17:46:13.286404",
          "2024-11-29T17:51:13.286405",
          "2024-11-29T17:56:13.286407",
          "2024-11-29T18:01:13.286408",
          "2024-11-29T18:06:13.286409",
          "2024-11-29T18:11:13.286411",
          "2024-11-29T18:16:13.286412"
         ],
         "y": [
          100,
          99.72235353427544,
          96.76089648887005,
          98.23088281243393,
          98.44423483971505,
          100.90405575870052,
          99.21651694841562,
          96.56187432741856,
          98.89738393320974,
          98.80220462115167,
          98.87227353751143,
          99.99152501375582,
          100.66866288484222,
          109.12660834549249,
          108.2826174521094,
          105.50366768670474,
          105.54825162587638,
          104.24397143289852,
          105.45391369899126,
          105.9212347794719,
          105.73469939347984,
          106.53698425782459,
          104.36620503432847,
          105.00494797616555,
          105.60231799701705,
          104.88224530034871,
          105.91759574907131,
          106.75041021106328,
          107.02328823746284,
          100.11693461161961,
          101.82455991921289,
          102.03663932569292,
          99.94343042757886,
          99.64586176493344,
          101.9280247961738,
          101.28136391834899,
          100.30975223304289,
          100.4295955158844,
          100.88863993847144,
          102.04098450451345,
          100.86411847788037,
          99.74784943262259,
          99.07961154219265,
          99.692173830863,
          100.30955284563632,
          98.42009157242624,
          98.47986692706844,
          98.0469790816162,
          95.1046005948476,
          91.11424283323714,
          92.74823835065676,
          92.47176182700262,
          90.16486975786265,
          92.22406301704964,
          91.20377787831849,
          95.27909980082768,
          94.61818854028722,
          96.5571416456157,
          97.70455566369527,
          98.87919280426128,
          97.8283248946484,
          96.13925238907247,
          94.57699206268582,
          95.58082462114041,
          98.67179870590547,
          99.74030288443781,
          99.74794750832827,
          101.40285861995464,
          103.58724184345385,
          103.10890663318686,
          101.91571137920307,
          101.16113159780731,
          99.22093590648869,
          97.92144783434532,
          95.39444256442252,
          97.25021886711757,
          100.41317673784911,
          100.14591689064991,
          99.82968114715447,
          100.47062969403824,
          99.7811387232985,
          97.23128987153866,
          96.81247597655076,
          96.22496520601413,
          97.39288151803817,
          98.8432446556633,
          99.01769237032056,
          98.80267878425852,
          98.51061477358215,
          98.92474289349529,
          97.4185784949997,
          96.5842483373243,
          95.3120369265542,
          94.05182836461773,
          90.44699469683697,
          90.79702446981644,
          90.25859220177112,
          91.84355116883187,
          94.04229727989528,
          92.0157689136586,
          94.18787246883372,
          94.28352334636952,
          92.4537743958567,
          94.11520120518962,
          95.82610276690424,
          96.09282789938085,
          95.13376711085539,
          96.5068452260267,
          93.60821544776383,
          94.81324844945175,
          94.23754543360347,
          93.20203933100811,
          93.17940055184077,
          93.78279087051833,
          94.62328813960475,
          96.30640965699004,
          97.68106042082653,
          98.94787660774972,
          98.75702287803415,
          97.79533609533586,
          97.89264069394744,
          98.4332163291535,
          98.98455753547839,
          101.92222944910749,
          100.78958931097779,
          101.73283662520885,
          101.7841816667475,
          101.38156530731828,
          102.6693844949863,
          101.65128043185948,
          100.99652121541844,
          100.58806244671162,
          100.08363073045395,
          100.57957338640011,
          99.81446498055064,
          99.99917700788528,
          100.60165768024918,
          100.79883859526335,
          101.31816228419812,
          100.15715947192125,
          99.66339913996323,
          99.09549061101494,
          99.19169913316253,
          100.02003754790051,
          99.66042981910957,
          100.80955763363633,
          100.01566413901999,
          98.81359657705802,
          99.69529989548094,
          100.30827855952688,
          100.9036460748002,
          100.88256780891214,
          101.12629765813088,
          101.35014627127362,
          103.47239179244163,
          104.73594585731543,
          104.70992060392274,
          106.42074101539325,
          107.23225744290257,
          106.17626844199506,
          105.74543626310886,
          107.8953538215077,
          110.06716850701585,
          109.6033467687537,
          109.8717789408043,
          111.4927753843692,
          113.15013427804037
         ]
        },
        {
         "line": {
          "width": 2
         },
         "mode": "lines",
         "name": "BNB",
         "type": "scatter",
         "x": [
          "2024-11-29T04:26:13.288047",
          "2024-11-29T04:31:13.288049",
          "2024-11-29T04:36:13.288051",
          "2024-11-29T04:41:13.288052",
          "2024-11-29T04:46:13.288053",
          "2024-11-29T04:51:13.288055",
          "2024-11-29T04:56:13.288056",
          "2024-11-29T05:01:13.288057",
          "2024-11-29T05:06:13.288058",
          "2024-11-29T05:11:13.288059",
          "2024-11-29T05:16:13.288061",
          "2024-11-29T05:21:13.288062",
          "2024-11-29T05:26:13.288063",
          "2024-11-29T05:31:13.288064",
          "2024-11-29T05:36:13.288065",
          "2024-11-29T05:41:13.288067",
          "2024-11-29T05:46:13.288068",
          "2024-11-29T05:51:13.288069",
          "2024-11-29T05:56:13.288070",
          "2024-11-29T06:01:13.288071",
          "2024-11-29T06:06:13.288073",
          "2024-11-29T06:11:13.288074",
          "2024-11-29T06:16:13.288075",
          "2024-11-29T06:21:13.288076",
          "2024-11-29T06:26:13.288077",
          "2024-11-29T06:31:13.288079",
          "2024-11-29T06:36:13.288080",
          "2024-11-29T06:41:13.288081",
          "2024-11-29T06:46:13.288082",
          "2024-11-29T06:51:13.288084",
          "2024-11-29T06:56:13.288085",
          "2024-11-29T07:01:13.288086",
          "2024-11-29T07:06:13.288087",
          "2024-11-29T07:11:13.288089",
          "2024-11-29T07:16:13.288090",
          "2024-11-29T07:21:13.288091",
          "2024-11-29T07:26:13.288092",
          "2024-11-29T07:31:13.288093",
          "2024-11-29T07:36:13.288094",
          "2024-11-29T07:41:13.288096",
          "2024-11-29T07:46:13.288097",
          "2024-11-29T07:51:13.288098",
          "2024-11-29T07:56:13.288099",
          "2024-11-29T08:01:13.288100",
          "2024-11-29T08:06:13.288102",
          "2024-11-29T08:11:13.288103",
          "2024-11-29T08:16:13.288104",
          "2024-11-29T08:21:13.288105",
          "2024-11-29T08:26:13.288106",
          "2024-11-29T08:31:13.288107",
          "2024-11-29T08:36:13.288109",
          "2024-11-29T08:41:13.288110",
          "2024-11-29T08:46:13.288111",
          "2024-11-29T08:51:13.288112",
          "2024-11-29T08:56:13.288113",
          "2024-11-29T09:01:13.288115",
          "2024-11-29T09:06:13.288116",
          "2024-11-29T09:11:13.288117",
          "2024-11-29T09:16:13.288118",
          "2024-11-29T09:21:13.288119",
          "2024-11-29T09:26:13.288120",
          "2024-11-29T09:31:13.288122",
          "2024-11-29T09:36:13.288123",
          "2024-11-29T09:41:13.288124",
          "2024-11-29T09:46:13.288125",
          "2024-11-29T09:51:13.288126",
          "2024-11-29T09:56:13.288128",
          "2024-11-29T10:01:13.288129",
          "2024-11-29T10:06:13.288130",
          "2024-11-29T10:11:13.288131",
          "2024-11-29T10:16:13.288132",
          "2024-11-29T10:21:13.288134",
          "2024-11-29T10:26:13.288135",
          "2024-11-29T10:31:13.288136",
          "2024-11-29T10:36:13.288137",
          "2024-11-29T10:41:13.288138",
          "2024-11-29T10:46:13.288140",
          "2024-11-29T10:51:13.288141",
          "2024-11-29T10:56:13.288142",
          "2024-11-29T11:01:13.288143",
          "2024-11-29T11:06:13.288144",
          "2024-11-29T11:11:13.288146",
          "2024-11-29T11:16:13.288147",
          "2024-11-29T11:21:13.288148",
          "2024-11-29T11:26:13.288149",
          "2024-11-29T11:31:13.288150",
          "2024-11-29T11:36:13.288151",
          "2024-11-29T11:41:13.288153",
          "2024-11-29T11:46:13.288154",
          "2024-11-29T11:51:13.288155",
          "2024-11-29T11:56:13.288156",
          "2024-11-29T12:01:13.288157",
          "2024-11-29T12:06:13.288159",
          "2024-11-29T12:11:13.288160",
          "2024-11-29T12:16:13.288161",
          "2024-11-29T12:21:13.288162",
          "2024-11-29T12:26:13.288163",
          "2024-11-29T12:31:13.288165",
          "2024-11-29T12:36:13.288166",
          "2024-11-29T12:41:13.288167",
          "2024-11-29T12:46:13.288168",
          "2024-11-29T12:51:13.288169",
          "2024-11-29T12:56:13.288170",
          "2024-11-29T13:01:13.288172",
          "2024-11-29T13:06:13.288173",
          "2024-11-29T13:11:13.288174",
          "2024-11-29T13:16:13.288175",
          "2024-11-29T13:21:13.288176",
          "2024-11-29T13:26:13.288178",
          "2024-11-29T13:31:13.288179",
          "2024-11-29T13:36:13.288180",
          "2024-11-29T13:41:13.288181",
          "2024-11-29T13:46:13.288182",
          "2024-11-29T13:51:13.288184",
          "2024-11-29T13:56:13.288185",
          "2024-11-29T14:01:13.288186",
          "2024-11-29T14:06:13.288187",
          "2024-11-29T14:11:13.288188",
          "2024-11-29T14:16:13.288189",
          "2024-11-29T14:21:13.288191",
          "2024-11-29T14:26:13.288192",
          "2024-11-29T14:31:13.288193",
          "2024-11-29T14:36:13.288194",
          "2024-11-29T14:41:13.288195",
          "2024-11-29T14:46:13.288196",
          "2024-11-29T14:51:13.288198",
          "2024-11-29T14:56:13.288199",
          "2024-11-29T15:01:13.288200",
          "2024-11-29T15:06:13.288201",
          "2024-11-29T15:11:13.288202",
          "2024-11-29T15:16:13.288204",
          "2024-11-29T15:21:13.288205",
          "2024-11-29T15:26:13.288206",
          "2024-11-29T15:31:13.288207",
          "2024-11-29T15:36:13.288208",
          "2024-11-29T15:41:13.288209",
          "2024-11-29T15:46:13.288211",
          "2024-11-29T15:51:13.288212",
          "2024-11-29T15:56:13.288213",
          "2024-11-29T16:01:13.288214",
          "2024-11-29T16:06:13.288215",
          "2024-11-29T16:11:13.288216",
          "2024-11-29T16:16:13.288218",
          "2024-11-29T16:21:13.288219",
          "2024-11-29T16:26:13.288220",
          "2024-11-29T16:31:13.288221",
          "2024-11-29T16:36:13.288222",
          "2024-11-29T16:41:13.288223",
          "2024-11-29T16:46:13.288225",
          "2024-11-29T16:51:13.288226",
          "2024-11-29T16:56:13.288227",
          "2024-11-29T17:01:13.288228",
          "2024-11-29T17:06:13.288229",
          "2024-11-29T17:11:13.288230",
          "2024-11-29T17:16:13.288232",
          "2024-11-29T17:21:13.288233",
          "2024-11-29T17:26:13.288234",
          "2024-11-29T17:31:13.288235",
          "2024-11-29T17:36:13.288236",
          "2024-11-29T17:41:13.288237",
          "2024-11-29T17:46:13.288239",
          "2024-11-29T17:51:13.288240",
          "2024-11-29T17:56:13.288241",
          "2024-11-29T18:01:13.288242",
          "2024-11-29T18:06:13.288243",
          "2024-11-29T18:11:13.288245",
          "2024-11-29T18:16:13.288246"
         ],
         "y": [
          100,
          100.18551939783018,
          99.24390187493736,
          98.94523678878646,
          99.83209325478555,
          100.0023469023801,
          99.68962960713984,
          99.46367129920453,
          99.53957426201156,
          99.92935932020545,
          100.5414739154149,
          100.59344452720379,
          101.22963612454345,
          101.85834606831324,
          103.30028088047997,
          102.39436979080327,
          103.11202881465005,
          103.75868794364092,
          103.8735808258073,
          103.9571514537594,
          106.53225642239784,
          107.2699808135051,
          106.39754894216946,
          106.11508901094146,
          106.0459623487336,
          107.15742899364382,
          107.22650405364537,
          108.34387564618382,
          107.37723719101704,
          105.42230295105857,
          105.21671753037948,
          105.2921374645042,
          104.30949196705623,
          103.87567212327502,
          104.94890344105589,
          104.62446542156323,
          104.28053441989276,
          105.70099778832736,
          105.7659770533039,
          105.42246775235601,
          105.4209785506157,
          105.63165821568998,
          106.35266476547469,
          107.02094811566434,
          107.42318255000416,
          108.95076814341185,
          108.30402771067666,
          106.89517097826113,
          104.35715096903738,
          103.03646813229992,
          103.96466118412422,
          104.04617396666845,
          102.81183773534121,
          103.40343787573897,
          103.4554757334831,
          104.42195614447493,
          104.09257927120095,
          105.09057312445165,
          105.193839429705,
          105.97082117609682,
          105.71732483418559,
          105.67194063043972,
          104.70984979511577,
          105.41688666595839,
          105.57070384766547,
          105.83152691116177,
          105.22463002874282,
          105.93824360996089,
          107.54114939668438,
          107.47172395089109,
          106.8137471663086,
          106.24156698047828,
          106.36750897440623,
          104.97612115545174,
          101.73798478966955,
          103.52282645870608,
          103.55626902621404,
          103.40931126982207,
          102.78766708653298,
          102.87639985339779,
          103.27324507788109,
          102.15007652414738,
          101.87132037183697,
          101.5719436542306,
          102.5227633772924,
          103.01782877514043,
          102.97125989972109,
          102.72240070670632,
          102.6068958169763,
          103.04205561967356,
          102.33911736936012,
          102.13702734159591,
          100.61446812016528,
          100.66829210467114,
          98.72983078497046,
          98.7244782992715,
          98.7045689181949,
          97.5026747075512,
          98.79702940820191,
          98.292024794221,
          98.60971794825045,
          98.55354439964344,
          96.85158574648072,
          97.38359727525724,
          97.58838674847388,
          98.36555676571605,
          97.96961929046954,
          97.93982501913409,
          97.58520120432107,
          98.24349128562983,
          98.71732309298068,
          98.45390810860003,
          98.49197757792506,
          98.67616282791396,
          99.18802435524223,
          99.20829133139303,
          99.18872028808529,
          99.0944255108624,
          99.77346698203586,
          99.84908546656807,
          99.96494690830843,
          100.07982610124412,
          101.17869790791654,
          101.71249096636387,
          101.69269437100017,
          102.14141281144997,
          101.90569259294114,
          102.40285834849654,
          102.45132716796657,
          102.79522435002025,
          102.99916463055607,
          102.9895103620328,
          103.89542671787204,
          104.94878713515175,
          104.2293323854227,
          104.28860864820324,
          104.82847324365538,
          104.58844393062773,
          104.92843025755236,
          103.83162363845526,
          104.6493892066191,
          105.06199914719232,
          105.38683985673917,
          105.43303269182442,
          105.29153556896979,
          104.84611921806368,
          104.09377656424397,
          103.5588965976954,
          103.41388267410063,
          103.59899454232699,
          104.13863136490973,
          104.96228970404411,
          104.76726427578822,
          104.93290897574303,
          105.43455728862345,
          104.647299728443,
          104.47987273033084,
          105.02044812659281,
          105.850934693247,
          105.21865325694608,
          104.91930605826485,
          104.57184106048463,
          104.40451585103393,
          104.0085772199121,
          104.57632973934543,
          104.46974311869477,
          104.50000500680613
         ]
        },
        {
         "line": {
          "width": 2
         },
         "mode": "lines",
         "name": "Dogecoin",
         "type": "scatter",
         "x": [
          "2024-11-29T04:26:13.289853",
          "2024-11-29T04:31:13.289856",
          "2024-11-29T04:36:13.289857",
          "2024-11-29T04:41:13.289858",
          "2024-11-29T04:46:13.289860",
          "2024-11-29T04:51:13.289861",
          "2024-11-29T04:56:13.289862",
          "2024-11-29T05:01:13.289864",
          "2024-11-29T05:06:13.289865",
          "2024-11-29T05:11:13.289866",
          "2024-11-29T05:16:13.289867",
          "2024-11-29T05:21:13.289868",
          "2024-11-29T05:26:13.289870",
          "2024-11-29T05:31:13.289871",
          "2024-11-29T05:36:13.289872",
          "2024-11-29T05:41:13.289873",
          "2024-11-29T05:46:13.289874",
          "2024-11-29T05:51:13.289875",
          "2024-11-29T05:56:13.289877",
          "2024-11-29T06:01:13.289878",
          "2024-11-29T06:06:13.289879",
          "2024-11-29T06:11:13.289880",
          "2024-11-29T06:16:13.289881",
          "2024-11-29T06:21:13.289883",
          "2024-11-29T06:26:13.289884",
          "2024-11-29T06:31:13.289885",
          "2024-11-29T06:36:13.289886",
          "2024-11-29T06:41:13.289887",
          "2024-11-29T06:46:13.289888",
          "2024-11-29T06:51:13.289890",
          "2024-11-29T06:56:13.289891",
          "2024-11-29T07:01:13.289892",
          "2024-11-29T07:06:13.289893",
          "2024-11-29T07:11:13.289894",
          "2024-11-29T07:16:13.289896",
          "2024-11-29T07:21:13.289897",
          "2024-11-29T07:26:13.289898",
          "2024-11-29T07:31:13.289899",
          "2024-11-29T07:36:13.289900",
          "2024-11-29T07:41:13.289901",
          "2024-11-29T07:46:13.289903",
          "2024-11-29T07:51:13.289904",
          "2024-11-29T07:56:13.289905",
          "2024-11-29T08:01:13.289906",
          "2024-11-29T08:06:13.289907",
          "2024-11-29T08:11:13.289909",
          "2024-11-29T08:16:13.289910",
          "2024-11-29T08:21:13.289911",
          "2024-11-29T08:26:13.289912",
          "2024-11-29T08:31:13.289913",
          "2024-11-29T08:36:13.289914",
          "2024-11-29T08:41:13.289916",
          "2024-11-29T08:46:13.289917",
          "2024-11-29T08:51:13.289918",
          "2024-11-29T08:56:13.289919",
          "2024-11-29T09:01:13.289920",
          "2024-11-29T09:06:13.289922",
          "2024-11-29T09:11:13.289923",
          "2024-11-29T09:16:13.289924",
          "2024-11-29T09:21:13.289925",
          "2024-11-29T09:26:13.289926",
          "2024-11-29T09:31:13.289927",
          "2024-11-29T09:36:13.289929",
          "2024-11-29T09:41:13.289930",
          "2024-11-29T09:46:13.289931",
          "2024-11-29T09:51:13.289932",
          "2024-11-29T09:56:13.289933",
          "2024-11-29T10:01:13.289935",
          "2024-11-29T10:06:13.289936",
          "2024-11-29T10:11:13.289937",
          "2024-11-29T10:16:13.289938",
          "2024-11-29T10:21:13.289939",
          "2024-11-29T10:26:13.289941",
          "2024-11-29T10:31:13.289942",
          "2024-11-29T10:36:13.289943",
          "2024-11-29T10:41:13.289944",
          "2024-11-29T10:46:13.289945",
          "2024-11-29T10:51:13.289947",
          "2024-11-29T10:56:13.289948",
          "2024-11-29T11:01:13.289949",
          "2024-11-29T11:06:13.289950",
          "2024-11-29T11:11:13.289951",
          "2024-11-29T11:16:13.289953",
          "2024-11-29T11:21:13.289954",
          "2024-11-29T11:26:13.289955",
          "2024-11-29T11:31:13.289956",
          "2024-11-29T11:36:13.289957",
          "2024-11-29T11:41:13.289958",
          "2024-11-29T11:46:13.289960",
          "2024-11-29T11:51:13.289961",
          "2024-11-29T11:56:13.289962",
          "2024-11-29T12:01:13.289963",
          "2024-11-29T12:06:13.289964",
          "2024-11-29T12:11:13.289966",
          "2024-11-29T12:16:13.289967",
          "2024-11-29T12:21:13.289968",
          "2024-11-29T12:26:13.289969",
          "2024-11-29T12:31:13.289970",
          "2024-11-29T12:36:13.289972",
          "2024-11-29T12:41:13.289973",
          "2024-11-29T12:46:13.289974",
          "2024-11-29T12:51:13.289975",
          "2024-11-29T12:56:13.289976",
          "2024-11-29T13:01:13.289977",
          "2024-11-29T13:06:13.289979",
          "2024-11-29T13:11:13.289980",
          "2024-11-29T13:16:13.289981",
          "2024-11-29T13:21:13.289982",
          "2024-11-29T13:26:13.289983",
          "2024-11-29T13:31:13.289985",
          "2024-11-29T13:36:13.289986",
          "2024-11-29T13:41:13.289987",
          "2024-11-29T13:46:13.289988",
          "2024-11-29T13:51:13.289989",
          "2024-11-29T13:56:13.289990",
          "2024-11-29T14:01:13.289992",
          "2024-11-29T14:06:13.289993",
          "2024-11-29T14:11:13.289994",
          "2024-11-29T14:16:13.289995",
          "2024-11-29T14:21:13.289996",
          "2024-11-29T14:26:13.289998",
          "2024-11-29T14:31:13.289999",
          "2024-11-29T14:36:13.290000",
          "2024-11-29T14:41:13.290001",
          "2024-11-29T14:46:13.290002",
          "2024-11-29T14:51:13.290003",
          "2024-11-29T14:56:13.290005",
          "2024-11-29T15:01:13.290006",
          "2024-11-29T15:06:13.290007",
          "2024-11-29T15:11:13.290008",
          "2024-11-29T15:16:13.290009",
          "2024-11-29T15:21:13.290011",
          "2024-11-29T15:26:13.290012",
          "2024-11-29T15:31:13.290013",
          "2024-11-29T15:36:13.290014",
          "2024-11-29T15:41:13.290015",
          "2024-11-29T15:46:13.290016",
          "2024-11-29T15:51:13.290018",
          "2024-11-29T15:56:13.290019",
          "2024-11-29T16:01:13.290020",
          "2024-11-29T16:06:13.290021",
          "2024-11-29T16:11:13.290022",
          "2024-11-29T16:16:13.290023",
          "2024-11-29T16:21:13.290025",
          "2024-11-29T16:26:13.290026",
          "2024-11-29T16:31:13.290027",
          "2024-11-29T16:36:13.290028",
          "2024-11-29T16:41:13.290029",
          "2024-11-29T16:46:13.290030",
          "2024-11-29T16:51:13.290032",
          "2024-11-29T16:56:13.290033",
          "2024-11-29T17:01:13.290034",
          "2024-11-29T17:06:13.290035",
          "2024-11-29T17:11:13.290036",
          "2024-11-29T17:16:13.290037",
          "2024-11-29T17:21:13.290039",
          "2024-11-29T17:26:13.290040",
          "2024-11-29T17:31:13.290041",
          "2024-11-29T17:36:13.290042",
          "2024-11-29T17:41:13.290045",
          "2024-11-29T17:46:13.290046",
          "2024-11-29T17:51:13.290048",
          "2024-11-29T17:56:13.290049",
          "2024-11-29T18:01:13.290050",
          "2024-11-29T18:06:13.290051",
          "2024-11-29T18:11:13.290052",
          "2024-11-29T18:16:13.290054"
         ],
         "y": [
          100,
          101.94124985220418,
          100.67571941875804,
          101.21788788943327,
          101.76992132995181,
          103.85902125680491,
          103.20015058422874,
          100.82545530712797,
          101.36149537106209,
          101.87548356680938,
          104.26707622467823,
          105.18921297866488,
          104.86106085705964,
          104.464721865451,
          103.63529779655451,
          107.72274645879169,
          113.33282028456225,
          116.35427195919006,
          117.5611984685733,
          118.14970530003622,
          117.09551785852199,
          117.05297497924857,
          118.6833917554027,
          120.86593217193733,
          118.66802793209143,
          118.91608851716391,
          118.4786773169312,
          118.33083461545661,
          116.4041692862533,
          109.44900830092269,
          108.98533360598934,
          109.69320659026714,
          107.69715466948301,
          108.0159599549924,
          110.60530720415215,
          110.58252934650723,
          109.88406730476514,
          111.80289834425494,
          113.76479556347682,
          113.17469850557882,
          112.19775483236658,
          111.03055299584925,
          110.32934617025138,
          111.54964756729856,
          111.32238747199035,
          108.9676171245421,
          109.74944642196753,
          108.235338733886,
          105.96602824496154,
          103.52350376348281,
          104.98301506843725,
          104.4794611430797,
          102.88940881455113,
          104.92957453213062,
          104.31533422631635,
          106.48819885216997,
          106.43156798631217,
          107.9823002103347,
          108.15081907259632,
          109.60227437145736,
          109.14810107219952,
          106.76710369092763,
          106.49990312066657,
          107.57906676844154,
          107.24062376713603,
          108.04356983408181,
          107.59963802709815,
          108.82706502062219,
          110.23636043936746,
          109.7822596199381,
          109.09872392597129,
          108.13454922958101,
          106.38871163768724,
          105.78411748344583,
          101.9763090509116,
          105.30428997974082,
          105.25061546388825,
          102.39198511311194,
          101.96799448720006,
          102.70860476425008,
          102.47649616564274,
          100.14644143411186,
          99.70676399700378,
          99.50888569427674,
          101.90933379209561,
          103.11135593606338,
          103.31559414727192,
          102.92032148722453,
          102.80004070281188,
          103.41813986084021,
          102.30171279914725,
          100.26769975254427,
          99.30680997537607,
          99.34217174009396,
          95.50147814313748,
          95.36568457261542,
          93.83837837716715,
          95.14708107599745,
          97.20668726765267,
          97.36070297300937,
          98.24973248891162,
          98.16894230643071,
          95.20002431498227,
          96.22013314021628,
          97.23972783134734,
          97.8185979149922,
          97.08380409532889,
          99.04298492226195,
          97.11489933353438,
          98.98245896129178,
          99.02588795129562,
          98.44951186716403,
          98.64136346878972,
          99.73323295281688,
          99.6400237470212,
          100.65077795299406,
          99.54708241318798,
          99.5521185117014,
          100.48037857898431,
          99.1424440110901,
          99.40861903289967,
          99.9817161585436,
          101.37783872507723,
          101.84702054193124,
          101.35119541345952,
          102.08966284595023,
          101.96809390050277,
          102.98861928588884,
          102.36169399668348,
          102.25988542610962,
          102.38118285682741,
          101.48463779169923,
          102.70067114054314,
          104.81196860571609,
          104.26052674047597,
          104.2440881777069,
          104.42928865944276,
          103.4328043352001,
          103.04894922464065,
          102.40150254412066,
          102.67115513778418,
          101.8909786932121,
          101.50031902022529,
          102.05606878815858,
          101.33488061963132,
          102.29121784122081,
          101.26925946562028,
          99.87583901081987,
          100.28146019801171,
          100.83538485356624,
          101.69651320662838,
          101.22272790688282,
          100.83965877775485,
          101.58977518476271,
          102.31771038933606,
          102.05804453543882,
          101.64283498137792,
          102.45184300452512,
          103.37293380301765,
          103.19715257200848,
          102.98237972330743,
          102.86309613958183,
          102.65106767861741,
          102.05934076241479,
          102.85997141381284,
          103.99071525432015,
          104.71082463777579
         ]
        },
        {
         "line": {
          "width": 2
         },
         "mode": "lines",
         "name": "USDC",
         "type": "scatter",
         "x": [
          "2024-11-29T04:31:13.291708",
          "2024-11-29T04:36:13.291710",
          "2024-11-29T04:41:13.291712",
          "2024-11-29T04:46:13.291713",
          "2024-11-29T04:51:13.291714",
          "2024-11-29T04:56:13.291715",
          "2024-11-29T05:01:13.291717",
          "2024-11-29T05:06:13.291718",
          "2024-11-29T05:11:13.291719",
          "2024-11-29T05:16:13.291720",
          "2024-11-29T05:21:13.291721",
          "2024-11-29T05:26:13.291723",
          "2024-11-29T05:31:13.291724",
          "2024-11-29T05:36:13.291725",
          "2024-11-29T05:41:13.291726",
          "2024-11-29T05:46:13.291727",
          "2024-11-29T05:51:13.291728",
          "2024-11-29T05:56:13.291730",
          "2024-11-29T06:01:13.291731",
          "2024-11-29T06:06:13.291732",
          "2024-11-29T06:11:13.291733",
          "2024-11-29T06:16:13.291734",
          "2024-11-29T06:21:13.291736",
          "2024-11-29T06:26:13.291737",
          "2024-11-29T06:31:13.291738",
          "2024-11-29T06:36:13.291739",
          "2024-11-29T06:41:13.291740",
          "2024-11-29T06:46:13.291742",
          "2024-11-29T06:51:13.291743",
          "2024-11-29T06:56:13.291744",
          "2024-11-29T07:01:13.291745",
          "2024-11-29T07:06:13.291746",
          "2024-11-29T07:11:13.291747",
          "2024-11-29T07:16:13.291749",
          "2024-11-29T07:21:13.291750",
          "2024-11-29T07:26:13.291751",
          "2024-11-29T07:31:13.291752",
          "2024-11-29T07:36:13.291753",
          "2024-11-29T07:41:13.291755",
          "2024-11-29T07:46:13.291756",
          "2024-11-29T07:51:13.291757",
          "2024-11-29T07:56:13.291758",
          "2024-11-29T08:01:13.291759",
          "2024-11-29T08:06:13.291761",
          "2024-11-29T08:11:13.291762",
          "2024-11-29T08:16:13.291763",
          "2024-11-29T08:21:13.291764",
          "2024-11-29T08:26:13.291765",
          "2024-11-29T08:31:13.291767",
          "2024-11-29T08:36:13.291768",
          "2024-11-29T08:41:13.291769",
          "2024-11-29T08:46:13.291770",
          "2024-11-29T08:51:13.291771",
          "2024-11-29T08:56:13.291773",
          "2024-11-29T09:01:13.291774",
          "2024-11-29T09:06:13.291775",
          "2024-11-29T09:11:13.291776",
          "2024-11-29T09:16:13.291777",
          "2024-11-29T09:21:13.291778",
          "2024-11-29T09:26:13.291780",
          "2024-11-29T09:31:13.291781",
          "2024-11-29T09:36:13.291782",
          "2024-11-29T09:41:13.291783",
          "2024-11-29T09:46:13.291784",
          "2024-11-29T09:51:13.291785",
          "2024-11-29T09:56:13.291787",
          "2024-11-29T10:01:13.291788",
          "2024-11-29T10:06:13.291789",
          "2024-11-29T10:11:13.291790",
          "2024-11-29T10:16:13.291791",
          "2024-11-29T10:21:13.291793",
          "2024-11-29T10:26:13.291794",
          "2024-11-29T10:31:13.291795",
          "2024-11-29T10:36:13.291796",
          "2024-11-29T10:41:13.291797",
          "2024-11-29T10:46:13.291798",
          "2024-11-29T10:51:13.291800",
          "2024-11-29T10:56:13.291801",
          "2024-11-29T11:01:13.291802",
          "2024-11-29T11:06:13.291803",
          "2024-11-29T11:11:13.291805",
          "2024-11-29T11:16:13.291806",
          "2024-11-29T11:21:13.291807",
          "2024-11-29T11:26:13.291808",
          "2024-11-29T11:31:13.291809",
          "2024-11-29T11:36:13.291811",
          "2024-11-29T11:41:13.291812",
          "2024-11-29T11:46:13.291813",
          "2024-11-29T11:51:13.291814",
          "2024-11-29T11:56:13.291815",
          "2024-11-29T12:01:13.291816",
          "2024-11-29T12:06:13.291818",
          "2024-11-29T12:11:13.291819",
          "2024-11-29T12:16:13.291820",
          "2024-11-29T12:21:13.291821",
          "2024-11-29T12:26:13.291822",
          "2024-11-29T12:31:13.291824",
          "2024-11-29T12:36:13.291825",
          "2024-11-29T12:41:13.291826",
          "2024-11-29T12:46:13.291827",
          "2024-11-29T12:51:13.291828",
          "2024-11-29T12:56:13.291829",
          "2024-11-29T13:01:13.291831",
          "2024-11-29T13:06:13.291832",
          "2024-11-29T13:11:13.291833",
          "2024-11-29T13:16:13.291834",
          "2024-11-29T13:21:13.291835",
          "2024-11-29T13:26:13.291836",
          "2024-11-29T13:31:13.291838",
          "2024-11-29T13:36:13.291839",
          "2024-11-29T13:41:13.291840",
          "2024-11-29T13:46:13.291841",
          "2024-11-29T13:51:13.291842",
          "2024-11-29T13:56:13.291844",
          "2024-11-29T14:01:13.291845",
          "2024-11-29T14:06:13.291846",
          "2024-11-29T14:11:13.291847",
          "2024-11-29T14:16:13.291848",
          "2024-11-29T14:21:13.291850",
          "2024-11-29T14:26:13.291851",
          "2024-11-29T14:31:13.291852",
          "2024-11-29T14:36:13.291853",
          "2024-11-29T14:41:13.291854",
          "2024-11-29T14:46:13.291856",
          "2024-11-29T14:51:13.291857",
          "2024-11-29T14:56:13.291858",
          "2024-11-29T15:01:13.291859",
          "2024-11-29T15:06:13.291860",
          "2024-11-29T15:11:13.291861",
          "2024-11-29T15:16:13.291863",
          "2024-11-29T15:21:13.291864",
          "2024-11-29T15:26:13.291865",
          "2024-11-29T15:31:13.291866",
          "2024-11-29T15:36:13.291867",
          "2024-11-29T15:41:13.291868",
          "2024-11-29T15:46:13.291870",
          "2024-11-29T15:51:13.291871",
          "2024-11-29T15:56:13.291872",
          "2024-11-29T16:01:13.291873",
          "2024-11-29T16:06:13.291874",
          "2024-11-29T16:11:13.291875",
          "2024-11-29T16:16:13.291877",
          "2024-11-29T16:21:13.291878",
          "2024-11-29T16:26:13.291879",
          "2024-11-29T16:31:13.291880",
          "2024-11-29T16:36:13.291881",
          "2024-11-29T16:41:13.291882",
          "2024-11-29T16:46:13.291884",
          "2024-11-29T16:51:13.291885",
          "2024-11-29T16:56:13.291886",
          "2024-11-29T17:01:13.291887",
          "2024-11-29T17:06:13.291888",
          "2024-11-29T17:11:13.291889",
          "2024-11-29T17:16:13.291891",
          "2024-11-29T17:21:13.291892",
          "2024-11-29T17:26:13.291893",
          "2024-11-29T17:31:13.291894",
          "2024-11-29T17:36:13.291895",
          "2024-11-29T17:41:13.291896",
          "2024-11-29T17:46:13.291897",
          "2024-11-29T17:51:13.291899",
          "2024-11-29T17:56:13.291900",
          "2024-11-29T18:01:13.291901",
          "2024-11-29T18:06:13.291902",
          "2024-11-29T18:11:13.291903",
          "2024-11-29T18:16:13.291905"
         ],
         "y": [
          100,
          99.98137131149767,
          100.13598530598419,
          99.89521423012766,
          100.1321411570131,
          100.10569930459484,
          100.07952265095355,
          100.10032339507357,
          99.98123559101508,
          100.02402364857465,
          100.02473331332725,
          100.03654512485802,
          100.06008989624992,
          100.09786345921603,
          100.10345899543493,
          100.08590383967892,
          99.9832746493143,
          100.04909436781308,
          100.04912245030219,
          100.04315596315799,
          100.04338896597989,
          100.0488340425591,
          100.0779361506706,
          100.05102962851207,
          100.10520666071916,
          99.98549569018253,
          100.01607789538367,
          100.05678297175515,
          100.0281842492706,
          100.08361153480661,
          100.07592641026027,
          100.06610351961534,
          99.99797824497455,
          100.04717068642171,
          99.99664371991041,
          100.1041375545997,
          100.07434731307502,
          100.08695761677701,
          99.99790981212851,
          100.04370121193715,
          100.10932082713606,
          100.05331845762097,
          100.0748732513064,
          100.12873430492415,
          100.08012458662819,
          100.02199252760961,
          100.10363086221261,
          100.04230664903744,
          100.11874037073729,
          99.95596094910772,
          100.00847642416963,
          99.89914541906388,
          99.89047791575764,
          100.16104298599306,
          100.09784401876358,
          100.03623275846645,
          99.99763447423099,
          100.09847206561074,
          100.07939384477741,
          100.14658614944491,
          100.01513647027735,
          100.01951561069397,
          100.11962830259556,
          100.11027567080151,
          100.13748349091314,
          100.02879182794757,
          100.05581854961521,
          100.09044497484936,
          100.01700564931832,
          100.08490043546534,
          100.01501533530347,
          99.85464092081922,
          100.04997208593436,
          99.79742435910474,
          100.06403732635218,
          100.030295432109,
          100.25801885137969,
          100.02959449840301,
          100.1075287337602,
          100.00299510643747,
          99.84636365566519,
          100.13843367787246,
          99.93412625620876,
          99.96199038041894,
          100.10683986792618,
          100.01012944659506,
          99.85697585955062,
          100.10988951105514,
          100.09656492379501,
          100.02482235820362,
          99.9698991070006,
          100.19989845347135,
          100.1640493164103,
          99.78210204052769,
          100.08276332077672,
          99.92887901691942,
          99.81962265747396,
          100.106477698475,
          100.03818423214747,
          99.90112915135336,
          99.7814765970494,
          99.8576443430256,
          100.0098138577072,
          99.89137180162528,
          100.04217451605011,
          100.01112217575417,
          100.36350449194744,
          100.04963502604699,
          100.06999098061166,
          100.04623645408692,
          100.0103786386712,
          100.03500535992463,
          100.21039728068557,
          100.18270612978748,
          100.03456147051718,
          100.06219372851253,
          100.08520515272588,
          100.11440756244747,
          99.96394613435632,
          100.22459782905261,
          100.2966796914323,
          100.1078149241867,
          100.22200011406784,
          100.03601723073734,
          100.12394904490847,
          99.98451144142877,
          100.31337473881865,
          99.94274467677914,
          100.07195261479778,
          100.02382350748877,
          100.04791077430018,
          100.13938340439566,
          100.15331080907102,
          99.899822747123,
          100.16474183882093,
          100.05041605670799,
          100.00786315682689,
          100.04964972765545,
          100.01239199207616,
          100.03294961958844,
          99.98932573080437,
          100.01413366133171,
          100.06299402160013,
          100.13049601630841,
          100.36807390662943,
          99.86404457246543,
          100.12879625615787,
          100.02320365542312,
          100.0521383413494,
          100.07128005579355,
          100.03900286061236,
          100.1030551873356,
          100.04259431045766,
          100.12804038272091,
          100.01348770006555,
          100.04082645237222,
          100.2616306373195,
          100.04754117921924,
          100.03063998676001,
          100.02873366633148,
          100.0546639114824,
          100.0843439586903,
          100.05367734906349,
          100.04968566009795,
          100.10619163825076,
          100.02301873189488
         ]
        },
        {
         "line": {
          "width": 2
         },
         "mode": "lines",
         "name": "Cardano",
         "type": "scatter",
         "x": [
          "2024-11-29T04:26:13.293623",
          "2024-11-29T04:31:13.293628",
          "2024-11-29T04:36:13.293630",
          "2024-11-29T04:41:13.293631",
          "2024-11-29T04:46:13.293633",
          "2024-11-29T04:51:13.293634",
          "2024-11-29T04:56:13.293636",
          "2024-11-29T05:01:13.293637",
          "2024-11-29T05:06:13.293638",
          "2024-11-29T05:11:13.293639",
          "2024-11-29T05:16:13.293641",
          "2024-11-29T05:21:13.293642",
          "2024-11-29T05:26:13.293643",
          "2024-11-29T05:31:13.293644",
          "2024-11-29T05:36:13.293645",
          "2024-11-29T05:41:13.293647",
          "2024-11-29T05:46:13.293648",
          "2024-11-29T05:51:13.293649",
          "2024-11-29T05:56:13.293650",
          "2024-11-29T06:01:13.293651",
          "2024-11-29T06:06:13.293653",
          "2024-11-29T06:11:13.293654",
          "2024-11-29T06:16:13.293655",
          "2024-11-29T06:21:13.293656",
          "2024-11-29T06:26:13.293657",
          "2024-11-29T06:31:13.293659",
          "2024-11-29T06:36:13.293660",
          "2024-11-29T06:41:13.293661",
          "2024-11-29T06:46:13.293662",
          "2024-11-29T06:51:13.293664",
          "2024-11-29T06:56:13.293665",
          "2024-11-29T07:01:13.293666",
          "2024-11-29T07:06:13.293667",
          "2024-11-29T07:11:13.293668",
          "2024-11-29T07:16:13.293670",
          "2024-11-29T07:21:13.293671",
          "2024-11-29T07:26:13.293672",
          "2024-11-29T07:31:13.293673",
          "2024-11-29T07:36:13.293674",
          "2024-11-29T07:41:13.293676",
          "2024-11-29T07:46:13.293677",
          "2024-11-29T07:51:13.293678",
          "2024-11-29T07:56:13.293679",
          "2024-11-29T08:01:13.293680",
          "2024-11-29T08:06:13.293682",
          "2024-11-29T08:11:13.293683",
          "2024-11-29T08:16:13.293684",
          "2024-11-29T08:21:13.293685",
          "2024-11-29T08:26:13.293686",
          "2024-11-29T08:31:13.293688",
          "2024-11-29T08:36:13.293689",
          "2024-11-29T08:41:13.293690",
          "2024-11-29T08:46:13.293691",
          "2024-11-29T08:51:13.293692",
          "2024-11-29T08:56:13.293694",
          "2024-11-29T09:01:13.293695",
          "2024-11-29T09:06:13.293696",
          "2024-11-29T09:11:13.293697",
          "2024-11-29T09:16:13.293698",
          "2024-11-29T09:21:13.293699",
          "2024-11-29T09:26:13.293702",
          "2024-11-29T09:31:13.293704",
          "2024-11-29T09:36:13.293705",
          "2024-11-29T09:41:13.293706",
          "2024-11-29T09:46:13.293707",
          "2024-11-29T09:51:13.293709",
          "2024-11-29T09:56:13.293710",
          "2024-11-29T10:01:13.293711",
          "2024-11-29T10:06:13.293712",
          "2024-11-29T10:11:13.293713",
          "2024-11-29T10:16:13.293715",
          "2024-11-29T10:21:13.293716",
          "2024-11-29T10:26:13.293717",
          "2024-11-29T10:31:13.293718",
          "2024-11-29T10:36:13.293719",
          "2024-11-29T10:41:13.293720",
          "2024-11-29T10:46:13.293722",
          "2024-11-29T10:51:13.293723",
          "2024-11-29T10:56:13.293725",
          "2024-11-29T11:01:13.293726",
          "2024-11-29T11:06:13.293727",
          "2024-11-29T11:11:13.293728",
          "2024-11-29T11:16:13.293730",
          "2024-11-29T11:21:13.293731",
          "2024-11-29T11:26:13.293732",
          "2024-11-29T11:31:13.293733",
          "2024-11-29T11:36:13.293734",
          "2024-11-29T11:41:13.293736",
          "2024-11-29T11:46:13.293737",
          "2024-11-29T11:51:13.293738",
          "2024-11-29T11:56:13.293739",
          "2024-11-29T12:01:13.293740",
          "2024-11-29T12:06:13.293741",
          "2024-11-29T12:11:13.293743",
          "2024-11-29T12:16:13.293744",
          "2024-11-29T12:21:13.293745",
          "2024-11-29T12:26:13.293746",
          "2024-11-29T12:31:13.293748",
          "2024-11-29T12:36:13.293749",
          "2024-11-29T12:41:13.293750",
          "2024-11-29T12:46:13.293751",
          "2024-11-29T12:51:13.293752",
          "2024-11-29T12:56:13.293754",
          "2024-11-29T13:01:13.293755",
          "2024-11-29T13:06:13.293756",
          "2024-11-29T13:11:13.293757",
          "2024-11-29T13:16:13.293758",
          "2024-11-29T13:21:13.293759",
          "2024-11-29T13:26:13.293761",
          "2024-11-29T13:31:13.293762",
          "2024-11-29T13:36:13.293763",
          "2024-11-29T13:41:13.293765",
          "2024-11-29T13:46:13.293766",
          "2024-11-29T13:51:13.293767",
          "2024-11-29T13:56:13.293768",
          "2024-11-29T14:01:13.293769",
          "2024-11-29T14:06:13.293770",
          "2024-11-29T14:11:13.293772",
          "2024-11-29T14:16:13.293773",
          "2024-11-29T14:21:13.293774",
          "2024-11-29T14:26:13.293775",
          "2024-11-29T14:31:13.293776",
          "2024-11-29T14:36:13.293778",
          "2024-11-29T14:41:13.293779",
          "2024-11-29T14:46:13.293780",
          "2024-11-29T14:51:13.293781",
          "2024-11-29T14:56:13.293782",
          "2024-11-29T15:01:13.293783",
          "2024-11-29T15:06:13.293785",
          "2024-11-29T15:11:13.293786",
          "2024-11-29T15:16:13.293787",
          "2024-11-29T15:21:13.293788",
          "2024-11-29T15:26:13.293790",
          "2024-11-29T15:31:13.293791",
          "2024-11-29T15:36:13.293792",
          "2024-11-29T15:41:13.293793",
          "2024-11-29T15:46:13.293794",
          "2024-11-29T15:51:13.293795",
          "2024-11-29T15:56:13.293797",
          "2024-11-29T16:01:13.293798",
          "2024-11-29T16:06:13.293799",
          "2024-11-29T16:11:13.293800",
          "2024-11-29T16:16:13.293801",
          "2024-11-29T16:21:13.293802",
          "2024-11-29T16:26:13.293804",
          "2024-11-29T16:31:13.293805",
          "2024-11-29T16:36:13.293806",
          "2024-11-29T16:41:13.293807",
          "2024-11-29T16:46:13.293808",
          "2024-11-29T16:51:13.293809",
          "2024-11-29T16:56:13.293811",
          "2024-11-29T17:01:13.293812",
          "2024-11-29T17:06:13.293813",
          "2024-11-29T17:11:13.293814",
          "2024-11-29T17:16:13.293815",
          "2024-11-29T17:21:13.293816",
          "2024-11-29T17:26:13.293818",
          "2024-11-29T17:31:13.293819",
          "2024-11-29T17:36:13.293820",
          "2024-11-29T17:41:13.293821",
          "2024-11-29T17:46:13.293822",
          "2024-11-29T17:51:13.293823",
          "2024-11-29T17:56:13.293825",
          "2024-11-29T18:01:13.293826",
          "2024-11-29T18:06:13.293831",
          "2024-11-29T18:11:13.293832",
          "2024-11-29T18:16:13.293833"
         ],
         "y": [
          100,
          100.67313676395845,
          98.24047781948849,
          98.88359612824266,
          102.94112237446149,
          106.8025987552969,
          106.75227075913965,
          106.79758540743651,
          107.19651600690902,
          108.33976715522408,
          108.961176546747,
          112.65647809528245,
          112.72006315176073,
          123.47012665834818,
          121.69941762451803,
          117.99972126457278,
          119.06601363272841,
          118.71428104473122,
          120.23012713008434,
          120.11800420788757,
          120.89614137994069,
          120.77163772115283,
          118.36039544379737,
          118.70863767087663,
          119.76727174810134,
          117.65927081948102,
          120.37004270842489,
          122.56579617840583,
          122.46455035809834,
          116.65472151350218,
          116.72628027667378,
          117.30834171625821,
          117.59321122408647,
          115.34542442046676,
          117.96821729424587,
          118.74368013394148,
          118.65348774016111,
          117.83485229000607,
          118.49655508131387,
          119.06449976286106,
          119.45748614150544,
          117.31008843772852,
          116.71509201312915,
          117.09670375999839,
          118.42592713728928,
          115.91987793932333,
          115.33706553932062,
          114.38651153204111,
          111.39254860233419,
          107.50160698956388,
          108.99614808825856,
          108.09106105166113,
          105.52976900072866,
          107.7100191356779,
          106.68214962923992,
          109.5397600389284,
          108.79741649395473,
          110.78429606970684,
          112.34238700165832,
          113.46053076951775,
          112.79638092438165,
          111.08895962901065,
          109.16698539729967,
          112.94808161352712,
          115.27978099785012,
          115.55996713167566,
          114.72828787215188,
          114.81486494311024,
          117.82108455204303,
          117.23337023452041,
          116.60467335258475,
          116.08662603239917,
          113.3071832934055,
          111.5211832768239,
          108.51340630275585,
          110.81636357442319,
          110.3531329158464,
          110.00078603159513,
          109.65109005421655,
          110.7270933954361,
          110.34620938633721,
          106.09536435461395,
          105.6415999133727,
          103.98561949528325,
          105.61912738640864,
          107.49504328111152,
          107.48737025668365,
          107.13550525901738,
          107.15589294971595,
          108.37444339958495,
          107.53371248459902,
          105.48947301279743,
          103.30413815781267,
          103.19179322888488,
          100.99004431054614,
          99.30762374563797,
          98.45048908775688,
          99.6692414503384,
          102.69798149295528,
          100.41014091817837,
          102.74922681646943,
          102.04425218821297,
          100.43430714852187,
          103.89466941229905,
          105.16560569479007,
          104.5044390615948,
          105.42026235456723,
          106.56458862521845,
          103.3904521393922,
          104.86286559059934,
          104.62323818841676,
          104.38922012675249,
          105.28489418768379,
          105.55489062019905,
          106.04471297342548,
          107.71377578573555,
          107.39352814018311,
          108.96732063918869,
          110.19860945280344,
          109.58059325679454,
          109.7388949083107,
          110.43349321280039,
          110.44529991518553,
          113.74387301360875,
          111.5227491816945,
          113.16963704015981,
          112.7002805730215,
          113.06504684263494,
          112.33878087121427,
          111.73613641276742,
          110.81875464814146,
          111.67258532769186,
          111.68649446603558,
          112.70620045722846,
          110.98908784878833,
          110.87248931875936,
          111.91259512947668,
          111.03905997727081,
          110.85762417413609,
          110.00057798677148,
          110.0912198994202,
          108.60337410479626,
          109.02979557430778,
          110.03143378713706,
          109.57292183634699,
          111.19051635701543,
          109.63709815933164,
          108.48430270264502,
          108.99278510097707,
          110.61365886146073,
          110.47809958253396,
          110.30887277074577,
          111.04133984492566,
          111.49515374926283,
          113.9625993987566,
          113.53379100433676,
          114.66887468266319,
          116.03116163010085,
          116.49254576633223,
          115.69750873720581,
          115.33123172955948,
          114.85644498272313,
          116.37846402535091,
          115.99294472056995,
          116.3706017477566,
          116.57118029448559,
          117.99567711560258
         ]
        },
        {
         "line": {
          "width": 2
         },
         "mode": "lines",
         "name": "Lido Staked Ether",
         "type": "scatter",
         "x": [
          "2024-11-29T04:26:13.295844",
          "2024-11-29T04:31:13.295848",
          "2024-11-29T04:36:13.295850",
          "2024-11-29T04:41:13.295851",
          "2024-11-29T04:46:13.295852",
          "2024-11-29T04:51:13.295853",
          "2024-11-29T04:56:13.295855",
          "2024-11-29T05:01:13.295856",
          "2024-11-29T05:06:13.295857",
          "2024-11-29T05:11:13.295858",
          "2024-11-29T05:16:13.295859",
          "2024-11-29T05:21:13.295860",
          "2024-11-29T05:26:13.295861",
          "2024-11-29T05:31:13.295863",
          "2024-11-29T05:36:13.295864",
          "2024-11-29T05:41:13.295865",
          "2024-11-29T05:46:13.295866",
          "2024-11-29T05:51:13.295867",
          "2024-11-29T05:56:13.295868",
          "2024-11-29T06:01:13.295869",
          "2024-11-29T06:06:13.295870",
          "2024-11-29T06:11:13.295871",
          "2024-11-29T06:16:13.295872",
          "2024-11-29T06:21:13.295873",
          "2024-11-29T06:26:13.295875",
          "2024-11-29T06:31:13.295876",
          "2024-11-29T06:36:13.295877",
          "2024-11-29T06:41:13.295878",
          "2024-11-29T06:46:13.295879",
          "2024-11-29T06:51:13.295880",
          "2024-11-29T06:56:13.295881",
          "2024-11-29T07:01:13.295882",
          "2024-11-29T07:06:13.295883",
          "2024-11-29T07:11:13.295884",
          "2024-11-29T07:16:13.295886",
          "2024-11-29T07:21:13.295887",
          "2024-11-29T07:26:13.295888",
          "2024-11-29T07:31:13.295889",
          "2024-11-29T07:36:13.295890",
          "2024-11-29T07:41:13.295891",
          "2024-11-29T07:46:13.295892",
          "2024-11-29T07:51:13.295893",
          "2024-11-29T07:56:13.295894",
          "2024-11-29T08:01:13.295895",
          "2024-11-29T08:06:13.295896",
          "2024-11-29T08:11:13.295897",
          "2024-11-29T08:16:13.295898",
          "2024-11-29T08:21:13.295899",
          "2024-11-29T08:26:13.295901",
          "2024-11-29T08:31:13.295902",
          "2024-11-29T08:36:13.295903",
          "2024-11-29T08:41:13.295904",
          "2024-11-29T08:46:13.295905",
          "2024-11-29T08:51:13.295906",
          "2024-11-29T08:56:13.295907",
          "2024-11-29T09:01:13.295908",
          "2024-11-29T09:06:13.295909",
          "2024-11-29T09:11:13.295910",
          "2024-11-29T09:16:13.295911",
          "2024-11-29T09:21:13.295912",
          "2024-11-29T09:26:13.295914",
          "2024-11-29T09:31:13.295915",
          "2024-11-29T09:36:13.295916",
          "2024-11-29T09:41:13.295917",
          "2024-11-29T09:46:13.295918",
          "2024-11-29T09:51:13.295919",
          "2024-11-29T09:56:13.295920",
          "2024-11-29T10:01:13.295921",
          "2024-11-29T10:06:13.295922",
          "2024-11-29T10:11:13.295923",
          "2024-11-29T10:16:13.295925",
          "2024-11-29T10:21:13.295926",
          "2024-11-29T10:26:13.295927",
          "2024-11-29T10:31:13.295928",
          "2024-11-29T10:36:13.295929",
          "2024-11-29T10:41:13.295930",
          "2024-11-29T10:46:13.295931",
          "2024-11-29T10:51:13.295932",
          "2024-11-29T10:56:13.295933",
          "2024-11-29T11:01:13.295934",
          "2024-11-29T11:06:13.295936",
          "2024-11-29T11:11:13.295937",
          "2024-11-29T11:16:13.295938",
          "2024-11-29T11:21:13.295939",
          "2024-11-29T11:26:13.295940",
          "2024-11-29T11:31:13.295941",
          "2024-11-29T11:36:13.295942",
          "2024-11-29T11:41:13.295943",
          "2024-11-29T11:46:13.295944",
          "2024-11-29T11:51:13.295945",
          "2024-11-29T11:56:13.295946",
          "2024-11-29T12:01:13.295947",
          "2024-11-29T12:06:13.295948",
          "2024-11-29T12:11:13.295950",
          "2024-11-29T12:16:13.295951",
          "2024-11-29T12:21:13.295952",
          "2024-11-29T12:26:13.295953",
          "2024-11-29T12:31:13.295954",
          "2024-11-29T12:36:13.295955",
          "2024-11-29T12:41:13.295956",
          "2024-11-29T12:46:13.295957",
          "2024-11-29T12:51:13.295958",
          "2024-11-29T12:56:13.295959",
          "2024-11-29T13:01:13.295960",
          "2024-11-29T13:06:13.295961",
          "2024-11-29T13:11:13.295962",
          "2024-11-29T13:16:13.295963",
          "2024-11-29T13:21:13.295964",
          "2024-11-29T13:26:13.295965",
          "2024-11-29T13:31:13.295967",
          "2024-11-29T13:36:13.295968",
          "2024-11-29T13:41:13.295969",
          "2024-11-29T13:46:13.295970",
          "2024-11-29T13:51:13.295971",
          "2024-11-29T13:56:13.295972",
          "2024-11-29T14:01:13.295973",
          "2024-11-29T14:06:13.295974",
          "2024-11-29T14:11:13.295975",
          "2024-11-29T14:16:13.295977",
          "2024-11-29T14:21:13.295978",
          "2024-11-29T14:26:13.295979",
          "2024-11-29T14:31:13.295980",
          "2024-11-29T14:36:13.295981",
          "2024-11-29T14:41:13.295982",
          "2024-11-29T14:46:13.295983",
          "2024-11-29T14:51:13.295984",
          "2024-11-29T14:56:13.295985",
          "2024-11-29T15:01:13.295986",
          "2024-11-29T15:06:13.295987",
          "2024-11-29T15:11:13.295989",
          "2024-11-29T15:16:13.295990",
          "2024-11-29T15:21:13.295991",
          "2024-11-29T15:26:13.295992",
          "2024-11-29T15:31:13.295993",
          "2024-11-29T15:36:13.295994",
          "2024-11-29T15:41:13.295995",
          "2024-11-29T15:46:13.295996",
          "2024-11-29T15:51:13.295997",
          "2024-11-29T15:56:13.295998",
          "2024-11-29T16:01:13.295999",
          "2024-11-29T16:06:13.296000",
          "2024-11-29T16:11:13.296001",
          "2024-11-29T16:16:13.296002",
          "2024-11-29T16:21:13.296003",
          "2024-11-29T16:26:13.296004",
          "2024-11-29T16:31:13.296006",
          "2024-11-29T16:36:13.296007",
          "2024-11-29T16:41:13.296008",
          "2024-11-29T16:46:13.296009",
          "2024-11-29T16:51:13.296010",
          "2024-11-29T16:56:13.296011",
          "2024-11-29T17:01:13.296012",
          "2024-11-29T17:06:13.296013",
          "2024-11-29T17:11:13.296014",
          "2024-11-29T17:16:13.296015",
          "2024-11-29T17:21:13.296016",
          "2024-11-29T17:26:13.296017",
          "2024-11-29T17:31:13.296018",
          "2024-11-29T17:36:13.296019",
          "2024-11-29T17:41:13.296020",
          "2024-11-29T17:46:13.296021",
          "2024-11-29T17:51:13.296023",
          "2024-11-29T17:56:13.296024",
          "2024-11-29T18:01:13.296025",
          "2024-11-29T18:06:13.296026",
          "2024-11-29T18:11:13.296027",
          "2024-11-29T18:16:13.296028"
         ],
         "y": [
          100,
          100.02297435505929,
          98.64636758595253,
          99.15938969983985,
          98.91797985181819,
          99.5429730356625,
          99.15897477609663,
          98.434977952482,
          98.61724191570327,
          98.64468657298238,
          99.17811345611828,
          99.48036002705025,
          99.84640405800565,
          100.23813288326335,
          99.85884627839016,
          100.0644316175248,
          100.49228259419284,
          100.324665603755,
          100.38733906957933,
          100.49916514192547,
          100.18857330938489,
          100.44684625065186,
          100.86427684212549,
          100.7581684038894,
          100.69136497000586,
          102.21508705201465,
          103.80297560949217,
          104.05984930577034,
          103.11524518128994,
          102.30318799301044,
          102.48603787290797,
          102.82106447904987,
          101.67849444680719,
          102.53594534319721,
          102.32636302899103,
          101.89266580442214,
          102.4478552668584,
          102.5569796702527,
          103.05966965107498,
          102.91125428453682,
          102.53455384820727,
          102.58348493443543,
          102.13164781738229,
          102.51927985757632,
          102.67554930990357,
          101.77441065950623,
          101.983609998756,
          100.67177125492235,
          100.32372960286482,
          99.8988694001486,
          98.94870183602599,
          99.47352811227658,
          99.30797218058338,
          99.06553793706784,
          99.67928713275462,
          99.52402829259638,
          100.05214569439993,
          100.10663971065537,
          100.68056054329475,
          100.7479272990395,
          100.79350302481909,
          99.51136797992099,
          100.31157122902867,
          101.49398592861965,
          101.41685595059128,
          101.60387600557183,
          101.42076637569586,
          102.27805557575769,
          103.14930621425802,
          104.43971831709892,
          105.01681966985954,
          104.33538372796598,
          103.83836622160511,
          105.28632130064103,
          101.92815271077416,
          105.76953521541452,
          102.62791596197857,
          104.14266974057156,
          102.7919155840456,
          103.93088181397177,
          104.18142934888269,
          102.30874390589315,
          103.52340238194738,
          102.85828451282593,
          103.25891542869734,
          103.31538837987067,
          102.71049048083938,
          102.67966687064023,
          102.57611536746725,
          102.76475781172698,
          102.08871858009229,
          100.79554851898051,
          101.32857858782873,
          100.03744826083087,
          99.6267637074814,
          99.65503402883155,
          99.56648405630644,
          99.46970869850307,
          99.2885378671779,
          99.52334056410488,
          99.78913156884055,
          98.54092604272628,
          98.09009602460118,
          98.83293852420381,
          99.51277314578991,
          99.83235026359066,
          99.52459814296414,
          99.91731915328585,
          99.85906665128249,
          99.5667637910623,
          100.47876315143023,
          101.97629818439937,
          101.90175651870783,
          102.484147022833,
          102.97520568504363,
          102.63487803942452,
          102.21122263318767,
          102.586568282969,
          103.21002961256225,
          103.72331841633311,
          104.44108486879074,
          104.28240990855828,
          105.64228759938734,
          106.80730808833043,
          106.94126812741926,
          107.45174479914417,
          107.8906030030557,
          108.5711876740062,
          108.98977231750723,
          109.90850221228095,
          110.20377740392095,
          109.34579128752094,
          108.91011032210156,
          109.04198884610857,
          107.90563608524178,
          107.61272574562119,
          108.2243763611034,
          107.50533274303615,
          108.13211667935356,
          107.82614819863691,
          108.67237697079702,
          107.38354558590206,
          108.04174048601212,
          108.46593902710066,
          108.18935658146695,
          108.23008475648616,
          106.81344812528945,
          106.45757951458417,
          106.41692417405547,
          106.72171284420313,
          107.32759365100237,
          106.99754090877975,
          106.61361872178763,
          107.01063733778544,
          107.68608763609673,
          107.12969643704197,
          106.82759433134655,
          107.22668097980011,
          107.66869622334383,
          107.31873278339712,
          107.18299259428296,
          107.52234107086855,
          106.69520192735801,
          106.4114889954411,
          106.95198000171762,
          107.15463478859209,
          107.18139095975863
         ]
        }
       ],
       "layout": {
        "hovermode": "x unified",
        "legend": {
         "title": {
          "text": "Cryptos"
         }
        },
        "template": {
         "data": {
          "bar": [
           {
            "error_x": {
             "color": "#f2f5fa"
            },
            "error_y": {
             "color": "#f2f5fa"
            },
            "marker": {
             "line": {
              "color": "rgb(17,17,17)",
              "width": 0.5
             },
             "pattern": {
              "fillmode": "overlay",
              "size": 10,
              "solidity": 0.2
             }
            },
            "type": "bar"
           }
          ],
          "barpolar": [
           {
            "marker": {
             "line": {
              "color": "rgb(17,17,17)",
              "width": 0.5
             },
             "pattern": {
              "fillmode": "overlay",
              "size": 10,
              "solidity": 0.2
             }
            },
            "type": "barpolar"
           }
          ],
          "carpet": [
           {
            "aaxis": {
             "endlinecolor": "#A2B1C6",
             "gridcolor": "#506784",
             "linecolor": "#506784",
             "minorgridcolor": "#506784",
             "startlinecolor": "#A2B1C6"
            },
            "baxis": {
             "endlinecolor": "#A2B1C6",
             "gridcolor": "#506784",
             "linecolor": "#506784",
             "minorgridcolor": "#506784",
             "startlinecolor": "#A2B1C6"
            },
            "type": "carpet"
           }
          ],
          "choropleth": [
           {
            "colorbar": {
             "outlinewidth": 0,
             "ticks": ""
            },
            "type": "choropleth"
           }
          ],
          "contour": [
           {
            "colorbar": {
             "outlinewidth": 0,
             "ticks": ""
            },
            "colorscale": [
             [
              0,
              "#0d0887"
             ],
             [
              0.1111111111111111,
              "#46039f"
             ],
             [
              0.2222222222222222,
              "#7201a8"
             ],
             [
              0.3333333333333333,
              "#9c179e"
             ],
             [
              0.4444444444444444,
              "#bd3786"
             ],
             [
              0.5555555555555556,
              "#d8576b"
             ],
             [
              0.6666666666666666,
              "#ed7953"
             ],
             [
              0.7777777777777778,
              "#fb9f3a"
             ],
             [
              0.8888888888888888,
              "#fdca26"
             ],
             [
              1,
              "#f0f921"
             ]
            ],
            "type": "contour"
           }
          ],
          "contourcarpet": [
           {
            "colorbar": {
             "outlinewidth": 0,
             "ticks": ""
            },
            "type": "contourcarpet"
           }
          ],
          "heatmap": [
           {
            "colorbar": {
             "outlinewidth": 0,
             "ticks": ""
            },
            "colorscale": [
             [
              0,
              "#0d0887"
             ],
             [
              0.1111111111111111,
              "#46039f"
             ],
             [
              0.2222222222222222,
              "#7201a8"
             ],
             [
              0.3333333333333333,
              "#9c179e"
             ],
             [
              0.4444444444444444,
              "#bd3786"
             ],
             [
              0.5555555555555556,
              "#d8576b"
             ],
             [
              0.6666666666666666,
              "#ed7953"
             ],
             [
              0.7777777777777778,
              "#fb9f3a"
             ],
             [
              0.8888888888888888,
              "#fdca26"
             ],
             [
              1,
              "#f0f921"
             ]
            ],
            "type": "heatmap"
           }
          ],
          "heatmapgl": [
           {
            "colorbar": {
             "outlinewidth": 0,
             "ticks": ""
            },
            "colorscale": [
             [
              0,
              "#0d0887"
             ],
             [
              0.1111111111111111,
              "#46039f"
             ],
             [
              0.2222222222222222,
              "#7201a8"
             ],
             [
              0.3333333333333333,
              "#9c179e"
             ],
             [
              0.4444444444444444,
              "#bd3786"
             ],
             [
              0.5555555555555556,
              "#d8576b"
             ],
             [
              0.6666666666666666,
              "#ed7953"
             ],
             [
              0.7777777777777778,
              "#fb9f3a"
             ],
             [
              0.8888888888888888,
              "#fdca26"
             ],
             [
              1,
              "#f0f921"
             ]
            ],
            "type": "heatmapgl"
           }
          ],
          "histogram": [
           {
            "marker": {
             "pattern": {
              "fillmode": "overlay",
              "size": 10,
              "solidity": 0.2
             }
            },
            "type": "histogram"
           }
          ],
          "histogram2d": [
           {
            "colorbar": {
             "outlinewidth": 0,
             "ticks": ""
            },
            "colorscale": [
             [
              0,
              "#0d0887"
             ],
             [
              0.1111111111111111,
              "#46039f"
             ],
             [
              0.2222222222222222,
              "#7201a8"
             ],
             [
              0.3333333333333333,
              "#9c179e"
             ],
             [
              0.4444444444444444,
              "#bd3786"
             ],
             [
              0.5555555555555556,
              "#d8576b"
             ],
             [
              0.6666666666666666,
              "#ed7953"
             ],
             [
              0.7777777777777778,
              "#fb9f3a"
             ],
             [
              0.8888888888888888,
              "#fdca26"
             ],
             [
              1,
              "#f0f921"
             ]
            ],
            "type": "histogram2d"
           }
          ],
          "histogram2dcontour": [
           {
            "colorbar": {
             "outlinewidth": 0,
             "ticks": ""
            },
            "colorscale": [
             [
              0,
              "#0d0887"
             ],
             [
              0.1111111111111111,
              "#46039f"
             ],
             [
              0.2222222222222222,
              "#7201a8"
             ],
             [
              0.3333333333333333,
              "#9c179e"
             ],
             [
              0.4444444444444444,
              "#bd3786"
             ],
             [
              0.5555555555555556,
              "#d8576b"
             ],
             [
              0.6666666666666666,
              "#ed7953"
             ],
             [
              0.7777777777777778,
              "#fb9f3a"
             ],
             [
              0.8888888888888888,
              "#fdca26"
             ],
             [
              1,
              "#f0f921"
             ]
            ],
            "type": "histogram2dcontour"
           }
          ],
          "mesh3d": [
           {
            "colorbar": {
             "outlinewidth": 0,
             "ticks": ""
            },
            "type": "mesh3d"
           }
          ],
          "parcoords": [
           {
            "line": {
             "colorbar": {
              "outlinewidth": 0,
              "ticks": ""
             }
            },
            "type": "parcoords"
           }
          ],
          "pie": [
           {
            "automargin": true,
            "type": "pie"
           }
          ],
          "scatter": [
           {
            "marker": {
             "line": {
              "color": "#283442"
             }
            },
            "type": "scatter"
           }
          ],
          "scatter3d": [
           {
            "line": {
             "colorbar": {
              "outlinewidth": 0,
              "ticks": ""
             }
            },
            "marker": {
             "colorbar": {
              "outlinewidth": 0,
              "ticks": ""
             }
            },
            "type": "scatter3d"
           }
          ],
          "scattercarpet": [
           {
            "marker": {
             "colorbar": {
              "outlinewidth": 0,
              "ticks": ""
             }
            },
            "type": "scattercarpet"
           }
          ],
          "scattergeo": [
           {
            "marker": {
             "colorbar": {
              "outlinewidth": 0,
              "ticks": ""
             }
            },
            "type": "scattergeo"
           }
          ],
          "scattergl": [
           {
            "marker": {
             "line": {
              "color": "#283442"
             }
            },
            "type": "scattergl"
           }
          ],
          "scattermapbox": [
           {
            "marker": {
             "colorbar": {
              "outlinewidth": 0,
              "ticks": ""
             }
            },
            "type": "scattermapbox"
           }
          ],
          "scatterpolar": [
           {
            "marker": {
             "colorbar": {
              "outlinewidth": 0,
              "ticks": ""
             }
            },
            "type": "scatterpolar"
           }
          ],
          "scatterpolargl": [
           {
            "marker": {
             "colorbar": {
              "outlinewidth": 0,
              "ticks": ""
             }
            },
            "type": "scatterpolargl"
           }
          ],
          "scatterternary": [
           {
            "marker": {
             "colorbar": {
              "outlinewidth": 0,
              "ticks": ""
             }
            },
            "type": "scatterternary"
           }
          ],
          "surface": [
           {
            "colorbar": {
             "outlinewidth": 0,
             "ticks": ""
            },
            "colorscale": [
             [
              0,
              "#0d0887"
             ],
             [
              0.1111111111111111,
              "#46039f"
             ],
             [
              0.2222222222222222,
              "#7201a8"
             ],
             [
              0.3333333333333333,
              "#9c179e"
             ],
             [
              0.4444444444444444,
              "#bd3786"
             ],
             [
              0.5555555555555556,
              "#d8576b"
             ],
             [
              0.6666666666666666,
              "#ed7953"
             ],
             [
              0.7777777777777778,
              "#fb9f3a"
             ],
             [
              0.8888888888888888,
              "#fdca26"
             ],
             [
              1,
              "#f0f921"
             ]
            ],
            "type": "surface"
           }
          ],
          "table": [
           {
            "cells": {
             "fill": {
              "color": "#506784"
             },
             "line": {
              "color": "rgb(17,17,17)"
             }
            },
            "header": {
             "fill": {
              "color": "#2a3f5f"
             },
             "line": {
              "color": "rgb(17,17,17)"
             }
            },
            "type": "table"
           }
          ]
         },
         "layout": {
          "annotationdefaults": {
           "arrowcolor": "#f2f5fa",
           "arrowhead": 0,
           "arrowwidth": 1
          },
          "autotypenumbers": "strict",
          "coloraxis": {
           "colorbar": {
            "outlinewidth": 0,
            "ticks": ""
           }
          },
          "colorscale": {
           "diverging": [
            [
             0,
             "#8e0152"
            ],
            [
             0.1,
             "#c51b7d"
            ],
            [
             0.2,
             "#de77ae"
            ],
            [
             0.3,
             "#f1b6da"
            ],
            [
             0.4,
             "#fde0ef"
            ],
            [
             0.5,
             "#f7f7f7"
            ],
            [
             0.6,
             "#e6f5d0"
            ],
            [
             0.7,
             "#b8e186"
            ],
            [
             0.8,
             "#7fbc41"
            ],
            [
             0.9,
             "#4d9221"
            ],
            [
             1,
             "#276419"
            ]
           ],
           "sequential": [
            [
             0,
             "#0d0887"
            ],
            [
             0.1111111111111111,
             "#46039f"
            ],
            [
             0.2222222222222222,
             "#7201a8"
            ],
            [
             0.3333333333333333,
             "#9c179e"
            ],
            [
             0.4444444444444444,
             "#bd3786"
            ],
            [
             0.5555555555555556,
             "#d8576b"
            ],
            [
             0.6666666666666666,
             "#ed7953"
            ],
            [
             0.7777777777777778,
             "#fb9f3a"
            ],
            [
             0.8888888888888888,
             "#fdca26"
            ],
            [
             1,
             "#f0f921"
            ]
           ],
           "sequentialminus": [
            [
             0,
             "#0d0887"
            ],
            [
             0.1111111111111111,
             "#46039f"
            ],
            [
             0.2222222222222222,
             "#7201a8"
            ],
            [
             0.3333333333333333,
             "#9c179e"
            ],
            [
             0.4444444444444444,
             "#bd3786"
            ],
            [
             0.5555555555555556,
             "#d8576b"
            ],
            [
             0.6666666666666666,
             "#ed7953"
            ],
            [
             0.7777777777777778,
             "#fb9f3a"
            ],
            [
             0.8888888888888888,
             "#fdca26"
            ],
            [
             1,
             "#f0f921"
            ]
           ]
          },
          "colorway": [
           "#636efa",
           "#EF553B",
           "#00cc96",
           "#ab63fa",
           "#FFA15A",
           "#19d3f3",
           "#FF6692",
           "#B6E880",
           "#FF97FF",
           "#FECB52"
          ],
          "font": {
           "color": "#f2f5fa"
          },
          "geo": {
           "bgcolor": "rgb(17,17,17)",
           "lakecolor": "rgb(17,17,17)",
           "landcolor": "rgb(17,17,17)",
           "showlakes": true,
           "showland": true,
           "subunitcolor": "#506784"
          },
          "hoverlabel": {
           "align": "left"
          },
          "hovermode": "closest",
          "mapbox": {
           "style": "dark"
          },
          "paper_bgcolor": "rgb(17,17,17)",
          "plot_bgcolor": "rgb(17,17,17)",
          "polar": {
           "angularaxis": {
            "gridcolor": "#506784",
            "linecolor": "#506784",
            "ticks": ""
           },
           "bgcolor": "rgb(17,17,17)",
           "radialaxis": {
            "gridcolor": "#506784",
            "linecolor": "#506784",
            "ticks": ""
           }
          },
          "scene": {
           "xaxis": {
            "backgroundcolor": "rgb(17,17,17)",
            "gridcolor": "#506784",
            "gridwidth": 2,
            "linecolor": "#506784",
            "showbackground": true,
            "ticks": "",
            "zerolinecolor": "#C8D4E3"
           },
           "yaxis": {
            "backgroundcolor": "rgb(17,17,17)",
            "gridcolor": "#506784",
            "gridwidth": 2,
            "linecolor": "#506784",
            "showbackground": true,
            "ticks": "",
            "zerolinecolor": "#C8D4E3"
           },
           "zaxis": {
            "backgroundcolor": "rgb(17,17,17)",
            "gridcolor": "#506784",
            "gridwidth": 2,
            "linecolor": "#506784",
            "showbackground": true,
            "ticks": "",
            "zerolinecolor": "#C8D4E3"
           }
          },
          "shapedefaults": {
           "line": {
            "color": "#f2f5fa"
           }
          },
          "sliderdefaults": {
           "bgcolor": "#C8D4E3",
           "bordercolor": "rgb(17,17,17)",
           "borderwidth": 1,
           "tickwidth": 0
          },
          "ternary": {
           "aaxis": {
            "gridcolor": "#506784",
            "linecolor": "#506784",
            "ticks": ""
           },
           "baxis": {
            "gridcolor": "#506784",
            "linecolor": "#506784",
            "ticks": ""
           },
           "bgcolor": "rgb(17,17,17)",
           "caxis": {
            "gridcolor": "#506784",
            "linecolor": "#506784",
            "ticks": ""
           }
          },
          "title": {
           "x": 0.05
          },
          "updatemenudefaults": {
           "bgcolor": "#506784",
           "borderwidth": 0
          },
          "xaxis": {
           "automargin": true,
           "gridcolor": "#283442",
           "linecolor": "#506784",
           "ticks": "",
           "title": {
            "standoff": 15
           },
           "zerolinecolor": "#283442",
           "zerolinewidth": 2
          },
          "yaxis": {
           "automargin": true,
           "gridcolor": "#283442",
           "linecolor": "#506784",
           "ticks": "",
           "title": {
            "standoff": 15
           },
           "zerolinecolor": "#283442",
           "zerolinewidth": 2
          }
         }
        },
        "title": {
         "text": "Prix Historiques Normalisés sur 7 Jours"
        },
        "xaxis": {
         "rangeslider": {
          "visible": true
         },
         "title": {
          "text": "Temps"
         },
         "type": "date"
        },
        "yaxis": {
         "title": {
          "text": "Prix Normalisé (Base 100)"
         }
        }
       }
      }
     },
     "metadata": {},
     "output_type": "display_data"
    }
   ],
   "source": [
    "import pandas as pd\n",
    "from datetime import datetime, timedelta\n",
    "import plotly.graph_objects as go\n",
    "import requests\n",
    "\n",
    "# URL de l'API CoinGecko\n",
    "COINGECKO_API = \"https://api.coingecko.com/api/v3/coins/markets\"\n",
    "\n",
    "# Fonction pour récupérer les données depuis l'API\n",
    "def recuperer_donnees_crypto(devise=\"usd\", nb_cryptos=10):\n",
    "    params = {\n",
    "        \"vs_currency\": devise,\n",
    "        \"order\": \"market_cap_desc\",\n",
    "        \"per_page\": nb_cryptos,\n",
    "        \"page\": 1,\n",
    "        \"sparkline\": \"true\",\n",
    "        \"price_change_percentage\": \"1h,24h,7d\"\n",
    "    }\n",
    "    response = requests.get(COINGECKO_API, params=params)\n",
    "    if response.status_code == 200:\n",
    "        data = pd.DataFrame(response.json())\n",
    "        return data\n",
    "    else:\n",
    "        print(f\"Erreur {response.status_code} lors de la récupération des données.\")\n",
    "        return pd.DataFrame()\n",
    "\n",
    "# Récupérer les données depuis l'API\n",
    "df = recuperer_donnees_crypto(devise=\"usd\", nb_cryptos=10)\n",
    "\n",
    "# Vérification des données\n",
    "if df.empty:\n",
    "    print(\"Erreur : Aucun résultat n'a été récupéré.\")\n",
    "else:\n",
    "    print(\"Données récupérées avec succès.\")\n",
    "    # Afficher les colonnes disponibles pour débuguer\n",
    "    print(\"Colonnes disponibles :\", df.columns)\n",
    "\n",
    "    # Vérifier si la colonne sparkline_in_7d est présente\n",
    "    if \"sparkline_in_7d\" not in df.columns:\n",
    "        print(\"Erreur : La colonne 'sparkline_in_7d' est absente.\")\n",
    "    else:\n",
    "        # Initialisation du graphique\n",
    "        fig = go.Figure()\n",
    "\n",
    "        # Ajout des données Sparkline au graphique\n",
    "        for _, row in df.iterrows():\n",
    "            sparkline_data = row[\"sparkline_in_7d\"]\n",
    "            if not sparkline_data or not isinstance(sparkline_data, dict) or \"price\" not in sparkline_data:\n",
    "                print(f\"Sparkline vide ou non valide pour {row['name']}.\")\n",
    "                continue\n",
    "\n",
    "            sparkline = sparkline_data[\"price\"]  # Liste des prix\n",
    "            timestamps = [datetime.now() - timedelta(minutes=5 * (len(sparkline) - i)) for i in range(len(sparkline))]\n",
    "\n",
    "            # Normaliser les données Sparkline (facultatif)\n",
    "            sparkline_normalisee = [(price / sparkline[0]) * 100 for price in sparkline]\n",
    "\n",
    "            # Ajout de la courbe au graphique\n",
    "            fig.add_trace(go.Scatter(\n",
    "                x=timestamps,\n",
    "                y=sparkline_normalisee,\n",
    "                mode=\"lines\",\n",
    "                name=row[\"name\"],\n",
    "                line=dict(width=2)\n",
    "            ))\n",
    "\n",
    "        # Mise en page du graphique\n",
    "        fig.update_layout(\n",
    "            title=\"Prix Historiques Normalisés sur 7 Jours\",\n",
    "            xaxis_title=\"Temps\",\n",
    "            yaxis_title=\"Prix Normalisé (Base 100)\",\n",
    "            legend_title=\"Cryptos\",\n",
    "            template=\"plotly_dark\",\n",
    "            xaxis=dict(rangeslider=dict(visible=True), type=\"date\"),\n",
    "            hovermode=\"x unified\"\n",
    "        )\n",
    "\n",
    "        # Afficher le graphique\n",
    "        fig.show()"
   ]
  },
  {
   "cell_type": "code",
   "execution_count": 64,
   "metadata": {},
   "outputs": [
    {
     "data": {
      "application/vnd.plotly.v1+json": {
       "config": {
        "plotlyServerURL": "https://plot.ly"
       },
       "data": [
        {
         "colorscale": [
          [
           0,
           "rgb(165,0,38)"
          ],
          [
           0.1,
           "rgb(215,48,39)"
          ],
          [
           0.2,
           "rgb(244,109,67)"
          ],
          [
           0.3,
           "rgb(253,174,97)"
          ],
          [
           0.4,
           "rgb(254,224,139)"
          ],
          [
           0.5,
           "rgb(255,255,191)"
          ],
          [
           0.6,
           "rgb(217,239,139)"
          ],
          [
           0.7,
           "rgb(166,217,106)"
          ],
          [
           0.8,
           "rgb(102,189,99)"
          ],
          [
           0.9,
           "rgb(26,152,80)"
          ],
          [
           1,
           "rgb(0,104,55)"
          ]
         ],
         "hoverongaps": false,
         "reversescale": true,
         "type": "heatmap",
         "x": [
          "Variation 1h (%)",
          "Variation 24h (%)",
          "Variation 7j (%)"
         ],
         "y": [
          "Bitcoin",
          "Ethereum",
          "Tether",
          "Solana",
          "XRP",
          "BNB",
          "Dogecoin",
          "USDC",
          "Cardano",
          "Lido Staked Ether"
         ],
         "z": [
          [
           -0.3806044888646793,
           3.1299579951483567,
           -0.2474328964760391
          ],
          [
           -0.9076837281537252,
           1.522388719933249,
           9.159785869758183
          ],
          [
           -0.015373187366557272,
           0.1800168661705327,
           0.15705883432321627
          ],
          [
           -0.9467520576584035,
           3.714568097343555,
           -4.6234863148098455
          ],
          [
           -2.8731934815172657,
           17.307849383798903,
           17.961129533605085
          ],
          [
           -0.3610040931455969,
           1.6911116983423191,
           5.4639842476050475
          ],
          [
           -0.7511879502332574,
           5.70252957895971,
           4.447081989990146
          ],
          [
           -0.012896950332613597,
           0.1096898370187313,
           0.2684541879217239
          ],
          [
           -2.5466797562650867,
           7.672793168630456,
           13.76812528756299
          ],
          [
           -0.7883127779543349,
           1.4854990532762162,
           9.152674425548806
          ]
         ]
        }
       ],
       "layout": {
        "template": {
         "data": {
          "bar": [
           {
            "error_x": {
             "color": "#f2f5fa"
            },
            "error_y": {
             "color": "#f2f5fa"
            },
            "marker": {
             "line": {
              "color": "rgb(17,17,17)",
              "width": 0.5
             },
             "pattern": {
              "fillmode": "overlay",
              "size": 10,
              "solidity": 0.2
             }
            },
            "type": "bar"
           }
          ],
          "barpolar": [
           {
            "marker": {
             "line": {
              "color": "rgb(17,17,17)",
              "width": 0.5
             },
             "pattern": {
              "fillmode": "overlay",
              "size": 10,
              "solidity": 0.2
             }
            },
            "type": "barpolar"
           }
          ],
          "carpet": [
           {
            "aaxis": {
             "endlinecolor": "#A2B1C6",
             "gridcolor": "#506784",
             "linecolor": "#506784",
             "minorgridcolor": "#506784",
             "startlinecolor": "#A2B1C6"
            },
            "baxis": {
             "endlinecolor": "#A2B1C6",
             "gridcolor": "#506784",
             "linecolor": "#506784",
             "minorgridcolor": "#506784",
             "startlinecolor": "#A2B1C6"
            },
            "type": "carpet"
           }
          ],
          "choropleth": [
           {
            "colorbar": {
             "outlinewidth": 0,
             "ticks": ""
            },
            "type": "choropleth"
           }
          ],
          "contour": [
           {
            "colorbar": {
             "outlinewidth": 0,
             "ticks": ""
            },
            "colorscale": [
             [
              0,
              "#0d0887"
             ],
             [
              0.1111111111111111,
              "#46039f"
             ],
             [
              0.2222222222222222,
              "#7201a8"
             ],
             [
              0.3333333333333333,
              "#9c179e"
             ],
             [
              0.4444444444444444,
              "#bd3786"
             ],
             [
              0.5555555555555556,
              "#d8576b"
             ],
             [
              0.6666666666666666,
              "#ed7953"
             ],
             [
              0.7777777777777778,
              "#fb9f3a"
             ],
             [
              0.8888888888888888,
              "#fdca26"
             ],
             [
              1,
              "#f0f921"
             ]
            ],
            "type": "contour"
           }
          ],
          "contourcarpet": [
           {
            "colorbar": {
             "outlinewidth": 0,
             "ticks": ""
            },
            "type": "contourcarpet"
           }
          ],
          "heatmap": [
           {
            "colorbar": {
             "outlinewidth": 0,
             "ticks": ""
            },
            "colorscale": [
             [
              0,
              "#0d0887"
             ],
             [
              0.1111111111111111,
              "#46039f"
             ],
             [
              0.2222222222222222,
              "#7201a8"
             ],
             [
              0.3333333333333333,
              "#9c179e"
             ],
             [
              0.4444444444444444,
              "#bd3786"
             ],
             [
              0.5555555555555556,
              "#d8576b"
             ],
             [
              0.6666666666666666,
              "#ed7953"
             ],
             [
              0.7777777777777778,
              "#fb9f3a"
             ],
             [
              0.8888888888888888,
              "#fdca26"
             ],
             [
              1,
              "#f0f921"
             ]
            ],
            "type": "heatmap"
           }
          ],
          "heatmapgl": [
           {
            "colorbar": {
             "outlinewidth": 0,
             "ticks": ""
            },
            "colorscale": [
             [
              0,
              "#0d0887"
             ],
             [
              0.1111111111111111,
              "#46039f"
             ],
             [
              0.2222222222222222,
              "#7201a8"
             ],
             [
              0.3333333333333333,
              "#9c179e"
             ],
             [
              0.4444444444444444,
              "#bd3786"
             ],
             [
              0.5555555555555556,
              "#d8576b"
             ],
             [
              0.6666666666666666,
              "#ed7953"
             ],
             [
              0.7777777777777778,
              "#fb9f3a"
             ],
             [
              0.8888888888888888,
              "#fdca26"
             ],
             [
              1,
              "#f0f921"
             ]
            ],
            "type": "heatmapgl"
           }
          ],
          "histogram": [
           {
            "marker": {
             "pattern": {
              "fillmode": "overlay",
              "size": 10,
              "solidity": 0.2
             }
            },
            "type": "histogram"
           }
          ],
          "histogram2d": [
           {
            "colorbar": {
             "outlinewidth": 0,
             "ticks": ""
            },
            "colorscale": [
             [
              0,
              "#0d0887"
             ],
             [
              0.1111111111111111,
              "#46039f"
             ],
             [
              0.2222222222222222,
              "#7201a8"
             ],
             [
              0.3333333333333333,
              "#9c179e"
             ],
             [
              0.4444444444444444,
              "#bd3786"
             ],
             [
              0.5555555555555556,
              "#d8576b"
             ],
             [
              0.6666666666666666,
              "#ed7953"
             ],
             [
              0.7777777777777778,
              "#fb9f3a"
             ],
             [
              0.8888888888888888,
              "#fdca26"
             ],
             [
              1,
              "#f0f921"
             ]
            ],
            "type": "histogram2d"
           }
          ],
          "histogram2dcontour": [
           {
            "colorbar": {
             "outlinewidth": 0,
             "ticks": ""
            },
            "colorscale": [
             [
              0,
              "#0d0887"
             ],
             [
              0.1111111111111111,
              "#46039f"
             ],
             [
              0.2222222222222222,
              "#7201a8"
             ],
             [
              0.3333333333333333,
              "#9c179e"
             ],
             [
              0.4444444444444444,
              "#bd3786"
             ],
             [
              0.5555555555555556,
              "#d8576b"
             ],
             [
              0.6666666666666666,
              "#ed7953"
             ],
             [
              0.7777777777777778,
              "#fb9f3a"
             ],
             [
              0.8888888888888888,
              "#fdca26"
             ],
             [
              1,
              "#f0f921"
             ]
            ],
            "type": "histogram2dcontour"
           }
          ],
          "mesh3d": [
           {
            "colorbar": {
             "outlinewidth": 0,
             "ticks": ""
            },
            "type": "mesh3d"
           }
          ],
          "parcoords": [
           {
            "line": {
             "colorbar": {
              "outlinewidth": 0,
              "ticks": ""
             }
            },
            "type": "parcoords"
           }
          ],
          "pie": [
           {
            "automargin": true,
            "type": "pie"
           }
          ],
          "scatter": [
           {
            "marker": {
             "line": {
              "color": "#283442"
             }
            },
            "type": "scatter"
           }
          ],
          "scatter3d": [
           {
            "line": {
             "colorbar": {
              "outlinewidth": 0,
              "ticks": ""
             }
            },
            "marker": {
             "colorbar": {
              "outlinewidth": 0,
              "ticks": ""
             }
            },
            "type": "scatter3d"
           }
          ],
          "scattercarpet": [
           {
            "marker": {
             "colorbar": {
              "outlinewidth": 0,
              "ticks": ""
             }
            },
            "type": "scattercarpet"
           }
          ],
          "scattergeo": [
           {
            "marker": {
             "colorbar": {
              "outlinewidth": 0,
              "ticks": ""
             }
            },
            "type": "scattergeo"
           }
          ],
          "scattergl": [
           {
            "marker": {
             "line": {
              "color": "#283442"
             }
            },
            "type": "scattergl"
           }
          ],
          "scattermapbox": [
           {
            "marker": {
             "colorbar": {
              "outlinewidth": 0,
              "ticks": ""
             }
            },
            "type": "scattermapbox"
           }
          ],
          "scatterpolar": [
           {
            "marker": {
             "colorbar": {
              "outlinewidth": 0,
              "ticks": ""
             }
            },
            "type": "scatterpolar"
           }
          ],
          "scatterpolargl": [
           {
            "marker": {
             "colorbar": {
              "outlinewidth": 0,
              "ticks": ""
             }
            },
            "type": "scatterpolargl"
           }
          ],
          "scatterternary": [
           {
            "marker": {
             "colorbar": {
              "outlinewidth": 0,
              "ticks": ""
             }
            },
            "type": "scatterternary"
           }
          ],
          "surface": [
           {
            "colorbar": {
             "outlinewidth": 0,
             "ticks": ""
            },
            "colorscale": [
             [
              0,
              "#0d0887"
             ],
             [
              0.1111111111111111,
              "#46039f"
             ],
             [
              0.2222222222222222,
              "#7201a8"
             ],
             [
              0.3333333333333333,
              "#9c179e"
             ],
             [
              0.4444444444444444,
              "#bd3786"
             ],
             [
              0.5555555555555556,
              "#d8576b"
             ],
             [
              0.6666666666666666,
              "#ed7953"
             ],
             [
              0.7777777777777778,
              "#fb9f3a"
             ],
             [
              0.8888888888888888,
              "#fdca26"
             ],
             [
              1,
              "#f0f921"
             ]
            ],
            "type": "surface"
           }
          ],
          "table": [
           {
            "cells": {
             "fill": {
              "color": "#506784"
             },
             "line": {
              "color": "rgb(17,17,17)"
             }
            },
            "header": {
             "fill": {
              "color": "#2a3f5f"
             },
             "line": {
              "color": "rgb(17,17,17)"
             }
            },
            "type": "table"
           }
          ]
         },
         "layout": {
          "annotationdefaults": {
           "arrowcolor": "#f2f5fa",
           "arrowhead": 0,
           "arrowwidth": 1
          },
          "autotypenumbers": "strict",
          "coloraxis": {
           "colorbar": {
            "outlinewidth": 0,
            "ticks": ""
           }
          },
          "colorscale": {
           "diverging": [
            [
             0,
             "#8e0152"
            ],
            [
             0.1,
             "#c51b7d"
            ],
            [
             0.2,
             "#de77ae"
            ],
            [
             0.3,
             "#f1b6da"
            ],
            [
             0.4,
             "#fde0ef"
            ],
            [
             0.5,
             "#f7f7f7"
            ],
            [
             0.6,
             "#e6f5d0"
            ],
            [
             0.7,
             "#b8e186"
            ],
            [
             0.8,
             "#7fbc41"
            ],
            [
             0.9,
             "#4d9221"
            ],
            [
             1,
             "#276419"
            ]
           ],
           "sequential": [
            [
             0,
             "#0d0887"
            ],
            [
             0.1111111111111111,
             "#46039f"
            ],
            [
             0.2222222222222222,
             "#7201a8"
            ],
            [
             0.3333333333333333,
             "#9c179e"
            ],
            [
             0.4444444444444444,
             "#bd3786"
            ],
            [
             0.5555555555555556,
             "#d8576b"
            ],
            [
             0.6666666666666666,
             "#ed7953"
            ],
            [
             0.7777777777777778,
             "#fb9f3a"
            ],
            [
             0.8888888888888888,
             "#fdca26"
            ],
            [
             1,
             "#f0f921"
            ]
           ],
           "sequentialminus": [
            [
             0,
             "#0d0887"
            ],
            [
             0.1111111111111111,
             "#46039f"
            ],
            [
             0.2222222222222222,
             "#7201a8"
            ],
            [
             0.3333333333333333,
             "#9c179e"
            ],
            [
             0.4444444444444444,
             "#bd3786"
            ],
            [
             0.5555555555555556,
             "#d8576b"
            ],
            [
             0.6666666666666666,
             "#ed7953"
            ],
            [
             0.7777777777777778,
             "#fb9f3a"
            ],
            [
             0.8888888888888888,
             "#fdca26"
            ],
            [
             1,
             "#f0f921"
            ]
           ]
          },
          "colorway": [
           "#636efa",
           "#EF553B",
           "#00cc96",
           "#ab63fa",
           "#FFA15A",
           "#19d3f3",
           "#FF6692",
           "#B6E880",
           "#FF97FF",
           "#FECB52"
          ],
          "font": {
           "color": "#f2f5fa"
          },
          "geo": {
           "bgcolor": "rgb(17,17,17)",
           "lakecolor": "rgb(17,17,17)",
           "landcolor": "rgb(17,17,17)",
           "showlakes": true,
           "showland": true,
           "subunitcolor": "#506784"
          },
          "hoverlabel": {
           "align": "left"
          },
          "hovermode": "closest",
          "mapbox": {
           "style": "dark"
          },
          "paper_bgcolor": "rgb(17,17,17)",
          "plot_bgcolor": "rgb(17,17,17)",
          "polar": {
           "angularaxis": {
            "gridcolor": "#506784",
            "linecolor": "#506784",
            "ticks": ""
           },
           "bgcolor": "rgb(17,17,17)",
           "radialaxis": {
            "gridcolor": "#506784",
            "linecolor": "#506784",
            "ticks": ""
           }
          },
          "scene": {
           "xaxis": {
            "backgroundcolor": "rgb(17,17,17)",
            "gridcolor": "#506784",
            "gridwidth": 2,
            "linecolor": "#506784",
            "showbackground": true,
            "ticks": "",
            "zerolinecolor": "#C8D4E3"
           },
           "yaxis": {
            "backgroundcolor": "rgb(17,17,17)",
            "gridcolor": "#506784",
            "gridwidth": 2,
            "linecolor": "#506784",
            "showbackground": true,
            "ticks": "",
            "zerolinecolor": "#C8D4E3"
           },
           "zaxis": {
            "backgroundcolor": "rgb(17,17,17)",
            "gridcolor": "#506784",
            "gridwidth": 2,
            "linecolor": "#506784",
            "showbackground": true,
            "ticks": "",
            "zerolinecolor": "#C8D4E3"
           }
          },
          "shapedefaults": {
           "line": {
            "color": "#f2f5fa"
           }
          },
          "sliderdefaults": {
           "bgcolor": "#C8D4E3",
           "bordercolor": "rgb(17,17,17)",
           "borderwidth": 1,
           "tickwidth": 0
          },
          "ternary": {
           "aaxis": {
            "gridcolor": "#506784",
            "linecolor": "#506784",
            "ticks": ""
           },
           "baxis": {
            "gridcolor": "#506784",
            "linecolor": "#506784",
            "ticks": ""
           },
           "bgcolor": "rgb(17,17,17)",
           "caxis": {
            "gridcolor": "#506784",
            "linecolor": "#506784",
            "ticks": ""
           }
          },
          "title": {
           "x": 0.05
          },
          "updatemenudefaults": {
           "bgcolor": "#506784",
           "borderwidth": 0
          },
          "xaxis": {
           "automargin": true,
           "gridcolor": "#283442",
           "linecolor": "#506784",
           "ticks": "",
           "title": {
            "standoff": 15
           },
           "zerolinecolor": "#283442",
           "zerolinewidth": 2
          },
          "yaxis": {
           "automargin": true,
           "gridcolor": "#283442",
           "linecolor": "#506784",
           "ticks": "",
           "title": {
            "standoff": 15
           },
           "zerolinecolor": "#283442",
           "zerolinewidth": 2
          }
         }
        },
        "title": {
         "text": "Heatmap des Variations (%)"
        },
        "xaxis": {
         "title": {
          "text": "Période"
         }
        },
        "yaxis": {
         "title": {
          "text": "Cryptomonnaie"
         }
        }
       }
      }
     },
     "metadata": {},
     "output_type": "display_data"
    }
   ],
   "source": [
    "# Heatmap des variations\n",
    "variations = data_crypto[[\n",
    "    \"Nom\", \"Variation 1h (%)\", \"Variation 24h (%)\", \"Variation 7j (%)\"\n",
    "]].set_index(\"Nom\")\n",
    "\n",
    "fig2 = go.Figure(data=go.Heatmap(\n",
    "    z=variations.values,\n",
    "    x=variations.columns,\n",
    "    y=variations.index,\n",
    "    colorscale=\"RdYlGn\",\n",
    "    reversescale=True,\n",
    "    hoverongaps=False\n",
    "))\n",
    "fig2.update_layout(\n",
    "    title=\"Heatmap des Variations (%)\",\n",
    "    xaxis_title=\"Période\",\n",
    "    yaxis_title=\"Cryptomonnaie\",\n",
    "    template=\"plotly_dark\"\n",
    ")\n",
    "fig2.show()"
   ]
  },
  {
   "cell_type": "code",
   "execution_count": 66,
   "metadata": {},
   "outputs": [
    {
     "data": {
      "application/vnd.plotly.v1+json": {
       "config": {
        "plotlyServerURL": "https://plot.ly"
       },
       "data": [
        {
         "marker": {
          "color": [
           98193,
           3606.34,
           1.002,
           243.46,
           1.7,
           658.65,
           0.418549,
           1.001,
           1.063,
           3602.46
          ],
          "colorbar": {
           "title": {
            "text": "Prix Actuel"
           }
          },
          "colorscale": [
           [
            0,
            "#440154"
           ],
           [
            0.1111111111111111,
            "#482878"
           ],
           [
            0.2222222222222222,
            "#3e4989"
           ],
           [
            0.3333333333333333,
            "#31688e"
           ],
           [
            0.4444444444444444,
            "#26828e"
           ],
           [
            0.5555555555555556,
            "#1f9e89"
           ],
           [
            0.6666666666666666,
            "#35b779"
           ],
           [
            0.7777777777777778,
            "#6ece58"
           ],
           [
            0.8888888888888888,
            "#b5de2b"
           ],
           [
            1,
            "#fde725"
           ]
          ],
          "opacity": 0.8,
          "size": 8
         },
         "mode": "markers+text",
         "text": [
          "BTC",
          "ETH",
          "USDT",
          "SOL",
          "XRP",
          "BNB",
          "DOGE",
          "USDC",
          "ADA",
          "STETH"
         ],
         "type": "scatter3d",
         "x": [
          1938715508924,
          433573895704,
          133428276706,
          115463539757,
          97070502033,
          95937301825,
          61329334856,
          39407798320,
          37934469304,
          35269271840
         ],
         "y": [
          66517926901,
          28482420807,
          116000956237,
          5488585629,
          14031972100,
          1538506720,
          5702580290,
          5719904142,
          2390608645,
          72478865
         ],
         "z": [
          98193,
          3606.34,
          1.002,
          243.46,
          1.7,
          658.65,
          0.418549,
          1.001,
          1.063,
          3602.46
         ]
        }
       ],
       "layout": {
        "scene": {
         "bgcolor": "#0e1117",
         "xaxis": {
          "title": {
           "text": "Capitalisation"
          }
         },
         "yaxis": {
          "title": {
           "text": "Volume Échangé"
          }
         },
         "zaxis": {
          "title": {
           "text": "Prix Actuel"
          }
         }
        },
        "template": {
         "data": {
          "bar": [
           {
            "error_x": {
             "color": "#f2f5fa"
            },
            "error_y": {
             "color": "#f2f5fa"
            },
            "marker": {
             "line": {
              "color": "rgb(17,17,17)",
              "width": 0.5
             },
             "pattern": {
              "fillmode": "overlay",
              "size": 10,
              "solidity": 0.2
             }
            },
            "type": "bar"
           }
          ],
          "barpolar": [
           {
            "marker": {
             "line": {
              "color": "rgb(17,17,17)",
              "width": 0.5
             },
             "pattern": {
              "fillmode": "overlay",
              "size": 10,
              "solidity": 0.2
             }
            },
            "type": "barpolar"
           }
          ],
          "carpet": [
           {
            "aaxis": {
             "endlinecolor": "#A2B1C6",
             "gridcolor": "#506784",
             "linecolor": "#506784",
             "minorgridcolor": "#506784",
             "startlinecolor": "#A2B1C6"
            },
            "baxis": {
             "endlinecolor": "#A2B1C6",
             "gridcolor": "#506784",
             "linecolor": "#506784",
             "minorgridcolor": "#506784",
             "startlinecolor": "#A2B1C6"
            },
            "type": "carpet"
           }
          ],
          "choropleth": [
           {
            "colorbar": {
             "outlinewidth": 0,
             "ticks": ""
            },
            "type": "choropleth"
           }
          ],
          "contour": [
           {
            "colorbar": {
             "outlinewidth": 0,
             "ticks": ""
            },
            "colorscale": [
             [
              0,
              "#0d0887"
             ],
             [
              0.1111111111111111,
              "#46039f"
             ],
             [
              0.2222222222222222,
              "#7201a8"
             ],
             [
              0.3333333333333333,
              "#9c179e"
             ],
             [
              0.4444444444444444,
              "#bd3786"
             ],
             [
              0.5555555555555556,
              "#d8576b"
             ],
             [
              0.6666666666666666,
              "#ed7953"
             ],
             [
              0.7777777777777778,
              "#fb9f3a"
             ],
             [
              0.8888888888888888,
              "#fdca26"
             ],
             [
              1,
              "#f0f921"
             ]
            ],
            "type": "contour"
           }
          ],
          "contourcarpet": [
           {
            "colorbar": {
             "outlinewidth": 0,
             "ticks": ""
            },
            "type": "contourcarpet"
           }
          ],
          "heatmap": [
           {
            "colorbar": {
             "outlinewidth": 0,
             "ticks": ""
            },
            "colorscale": [
             [
              0,
              "#0d0887"
             ],
             [
              0.1111111111111111,
              "#46039f"
             ],
             [
              0.2222222222222222,
              "#7201a8"
             ],
             [
              0.3333333333333333,
              "#9c179e"
             ],
             [
              0.4444444444444444,
              "#bd3786"
             ],
             [
              0.5555555555555556,
              "#d8576b"
             ],
             [
              0.6666666666666666,
              "#ed7953"
             ],
             [
              0.7777777777777778,
              "#fb9f3a"
             ],
             [
              0.8888888888888888,
              "#fdca26"
             ],
             [
              1,
              "#f0f921"
             ]
            ],
            "type": "heatmap"
           }
          ],
          "heatmapgl": [
           {
            "colorbar": {
             "outlinewidth": 0,
             "ticks": ""
            },
            "colorscale": [
             [
              0,
              "#0d0887"
             ],
             [
              0.1111111111111111,
              "#46039f"
             ],
             [
              0.2222222222222222,
              "#7201a8"
             ],
             [
              0.3333333333333333,
              "#9c179e"
             ],
             [
              0.4444444444444444,
              "#bd3786"
             ],
             [
              0.5555555555555556,
              "#d8576b"
             ],
             [
              0.6666666666666666,
              "#ed7953"
             ],
             [
              0.7777777777777778,
              "#fb9f3a"
             ],
             [
              0.8888888888888888,
              "#fdca26"
             ],
             [
              1,
              "#f0f921"
             ]
            ],
            "type": "heatmapgl"
           }
          ],
          "histogram": [
           {
            "marker": {
             "pattern": {
              "fillmode": "overlay",
              "size": 10,
              "solidity": 0.2
             }
            },
            "type": "histogram"
           }
          ],
          "histogram2d": [
           {
            "colorbar": {
             "outlinewidth": 0,
             "ticks": ""
            },
            "colorscale": [
             [
              0,
              "#0d0887"
             ],
             [
              0.1111111111111111,
              "#46039f"
             ],
             [
              0.2222222222222222,
              "#7201a8"
             ],
             [
              0.3333333333333333,
              "#9c179e"
             ],
             [
              0.4444444444444444,
              "#bd3786"
             ],
             [
              0.5555555555555556,
              "#d8576b"
             ],
             [
              0.6666666666666666,
              "#ed7953"
             ],
             [
              0.7777777777777778,
              "#fb9f3a"
             ],
             [
              0.8888888888888888,
              "#fdca26"
             ],
             [
              1,
              "#f0f921"
             ]
            ],
            "type": "histogram2d"
           }
          ],
          "histogram2dcontour": [
           {
            "colorbar": {
             "outlinewidth": 0,
             "ticks": ""
            },
            "colorscale": [
             [
              0,
              "#0d0887"
             ],
             [
              0.1111111111111111,
              "#46039f"
             ],
             [
              0.2222222222222222,
              "#7201a8"
             ],
             [
              0.3333333333333333,
              "#9c179e"
             ],
             [
              0.4444444444444444,
              "#bd3786"
             ],
             [
              0.5555555555555556,
              "#d8576b"
             ],
             [
              0.6666666666666666,
              "#ed7953"
             ],
             [
              0.7777777777777778,
              "#fb9f3a"
             ],
             [
              0.8888888888888888,
              "#fdca26"
             ],
             [
              1,
              "#f0f921"
             ]
            ],
            "type": "histogram2dcontour"
           }
          ],
          "mesh3d": [
           {
            "colorbar": {
             "outlinewidth": 0,
             "ticks": ""
            },
            "type": "mesh3d"
           }
          ],
          "parcoords": [
           {
            "line": {
             "colorbar": {
              "outlinewidth": 0,
              "ticks": ""
             }
            },
            "type": "parcoords"
           }
          ],
          "pie": [
           {
            "automargin": true,
            "type": "pie"
           }
          ],
          "scatter": [
           {
            "marker": {
             "line": {
              "color": "#283442"
             }
            },
            "type": "scatter"
           }
          ],
          "scatter3d": [
           {
            "line": {
             "colorbar": {
              "outlinewidth": 0,
              "ticks": ""
             }
            },
            "marker": {
             "colorbar": {
              "outlinewidth": 0,
              "ticks": ""
             }
            },
            "type": "scatter3d"
           }
          ],
          "scattercarpet": [
           {
            "marker": {
             "colorbar": {
              "outlinewidth": 0,
              "ticks": ""
             }
            },
            "type": "scattercarpet"
           }
          ],
          "scattergeo": [
           {
            "marker": {
             "colorbar": {
              "outlinewidth": 0,
              "ticks": ""
             }
            },
            "type": "scattergeo"
           }
          ],
          "scattergl": [
           {
            "marker": {
             "line": {
              "color": "#283442"
             }
            },
            "type": "scattergl"
           }
          ],
          "scattermapbox": [
           {
            "marker": {
             "colorbar": {
              "outlinewidth": 0,
              "ticks": ""
             }
            },
            "type": "scattermapbox"
           }
          ],
          "scatterpolar": [
           {
            "marker": {
             "colorbar": {
              "outlinewidth": 0,
              "ticks": ""
             }
            },
            "type": "scatterpolar"
           }
          ],
          "scatterpolargl": [
           {
            "marker": {
             "colorbar": {
              "outlinewidth": 0,
              "ticks": ""
             }
            },
            "type": "scatterpolargl"
           }
          ],
          "scatterternary": [
           {
            "marker": {
             "colorbar": {
              "outlinewidth": 0,
              "ticks": ""
             }
            },
            "type": "scatterternary"
           }
          ],
          "surface": [
           {
            "colorbar": {
             "outlinewidth": 0,
             "ticks": ""
            },
            "colorscale": [
             [
              0,
              "#0d0887"
             ],
             [
              0.1111111111111111,
              "#46039f"
             ],
             [
              0.2222222222222222,
              "#7201a8"
             ],
             [
              0.3333333333333333,
              "#9c179e"
             ],
             [
              0.4444444444444444,
              "#bd3786"
             ],
             [
              0.5555555555555556,
              "#d8576b"
             ],
             [
              0.6666666666666666,
              "#ed7953"
             ],
             [
              0.7777777777777778,
              "#fb9f3a"
             ],
             [
              0.8888888888888888,
              "#fdca26"
             ],
             [
              1,
              "#f0f921"
             ]
            ],
            "type": "surface"
           }
          ],
          "table": [
           {
            "cells": {
             "fill": {
              "color": "#506784"
             },
             "line": {
              "color": "rgb(17,17,17)"
             }
            },
            "header": {
             "fill": {
              "color": "#2a3f5f"
             },
             "line": {
              "color": "rgb(17,17,17)"
             }
            },
            "type": "table"
           }
          ]
         },
         "layout": {
          "annotationdefaults": {
           "arrowcolor": "#f2f5fa",
           "arrowhead": 0,
           "arrowwidth": 1
          },
          "autotypenumbers": "strict",
          "coloraxis": {
           "colorbar": {
            "outlinewidth": 0,
            "ticks": ""
           }
          },
          "colorscale": {
           "diverging": [
            [
             0,
             "#8e0152"
            ],
            [
             0.1,
             "#c51b7d"
            ],
            [
             0.2,
             "#de77ae"
            ],
            [
             0.3,
             "#f1b6da"
            ],
            [
             0.4,
             "#fde0ef"
            ],
            [
             0.5,
             "#f7f7f7"
            ],
            [
             0.6,
             "#e6f5d0"
            ],
            [
             0.7,
             "#b8e186"
            ],
            [
             0.8,
             "#7fbc41"
            ],
            [
             0.9,
             "#4d9221"
            ],
            [
             1,
             "#276419"
            ]
           ],
           "sequential": [
            [
             0,
             "#0d0887"
            ],
            [
             0.1111111111111111,
             "#46039f"
            ],
            [
             0.2222222222222222,
             "#7201a8"
            ],
            [
             0.3333333333333333,
             "#9c179e"
            ],
            [
             0.4444444444444444,
             "#bd3786"
            ],
            [
             0.5555555555555556,
             "#d8576b"
            ],
            [
             0.6666666666666666,
             "#ed7953"
            ],
            [
             0.7777777777777778,
             "#fb9f3a"
            ],
            [
             0.8888888888888888,
             "#fdca26"
            ],
            [
             1,
             "#f0f921"
            ]
           ],
           "sequentialminus": [
            [
             0,
             "#0d0887"
            ],
            [
             0.1111111111111111,
             "#46039f"
            ],
            [
             0.2222222222222222,
             "#7201a8"
            ],
            [
             0.3333333333333333,
             "#9c179e"
            ],
            [
             0.4444444444444444,
             "#bd3786"
            ],
            [
             0.5555555555555556,
             "#d8576b"
            ],
            [
             0.6666666666666666,
             "#ed7953"
            ],
            [
             0.7777777777777778,
             "#fb9f3a"
            ],
            [
             0.8888888888888888,
             "#fdca26"
            ],
            [
             1,
             "#f0f921"
            ]
           ]
          },
          "colorway": [
           "#636efa",
           "#EF553B",
           "#00cc96",
           "#ab63fa",
           "#FFA15A",
           "#19d3f3",
           "#FF6692",
           "#B6E880",
           "#FF97FF",
           "#FECB52"
          ],
          "font": {
           "color": "#f2f5fa"
          },
          "geo": {
           "bgcolor": "rgb(17,17,17)",
           "lakecolor": "rgb(17,17,17)",
           "landcolor": "rgb(17,17,17)",
           "showlakes": true,
           "showland": true,
           "subunitcolor": "#506784"
          },
          "hoverlabel": {
           "align": "left"
          },
          "hovermode": "closest",
          "mapbox": {
           "style": "dark"
          },
          "paper_bgcolor": "rgb(17,17,17)",
          "plot_bgcolor": "rgb(17,17,17)",
          "polar": {
           "angularaxis": {
            "gridcolor": "#506784",
            "linecolor": "#506784",
            "ticks": ""
           },
           "bgcolor": "rgb(17,17,17)",
           "radialaxis": {
            "gridcolor": "#506784",
            "linecolor": "#506784",
            "ticks": ""
           }
          },
          "scene": {
           "xaxis": {
            "backgroundcolor": "rgb(17,17,17)",
            "gridcolor": "#506784",
            "gridwidth": 2,
            "linecolor": "#506784",
            "showbackground": true,
            "ticks": "",
            "zerolinecolor": "#C8D4E3"
           },
           "yaxis": {
            "backgroundcolor": "rgb(17,17,17)",
            "gridcolor": "#506784",
            "gridwidth": 2,
            "linecolor": "#506784",
            "showbackground": true,
            "ticks": "",
            "zerolinecolor": "#C8D4E3"
           },
           "zaxis": {
            "backgroundcolor": "rgb(17,17,17)",
            "gridcolor": "#506784",
            "gridwidth": 2,
            "linecolor": "#506784",
            "showbackground": true,
            "ticks": "",
            "zerolinecolor": "#C8D4E3"
           }
          },
          "shapedefaults": {
           "line": {
            "color": "#f2f5fa"
           }
          },
          "sliderdefaults": {
           "bgcolor": "#C8D4E3",
           "bordercolor": "rgb(17,17,17)",
           "borderwidth": 1,
           "tickwidth": 0
          },
          "ternary": {
           "aaxis": {
            "gridcolor": "#506784",
            "linecolor": "#506784",
            "ticks": ""
           },
           "baxis": {
            "gridcolor": "#506784",
            "linecolor": "#506784",
            "ticks": ""
           },
           "bgcolor": "rgb(17,17,17)",
           "caxis": {
            "gridcolor": "#506784",
            "linecolor": "#506784",
            "ticks": ""
           }
          },
          "title": {
           "x": 0.05
          },
          "updatemenudefaults": {
           "bgcolor": "#506784",
           "borderwidth": 0
          },
          "xaxis": {
           "automargin": true,
           "gridcolor": "#283442",
           "linecolor": "#506784",
           "ticks": "",
           "title": {
            "standoff": 15
           },
           "zerolinecolor": "#283442",
           "zerolinewidth": 2
          },
          "yaxis": {
           "automargin": true,
           "gridcolor": "#283442",
           "linecolor": "#506784",
           "ticks": "",
           "title": {
            "standoff": 15
           },
           "zerolinecolor": "#283442",
           "zerolinewidth": 2
          }
         }
        },
        "title": {
         "text": "Graphique 3D des Cryptomonnaies"
        }
       }
      }
     },
     "metadata": {},
     "output_type": "display_data"
    }
   ],
   "source": [
    "# Graphique 3D des cryptos\n",
    "fig3 = go.Figure()\n",
    "fig3.add_trace(go.Scatter3d(\n",
    "    x=data_crypto[\"Capitalisation\"],\n",
    "    y=data_crypto[\"Volume Échangé\"],\n",
    "    z=data_crypto[\"Prix Actuel\"],\n",
    "    mode='markers+text',\n",
    "    text=data_crypto[\"Symbole\"].str.upper(),\n",
    "    marker=dict(\n",
    "        size=8,\n",
    "        color=data_crypto[\"Prix Actuel\"],\n",
    "        colorscale='Viridis',\n",
    "        opacity=0.8,\n",
    "        colorbar=dict(title='Prix Actuel')\n",
    "    )\n",
    "))\n",
    "fig3.update_layout(\n",
    "    scene=dict(\n",
    "        xaxis_title=\"Capitalisation\",\n",
    "        yaxis_title=\"Volume Échangé\",\n",
    "        zaxis_title=\"Prix Actuel\",\n",
    "        bgcolor='#0e1117'\n",
    "    ),\n",
    "    title=\"Graphique 3D des Cryptomonnaies\",\n",
    "    template=\"plotly_dark\"\n",
    ")\n",
    "fig3.show()"
   ]
  },
  {
   "cell_type": "code",
   "execution_count": 67,
   "metadata": {},
   "outputs": [
    {
     "data": {
      "text/html": [
       "<style type=\"text/css\">\n",
       "</style>\n",
       "<table id=\"T_7ae9e\">\n",
       "  <thead>\n",
       "    <tr>\n",
       "      <th class=\"blank level0\" >&nbsp;</th>\n",
       "      <th id=\"T_7ae9e_level0_col0\" class=\"col_heading level0 col0\" >Nom</th>\n",
       "      <th id=\"T_7ae9e_level0_col1\" class=\"col_heading level0 col1\" >Symbole</th>\n",
       "      <th id=\"T_7ae9e_level0_col2\" class=\"col_heading level0 col2\" >Prix Actuel</th>\n",
       "      <th id=\"T_7ae9e_level0_col3\" class=\"col_heading level0 col3\" >Variation 1h (%)</th>\n",
       "      <th id=\"T_7ae9e_level0_col4\" class=\"col_heading level0 col4\" >Variation 24h (%)</th>\n",
       "      <th id=\"T_7ae9e_level0_col5\" class=\"col_heading level0 col5\" >Variation 7j (%)</th>\n",
       "      <th id=\"T_7ae9e_level0_col6\" class=\"col_heading level0 col6\" >Capitalisation</th>\n",
       "      <th id=\"T_7ae9e_level0_col7\" class=\"col_heading level0 col7\" >Volume Échangé</th>\n",
       "    </tr>\n",
       "  </thead>\n",
       "  <tbody>\n",
       "    <tr>\n",
       "      <th id=\"T_7ae9e_level0_row0\" class=\"row_heading level0 row0\" >0</th>\n",
       "      <td id=\"T_7ae9e_row0_col0\" class=\"data row0 col0\" >Bitcoin</td>\n",
       "      <td id=\"T_7ae9e_row0_col1\" class=\"data row0 col1\" >btc</td>\n",
       "      <td id=\"T_7ae9e_row0_col2\" class=\"data row0 col2\" >$98193.00</td>\n",
       "      <td id=\"T_7ae9e_row0_col3\" class=\"data row0 col3\" >-0.38%</td>\n",
       "      <td id=\"T_7ae9e_row0_col4\" class=\"data row0 col4\" >3.13%</td>\n",
       "      <td id=\"T_7ae9e_row0_col5\" class=\"data row0 col5\" >-0.25%</td>\n",
       "      <td id=\"T_7ae9e_row0_col6\" class=\"data row0 col6\" >$1,938,715,508,924</td>\n",
       "      <td id=\"T_7ae9e_row0_col7\" class=\"data row0 col7\" >$66,517,926,901</td>\n",
       "    </tr>\n",
       "    <tr>\n",
       "      <th id=\"T_7ae9e_level0_row1\" class=\"row_heading level0 row1\" >1</th>\n",
       "      <td id=\"T_7ae9e_row1_col0\" class=\"data row1 col0\" >Ethereum</td>\n",
       "      <td id=\"T_7ae9e_row1_col1\" class=\"data row1 col1\" >eth</td>\n",
       "      <td id=\"T_7ae9e_row1_col2\" class=\"data row1 col2\" >$3606.34</td>\n",
       "      <td id=\"T_7ae9e_row1_col3\" class=\"data row1 col3\" >-0.91%</td>\n",
       "      <td id=\"T_7ae9e_row1_col4\" class=\"data row1 col4\" >1.52%</td>\n",
       "      <td id=\"T_7ae9e_row1_col5\" class=\"data row1 col5\" >9.16%</td>\n",
       "      <td id=\"T_7ae9e_row1_col6\" class=\"data row1 col6\" >$433,573,895,704</td>\n",
       "      <td id=\"T_7ae9e_row1_col7\" class=\"data row1 col7\" >$28,482,420,807</td>\n",
       "    </tr>\n",
       "    <tr>\n",
       "      <th id=\"T_7ae9e_level0_row2\" class=\"row_heading level0 row2\" >2</th>\n",
       "      <td id=\"T_7ae9e_row2_col0\" class=\"data row2 col0\" >Tether</td>\n",
       "      <td id=\"T_7ae9e_row2_col1\" class=\"data row2 col1\" >usdt</td>\n",
       "      <td id=\"T_7ae9e_row2_col2\" class=\"data row2 col2\" >$1.00</td>\n",
       "      <td id=\"T_7ae9e_row2_col3\" class=\"data row2 col3\" >-0.02%</td>\n",
       "      <td id=\"T_7ae9e_row2_col4\" class=\"data row2 col4\" >0.18%</td>\n",
       "      <td id=\"T_7ae9e_row2_col5\" class=\"data row2 col5\" >0.16%</td>\n",
       "      <td id=\"T_7ae9e_row2_col6\" class=\"data row2 col6\" >$133,428,276,706</td>\n",
       "      <td id=\"T_7ae9e_row2_col7\" class=\"data row2 col7\" >$116,000,956,237</td>\n",
       "    </tr>\n",
       "    <tr>\n",
       "      <th id=\"T_7ae9e_level0_row3\" class=\"row_heading level0 row3\" >3</th>\n",
       "      <td id=\"T_7ae9e_row3_col0\" class=\"data row3 col0\" >Solana</td>\n",
       "      <td id=\"T_7ae9e_row3_col1\" class=\"data row3 col1\" >sol</td>\n",
       "      <td id=\"T_7ae9e_row3_col2\" class=\"data row3 col2\" >$243.46</td>\n",
       "      <td id=\"T_7ae9e_row3_col3\" class=\"data row3 col3\" >-0.95%</td>\n",
       "      <td id=\"T_7ae9e_row3_col4\" class=\"data row3 col4\" >3.71%</td>\n",
       "      <td id=\"T_7ae9e_row3_col5\" class=\"data row3 col5\" >-4.62%</td>\n",
       "      <td id=\"T_7ae9e_row3_col6\" class=\"data row3 col6\" >$115,463,539,757</td>\n",
       "      <td id=\"T_7ae9e_row3_col7\" class=\"data row3 col7\" >$5,488,585,629</td>\n",
       "    </tr>\n",
       "    <tr>\n",
       "      <th id=\"T_7ae9e_level0_row4\" class=\"row_heading level0 row4\" >4</th>\n",
       "      <td id=\"T_7ae9e_row4_col0\" class=\"data row4 col0\" >XRP</td>\n",
       "      <td id=\"T_7ae9e_row4_col1\" class=\"data row4 col1\" >xrp</td>\n",
       "      <td id=\"T_7ae9e_row4_col2\" class=\"data row4 col2\" >$1.70</td>\n",
       "      <td id=\"T_7ae9e_row4_col3\" class=\"data row4 col3\" >-2.87%</td>\n",
       "      <td id=\"T_7ae9e_row4_col4\" class=\"data row4 col4\" >17.31%</td>\n",
       "      <td id=\"T_7ae9e_row4_col5\" class=\"data row4 col5\" >17.96%</td>\n",
       "      <td id=\"T_7ae9e_row4_col6\" class=\"data row4 col6\" >$97,070,502,033</td>\n",
       "      <td id=\"T_7ae9e_row4_col7\" class=\"data row4 col7\" >$14,031,972,100</td>\n",
       "    </tr>\n",
       "    <tr>\n",
       "      <th id=\"T_7ae9e_level0_row5\" class=\"row_heading level0 row5\" >5</th>\n",
       "      <td id=\"T_7ae9e_row5_col0\" class=\"data row5 col0\" >BNB</td>\n",
       "      <td id=\"T_7ae9e_row5_col1\" class=\"data row5 col1\" >bnb</td>\n",
       "      <td id=\"T_7ae9e_row5_col2\" class=\"data row5 col2\" >$658.65</td>\n",
       "      <td id=\"T_7ae9e_row5_col3\" class=\"data row5 col3\" >-0.36%</td>\n",
       "      <td id=\"T_7ae9e_row5_col4\" class=\"data row5 col4\" >1.69%</td>\n",
       "      <td id=\"T_7ae9e_row5_col5\" class=\"data row5 col5\" >5.46%</td>\n",
       "      <td id=\"T_7ae9e_row5_col6\" class=\"data row5 col6\" >$95,937,301,825</td>\n",
       "      <td id=\"T_7ae9e_row5_col7\" class=\"data row5 col7\" >$1,538,506,720</td>\n",
       "    </tr>\n",
       "    <tr>\n",
       "      <th id=\"T_7ae9e_level0_row6\" class=\"row_heading level0 row6\" >6</th>\n",
       "      <td id=\"T_7ae9e_row6_col0\" class=\"data row6 col0\" >Dogecoin</td>\n",
       "      <td id=\"T_7ae9e_row6_col1\" class=\"data row6 col1\" >doge</td>\n",
       "      <td id=\"T_7ae9e_row6_col2\" class=\"data row6 col2\" >$0.42</td>\n",
       "      <td id=\"T_7ae9e_row6_col3\" class=\"data row6 col3\" >-0.75%</td>\n",
       "      <td id=\"T_7ae9e_row6_col4\" class=\"data row6 col4\" >5.70%</td>\n",
       "      <td id=\"T_7ae9e_row6_col5\" class=\"data row6 col5\" >4.45%</td>\n",
       "      <td id=\"T_7ae9e_row6_col6\" class=\"data row6 col6\" >$61,329,334,856</td>\n",
       "      <td id=\"T_7ae9e_row6_col7\" class=\"data row6 col7\" >$5,702,580,290</td>\n",
       "    </tr>\n",
       "    <tr>\n",
       "      <th id=\"T_7ae9e_level0_row7\" class=\"row_heading level0 row7\" >7</th>\n",
       "      <td id=\"T_7ae9e_row7_col0\" class=\"data row7 col0\" >USDC</td>\n",
       "      <td id=\"T_7ae9e_row7_col1\" class=\"data row7 col1\" >usdc</td>\n",
       "      <td id=\"T_7ae9e_row7_col2\" class=\"data row7 col2\" >$1.00</td>\n",
       "      <td id=\"T_7ae9e_row7_col3\" class=\"data row7 col3\" >-0.01%</td>\n",
       "      <td id=\"T_7ae9e_row7_col4\" class=\"data row7 col4\" >0.11%</td>\n",
       "      <td id=\"T_7ae9e_row7_col5\" class=\"data row7 col5\" >0.27%</td>\n",
       "      <td id=\"T_7ae9e_row7_col6\" class=\"data row7 col6\" >$39,407,798,320</td>\n",
       "      <td id=\"T_7ae9e_row7_col7\" class=\"data row7 col7\" >$5,719,904,142</td>\n",
       "    </tr>\n",
       "    <tr>\n",
       "      <th id=\"T_7ae9e_level0_row8\" class=\"row_heading level0 row8\" >8</th>\n",
       "      <td id=\"T_7ae9e_row8_col0\" class=\"data row8 col0\" >Cardano</td>\n",
       "      <td id=\"T_7ae9e_row8_col1\" class=\"data row8 col1\" >ada</td>\n",
       "      <td id=\"T_7ae9e_row8_col2\" class=\"data row8 col2\" >$1.06</td>\n",
       "      <td id=\"T_7ae9e_row8_col3\" class=\"data row8 col3\" >-2.55%</td>\n",
       "      <td id=\"T_7ae9e_row8_col4\" class=\"data row8 col4\" >7.67%</td>\n",
       "      <td id=\"T_7ae9e_row8_col5\" class=\"data row8 col5\" >13.77%</td>\n",
       "      <td id=\"T_7ae9e_row8_col6\" class=\"data row8 col6\" >$37,934,469,304</td>\n",
       "      <td id=\"T_7ae9e_row8_col7\" class=\"data row8 col7\" >$2,390,608,645</td>\n",
       "    </tr>\n",
       "    <tr>\n",
       "      <th id=\"T_7ae9e_level0_row9\" class=\"row_heading level0 row9\" >9</th>\n",
       "      <td id=\"T_7ae9e_row9_col0\" class=\"data row9 col0\" >Lido Staked Ether</td>\n",
       "      <td id=\"T_7ae9e_row9_col1\" class=\"data row9 col1\" >steth</td>\n",
       "      <td id=\"T_7ae9e_row9_col2\" class=\"data row9 col2\" >$3602.46</td>\n",
       "      <td id=\"T_7ae9e_row9_col3\" class=\"data row9 col3\" >-0.79%</td>\n",
       "      <td id=\"T_7ae9e_row9_col4\" class=\"data row9 col4\" >1.49%</td>\n",
       "      <td id=\"T_7ae9e_row9_col5\" class=\"data row9 col5\" >9.15%</td>\n",
       "      <td id=\"T_7ae9e_row9_col6\" class=\"data row9 col6\" >$35,269,271,840</td>\n",
       "      <td id=\"T_7ae9e_row9_col7\" class=\"data row9 col7\" >$72,478,865</td>\n",
       "    </tr>\n",
       "  </tbody>\n",
       "</table>\n"
      ],
      "text/plain": [
       "<pandas.io.formats.style.Styler at 0x16b42b4f0>"
      ]
     },
     "execution_count": 67,
     "metadata": {},
     "output_type": "execute_result"
    }
   ],
   "source": [
    "# Tableau récapitulatif\n",
    "data_crypto_table = data_crypto[[\n",
    "    \"Nom\", \"Symbole\", \"Prix Actuel\", \"Variation 1h (%)\",\n",
    "    \"Variation 24h (%)\", \"Variation 7j (%)\", \"Capitalisation\", \"Volume Échangé\"\n",
    "]]\n",
    "data_crypto_table.style.format({\n",
    "    \"Prix Actuel\": \"${:.2f}\",\n",
    "    \"Variation 1h (%)\": \"{:.2f}%\",\n",
    "    \"Variation 24h (%)\": \"{:.2f}%\",\n",
    "    \"Variation 7j (%)\": \"{:.2f}%\",\n",
    "    \"Capitalisation\": \"${:,.0f}\",\n",
    "    \"Volume Échangé\": \"${:,.0f}\"\n",
    "})"
   ]
  },
  {
   "cell_type": "code",
   "execution_count": null,
   "metadata": {},
   "outputs": [],
   "source": [
    "# Exporter les données en CSV\n",
    "#data_crypto.to_csv(\"cryptomonnaies.csv\", index=False)\n",
    "#print(\"Les données ont été exportées sous forme de fichier CSV : cryptomonnaies.csv\")"
   ]
  },
  {
   "cell_type": "markdown",
   "metadata": {},
   "source": [
    "## Actualités financières"
   ]
  },
  {
   "cell_type": "code",
   "execution_count": 94,
   "metadata": {},
   "outputs": [],
   "source": [
    "import requests\n",
    "import pandas as pd"
   ]
  },
  {
   "cell_type": "code",
   "execution_count": 95,
   "metadata": {},
   "outputs": [],
   "source": [
    "# Clé API et URL de base\n",
    "NEWS_API_KEY = \"pub_597651f94f090c7a836fda48dacc8b8b8950b\"\n",
    "BASE_URL = \"https://newsdata.io/api/1/news\"\n",
    "\n",
    "# Catégories valides\n",
    "CATEGORIES_VALIDES = {\n",
    "    \"Entreprises\": \"business\",\n",
    "    \"Technologie\": \"technology\",\n",
    "    \"Science\": \"science\",\n",
    "    \"Santé\": \"health\",\n",
    "    \"Monde\": \"world\"\n",
    "}"
   ]
  },
  {
   "cell_type": "code",
   "execution_count": 96,
   "metadata": {},
   "outputs": [],
   "source": [
    "def recuperer_actualites(categorie, langue=\"en\"):\n",
    "    \"\"\"\n",
    "    Récupère les actualités pour une catégorie et une langue données.\n",
    "    \"\"\"\n",
    "    try:\n",
    "        params = {\n",
    "            \"apikey\": NEWS_API_KEY,\n",
    "            \"category\": categorie,\n",
    "            \"language\": langue\n",
    "        }\n",
    "        response = requests.get(BASE_URL, params=params)\n",
    "        if response.status_code == 200:\n",
    "            data = response.json()\n",
    "            return data.get(\"results\", [])\n",
    "        else:\n",
    "            print(f\"Erreur {response.status_code}: {response.json().get('message', 'Impossible de récupérer les actualités.')}\")\n",
    "            return []\n",
    "    except Exception as e:\n",
    "        print(f\"Erreur lors de l'appel à l'API : {e}\")\n",
    "        return []"
   ]
  },
  {
   "cell_type": "code",
   "execution_count": 97,
   "metadata": {},
   "outputs": [
    {
     "name": "stdout",
     "output_type": "stream",
     "text": [
      "Nombre d'articles récupérés : 10\n"
     ]
    }
   ],
   "source": [
    "# Exemple : Récupérer les actualités de la catégorie \"business\" en anglais\n",
    "categorie = \"business\"\n",
    "langue = \"en\"\n",
    "actualites = recuperer_actualites(categorie, langue)\n",
    "\n",
    "# Vérifier les résultats\n",
    "if actualites:\n",
    "    print(f\"Nombre d'articles récupérés : {len(actualites)}\")\n",
    "else:\n",
    "    print(\"Aucune actualité trouvée.\")"
   ]
  },
  {
   "cell_type": "code",
   "execution_count": 98,
   "metadata": {},
   "outputs": [
    {
     "name": "stdout",
     "output_type": "stream",
     "text": [
      "Colonnes disponibles : ['article_id', 'title', 'link', 'keywords', 'creator', 'video_url', 'description', 'content', 'pubDate', 'pubDateTZ', 'image_url', 'source_id', 'source_priority', 'source_name', 'source_url', 'source_icon', 'language', 'country', 'category', 'ai_tag', 'sentiment', 'sentiment_stats', 'ai_region', 'ai_org', 'duplicate']\n"
     ]
    },
    {
     "data": {
      "text/html": [
       "<div>\n",
       "<style scoped>\n",
       "    .dataframe tbody tr th:only-of-type {\n",
       "        vertical-align: middle;\n",
       "    }\n",
       "\n",
       "    .dataframe tbody tr th {\n",
       "        vertical-align: top;\n",
       "    }\n",
       "\n",
       "    .dataframe thead th {\n",
       "        text-align: right;\n",
       "    }\n",
       "</style>\n",
       "<table border=\"1\" class=\"dataframe\">\n",
       "  <thead>\n",
       "    <tr style=\"text-align: right;\">\n",
       "      <th></th>\n",
       "      <th>article_id</th>\n",
       "      <th>title</th>\n",
       "      <th>link</th>\n",
       "      <th>keywords</th>\n",
       "      <th>creator</th>\n",
       "      <th>video_url</th>\n",
       "      <th>description</th>\n",
       "      <th>content</th>\n",
       "      <th>pubDate</th>\n",
       "      <th>pubDateTZ</th>\n",
       "      <th>...</th>\n",
       "      <th>source_icon</th>\n",
       "      <th>language</th>\n",
       "      <th>country</th>\n",
       "      <th>category</th>\n",
       "      <th>ai_tag</th>\n",
       "      <th>sentiment</th>\n",
       "      <th>sentiment_stats</th>\n",
       "      <th>ai_region</th>\n",
       "      <th>ai_org</th>\n",
       "      <th>duplicate</th>\n",
       "    </tr>\n",
       "  </thead>\n",
       "  <tbody>\n",
       "    <tr>\n",
       "      <th>0</th>\n",
       "      <td>d2f171514b4a6f12b059d66eacaa13ee</td>\n",
       "      <td>Activewear Market Size Worth USD 771.8 billion...</td>\n",
       "      <td>https://www.openpr.com/news/3763038/activewear...</td>\n",
       "      <td>[advertising, media consulting, marketing rese...</td>\n",
       "      <td>[Allied Market Research]</td>\n",
       "      <td>None</td>\n",
       "      <td>The activewear market size was valued at $425....</td>\n",
       "      <td>ONLY AVAILABLE IN PAID PLANS</td>\n",
       "      <td>2024-11-29 05:32:00</td>\n",
       "      <td>UTC</td>\n",
       "      <td>...</td>\n",
       "      <td>None</td>\n",
       "      <td>english</td>\n",
       "      <td>[germany]</td>\n",
       "      <td>[business]</td>\n",
       "      <td>ONLY AVAILABLE IN PROFESSIONAL AND CORPORATE P...</td>\n",
       "      <td>ONLY AVAILABLE IN PROFESSIONAL AND CORPORATE P...</td>\n",
       "      <td>ONLY AVAILABLE IN PROFESSIONAL AND CORPORATE P...</td>\n",
       "      <td>ONLY AVAILABLE IN CORPORATE PLANS</td>\n",
       "      <td>ONLY AVAILABLE IN CORPORATE PLANS</td>\n",
       "      <td>False</td>\n",
       "    </tr>\n",
       "    <tr>\n",
       "      <th>1</th>\n",
       "      <td>214896af1b5511b1d13e4606ca71f5c9</td>\n",
       "      <td>Morning Bid: Yen bulls charge ahead after Toky...</td>\n",
       "      <td>https://finance.yahoo.com/news/morning-bid-yen...</td>\n",
       "      <td>None</td>\n",
       "      <td>[Reuters]</td>\n",
       "      <td>None</td>\n",
       "      <td>None</td>\n",
       "      <td>ONLY AVAILABLE IN PAID PLANS</td>\n",
       "      <td>2024-11-29 05:31:57</td>\n",
       "      <td>UTC</td>\n",
       "      <td>...</td>\n",
       "      <td>https://i.bytvi.com/domain_icons/yahoo_sg.png</td>\n",
       "      <td>english</td>\n",
       "      <td>[singapore]</td>\n",
       "      <td>[business]</td>\n",
       "      <td>ONLY AVAILABLE IN PROFESSIONAL AND CORPORATE P...</td>\n",
       "      <td>ONLY AVAILABLE IN PROFESSIONAL AND CORPORATE P...</td>\n",
       "      <td>ONLY AVAILABLE IN PROFESSIONAL AND CORPORATE P...</td>\n",
       "      <td>ONLY AVAILABLE IN CORPORATE PLANS</td>\n",
       "      <td>ONLY AVAILABLE IN CORPORATE PLANS</td>\n",
       "      <td>False</td>\n",
       "    </tr>\n",
       "    <tr>\n",
       "      <th>2</th>\n",
       "      <td>589b0052f404da2620364adf6195d734</td>\n",
       "      <td>South Africa: Over 1,000 Spaza Shops Shut Down...</td>\n",
       "      <td>https://allafrica.com/stories/202411290059.html</td>\n",
       "      <td>[south africa, women and gender, governance, t...</td>\n",
       "      <td>[info@allafrica.com (allAfrica)]</td>\n",
       "      <td>None</td>\n",
       "      <td>[allAfrica]</td>\n",
       "      <td>ONLY AVAILABLE IN PAID PLANS</td>\n",
       "      <td>2024-11-29 05:31:57</td>\n",
       "      <td>UTC</td>\n",
       "      <td>...</td>\n",
       "      <td>https://i.bytvi.com/domain_icons/allafrica.png</td>\n",
       "      <td>english</td>\n",
       "      <td>[tanzania]</td>\n",
       "      <td>[business]</td>\n",
       "      <td>ONLY AVAILABLE IN PROFESSIONAL AND CORPORATE P...</td>\n",
       "      <td>ONLY AVAILABLE IN PROFESSIONAL AND CORPORATE P...</td>\n",
       "      <td>ONLY AVAILABLE IN PROFESSIONAL AND CORPORATE P...</td>\n",
       "      <td>ONLY AVAILABLE IN CORPORATE PLANS</td>\n",
       "      <td>ONLY AVAILABLE IN CORPORATE PLANS</td>\n",
       "      <td>False</td>\n",
       "    </tr>\n",
       "    <tr>\n",
       "      <th>3</th>\n",
       "      <td>22e3b58c979425048006319ec7903771</td>\n",
       "      <td>Morning Bid: Yen bulls charge ahead after Toky...</td>\n",
       "      <td>https://ca.finance.yahoo.com/news/morning-bid-...</td>\n",
       "      <td>None</td>\n",
       "      <td>[Reuters]</td>\n",
       "      <td>None</td>\n",
       "      <td>None</td>\n",
       "      <td>ONLY AVAILABLE IN PAID PLANS</td>\n",
       "      <td>2024-11-29 05:31:57</td>\n",
       "      <td>UTC</td>\n",
       "      <td>...</td>\n",
       "      <td>https://i.bytvi.com/domain_icons/yahoo.png</td>\n",
       "      <td>english</td>\n",
       "      <td>[canada]</td>\n",
       "      <td>[business]</td>\n",
       "      <td>ONLY AVAILABLE IN PROFESSIONAL AND CORPORATE P...</td>\n",
       "      <td>ONLY AVAILABLE IN PROFESSIONAL AND CORPORATE P...</td>\n",
       "      <td>ONLY AVAILABLE IN PROFESSIONAL AND CORPORATE P...</td>\n",
       "      <td>ONLY AVAILABLE IN CORPORATE PLANS</td>\n",
       "      <td>ONLY AVAILABLE IN CORPORATE PLANS</td>\n",
       "      <td>True</td>\n",
       "    </tr>\n",
       "    <tr>\n",
       "      <th>4</th>\n",
       "      <td>4908c70801bd01eee573d7ab2ee7e228</td>\n",
       "      <td>Samsung Galaxy S25 Ultra: Top Features and Price</td>\n",
       "      <td>https://www.analyticsinsight.net/photo/samsung...</td>\n",
       "      <td>[ 200mp camera ,  snapdragon 8 elite,  120hz d...</td>\n",
       "      <td>None</td>\n",
       "      <td>None</td>\n",
       "      <td>None</td>\n",
       "      <td>ONLY AVAILABLE IN PAID PLANS</td>\n",
       "      <td>2024-11-29 05:31:34</td>\n",
       "      <td>UTC</td>\n",
       "      <td>...</td>\n",
       "      <td>https://i.bytvi.com/domain_icons/analyticsinsi...</td>\n",
       "      <td>english</td>\n",
       "      <td>[united states of america]</td>\n",
       "      <td>[technology, business]</td>\n",
       "      <td>ONLY AVAILABLE IN PROFESSIONAL AND CORPORATE P...</td>\n",
       "      <td>ONLY AVAILABLE IN PROFESSIONAL AND CORPORATE P...</td>\n",
       "      <td>ONLY AVAILABLE IN PROFESSIONAL AND CORPORATE P...</td>\n",
       "      <td>ONLY AVAILABLE IN CORPORATE PLANS</td>\n",
       "      <td>ONLY AVAILABLE IN CORPORATE PLANS</td>\n",
       "      <td>False</td>\n",
       "    </tr>\n",
       "  </tbody>\n",
       "</table>\n",
       "<p>5 rows × 25 columns</p>\n",
       "</div>"
      ],
      "text/plain": [
       "                         article_id  \\\n",
       "0  d2f171514b4a6f12b059d66eacaa13ee   \n",
       "1  214896af1b5511b1d13e4606ca71f5c9   \n",
       "2  589b0052f404da2620364adf6195d734   \n",
       "3  22e3b58c979425048006319ec7903771   \n",
       "4  4908c70801bd01eee573d7ab2ee7e228   \n",
       "\n",
       "                                               title  \\\n",
       "0  Activewear Market Size Worth USD 771.8 billion...   \n",
       "1  Morning Bid: Yen bulls charge ahead after Toky...   \n",
       "2  South Africa: Over 1,000 Spaza Shops Shut Down...   \n",
       "3  Morning Bid: Yen bulls charge ahead after Toky...   \n",
       "4   Samsung Galaxy S25 Ultra: Top Features and Price   \n",
       "\n",
       "                                                link  \\\n",
       "0  https://www.openpr.com/news/3763038/activewear...   \n",
       "1  https://finance.yahoo.com/news/morning-bid-yen...   \n",
       "2    https://allafrica.com/stories/202411290059.html   \n",
       "3  https://ca.finance.yahoo.com/news/morning-bid-...   \n",
       "4  https://www.analyticsinsight.net/photo/samsung...   \n",
       "\n",
       "                                            keywords  \\\n",
       "0  [advertising, media consulting, marketing rese...   \n",
       "1                                               None   \n",
       "2  [south africa, women and gender, governance, t...   \n",
       "3                                               None   \n",
       "4  [ 200mp camera ,  snapdragon 8 elite,  120hz d...   \n",
       "\n",
       "                            creator video_url  \\\n",
       "0          [Allied Market Research]      None   \n",
       "1                         [Reuters]      None   \n",
       "2  [info@allafrica.com (allAfrica)]      None   \n",
       "3                         [Reuters]      None   \n",
       "4                              None      None   \n",
       "\n",
       "                                         description  \\\n",
       "0  The activewear market size was valued at $425....   \n",
       "1                                               None   \n",
       "2                                        [allAfrica]   \n",
       "3                                               None   \n",
       "4                                               None   \n",
       "\n",
       "                        content              pubDate pubDateTZ  ...  \\\n",
       "0  ONLY AVAILABLE IN PAID PLANS  2024-11-29 05:32:00       UTC  ...   \n",
       "1  ONLY AVAILABLE IN PAID PLANS  2024-11-29 05:31:57       UTC  ...   \n",
       "2  ONLY AVAILABLE IN PAID PLANS  2024-11-29 05:31:57       UTC  ...   \n",
       "3  ONLY AVAILABLE IN PAID PLANS  2024-11-29 05:31:57       UTC  ...   \n",
       "4  ONLY AVAILABLE IN PAID PLANS  2024-11-29 05:31:34       UTC  ...   \n",
       "\n",
       "                                         source_icon language  \\\n",
       "0                                               None  english   \n",
       "1      https://i.bytvi.com/domain_icons/yahoo_sg.png  english   \n",
       "2     https://i.bytvi.com/domain_icons/allafrica.png  english   \n",
       "3         https://i.bytvi.com/domain_icons/yahoo.png  english   \n",
       "4  https://i.bytvi.com/domain_icons/analyticsinsi...  english   \n",
       "\n",
       "                      country                category  \\\n",
       "0                   [germany]              [business]   \n",
       "1                 [singapore]              [business]   \n",
       "2                  [tanzania]              [business]   \n",
       "3                    [canada]              [business]   \n",
       "4  [united states of america]  [technology, business]   \n",
       "\n",
       "                                              ai_tag  \\\n",
       "0  ONLY AVAILABLE IN PROFESSIONAL AND CORPORATE P...   \n",
       "1  ONLY AVAILABLE IN PROFESSIONAL AND CORPORATE P...   \n",
       "2  ONLY AVAILABLE IN PROFESSIONAL AND CORPORATE P...   \n",
       "3  ONLY AVAILABLE IN PROFESSIONAL AND CORPORATE P...   \n",
       "4  ONLY AVAILABLE IN PROFESSIONAL AND CORPORATE P...   \n",
       "\n",
       "                                           sentiment  \\\n",
       "0  ONLY AVAILABLE IN PROFESSIONAL AND CORPORATE P...   \n",
       "1  ONLY AVAILABLE IN PROFESSIONAL AND CORPORATE P...   \n",
       "2  ONLY AVAILABLE IN PROFESSIONAL AND CORPORATE P...   \n",
       "3  ONLY AVAILABLE IN PROFESSIONAL AND CORPORATE P...   \n",
       "4  ONLY AVAILABLE IN PROFESSIONAL AND CORPORATE P...   \n",
       "\n",
       "                                     sentiment_stats  \\\n",
       "0  ONLY AVAILABLE IN PROFESSIONAL AND CORPORATE P...   \n",
       "1  ONLY AVAILABLE IN PROFESSIONAL AND CORPORATE P...   \n",
       "2  ONLY AVAILABLE IN PROFESSIONAL AND CORPORATE P...   \n",
       "3  ONLY AVAILABLE IN PROFESSIONAL AND CORPORATE P...   \n",
       "4  ONLY AVAILABLE IN PROFESSIONAL AND CORPORATE P...   \n",
       "\n",
       "                           ai_region                             ai_org  \\\n",
       "0  ONLY AVAILABLE IN CORPORATE PLANS  ONLY AVAILABLE IN CORPORATE PLANS   \n",
       "1  ONLY AVAILABLE IN CORPORATE PLANS  ONLY AVAILABLE IN CORPORATE PLANS   \n",
       "2  ONLY AVAILABLE IN CORPORATE PLANS  ONLY AVAILABLE IN CORPORATE PLANS   \n",
       "3  ONLY AVAILABLE IN CORPORATE PLANS  ONLY AVAILABLE IN CORPORATE PLANS   \n",
       "4  ONLY AVAILABLE IN CORPORATE PLANS  ONLY AVAILABLE IN CORPORATE PLANS   \n",
       "\n",
       "  duplicate  \n",
       "0     False  \n",
       "1     False  \n",
       "2     False  \n",
       "3      True  \n",
       "4     False  \n",
       "\n",
       "[5 rows x 25 columns]"
      ]
     },
     "metadata": {},
     "output_type": "display_data"
    }
   ],
   "source": [
    "# Transformer les données en DataFrame\n",
    "if actualites:\n",
    "    df = pd.DataFrame(actualites)\n",
    "    # Afficher les colonnes disponibles\n",
    "    print(\"Colonnes disponibles :\", df.columns.tolist())\n",
    "    # Afficher un aperçu\n",
    "    display(df.head())\n",
    "else:\n",
    "    print(\"Pas de données à afficher.\")"
   ]
  },
  {
   "cell_type": "code",
   "execution_count": 99,
   "metadata": {},
   "outputs": [
    {
     "data": {
      "text/html": [
       "<div>\n",
       "<style scoped>\n",
       "    .dataframe tbody tr th:only-of-type {\n",
       "        vertical-align: middle;\n",
       "    }\n",
       "\n",
       "    .dataframe tbody tr th {\n",
       "        vertical-align: top;\n",
       "    }\n",
       "\n",
       "    .dataframe thead th {\n",
       "        text-align: right;\n",
       "    }\n",
       "</style>\n",
       "<table border=\"1\" class=\"dataframe\">\n",
       "  <thead>\n",
       "    <tr style=\"text-align: right;\">\n",
       "      <th></th>\n",
       "      <th>title</th>\n",
       "      <th>description</th>\n",
       "      <th>link</th>\n",
       "      <th>pubDate</th>\n",
       "    </tr>\n",
       "  </thead>\n",
       "  <tbody>\n",
       "    <tr>\n",
       "      <th>0</th>\n",
       "      <td>Activewear Market Size Worth USD 771.8 billion...</td>\n",
       "      <td>The activewear market size was valued at $425....</td>\n",
       "      <td>https://www.openpr.com/news/3763038/activewear...</td>\n",
       "      <td>2024-11-29 05:32:00</td>\n",
       "    </tr>\n",
       "    <tr>\n",
       "      <th>1</th>\n",
       "      <td>Morning Bid: Yen bulls charge ahead after Toky...</td>\n",
       "      <td>None</td>\n",
       "      <td>https://finance.yahoo.com/news/morning-bid-yen...</td>\n",
       "      <td>2024-11-29 05:31:57</td>\n",
       "    </tr>\n",
       "    <tr>\n",
       "      <th>2</th>\n",
       "      <td>South Africa: Over 1,000 Spaza Shops Shut Down...</td>\n",
       "      <td>[allAfrica]</td>\n",
       "      <td>https://allafrica.com/stories/202411290059.html</td>\n",
       "      <td>2024-11-29 05:31:57</td>\n",
       "    </tr>\n",
       "    <tr>\n",
       "      <th>3</th>\n",
       "      <td>Morning Bid: Yen bulls charge ahead after Toky...</td>\n",
       "      <td>None</td>\n",
       "      <td>https://ca.finance.yahoo.com/news/morning-bid-...</td>\n",
       "      <td>2024-11-29 05:31:57</td>\n",
       "    </tr>\n",
       "    <tr>\n",
       "      <th>4</th>\n",
       "      <td>Samsung Galaxy S25 Ultra: Top Features and Price</td>\n",
       "      <td>None</td>\n",
       "      <td>https://www.analyticsinsight.net/photo/samsung...</td>\n",
       "      <td>2024-11-29 05:31:34</td>\n",
       "    </tr>\n",
       "    <tr>\n",
       "      <th>5</th>\n",
       "      <td>Horse Betting Market In 2024 : Competitive Ana...</td>\n",
       "      <td>(MENAFN - EIN Presswire) The horse betting mar...</td>\n",
       "      <td>https://menafn.com/1108938942/Horse-Betting-Ma...</td>\n",
       "      <td>2024-11-29 05:31:32</td>\n",
       "    </tr>\n",
       "    <tr>\n",
       "      <th>6</th>\n",
       "      <td>Yobe support 15,000 small scale business owner...</td>\n",
       "      <td>Yobe State government has supported 15,000 sma...</td>\n",
       "      <td>https://dailytrust.com/yobe-support-15000-smal...</td>\n",
       "      <td>2024-11-29 05:31:03</td>\n",
       "    </tr>\n",
       "    <tr>\n",
       "      <th>7</th>\n",
       "      <td>New Gen Honda Amaze Variants &amp; Top-Spec Featur...</td>\n",
       "      <td>New Gen Honda Amaze Variants &amp; Top-Spec Featur...</td>\n",
       "      <td>https://news.google.com/rss/articles/CBMihgFBV...</td>\n",
       "      <td>2024-11-29 05:30:38</td>\n",
       "    </tr>\n",
       "    <tr>\n",
       "      <th>8</th>\n",
       "      <td>A' Landscape Planning and Garden Design Award ...</td>\n",
       "      <td>The A' Landscape Planning and Garden Design Aw...</td>\n",
       "      <td>https://www.openpr.com/news/3763036/a-landscap...</td>\n",
       "      <td>2024-11-29 05:30:36</td>\n",
       "    </tr>\n",
       "    <tr>\n",
       "      <th>9</th>\n",
       "      <td>Accounting and Budgeting Software Market 2033:...</td>\n",
       "      <td>The Business Research Company recently release...</td>\n",
       "      <td>https://www.openpr.com/news/3763035/accounting...</td>\n",
       "      <td>2024-11-29 05:30:23</td>\n",
       "    </tr>\n",
       "  </tbody>\n",
       "</table>\n",
       "</div>"
      ],
      "text/plain": [
       "                                               title  \\\n",
       "0  Activewear Market Size Worth USD 771.8 billion...   \n",
       "1  Morning Bid: Yen bulls charge ahead after Toky...   \n",
       "2  South Africa: Over 1,000 Spaza Shops Shut Down...   \n",
       "3  Morning Bid: Yen bulls charge ahead after Toky...   \n",
       "4   Samsung Galaxy S25 Ultra: Top Features and Price   \n",
       "5  Horse Betting Market In 2024 : Competitive Ana...   \n",
       "6  Yobe support 15,000 small scale business owner...   \n",
       "7  New Gen Honda Amaze Variants & Top-Spec Featur...   \n",
       "8  A' Landscape Planning and Garden Design Award ...   \n",
       "9  Accounting and Budgeting Software Market 2033:...   \n",
       "\n",
       "                                         description  \\\n",
       "0  The activewear market size was valued at $425....   \n",
       "1                                               None   \n",
       "2                                        [allAfrica]   \n",
       "3                                               None   \n",
       "4                                               None   \n",
       "5  (MENAFN - EIN Presswire) The horse betting mar...   \n",
       "6  Yobe State government has supported 15,000 sma...   \n",
       "7  New Gen Honda Amaze Variants & Top-Spec Featur...   \n",
       "8  The A' Landscape Planning and Garden Design Aw...   \n",
       "9  The Business Research Company recently release...   \n",
       "\n",
       "                                                link              pubDate  \n",
       "0  https://www.openpr.com/news/3763038/activewear...  2024-11-29 05:32:00  \n",
       "1  https://finance.yahoo.com/news/morning-bid-yen...  2024-11-29 05:31:57  \n",
       "2    https://allafrica.com/stories/202411290059.html  2024-11-29 05:31:57  \n",
       "3  https://ca.finance.yahoo.com/news/morning-bid-...  2024-11-29 05:31:57  \n",
       "4  https://www.analyticsinsight.net/photo/samsung...  2024-11-29 05:31:34  \n",
       "5  https://menafn.com/1108938942/Horse-Betting-Ma...  2024-11-29 05:31:32  \n",
       "6  https://dailytrust.com/yobe-support-15000-smal...  2024-11-29 05:31:03  \n",
       "7  https://news.google.com/rss/articles/CBMihgFBV...  2024-11-29 05:30:38  \n",
       "8  https://www.openpr.com/news/3763036/a-landscap...  2024-11-29 05:30:36  \n",
       "9  https://www.openpr.com/news/3763035/accounting...  2024-11-29 05:30:23  "
      ]
     },
     "metadata": {},
     "output_type": "display_data"
    }
   ],
   "source": [
    "# Afficher uniquement les colonnes essentielles\n",
    "if actualites:\n",
    "    colonnes_essentielles = [\"title\", \"description\", \"link\", \"pubDate\"]\n",
    "    if all(col in df.columns for col in colonnes_essentielles):\n",
    "        df_essentiel = df[colonnes_essentielles]\n",
    "        display(df_essentiel)\n",
    "    else:\n",
    "        print(\"Colonnes essentielles manquantes.\")"
   ]
  },
  {
   "cell_type": "code",
   "execution_count": null,
   "metadata": {},
   "outputs": [],
   "source": [
    "# Sauvegarder les données dans un fichier CSV\n",
    "#if actualites:\n",
    "    #df_essentiel.to_csv(\"actualites.csv\", index=False)\n",
    "    #print(\"Fichier 'actualites.csv' sauvegardé avec succès.\")"
   ]
  }
 ],
 "metadata": {
  "kernelspec": {
   "display_name": "Python 3",
   "language": "python",
   "name": "python3"
  },
  "language_info": {
   "codemirror_mode": {
    "name": "ipython",
    "version": 3
   },
   "file_extension": ".py",
   "mimetype": "text/x-python",
   "name": "python",
   "nbconvert_exporter": "python",
   "pygments_lexer": "ipython3",
   "version": "3.9.6"
  }
 },
 "nbformat": 4,
 "nbformat_minor": 2
}
